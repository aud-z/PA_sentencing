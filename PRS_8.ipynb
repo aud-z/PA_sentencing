{
 "cells": [
  {
   "cell_type": "markdown",
   "metadata": {},
   "source": [
    "### Implementation of 8th edition PRS scores"
   ]
  },
  {
   "cell_type": "code",
   "execution_count": 1,
   "metadata": {},
   "outputs": [],
   "source": [
    "import pandas as pd\n",
    "import numpy as np"
   ]
  },
  {
   "cell_type": "code",
   "execution_count": 3,
   "metadata": {},
   "outputs": [
    {
     "name": "stderr",
     "output_type": "stream",
     "text": [
      "C:\\Users\\audre\\AppData\\Local\\Temp\\ipykernel_18392\\2646484430.py:1: DtypeWarning: Columns (4,11,14,18,19,23,25,32,34,35,36,37,38,39,40,41,46,57,59,64,65,66,67,68,71,74,79,80,81,82,83,84,85,86,89,90,91,95,96,106,109,110,111,112,113,130,133,136,137,141,142,143,144,338,339,340,342,344,345,346,347,349,350,351,352,353,354,355,356,357,358,359,360,361,362,363,364,365,366,367,368,372,381,382,383,384,385,386,387,388,389,392,393,394,395,396,397,398,399,400,401,402,403,404,405,406,407,408,409,410,411,412,413,416,417,418,419,420,421,423,424,528,529,535,536,540,541,542,543,544) have mixed types. Specify dtype option on import or set low_memory=False.\n",
      "  main_df = pd.read_csv('../../../Project/data/Main.csv')\n"
     ]
    }
   ],
   "source": [
    "main_df = pd.read_csv('../../../Project/data/Main.csv') # update to trimmed dataset later on and remove the next few cells"
   ]
  },
  {
   "cell_type": "code",
   "execution_count": 4,
   "metadata": {},
   "outputs": [],
   "source": [
    "main_df.loc[main_df['OFN_LABEL'].isna(), 'OFN_LABEL'] = main_df['ofn_label']"
   ]
  },
  {
   "cell_type": "code",
   "execution_count": 5,
   "metadata": {},
   "outputs": [],
   "source": [
    "main_df.drop(columns='ofn_label', inplace=True)"
   ]
  },
  {
   "cell_type": "code",
   "execution_count": 6,
   "metadata": {},
   "outputs": [],
   "source": [
    "main_df.rename(columns=str.upper, inplace=True)"
   ]
  },
  {
   "cell_type": "code",
   "execution_count": 160,
   "metadata": {},
   "outputs": [],
   "source": [
    "columns = pd.read_excel('../../../Project/data/trimmed_columns_with_labels.xlsx', sheet_name='trimmed_with_labels')"
   ]
  },
  {
   "cell_type": "code",
   "execution_count": 161,
   "metadata": {},
   "outputs": [],
   "source": [
    "to_add = pd.read_excel('../../../Project/data/trimmed_columns_with_labels.xlsx', sheet_name='cols_to_add')"
   ]
  },
  {
   "cell_type": "code",
   "execution_count": 162,
   "metadata": {},
   "outputs": [],
   "source": [
    "all_cols = pd.concat([columns, to_add], axis=0)['Variable'].apply(lambda x: x.strip().upper()).unique()"
   ]
  },
  {
   "cell_type": "code",
   "execution_count": 11,
   "metadata": {},
   "outputs": [],
   "source": [
    "main_df = main_df[all_cols].copy()"
   ]
  },
  {
   "cell_type": "code",
   "execution_count": 12,
   "metadata": {},
   "outputs": [],
   "source": [
    "main_df.rename(columns = str.lower, inplace=True)"
   ]
  },
  {
   "cell_type": "code",
   "execution_count": 14,
   "metadata": {},
   "outputs": [],
   "source": [
    "prsconv = []\n",
    "for i in range(1, 139, 1):\n",
    "    prsconv.append('prsconv_' + str(i))"
   ]
  },
  {
   "cell_type": "code",
   "execution_count": 16,
   "metadata": {},
   "outputs": [
    {
     "data": {
      "text/plain": [
       "['prsconv_1', 'prsconv_2', 'prsconv_3']"
      ]
     },
     "execution_count": 16,
     "metadata": {},
     "output_type": "execute_result"
    }
   ],
   "source": [
    "prsconv[:3]"
   ]
  },
  {
   "cell_type": "code",
   "execution_count": 46,
   "metadata": {},
   "outputs": [],
   "source": [
    "main_df['convictions'] = main_df[prsconv].sum(axis=1)"
   ]
  },
  {
   "cell_type": "code",
   "execution_count": 48,
   "metadata": {},
   "outputs": [
    {
     "data": {
      "text/plain": [
       "0.0     1680826\n",
       "1.0      432492\n",
       "2.0      224476\n",
       "3.0      116712\n",
       "4.0       61000\n",
       "5.0       34983\n",
       "6.0       17162\n",
       "7.0        9478\n",
       "8.0        6231\n",
       "9.0        3553\n",
       "10.0       2570\n",
       "11.0       1448\n",
       "12.0        936\n",
       "13.0        598\n",
       "14.0        316\n",
       "15.0        208\n",
       "16.0        173\n",
       "17.0        159\n",
       "19.0         74\n",
       "18.0         73\n",
       "22.0         33\n",
       "20.0         30\n",
       "21.0         25\n",
       "23.0         18\n",
       "24.0         12\n",
       "28.0         10\n",
       "27.0          8\n",
       "41.0          6\n",
       "68.0          5\n",
       "45.0          5\n",
       "25.0          4\n",
       "29.0          3\n",
       "40.0          3\n",
       "42.0          2\n",
       "30.0          1\n",
       "60.0          1\n",
       "32.0          1\n",
       "37.0          1\n",
       "Name: convictions, dtype: int64"
      ]
     },
     "execution_count": 48,
     "metadata": {},
     "output_type": "execute_result"
    }
   ],
   "source": [
    "main_df['convictions'].value_counts()"
   ]
  },
  {
   "cell_type": "code",
   "execution_count": 170,
   "metadata": {},
   "outputs": [],
   "source": [
    "prsadj = []\n",
    "for i in range(1, 139, 1):\n",
    "    prsadj.append('prsadj_' + str(i))"
   ]
  },
  {
   "cell_type": "code",
   "execution_count": 172,
   "metadata": {},
   "outputs": [
    {
     "name": "stdout",
     "output_type": "stream",
     "text": [
      "138\n",
      "['prsadj_1', 'prsadj_2', 'prsadj_3']\n"
     ]
    }
   ],
   "source": [
    "print(len(prsadj))\n",
    "print(prsadj[:3])"
   ]
  },
  {
   "cell_type": "code",
   "execution_count": 175,
   "metadata": {},
   "outputs": [],
   "source": [
    "main_df['adjudications'] = main_df[prsadj].sum(axis=1)"
   ]
  },
  {
   "cell_type": "code",
   "execution_count": 176,
   "metadata": {},
   "outputs": [
    {
     "data": {
      "text/plain": [
       "0.0     2416129\n",
       "1.0      130395\n",
       "2.0       34848\n",
       "3.0        8492\n",
       "4.0        2489\n",
       "5.0         809\n",
       "6.0         246\n",
       "7.0         111\n",
       "8.0          53\n",
       "9.0          32\n",
       "10.0         10\n",
       "14.0          6\n",
       "13.0          5\n",
       "11.0          4\n",
       "15.0          3\n",
       "19.0          2\n",
       "12.0          1\n",
       "50.0          1\n",
       "Name: adjudications, dtype: int64"
      ]
     },
     "execution_count": 176,
     "metadata": {},
     "output_type": "execute_result"
    }
   ],
   "source": [
    "main_df['adjudications'].value_counts()"
   ]
  },
  {
   "cell_type": "code",
   "execution_count": 177,
   "metadata": {},
   "outputs": [
    {
     "data": {
      "text/plain": [
       "0"
      ]
     },
     "execution_count": 177,
     "metadata": {},
     "output_type": "execute_result"
    }
   ],
   "source": [
    "main_df['adjudications'].isna().sum()"
   ]
  },
  {
   "cell_type": "code",
   "execution_count": 178,
   "metadata": {},
   "outputs": [],
   "source": [
    "main_df['convictiononly'] = 0"
   ]
  },
  {
   "cell_type": "code",
   "execution_count": 56,
   "metadata": {},
   "outputs": [
    {
     "data": {
      "text/plain": [
       "4"
      ]
     },
     "execution_count": 56,
     "metadata": {},
     "output_type": "execute_result"
    }
   ],
   "source": [
    "main_df['prs_other_misd'].isna().sum()"
   ]
  },
  {
   "cell_type": "code",
   "execution_count": 63,
   "metadata": {},
   "outputs": [],
   "source": [
    "main_df['prs_other_misd'].fillna(0, inplace=True)"
   ]
  },
  {
   "cell_type": "code",
   "execution_count": 179,
   "metadata": {},
   "outputs": [],
   "source": [
    "mask1 = main_df['adjudications'] == 0\n",
    "mask2 = main_df['prs_other_misd'] == 0\n",
    "mask3 = main_df['convictions'] == 1\n",
    "\n",
    "main_df.loc[mask1 & mask2 & mask3, 'convictiononly'] = 1"
   ]
  },
  {
   "cell_type": "code",
   "execution_count": 180,
   "metadata": {},
   "outputs": [],
   "source": [
    "main_df['adjonly'] = 0"
   ]
  },
  {
   "cell_type": "code",
   "execution_count": 181,
   "metadata": {},
   "outputs": [],
   "source": [
    "mask1 = main_df['adjudications'] == 1\n",
    "mask2 = main_df['prs_other_misd'] == 0\n",
    "mask3 = main_df['convictions'] == 0\n",
    "\n",
    "main_df.loc[mask1 & mask2 & mask3, 'adjonly'] = 1"
   ]
  },
  {
   "cell_type": "markdown",
   "metadata": {},
   "source": [
    "Comment for team: I'm not really sure what we're looking for here, but i've replicated the various 'browse' commands from the STATA file. Per my comment in the file, it looks like they don't actually switch the variable labels for any of the variables, only the text description associated with the variable. So for the subsequent analyses I think we can just keep the current PRSCONV 22/23, PRSADJ 22/23 labels...?"
   ]
  },
  {
   "cell_type": "code",
   "execution_count": 188,
   "metadata": {},
   "outputs": [
    {
     "data": {
      "text/html": [
       "<div>\n",
       "<style scoped>\n",
       "    .dataframe tbody tr th:only-of-type {\n",
       "        vertical-align: middle;\n",
       "    }\n",
       "\n",
       "    .dataframe tbody tr th {\n",
       "        vertical-align: top;\n",
       "    }\n",
       "\n",
       "    .dataframe thead th {\n",
       "        text-align: right;\n",
       "    }\n",
       "</style>\n",
       "<table border=\"1\" class=\"dataframe\">\n",
       "  <thead>\n",
       "    <tr style=\"text-align: right;\">\n",
       "      <th></th>\n",
       "      <th>convictiononly</th>\n",
       "      <th>prsconv_22</th>\n",
       "      <th>prs</th>\n",
       "    </tr>\n",
       "  </thead>\n",
       "  <tbody>\n",
       "    <tr>\n",
       "      <th>2740</th>\n",
       "      <td>1</td>\n",
       "      <td>1.0</td>\n",
       "      <td>3</td>\n",
       "    </tr>\n",
       "    <tr>\n",
       "      <th>10496</th>\n",
       "      <td>1</td>\n",
       "      <td>1.0</td>\n",
       "      <td>3</td>\n",
       "    </tr>\n",
       "    <tr>\n",
       "      <th>12618</th>\n",
       "      <td>1</td>\n",
       "      <td>1.0</td>\n",
       "      <td>3</td>\n",
       "    </tr>\n",
       "    <tr>\n",
       "      <th>12619</th>\n",
       "      <td>1</td>\n",
       "      <td>1.0</td>\n",
       "      <td>3</td>\n",
       "    </tr>\n",
       "    <tr>\n",
       "      <th>15061</th>\n",
       "      <td>1</td>\n",
       "      <td>1.0</td>\n",
       "      <td>3</td>\n",
       "    </tr>\n",
       "    <tr>\n",
       "      <th>...</th>\n",
       "      <td>...</td>\n",
       "      <td>...</td>\n",
       "      <td>...</td>\n",
       "    </tr>\n",
       "    <tr>\n",
       "      <th>894106</th>\n",
       "      <td>1</td>\n",
       "      <td>1.0</td>\n",
       "      <td>3</td>\n",
       "    </tr>\n",
       "    <tr>\n",
       "      <th>894107</th>\n",
       "      <td>1</td>\n",
       "      <td>1.0</td>\n",
       "      <td>3</td>\n",
       "    </tr>\n",
       "    <tr>\n",
       "      <th>1157088</th>\n",
       "      <td>1</td>\n",
       "      <td>1.0</td>\n",
       "      <td>3</td>\n",
       "    </tr>\n",
       "    <tr>\n",
       "      <th>1157089</th>\n",
       "      <td>1</td>\n",
       "      <td>1.0</td>\n",
       "      <td>3</td>\n",
       "    </tr>\n",
       "    <tr>\n",
       "      <th>1318588</th>\n",
       "      <td>1</td>\n",
       "      <td>1.0</td>\n",
       "      <td>3</td>\n",
       "    </tr>\n",
       "  </tbody>\n",
       "</table>\n",
       "<p>202 rows × 3 columns</p>\n",
       "</div>"
      ],
      "text/plain": [
       "         convictiononly  prsconv_22 prs\n",
       "2740                  1         1.0   3\n",
       "10496                 1         1.0   3\n",
       "12618                 1         1.0   3\n",
       "12619                 1         1.0   3\n",
       "15061                 1         1.0   3\n",
       "...                 ...         ...  ..\n",
       "894106                1         1.0   3\n",
       "894107                1         1.0   3\n",
       "1157088               1         1.0   3\n",
       "1157089               1         1.0   3\n",
       "1318588               1         1.0   3\n",
       "\n",
       "[202 rows x 3 columns]"
      ]
     },
     "execution_count": 188,
     "metadata": {},
     "output_type": "execute_result"
    }
   ],
   "source": [
    "mask1 = main_df['convictiononly'] == 1\n",
    "mask2 = main_df['prsconv_22'] > 0\n",
    "main_df[mask1 & mask2][['convictiononly', 'prsconv_22', 'prs']]"
   ]
  },
  {
   "cell_type": "code",
   "execution_count": 187,
   "metadata": {},
   "outputs": [
    {
     "data": {
      "text/html": [
       "<div>\n",
       "<style scoped>\n",
       "    .dataframe tbody tr th:only-of-type {\n",
       "        vertical-align: middle;\n",
       "    }\n",
       "\n",
       "    .dataframe tbody tr th {\n",
       "        vertical-align: top;\n",
       "    }\n",
       "\n",
       "    .dataframe thead th {\n",
       "        text-align: right;\n",
       "    }\n",
       "</style>\n",
       "<table border=\"1\" class=\"dataframe\">\n",
       "  <thead>\n",
       "    <tr style=\"text-align: right;\">\n",
       "      <th></th>\n",
       "      <th>convictiononly</th>\n",
       "      <th>prsconv_23</th>\n",
       "      <th>prs</th>\n",
       "    </tr>\n",
       "  </thead>\n",
       "  <tbody>\n",
       "    <tr>\n",
       "      <th>291</th>\n",
       "      <td>1</td>\n",
       "      <td>1.0</td>\n",
       "      <td>2</td>\n",
       "    </tr>\n",
       "    <tr>\n",
       "      <th>437</th>\n",
       "      <td>1</td>\n",
       "      <td>1.0</td>\n",
       "      <td>2</td>\n",
       "    </tr>\n",
       "    <tr>\n",
       "      <th>438</th>\n",
       "      <td>1</td>\n",
       "      <td>1.0</td>\n",
       "      <td>2</td>\n",
       "    </tr>\n",
       "    <tr>\n",
       "      <th>901</th>\n",
       "      <td>1</td>\n",
       "      <td>1.0</td>\n",
       "      <td>2</td>\n",
       "    </tr>\n",
       "    <tr>\n",
       "      <th>980</th>\n",
       "      <td>1</td>\n",
       "      <td>1.0</td>\n",
       "      <td>2</td>\n",
       "    </tr>\n",
       "    <tr>\n",
       "      <th>...</th>\n",
       "      <td>...</td>\n",
       "      <td>...</td>\n",
       "      <td>...</td>\n",
       "    </tr>\n",
       "    <tr>\n",
       "      <th>2201850</th>\n",
       "      <td>1</td>\n",
       "      <td>1.0</td>\n",
       "      <td>2</td>\n",
       "    </tr>\n",
       "    <tr>\n",
       "      <th>2201851</th>\n",
       "      <td>1</td>\n",
       "      <td>1.0</td>\n",
       "      <td>2</td>\n",
       "    </tr>\n",
       "    <tr>\n",
       "      <th>2201852</th>\n",
       "      <td>1</td>\n",
       "      <td>1.0</td>\n",
       "      <td>2</td>\n",
       "    </tr>\n",
       "    <tr>\n",
       "      <th>2201853</th>\n",
       "      <td>1</td>\n",
       "      <td>1.0</td>\n",
       "      <td>2</td>\n",
       "    </tr>\n",
       "    <tr>\n",
       "      <th>2201854</th>\n",
       "      <td>1</td>\n",
       "      <td>1.0</td>\n",
       "      <td>2</td>\n",
       "    </tr>\n",
       "  </tbody>\n",
       "</table>\n",
       "<p>5475 rows × 3 columns</p>\n",
       "</div>"
      ],
      "text/plain": [
       "         convictiononly  prsconv_23 prs\n",
       "291                   1         1.0   2\n",
       "437                   1         1.0   2\n",
       "438                   1         1.0   2\n",
       "901                   1         1.0   2\n",
       "980                   1         1.0   2\n",
       "...                 ...         ...  ..\n",
       "2201850               1         1.0   2\n",
       "2201851               1         1.0   2\n",
       "2201852               1         1.0   2\n",
       "2201853               1         1.0   2\n",
       "2201854               1         1.0   2\n",
       "\n",
       "[5475 rows x 3 columns]"
      ]
     },
     "execution_count": 187,
     "metadata": {},
     "output_type": "execute_result"
    }
   ],
   "source": [
    "mask1 = main_df['convictiononly'] == 1\n",
    "mask2 = main_df['prsconv_23'] > 0\n",
    "main_df[mask1 & mask2][['convictiononly', 'prsconv_23', 'prs']]"
   ]
  },
  {
   "cell_type": "code",
   "execution_count": 185,
   "metadata": {},
   "outputs": [
    {
     "data": {
      "text/html": [
       "<div>\n",
       "<style scoped>\n",
       "    .dataframe tbody tr th:only-of-type {\n",
       "        vertical-align: middle;\n",
       "    }\n",
       "\n",
       "    .dataframe tbody tr th {\n",
       "        vertical-align: top;\n",
       "    }\n",
       "\n",
       "    .dataframe thead th {\n",
       "        text-align: right;\n",
       "    }\n",
       "</style>\n",
       "<table border=\"1\" class=\"dataframe\">\n",
       "  <thead>\n",
       "    <tr style=\"text-align: right;\">\n",
       "      <th></th>\n",
       "      <th>adjonly</th>\n",
       "      <th>prsadj_22</th>\n",
       "      <th>prs</th>\n",
       "    </tr>\n",
       "  </thead>\n",
       "  <tbody>\n",
       "    <tr>\n",
       "      <th>410465</th>\n",
       "      <td>1</td>\n",
       "      <td>1.0</td>\n",
       "      <td>3</td>\n",
       "    </tr>\n",
       "    <tr>\n",
       "      <th>482321</th>\n",
       "      <td>1</td>\n",
       "      <td>1.0</td>\n",
       "      <td>3</td>\n",
       "    </tr>\n",
       "    <tr>\n",
       "      <th>482322</th>\n",
       "      <td>1</td>\n",
       "      <td>1.0</td>\n",
       "      <td>3</td>\n",
       "    </tr>\n",
       "    <tr>\n",
       "      <th>483255</th>\n",
       "      <td>1</td>\n",
       "      <td>1.0</td>\n",
       "      <td>3</td>\n",
       "    </tr>\n",
       "    <tr>\n",
       "      <th>483256</th>\n",
       "      <td>1</td>\n",
       "      <td>1.0</td>\n",
       "      <td>3</td>\n",
       "    </tr>\n",
       "    <tr>\n",
       "      <th>599573</th>\n",
       "      <td>1</td>\n",
       "      <td>1.0</td>\n",
       "      <td>3</td>\n",
       "    </tr>\n",
       "    <tr>\n",
       "      <th>599574</th>\n",
       "      <td>1</td>\n",
       "      <td>1.0</td>\n",
       "      <td>3</td>\n",
       "    </tr>\n",
       "    <tr>\n",
       "      <th>599577</th>\n",
       "      <td>1</td>\n",
       "      <td>1.0</td>\n",
       "      <td>3</td>\n",
       "    </tr>\n",
       "    <tr>\n",
       "      <th>599578</th>\n",
       "      <td>1</td>\n",
       "      <td>1.0</td>\n",
       "      <td>3</td>\n",
       "    </tr>\n",
       "    <tr>\n",
       "      <th>599579</th>\n",
       "      <td>1</td>\n",
       "      <td>1.0</td>\n",
       "      <td>3</td>\n",
       "    </tr>\n",
       "    <tr>\n",
       "      <th>599580</th>\n",
       "      <td>1</td>\n",
       "      <td>1.0</td>\n",
       "      <td>3</td>\n",
       "    </tr>\n",
       "  </tbody>\n",
       "</table>\n",
       "</div>"
      ],
      "text/plain": [
       "        adjonly  prsadj_22 prs\n",
       "410465        1        1.0   3\n",
       "482321        1        1.0   3\n",
       "482322        1        1.0   3\n",
       "483255        1        1.0   3\n",
       "483256        1        1.0   3\n",
       "599573        1        1.0   3\n",
       "599574        1        1.0   3\n",
       "599577        1        1.0   3\n",
       "599578        1        1.0   3\n",
       "599579        1        1.0   3\n",
       "599580        1        1.0   3"
      ]
     },
     "execution_count": 185,
     "metadata": {},
     "output_type": "execute_result"
    }
   ],
   "source": [
    "mask1 = main_df['adjonly'] == 1\n",
    "mask2 = main_df['prsadj_22'] > 0\n",
    "main_df[mask1 & mask2][['adjonly', 'prsadj_22', 'prs']]"
   ]
  },
  {
   "cell_type": "code",
   "execution_count": 189,
   "metadata": {},
   "outputs": [
    {
     "data": {
      "text/html": [
       "<div>\n",
       "<style scoped>\n",
       "    .dataframe tbody tr th:only-of-type {\n",
       "        vertical-align: middle;\n",
       "    }\n",
       "\n",
       "    .dataframe tbody tr th {\n",
       "        vertical-align: top;\n",
       "    }\n",
       "\n",
       "    .dataframe thead th {\n",
       "        text-align: right;\n",
       "    }\n",
       "</style>\n",
       "<table border=\"1\" class=\"dataframe\">\n",
       "  <thead>\n",
       "    <tr style=\"text-align: right;\">\n",
       "      <th></th>\n",
       "      <th>adjonly</th>\n",
       "      <th>prsadj_23</th>\n",
       "      <th>prs</th>\n",
       "    </tr>\n",
       "  </thead>\n",
       "  <tbody>\n",
       "    <tr>\n",
       "      <th>1295</th>\n",
       "      <td>1</td>\n",
       "      <td>1.0</td>\n",
       "      <td>2</td>\n",
       "    </tr>\n",
       "    <tr>\n",
       "      <th>1296</th>\n",
       "      <td>1</td>\n",
       "      <td>1.0</td>\n",
       "      <td>2</td>\n",
       "    </tr>\n",
       "    <tr>\n",
       "      <th>2537</th>\n",
       "      <td>1</td>\n",
       "      <td>1.0</td>\n",
       "      <td>2</td>\n",
       "    </tr>\n",
       "    <tr>\n",
       "      <th>2538</th>\n",
       "      <td>1</td>\n",
       "      <td>1.0</td>\n",
       "      <td>2</td>\n",
       "    </tr>\n",
       "    <tr>\n",
       "      <th>2539</th>\n",
       "      <td>1</td>\n",
       "      <td>1.0</td>\n",
       "      <td>2</td>\n",
       "    </tr>\n",
       "    <tr>\n",
       "      <th>...</th>\n",
       "      <td>...</td>\n",
       "      <td>...</td>\n",
       "      <td>...</td>\n",
       "    </tr>\n",
       "    <tr>\n",
       "      <th>1371291</th>\n",
       "      <td>1</td>\n",
       "      <td>1.0</td>\n",
       "      <td>0</td>\n",
       "    </tr>\n",
       "    <tr>\n",
       "      <th>1444076</th>\n",
       "      <td>1</td>\n",
       "      <td>1.0</td>\n",
       "      <td>2</td>\n",
       "    </tr>\n",
       "    <tr>\n",
       "      <th>1444077</th>\n",
       "      <td>1</td>\n",
       "      <td>1.0</td>\n",
       "      <td>2</td>\n",
       "    </tr>\n",
       "    <tr>\n",
       "      <th>1446209</th>\n",
       "      <td>1</td>\n",
       "      <td>1.0</td>\n",
       "      <td>2</td>\n",
       "    </tr>\n",
       "    <tr>\n",
       "      <th>1535811</th>\n",
       "      <td>1</td>\n",
       "      <td>1.0</td>\n",
       "      <td>2</td>\n",
       "    </tr>\n",
       "  </tbody>\n",
       "</table>\n",
       "<p>2721 rows × 3 columns</p>\n",
       "</div>"
      ],
      "text/plain": [
       "         adjonly  prsadj_23 prs\n",
       "1295           1        1.0   2\n",
       "1296           1        1.0   2\n",
       "2537           1        1.0   2\n",
       "2538           1        1.0   2\n",
       "2539           1        1.0   2\n",
       "...          ...        ...  ..\n",
       "1371291        1        1.0   0\n",
       "1444076        1        1.0   2\n",
       "1444077        1        1.0   2\n",
       "1446209        1        1.0   2\n",
       "1535811        1        1.0   2\n",
       "\n",
       "[2721 rows x 3 columns]"
      ]
     },
     "execution_count": 189,
     "metadata": {},
     "output_type": "execute_result"
    }
   ],
   "source": [
    "mask1 = main_df['adjonly'] == 1\n",
    "mask2 = main_df['prsadj_23'] > 0\n",
    "main_df[mask1 & mask2][['adjonly', 'prsadj_23', 'prs']]"
   ]
  },
  {
   "cell_type": "code",
   "execution_count": 190,
   "metadata": {},
   "outputs": [
    {
     "data": {
      "text/html": [
       "<div>\n",
       "<style scoped>\n",
       "    .dataframe tbody tr th:only-of-type {\n",
       "        vertical-align: middle;\n",
       "    }\n",
       "\n",
       "    .dataframe tbody tr th {\n",
       "        vertical-align: top;\n",
       "    }\n",
       "\n",
       "    .dataframe thead th {\n",
       "        text-align: right;\n",
       "    }\n",
       "</style>\n",
       "<table border=\"1\" class=\"dataframe\">\n",
       "  <thead>\n",
       "    <tr style=\"text-align: right;\">\n",
       "      <th></th>\n",
       "      <th>convictiononly</th>\n",
       "      <th>prsconv_64</th>\n",
       "      <th>prs</th>\n",
       "    </tr>\n",
       "  </thead>\n",
       "  <tbody>\n",
       "    <tr>\n",
       "      <th>494431</th>\n",
       "      <td>1</td>\n",
       "      <td>1.0</td>\n",
       "      <td>2</td>\n",
       "    </tr>\n",
       "    <tr>\n",
       "      <th>499306</th>\n",
       "      <td>1</td>\n",
       "      <td>1.0</td>\n",
       "      <td>2</td>\n",
       "    </tr>\n",
       "    <tr>\n",
       "      <th>501851</th>\n",
       "      <td>1</td>\n",
       "      <td>1.0</td>\n",
       "      <td>2</td>\n",
       "    </tr>\n",
       "    <tr>\n",
       "      <th>501852</th>\n",
       "      <td>1</td>\n",
       "      <td>1.0</td>\n",
       "      <td>2</td>\n",
       "    </tr>\n",
       "    <tr>\n",
       "      <th>504833</th>\n",
       "      <td>1</td>\n",
       "      <td>1.0</td>\n",
       "      <td>2</td>\n",
       "    </tr>\n",
       "    <tr>\n",
       "      <th>...</th>\n",
       "      <td>...</td>\n",
       "      <td>...</td>\n",
       "      <td>...</td>\n",
       "    </tr>\n",
       "    <tr>\n",
       "      <th>2378095</th>\n",
       "      <td>1</td>\n",
       "      <td>1.0</td>\n",
       "      <td>2</td>\n",
       "    </tr>\n",
       "    <tr>\n",
       "      <th>2378096</th>\n",
       "      <td>1</td>\n",
       "      <td>1.0</td>\n",
       "      <td>2</td>\n",
       "    </tr>\n",
       "    <tr>\n",
       "      <th>2378097</th>\n",
       "      <td>1</td>\n",
       "      <td>1.0</td>\n",
       "      <td>2</td>\n",
       "    </tr>\n",
       "    <tr>\n",
       "      <th>2378098</th>\n",
       "      <td>1</td>\n",
       "      <td>1.0</td>\n",
       "      <td>2</td>\n",
       "    </tr>\n",
       "    <tr>\n",
       "      <th>2501740</th>\n",
       "      <td>1</td>\n",
       "      <td>1.0</td>\n",
       "      <td>2</td>\n",
       "    </tr>\n",
       "  </tbody>\n",
       "</table>\n",
       "<p>9234 rows × 3 columns</p>\n",
       "</div>"
      ],
      "text/plain": [
       "         convictiononly  prsconv_64 prs\n",
       "494431                1         1.0   2\n",
       "499306                1         1.0   2\n",
       "501851                1         1.0   2\n",
       "501852                1         1.0   2\n",
       "504833                1         1.0   2\n",
       "...                 ...         ...  ..\n",
       "2378095               1         1.0   2\n",
       "2378096               1         1.0   2\n",
       "2378097               1         1.0   2\n",
       "2378098               1         1.0   2\n",
       "2501740               1         1.0   2\n",
       "\n",
       "[9234 rows x 3 columns]"
      ]
     },
     "execution_count": 190,
     "metadata": {},
     "output_type": "execute_result"
    }
   ],
   "source": [
    "mask1 = main_df['convictiononly'] == 1\n",
    "mask2 = main_df['prsconv_64'] > 0\n",
    "main_df[mask1 & mask2][['convictiononly', 'prsconv_64', 'prs']]"
   ]
  },
  {
   "cell_type": "code",
   "execution_count": 191,
   "metadata": {},
   "outputs": [
    {
     "data": {
      "text/html": [
       "<div>\n",
       "<style scoped>\n",
       "    .dataframe tbody tr th:only-of-type {\n",
       "        vertical-align: middle;\n",
       "    }\n",
       "\n",
       "    .dataframe tbody tr th {\n",
       "        vertical-align: top;\n",
       "    }\n",
       "\n",
       "    .dataframe thead th {\n",
       "        text-align: right;\n",
       "    }\n",
       "</style>\n",
       "<table border=\"1\" class=\"dataframe\">\n",
       "  <thead>\n",
       "    <tr style=\"text-align: right;\">\n",
       "      <th></th>\n",
       "      <th>convictiononly</th>\n",
       "      <th>prsconv_65</th>\n",
       "      <th>prs</th>\n",
       "    </tr>\n",
       "  </thead>\n",
       "  <tbody>\n",
       "    <tr>\n",
       "      <th>511192</th>\n",
       "      <td>1</td>\n",
       "      <td>1.0</td>\n",
       "      <td>3</td>\n",
       "    </tr>\n",
       "    <tr>\n",
       "      <th>588203</th>\n",
       "      <td>1</td>\n",
       "      <td>1.0</td>\n",
       "      <td>3</td>\n",
       "    </tr>\n",
       "    <tr>\n",
       "      <th>619618</th>\n",
       "      <td>1</td>\n",
       "      <td>1.0</td>\n",
       "      <td>3</td>\n",
       "    </tr>\n",
       "    <tr>\n",
       "      <th>627040</th>\n",
       "      <td>1</td>\n",
       "      <td>1.0</td>\n",
       "      <td>3</td>\n",
       "    </tr>\n",
       "    <tr>\n",
       "      <th>631017</th>\n",
       "      <td>1</td>\n",
       "      <td>1.0</td>\n",
       "      <td>3</td>\n",
       "    </tr>\n",
       "    <tr>\n",
       "      <th>...</th>\n",
       "      <td>...</td>\n",
       "      <td>...</td>\n",
       "      <td>...</td>\n",
       "    </tr>\n",
       "    <tr>\n",
       "      <th>2006588</th>\n",
       "      <td>1</td>\n",
       "      <td>1.0</td>\n",
       "      <td>3</td>\n",
       "    </tr>\n",
       "    <tr>\n",
       "      <th>2014105</th>\n",
       "      <td>1</td>\n",
       "      <td>1.0</td>\n",
       "      <td>3</td>\n",
       "    </tr>\n",
       "    <tr>\n",
       "      <th>2014106</th>\n",
       "      <td>1</td>\n",
       "      <td>1.0</td>\n",
       "      <td>3</td>\n",
       "    </tr>\n",
       "    <tr>\n",
       "      <th>2112247</th>\n",
       "      <td>1</td>\n",
       "      <td>1.0</td>\n",
       "      <td>3</td>\n",
       "    </tr>\n",
       "    <tr>\n",
       "      <th>2296286</th>\n",
       "      <td>1</td>\n",
       "      <td>1.0</td>\n",
       "      <td>3</td>\n",
       "    </tr>\n",
       "  </tbody>\n",
       "</table>\n",
       "<p>281 rows × 3 columns</p>\n",
       "</div>"
      ],
      "text/plain": [
       "         convictiononly  prsconv_65 prs\n",
       "511192                1         1.0   3\n",
       "588203                1         1.0   3\n",
       "619618                1         1.0   3\n",
       "627040                1         1.0   3\n",
       "631017                1         1.0   3\n",
       "...                 ...         ...  ..\n",
       "2006588               1         1.0   3\n",
       "2014105               1         1.0   3\n",
       "2014106               1         1.0   3\n",
       "2112247               1         1.0   3\n",
       "2296286               1         1.0   3\n",
       "\n",
       "[281 rows x 3 columns]"
      ]
     },
     "execution_count": 191,
     "metadata": {},
     "output_type": "execute_result"
    }
   ],
   "source": [
    "mask1 = main_df['convictiononly'] == 1\n",
    "mask2 = main_df['prsconv_65'] > 0\n",
    "main_df[mask1 & mask2][['convictiononly', 'prsconv_65', 'prs']]"
   ]
  },
  {
   "cell_type": "code",
   "execution_count": 192,
   "metadata": {},
   "outputs": [
    {
     "data": {
      "text/html": [
       "<div>\n",
       "<style scoped>\n",
       "    .dataframe tbody tr th:only-of-type {\n",
       "        vertical-align: middle;\n",
       "    }\n",
       "\n",
       "    .dataframe tbody tr th {\n",
       "        vertical-align: top;\n",
       "    }\n",
       "\n",
       "    .dataframe thead th {\n",
       "        text-align: right;\n",
       "    }\n",
       "</style>\n",
       "<table border=\"1\" class=\"dataframe\">\n",
       "  <thead>\n",
       "    <tr style=\"text-align: right;\">\n",
       "      <th></th>\n",
       "      <th>adjonly</th>\n",
       "      <th>prsadj_64</th>\n",
       "      <th>prs</th>\n",
       "    </tr>\n",
       "  </thead>\n",
       "  <tbody>\n",
       "    <tr>\n",
       "      <th>493747</th>\n",
       "      <td>1</td>\n",
       "      <td>1.0</td>\n",
       "      <td>2</td>\n",
       "    </tr>\n",
       "    <tr>\n",
       "      <th>499408</th>\n",
       "      <td>1</td>\n",
       "      <td>1.0</td>\n",
       "      <td>2</td>\n",
       "    </tr>\n",
       "    <tr>\n",
       "      <th>503748</th>\n",
       "      <td>1</td>\n",
       "      <td>1.0</td>\n",
       "      <td>2</td>\n",
       "    </tr>\n",
       "    <tr>\n",
       "      <th>503749</th>\n",
       "      <td>1</td>\n",
       "      <td>1.0</td>\n",
       "      <td>2</td>\n",
       "    </tr>\n",
       "    <tr>\n",
       "      <th>504143</th>\n",
       "      <td>1</td>\n",
       "      <td>1.0</td>\n",
       "      <td>2</td>\n",
       "    </tr>\n",
       "    <tr>\n",
       "      <th>...</th>\n",
       "      <td>...</td>\n",
       "      <td>...</td>\n",
       "      <td>...</td>\n",
       "    </tr>\n",
       "    <tr>\n",
       "      <th>2452839</th>\n",
       "      <td>1</td>\n",
       "      <td>1.0</td>\n",
       "      <td>2</td>\n",
       "    </tr>\n",
       "    <tr>\n",
       "      <th>2452840</th>\n",
       "      <td>1</td>\n",
       "      <td>1.0</td>\n",
       "      <td>2</td>\n",
       "    </tr>\n",
       "    <tr>\n",
       "      <th>2452841</th>\n",
       "      <td>1</td>\n",
       "      <td>1.0</td>\n",
       "      <td>2</td>\n",
       "    </tr>\n",
       "    <tr>\n",
       "      <th>2452842</th>\n",
       "      <td>1</td>\n",
       "      <td>1.0</td>\n",
       "      <td>2</td>\n",
       "    </tr>\n",
       "    <tr>\n",
       "      <th>2452843</th>\n",
       "      <td>1</td>\n",
       "      <td>1.0</td>\n",
       "      <td>2</td>\n",
       "    </tr>\n",
       "  </tbody>\n",
       "</table>\n",
       "<p>5645 rows × 3 columns</p>\n",
       "</div>"
      ],
      "text/plain": [
       "         adjonly  prsadj_64 prs\n",
       "493747         1        1.0   2\n",
       "499408         1        1.0   2\n",
       "503748         1        1.0   2\n",
       "503749         1        1.0   2\n",
       "504143         1        1.0   2\n",
       "...          ...        ...  ..\n",
       "2452839        1        1.0   2\n",
       "2452840        1        1.0   2\n",
       "2452841        1        1.0   2\n",
       "2452842        1        1.0   2\n",
       "2452843        1        1.0   2\n",
       "\n",
       "[5645 rows x 3 columns]"
      ]
     },
     "execution_count": 192,
     "metadata": {},
     "output_type": "execute_result"
    }
   ],
   "source": [
    "mask1 = main_df['adjonly'] == 1\n",
    "mask2 = main_df['prsadj_64'] > 0\n",
    "main_df[mask1 & mask2][['adjonly', 'prsadj_64', 'prs']]"
   ]
  },
  {
   "cell_type": "code",
   "execution_count": 193,
   "metadata": {},
   "outputs": [
    {
     "data": {
      "text/html": [
       "<div>\n",
       "<style scoped>\n",
       "    .dataframe tbody tr th:only-of-type {\n",
       "        vertical-align: middle;\n",
       "    }\n",
       "\n",
       "    .dataframe tbody tr th {\n",
       "        vertical-align: top;\n",
       "    }\n",
       "\n",
       "    .dataframe thead th {\n",
       "        text-align: right;\n",
       "    }\n",
       "</style>\n",
       "<table border=\"1\" class=\"dataframe\">\n",
       "  <thead>\n",
       "    <tr style=\"text-align: right;\">\n",
       "      <th></th>\n",
       "      <th>adjonly</th>\n",
       "      <th>prsadj_65</th>\n",
       "      <th>prs</th>\n",
       "    </tr>\n",
       "  </thead>\n",
       "  <tbody>\n",
       "    <tr>\n",
       "      <th>647484</th>\n",
       "      <td>1</td>\n",
       "      <td>1.0</td>\n",
       "      <td>3</td>\n",
       "    </tr>\n",
       "    <tr>\n",
       "      <th>713712</th>\n",
       "      <td>1</td>\n",
       "      <td>1.0</td>\n",
       "      <td>0</td>\n",
       "    </tr>\n",
       "    <tr>\n",
       "      <th>713713</th>\n",
       "      <td>1</td>\n",
       "      <td>1.0</td>\n",
       "      <td>0</td>\n",
       "    </tr>\n",
       "    <tr>\n",
       "      <th>819778</th>\n",
       "      <td>1</td>\n",
       "      <td>1.0</td>\n",
       "      <td>3</td>\n",
       "    </tr>\n",
       "    <tr>\n",
       "      <th>819779</th>\n",
       "      <td>1</td>\n",
       "      <td>1.0</td>\n",
       "      <td>3</td>\n",
       "    </tr>\n",
       "    <tr>\n",
       "      <th>855355</th>\n",
       "      <td>1</td>\n",
       "      <td>1.0</td>\n",
       "      <td>0</td>\n",
       "    </tr>\n",
       "    <tr>\n",
       "      <th>874555</th>\n",
       "      <td>1</td>\n",
       "      <td>1.0</td>\n",
       "      <td>3</td>\n",
       "    </tr>\n",
       "    <tr>\n",
       "      <th>993796</th>\n",
       "      <td>1</td>\n",
       "      <td>1.0</td>\n",
       "      <td>3</td>\n",
       "    </tr>\n",
       "    <tr>\n",
       "      <th>1005699</th>\n",
       "      <td>1</td>\n",
       "      <td>1.0</td>\n",
       "      <td>3</td>\n",
       "    </tr>\n",
       "    <tr>\n",
       "      <th>1005700</th>\n",
       "      <td>1</td>\n",
       "      <td>1.0</td>\n",
       "      <td>3</td>\n",
       "    </tr>\n",
       "    <tr>\n",
       "      <th>1100092</th>\n",
       "      <td>1</td>\n",
       "      <td>1.0</td>\n",
       "      <td>3</td>\n",
       "    </tr>\n",
       "    <tr>\n",
       "      <th>1100093</th>\n",
       "      <td>1</td>\n",
       "      <td>1.0</td>\n",
       "      <td>3</td>\n",
       "    </tr>\n",
       "    <tr>\n",
       "      <th>1100094</th>\n",
       "      <td>1</td>\n",
       "      <td>1.0</td>\n",
       "      <td>3</td>\n",
       "    </tr>\n",
       "    <tr>\n",
       "      <th>1380863</th>\n",
       "      <td>1</td>\n",
       "      <td>1.0</td>\n",
       "      <td>3</td>\n",
       "    </tr>\n",
       "  </tbody>\n",
       "</table>\n",
       "</div>"
      ],
      "text/plain": [
       "         adjonly  prsadj_65 prs\n",
       "647484         1        1.0   3\n",
       "713712         1        1.0   0\n",
       "713713         1        1.0   0\n",
       "819778         1        1.0   3\n",
       "819779         1        1.0   3\n",
       "855355         1        1.0   0\n",
       "874555         1        1.0   3\n",
       "993796         1        1.0   3\n",
       "1005699        1        1.0   3\n",
       "1005700        1        1.0   3\n",
       "1100092        1        1.0   3\n",
       "1100093        1        1.0   3\n",
       "1100094        1        1.0   3\n",
       "1380863        1        1.0   3"
      ]
     },
     "execution_count": 193,
     "metadata": {},
     "output_type": "execute_result"
    }
   ],
   "source": [
    "mask1 = main_df['adjonly'] == 1\n",
    "mask2 = main_df['prsadj_65'] > 0\n",
    "main_df[mask1 & mask2][['adjonly', 'prsadj_65', 'prs']]"
   ]
  },
  {
   "cell_type": "code",
   "execution_count": 194,
   "metadata": {},
   "outputs": [
    {
     "data": {
      "text/html": [
       "<div>\n",
       "<style scoped>\n",
       "    .dataframe tbody tr th:only-of-type {\n",
       "        vertical-align: middle;\n",
       "    }\n",
       "\n",
       "    .dataframe tbody tr th {\n",
       "        vertical-align: top;\n",
       "    }\n",
       "\n",
       "    .dataframe thead th {\n",
       "        text-align: right;\n",
       "    }\n",
       "</style>\n",
       "<table border=\"1\" class=\"dataframe\">\n",
       "  <thead>\n",
       "    <tr style=\"text-align: right;\">\n",
       "      <th></th>\n",
       "      <th>convictiononly</th>\n",
       "      <th>prsconv_113</th>\n",
       "      <th>prs</th>\n",
       "    </tr>\n",
       "  </thead>\n",
       "  <tbody>\n",
       "    <tr>\n",
       "      <th>1911559</th>\n",
       "      <td>1</td>\n",
       "      <td>1.0</td>\n",
       "      <td>3</td>\n",
       "    </tr>\n",
       "    <tr>\n",
       "      <th>1911898</th>\n",
       "      <td>1</td>\n",
       "      <td>1.0</td>\n",
       "      <td>2</td>\n",
       "    </tr>\n",
       "    <tr>\n",
       "      <th>1911899</th>\n",
       "      <td>1</td>\n",
       "      <td>1.0</td>\n",
       "      <td>2</td>\n",
       "    </tr>\n",
       "    <tr>\n",
       "      <th>1912073</th>\n",
       "      <td>1</td>\n",
       "      <td>1.0</td>\n",
       "      <td>2</td>\n",
       "    </tr>\n",
       "    <tr>\n",
       "      <th>1912074</th>\n",
       "      <td>1</td>\n",
       "      <td>1.0</td>\n",
       "      <td>2</td>\n",
       "    </tr>\n",
       "    <tr>\n",
       "      <th>...</th>\n",
       "      <td>...</td>\n",
       "      <td>...</td>\n",
       "      <td>...</td>\n",
       "    </tr>\n",
       "    <tr>\n",
       "      <th>2592493</th>\n",
       "      <td>1</td>\n",
       "      <td>1.0</td>\n",
       "      <td>2</td>\n",
       "    </tr>\n",
       "    <tr>\n",
       "      <th>2592494</th>\n",
       "      <td>1</td>\n",
       "      <td>1.0</td>\n",
       "      <td>2</td>\n",
       "    </tr>\n",
       "    <tr>\n",
       "      <th>2592495</th>\n",
       "      <td>1</td>\n",
       "      <td>1.0</td>\n",
       "      <td>2</td>\n",
       "    </tr>\n",
       "    <tr>\n",
       "      <th>2592895</th>\n",
       "      <td>1</td>\n",
       "      <td>1.0</td>\n",
       "      <td>2</td>\n",
       "    </tr>\n",
       "    <tr>\n",
       "      <th>2592896</th>\n",
       "      <td>1</td>\n",
       "      <td>1.0</td>\n",
       "      <td>2</td>\n",
       "    </tr>\n",
       "  </tbody>\n",
       "</table>\n",
       "<p>4002 rows × 3 columns</p>\n",
       "</div>"
      ],
      "text/plain": [
       "         convictiononly  prsconv_113 prs\n",
       "1911559               1          1.0   3\n",
       "1911898               1          1.0   2\n",
       "1911899               1          1.0   2\n",
       "1912073               1          1.0   2\n",
       "1912074               1          1.0   2\n",
       "...                 ...          ...  ..\n",
       "2592493               1          1.0   2\n",
       "2592494               1          1.0   2\n",
       "2592495               1          1.0   2\n",
       "2592895               1          1.0   2\n",
       "2592896               1          1.0   2\n",
       "\n",
       "[4002 rows x 3 columns]"
      ]
     },
     "execution_count": 194,
     "metadata": {},
     "output_type": "execute_result"
    }
   ],
   "source": [
    "mask1 = main_df['convictiononly'] == 1\n",
    "mask2 = main_df['prsconv_113'] > 0\n",
    "main_df[mask1 & mask2][['convictiononly', 'prsconv_113', 'prs']]"
   ]
  },
  {
   "cell_type": "code",
   "execution_count": 195,
   "metadata": {},
   "outputs": [
    {
     "data": {
      "text/html": [
       "<div>\n",
       "<style scoped>\n",
       "    .dataframe tbody tr th:only-of-type {\n",
       "        vertical-align: middle;\n",
       "    }\n",
       "\n",
       "    .dataframe tbody tr th {\n",
       "        vertical-align: top;\n",
       "    }\n",
       "\n",
       "    .dataframe thead th {\n",
       "        text-align: right;\n",
       "    }\n",
       "</style>\n",
       "<table border=\"1\" class=\"dataframe\">\n",
       "  <thead>\n",
       "    <tr style=\"text-align: right;\">\n",
       "      <th></th>\n",
       "      <th>convictiononly</th>\n",
       "      <th>prsconv_114</th>\n",
       "      <th>prs</th>\n",
       "    </tr>\n",
       "  </thead>\n",
       "  <tbody>\n",
       "    <tr>\n",
       "      <th>1912427</th>\n",
       "      <td>1</td>\n",
       "      <td>1.0</td>\n",
       "      <td>3</td>\n",
       "    </tr>\n",
       "    <tr>\n",
       "      <th>1925776</th>\n",
       "      <td>1</td>\n",
       "      <td>1.0</td>\n",
       "      <td>3</td>\n",
       "    </tr>\n",
       "    <tr>\n",
       "      <th>1925777</th>\n",
       "      <td>1</td>\n",
       "      <td>1.0</td>\n",
       "      <td>3</td>\n",
       "    </tr>\n",
       "    <tr>\n",
       "      <th>1925778</th>\n",
       "      <td>1</td>\n",
       "      <td>1.0</td>\n",
       "      <td>3</td>\n",
       "    </tr>\n",
       "    <tr>\n",
       "      <th>1928753</th>\n",
       "      <td>1</td>\n",
       "      <td>1.0</td>\n",
       "      <td>3</td>\n",
       "    </tr>\n",
       "    <tr>\n",
       "      <th>...</th>\n",
       "      <td>...</td>\n",
       "      <td>...</td>\n",
       "      <td>...</td>\n",
       "    </tr>\n",
       "    <tr>\n",
       "      <th>2561750</th>\n",
       "      <td>1</td>\n",
       "      <td>1.0</td>\n",
       "      <td>3</td>\n",
       "    </tr>\n",
       "    <tr>\n",
       "      <th>2573073</th>\n",
       "      <td>1</td>\n",
       "      <td>1.0</td>\n",
       "      <td>3</td>\n",
       "    </tr>\n",
       "    <tr>\n",
       "      <th>2577772</th>\n",
       "      <td>1</td>\n",
       "      <td>1.0</td>\n",
       "      <td>3</td>\n",
       "    </tr>\n",
       "    <tr>\n",
       "      <th>2577773</th>\n",
       "      <td>1</td>\n",
       "      <td>1.0</td>\n",
       "      <td>3</td>\n",
       "    </tr>\n",
       "    <tr>\n",
       "      <th>2587287</th>\n",
       "      <td>1</td>\n",
       "      <td>1.0</td>\n",
       "      <td>3</td>\n",
       "    </tr>\n",
       "  </tbody>\n",
       "</table>\n",
       "<p>84 rows × 3 columns</p>\n",
       "</div>"
      ],
      "text/plain": [
       "         convictiononly  prsconv_114 prs\n",
       "1912427               1          1.0   3\n",
       "1925776               1          1.0   3\n",
       "1925777               1          1.0   3\n",
       "1925778               1          1.0   3\n",
       "1928753               1          1.0   3\n",
       "...                 ...          ...  ..\n",
       "2561750               1          1.0   3\n",
       "2573073               1          1.0   3\n",
       "2577772               1          1.0   3\n",
       "2577773               1          1.0   3\n",
       "2587287               1          1.0   3\n",
       "\n",
       "[84 rows x 3 columns]"
      ]
     },
     "execution_count": 195,
     "metadata": {},
     "output_type": "execute_result"
    }
   ],
   "source": [
    "mask1 = main_df['convictiononly'] == 1\n",
    "mask2 = main_df['prsconv_114'] > 0\n",
    "main_df[mask1 & mask2][['convictiononly', 'prsconv_114', 'prs']]"
   ]
  },
  {
   "cell_type": "code",
   "execution_count": 196,
   "metadata": {},
   "outputs": [
    {
     "data": {
      "text/html": [
       "<div>\n",
       "<style scoped>\n",
       "    .dataframe tbody tr th:only-of-type {\n",
       "        vertical-align: middle;\n",
       "    }\n",
       "\n",
       "    .dataframe tbody tr th {\n",
       "        vertical-align: top;\n",
       "    }\n",
       "\n",
       "    .dataframe thead th {\n",
       "        text-align: right;\n",
       "    }\n",
       "</style>\n",
       "<table border=\"1\" class=\"dataframe\">\n",
       "  <thead>\n",
       "    <tr style=\"text-align: right;\">\n",
       "      <th></th>\n",
       "      <th>adjonly</th>\n",
       "      <th>prsadj_113</th>\n",
       "      <th>prs</th>\n",
       "    </tr>\n",
       "  </thead>\n",
       "  <tbody>\n",
       "    <tr>\n",
       "      <th>1911593</th>\n",
       "      <td>1</td>\n",
       "      <td>1.0</td>\n",
       "      <td>2</td>\n",
       "    </tr>\n",
       "    <tr>\n",
       "      <th>1911594</th>\n",
       "      <td>1</td>\n",
       "      <td>1.0</td>\n",
       "      <td>2</td>\n",
       "    </tr>\n",
       "    <tr>\n",
       "      <th>1911595</th>\n",
       "      <td>1</td>\n",
       "      <td>1.0</td>\n",
       "      <td>2</td>\n",
       "    </tr>\n",
       "    <tr>\n",
       "      <th>1911596</th>\n",
       "      <td>1</td>\n",
       "      <td>1.0</td>\n",
       "      <td>2</td>\n",
       "    </tr>\n",
       "    <tr>\n",
       "      <th>1911597</th>\n",
       "      <td>1</td>\n",
       "      <td>1.0</td>\n",
       "      <td>2</td>\n",
       "    </tr>\n",
       "    <tr>\n",
       "      <th>...</th>\n",
       "      <td>...</td>\n",
       "      <td>...</td>\n",
       "      <td>...</td>\n",
       "    </tr>\n",
       "    <tr>\n",
       "      <th>2586325</th>\n",
       "      <td>1</td>\n",
       "      <td>1.0</td>\n",
       "      <td>2</td>\n",
       "    </tr>\n",
       "    <tr>\n",
       "      <th>2588476</th>\n",
       "      <td>1</td>\n",
       "      <td>1.0</td>\n",
       "      <td>2</td>\n",
       "    </tr>\n",
       "    <tr>\n",
       "      <th>2588477</th>\n",
       "      <td>1</td>\n",
       "      <td>1.0</td>\n",
       "      <td>2</td>\n",
       "    </tr>\n",
       "    <tr>\n",
       "      <th>2588690</th>\n",
       "      <td>1</td>\n",
       "      <td>1.0</td>\n",
       "      <td>2</td>\n",
       "    </tr>\n",
       "    <tr>\n",
       "      <th>2590818</th>\n",
       "      <td>1</td>\n",
       "      <td>1.0</td>\n",
       "      <td>2</td>\n",
       "    </tr>\n",
       "  </tbody>\n",
       "</table>\n",
       "<p>1938 rows × 3 columns</p>\n",
       "</div>"
      ],
      "text/plain": [
       "         adjonly  prsadj_113 prs\n",
       "1911593        1         1.0   2\n",
       "1911594        1         1.0   2\n",
       "1911595        1         1.0   2\n",
       "1911596        1         1.0   2\n",
       "1911597        1         1.0   2\n",
       "...          ...         ...  ..\n",
       "2586325        1         1.0   2\n",
       "2588476        1         1.0   2\n",
       "2588477        1         1.0   2\n",
       "2588690        1         1.0   2\n",
       "2590818        1         1.0   2\n",
       "\n",
       "[1938 rows x 3 columns]"
      ]
     },
     "execution_count": 196,
     "metadata": {},
     "output_type": "execute_result"
    }
   ],
   "source": [
    "mask1 = main_df['adjonly'] == 1\n",
    "mask2 = main_df['prsadj_113'] > 0\n",
    "main_df[mask1 & mask2][['adjonly', 'prsadj_113', 'prs']]"
   ]
  },
  {
   "cell_type": "code",
   "execution_count": 197,
   "metadata": {},
   "outputs": [
    {
     "data": {
      "text/html": [
       "<div>\n",
       "<style scoped>\n",
       "    .dataframe tbody tr th:only-of-type {\n",
       "        vertical-align: middle;\n",
       "    }\n",
       "\n",
       "    .dataframe tbody tr th {\n",
       "        vertical-align: top;\n",
       "    }\n",
       "\n",
       "    .dataframe thead th {\n",
       "        text-align: right;\n",
       "    }\n",
       "</style>\n",
       "<table border=\"1\" class=\"dataframe\">\n",
       "  <thead>\n",
       "    <tr style=\"text-align: right;\">\n",
       "      <th></th>\n",
       "      <th>adjonly</th>\n",
       "      <th>prsadj_114</th>\n",
       "      <th>prs</th>\n",
       "    </tr>\n",
       "  </thead>\n",
       "  <tbody>\n",
       "    <tr>\n",
       "      <th>1936940</th>\n",
       "      <td>1</td>\n",
       "      <td>1.0</td>\n",
       "      <td>3</td>\n",
       "    </tr>\n",
       "    <tr>\n",
       "      <th>2083910</th>\n",
       "      <td>1</td>\n",
       "      <td>1.0</td>\n",
       "      <td>3</td>\n",
       "    </tr>\n",
       "    <tr>\n",
       "      <th>2083911</th>\n",
       "      <td>1</td>\n",
       "      <td>1.0</td>\n",
       "      <td>3</td>\n",
       "    </tr>\n",
       "    <tr>\n",
       "      <th>2083912</th>\n",
       "      <td>1</td>\n",
       "      <td>1.0</td>\n",
       "      <td>3</td>\n",
       "    </tr>\n",
       "    <tr>\n",
       "      <th>2083913</th>\n",
       "      <td>1</td>\n",
       "      <td>1.0</td>\n",
       "      <td>3</td>\n",
       "    </tr>\n",
       "    <tr>\n",
       "      <th>2083914</th>\n",
       "      <td>1</td>\n",
       "      <td>1.0</td>\n",
       "      <td>3</td>\n",
       "    </tr>\n",
       "    <tr>\n",
       "      <th>2083915</th>\n",
       "      <td>1</td>\n",
       "      <td>1.0</td>\n",
       "      <td>3</td>\n",
       "    </tr>\n",
       "    <tr>\n",
       "      <th>2417859</th>\n",
       "      <td>1</td>\n",
       "      <td>1.0</td>\n",
       "      <td>0</td>\n",
       "    </tr>\n",
       "    <tr>\n",
       "      <th>2479253</th>\n",
       "      <td>1</td>\n",
       "      <td>1.0</td>\n",
       "      <td>3</td>\n",
       "    </tr>\n",
       "  </tbody>\n",
       "</table>\n",
       "</div>"
      ],
      "text/plain": [
       "         adjonly  prsadj_114 prs\n",
       "1936940        1         1.0   3\n",
       "2083910        1         1.0   3\n",
       "2083911        1         1.0   3\n",
       "2083912        1         1.0   3\n",
       "2083913        1         1.0   3\n",
       "2083914        1         1.0   3\n",
       "2083915        1         1.0   3\n",
       "2417859        1         1.0   0\n",
       "2479253        1         1.0   3"
      ]
     },
     "execution_count": 197,
     "metadata": {},
     "output_type": "execute_result"
    }
   ],
   "source": [
    "mask1 = main_df['adjonly'] == 1\n",
    "mask2 = main_df['prsadj_114'] > 0\n",
    "main_df[mask1 & mask2][['adjonly', 'prsadj_114', 'prs']]"
   ]
  },
  {
   "cell_type": "markdown",
   "metadata": {},
   "source": [
    "##### Classifying priors"
   ]
  },
  {
   "cell_type": "code",
   "execution_count": 105,
   "metadata": {},
   "outputs": [
    {
     "name": "stdout",
     "output_type": "stream",
     "text": [
      "['prsconv_1', 'prsconv_2', 'prsconv_3', 'prsconv_4', 'prsconv_5', 'prsconv_6', 'prsconv_7', 'prsconv_8', 'prsconv_9', 'prsconv_10', 'prsconv_11', 'prsconv_12', 'prsconv_13', 'prsconv_14', 'prsconv_15', 'prsconv_16', 'prsconv_17', 'prsconv_18', 'prsconv_21', 'prsconv_41', 'prsconv_42', 'prsconv_43', 'prsconv_44', 'prsconv_45', 'prsconv_46', 'prsconv_47', 'prsconv_48', 'prsconv_49', 'prsconv_50', 'prsconv_54', 'prsconv_55', 'prsconv_56', 'prsconv_57', 'prsconv_58', 'prsconv_59', 'prsconv_60', 'prsconv_61', 'prsconv_62', 'prsconv_63', 'prsconv_90', 'prsconv_91', 'prsconv_92', 'prsconv_93', 'prsconv_94', 'prsconv_95', 'prsconv_96', 'prsconv_97', 'prsconv_98', 'prsconv_99', 'prsconv_100', 'prsconv_103', 'prsconv_104', 'prsconv_105', 'prsconv_106', 'prsconv_107', 'prsconv_108', 'prsconv_109', 'prsconv_110', 'prsconv_111', 'prsconv_112', 'prsadj_1', 'prsadj_2', 'prsadj_3', 'prsadj_4', 'prsadj_5', 'prsadj_6', 'prsadj_7', 'prsadj_8', 'prsadj_9', 'prsadj_10', 'prsadj_11', 'prsadj_12', 'prsadj_13', 'prsadj_14', 'prsadj_15', 'prsadj_16', 'prsadj_17', 'prsadj_18', 'prsadj_21', 'prsadj_41', 'prsadj_42', 'prsadj_43', 'prsadj_44', 'prsadj_45', 'prsadj_46', 'prsadj_47', 'prsadj_48', 'prsadj_49', 'prsadj_50', 'prsadj_54', 'prsadj_55', 'prsadj_56', 'prsadj_57', 'prsadj_58', 'prsadj_59', 'prsadj_60', 'prsadj_61', 'prsadj_62', 'prsadj_63', 'prsadj_90', 'prsadj_91', 'prsadj_92', 'prsadj_93', 'prsadj_94', 'prsadj_95', 'prsadj_96', 'prsadj_97', 'prsadj_98', 'prsadj_99', 'prsadj_100', 'prsadj_103', 'prsadj_104', 'prsadj_105', 'prsadj_106', 'prsadj_107', 'prsadj_108', 'prsadj_109', 'prsadj_110', 'prsadj_111', 'prsadj_112']\n",
      "120\n"
     ]
    }
   ],
   "source": [
    "# \"Total Prior F-1 Conv/Adj\"\n",
    "\n",
    "columns = 'prsconv_1 prsconv_2 prsconv_3 prsconv_4 prsconv_5 prsconv_6 prsconv_7 prsconv_8 prsconv_9 prsconv_10 prsconv_11 prsconv_12 prsconv_13 prsconv_14 prsconv_15 prsconv_16 prsconv_17 prsconv_18 prsconv_21 prsconv_41 prsconv_42 prsconv_43 prsconv_44 prsconv_45 prsconv_46 prsconv_47 prsconv_48 prsconv_49 prsconv_50 prsconv_54 prsconv_55 prsconv_56 prsconv_57 prsconv_58 prsconv_59 prsconv_60 prsconv_61 prsconv_62 prsconv_63 prsconv_90 prsconv_91 prsconv_92 prsconv_93 prsconv_94 prsconv_95 prsconv_96 prsconv_97 prsconv_98 prsconv_99 prsconv_100 prsconv_103 prsconv_104 prsconv_105 prsconv_106 prsconv_107 prsconv_108 prsconv_109 prsconv_110 prsconv_111 prsconv_112 prsadj_1 prsadj_2 prsadj_3 prsadj_4 prsadj_5 prsadj_6 prsadj_7 prsadj_8 prsadj_9 prsadj_10 prsadj_11 prsadj_12 prsadj_13 prsadj_14 prsadj_15 prsadj_16 prsadj_17 prsadj_18 prsadj_21 prsadj_41 prsadj_42 prsadj_43 prsadj_44 prsadj_45 prsadj_46 prsadj_47 prsadj_48 prsadj_49 prsadj_50 prsadj_54 prsadj_55 prsadj_56 prsadj_57 prsadj_58 prsadj_59 prsadj_60 prsadj_61 prsadj_62 prsadj_63 prsadj_90 prsadj_91 prsadj_92 prsadj_93 prsadj_94 prsadj_95 prsadj_96 prsadj_97 prsadj_98 prsadj_99 prsadj_100 prsadj_103 prsadj_104 prsadj_105 prsadj_106 prsadj_107 prsadj_108 prsadj_109 prsadj_110 prsadj_111 prsadj_112'.split(' ')\n",
    "print(columns)\n",
    "print(len(columns))"
   ]
  },
  {
   "cell_type": "code",
   "execution_count": 79,
   "metadata": {},
   "outputs": [],
   "source": [
    "main_df['F1tot'] = main_df[columns].sum(axis=1)"
   ]
  },
  {
   "cell_type": "code",
   "execution_count": 80,
   "metadata": {},
   "outputs": [
    {
     "data": {
      "text/plain": [
       "0"
      ]
     },
     "execution_count": 80,
     "metadata": {},
     "output_type": "execute_result"
    }
   ],
   "source": [
    "main_df['F1tot'].isna().sum()"
   ]
  },
  {
   "cell_type": "code",
   "execution_count": 103,
   "metadata": {},
   "outputs": [
    {
     "name": "stdout",
     "output_type": "stream",
     "text": [
      "['prsconv_19', 'prsconv_20', 'prsconv_23', 'prsconv_51', 'prsconv_52', 'prsconv_53', 'prsconv_64', 'prsconv_101', 'prsconv_102', 'prsconv_113', 'prsadj_19', 'prsadj_20', 'prsadj_23', 'prsadj_51', 'prsadj_52', 'prsadj_53', 'prsadj_64', 'prsadj_101', 'prsadj_102', 'prsadj_113']\n",
      "20\n"
     ]
    }
   ],
   "source": [
    "# \"Total Prior F-2 Conv/Adj\"\n",
    "\n",
    "columns = 'prsconv_19 prsconv_20 prsconv_23 prsconv_51 prsconv_52 prsconv_53 prsconv_64 prsconv_101 prsconv_102 prsconv_113 prsadj_19 prsadj_20 prsadj_23 prsadj_51 prsadj_52 prsadj_53 prsadj_64 prsadj_101 prsadj_102 prsadj_113'.split(' ')\n",
    "print(columns)\n",
    "print(len(columns))"
   ]
  },
  {
   "cell_type": "code",
   "execution_count": 82,
   "metadata": {},
   "outputs": [],
   "source": [
    "main_df['F2tot'] = main_df[columns].sum(axis=1)"
   ]
  },
  {
   "cell_type": "code",
   "execution_count": 83,
   "metadata": {},
   "outputs": [
    {
     "data": {
      "text/plain": [
       "0"
      ]
     },
     "execution_count": 83,
     "metadata": {},
     "output_type": "execute_result"
    }
   ],
   "source": [
    "main_df['F2tot'].isna().sum()"
   ]
  },
  {
   "cell_type": "code",
   "execution_count": 104,
   "metadata": {},
   "outputs": [
    {
     "name": "stdout",
     "output_type": "stream",
     "text": [
      "['prsconv_22', 'prsconv_24', 'prsconv_25', 'prsconv_39', 'prsconv_65', 'prsconv_66', 'prsconv_67', 'prsconv_69', 'prsconv_76', 'prsconv_85', 'prsconv_114', 'prsconv_115', 'prsconv_116', 'prsconv_118', 'prsconv_125', 'prsconv_134', 'prsadj_22', 'prsadj_24', 'prsadj_25', 'prsadj_39', 'prsadj_65', 'prsadj_66', 'prsadj_67', 'prsadj_69', 'prsadj_76', 'prsadj_85', 'prsadj_114', 'prsadj_115', 'prsadj_116', 'prsadj_118', 'prsadj_125', 'prsadj_134']\n",
      "32\n"
     ]
    }
   ],
   "source": [
    "# \"Total Prior F-3 Conv/Adj\"\n",
    "\n",
    "columns = 'prsconv_22 prsconv_24 prsconv_25 prsconv_39 prsconv_65 prsconv_66 prsconv_67 prsconv_69 prsconv_76 prsconv_85 prsconv_114 prsconv_115 prsconv_116 prsconv_118 prsconv_125 prsconv_134 prsadj_22 prsadj_24 prsadj_25 prsadj_39 prsadj_65 prsadj_66 prsadj_67 prsadj_69 prsadj_76 prsadj_85 prsadj_114 prsadj_115 prsadj_116 prsadj_118 prsadj_125 prsadj_134'.split(' ')\n",
    "print(columns)\n",
    "print(len(columns))"
   ]
  },
  {
   "cell_type": "code",
   "execution_count": 85,
   "metadata": {},
   "outputs": [],
   "source": [
    "main_df['F3tot'] = main_df[columns].sum(axis=1)"
   ]
  },
  {
   "cell_type": "code",
   "execution_count": 86,
   "metadata": {},
   "outputs": [
    {
     "data": {
      "text/plain": [
       "0"
      ]
     },
     "execution_count": 86,
     "metadata": {},
     "output_type": "execute_result"
    }
   ],
   "source": [
    "main_df['F3tot'].isna().sum()"
   ]
  },
  {
   "cell_type": "code",
   "execution_count": 106,
   "metadata": {},
   "outputs": [
    {
     "name": "stdout",
     "output_type": "stream",
     "text": [
      "['prsconv_26', 'prsconv_27', 'prsconv_28', 'prsconv_29', 'prsconv_30', 'prsconv_31', 'prsconv_32', 'prsconv_33', 'prsconv_34', 'prsconv_35', 'prsconv_36', 'prsconv_37', 'prsconv_38', 'prsconv_40', 'prsconv_68', 'prsconv_70', 'prsconv_71', 'prsconv_72', 'prsconv_73', 'prsconv_74', 'prsconv_75', 'prsconv_77', 'prsconv_78', 'prsconv_79', 'prsconv_80', 'prsconv_81', 'prsconv_82', 'prsconv_83', 'prsconv_84', 'prsconv_86', 'prsconv_89', 'prsconv_117', 'prsconv_119', 'prsconv_120', 'prsconv_121', 'prsconv_122', 'prsconv_123', 'prsconv_124', 'prsconv_126', 'prsconv_127', 'prsconv_128', 'prsconv_129', 'prsconv_130', 'prsconv_131', 'prsconv_132', 'prsconv_133', 'prsconv_135', 'prsconv_138', 'prsadj_26', 'prsadj_27', 'prsadj_28', 'prsadj_29', 'prsadj_30', 'prsadj_31', 'prsadj_32', 'prsadj_33', 'prsadj_34', 'prsadj_35', 'prsadj_36', 'prsadj_37', 'prsadj_38', 'prsadj_40', 'prsadj_68', 'prsadj_70', 'prsadj_71', 'prsadj_72', 'prsadj_73', 'prsadj_74', 'prsadj_75', 'prsadj_77', 'prsadj_78', 'prsadj_79', 'prsadj_80', 'prsadj_81', 'prsadj_82', 'prsadj_83', 'prsadj_84', 'prsadj_86', 'prsadj_89', 'prsadj_117', 'prsadj_119', 'prsadj_120', 'prsadj_121', 'prsadj_122', 'prsadj_123', 'prsadj_124', 'prsadj_126', 'prsadj_127', 'prsadj_128', 'prsadj_129', 'prsadj_130', 'prsadj_131', 'prsadj_132', 'prsadj_133', 'prsadj_135', 'prsadj_138']\n",
      "96\n"
     ]
    }
   ],
   "source": [
    "#  \"Total Prior M-1 Conv/Adj\"\n",
    "\n",
    "columns = 'prsconv_26 prsconv_27 prsconv_28 prsconv_29 prsconv_30 prsconv_31 prsconv_32 prsconv_33 prsconv_34 prsconv_35 prsconv_36 prsconv_37 prsconv_38 prsconv_40 prsconv_68 prsconv_70 prsconv_71 prsconv_72 prsconv_73 prsconv_74 prsconv_75 prsconv_77 prsconv_78 prsconv_79 prsconv_80 prsconv_81 prsconv_82 prsconv_83 prsconv_84 prsconv_86 prsconv_89 prsconv_117 prsconv_119 prsconv_120 prsconv_121 prsconv_122 prsconv_123 prsconv_124 prsconv_126 prsconv_127 prsconv_128 prsconv_129 prsconv_130 prsconv_131 prsconv_132 prsconv_133 prsconv_135 prsconv_138 prsadj_26 prsadj_27 prsadj_28 prsadj_29 prsadj_30 prsadj_31 prsadj_32 prsadj_33 prsadj_34 prsadj_35 prsadj_36 prsadj_37 prsadj_38 prsadj_40 prsadj_68 prsadj_70 prsadj_71 prsadj_72 prsadj_73 prsadj_74 prsadj_75 prsadj_77 prsadj_78 prsadj_79 prsadj_80 prsadj_81 prsadj_82 prsadj_83 prsadj_84 prsadj_86 prsadj_89 prsadj_117 prsadj_119 prsadj_120 prsadj_121 prsadj_122 prsadj_123 prsadj_124 prsadj_126 prsadj_127 prsadj_128 prsadj_129 prsadj_130 prsadj_131 prsadj_132 prsadj_133 prsadj_135 prsadj_138'.split(' ')\n",
    "print(columns)\n",
    "print(len(columns))"
   ]
  },
  {
   "cell_type": "code",
   "execution_count": 94,
   "metadata": {},
   "outputs": [
    {
     "name": "stdout",
     "output_type": "stream",
     "text": [
      "['prsconv_26', 'prsconv_27', 'prsconv_28', 'prsconv_29', 'prsconv_30', 'prsconv_31', 'prsconv_32', 'prsconv_33', 'prsconv_34', 'prsconv_35', 'prsconv_36', 'prsconv_37', 'prsconv_38', 'prsconv_40', 'prsconv_68', 'prsconv_70', 'prsconv_71', 'prsconv_72', 'prsconv_73', 'prsconv_74', 'prsconv_75', 'prsconv_77', 'prsconv_78', 'prsconv_79', 'prsconv_80', 'prsconv_81', 'prsconv_82', 'prsconv_83', 'prsconv_84', 'prsconv_86', 'prsconv_89', 'prsconv_117', 'prsconv_119', 'prsconv_120', 'prsconv_121', 'prsconv_122', 'prsconv_123', 'prsconv_124', 'prsconv_126', 'prsconv_127', 'prsconv_128', 'prsconv_129', 'prsconv_130', 'prsconv_131', 'prsconv_132', 'prsconv_133', 'prsconv_135', 'prsconv_138', 'prsadj_26', 'prsadj_27', 'prsadj_28', 'prsadj_29', 'prsadj_30', 'prsadj_31', 'prsadj_32', 'prsadj_33', 'prsadj_34', 'prsadj_35', 'prsadj_36', 'prsadj_37', 'prsadj_38', 'prsadj_40', 'prsadj_68', 'prsadj_70', 'prsadj_71', 'prsadj_72', 'prsadj_73', 'prsadj_74', 'prsadj_75', 'prsadj_77', 'prsadj_78', 'prsadj_79', 'prsadj_80', 'prsadj_81', 'prsadj_82', 'prsadj_83', 'prsadj_84', 'prsadj_86', 'prsadj_89', 'prsadj_117', 'prsadj_119', 'prsadj_120', 'prsadj_121', 'prsadj_122', 'prsadj_123', 'prsadj_124', 'prsadj_126', 'prsadj_127', 'prsadj_128', 'prsadj_129', 'prsadj_130', 'prsadj_131', 'prsadj_132', 'prsadj_133', 'prsadj_135', 'prsadj_138']\n"
     ]
    }
   ],
   "source": [
    "print(columns)"
   ]
  },
  {
   "cell_type": "code",
   "execution_count": 95,
   "metadata": {},
   "outputs": [],
   "source": [
    "main_df['M1tot'] = main_df[columns].sum(axis=1)"
   ]
  },
  {
   "cell_type": "code",
   "execution_count": 96,
   "metadata": {},
   "outputs": [
    {
     "data": {
      "text/plain": [
       "0"
      ]
     },
     "execution_count": 96,
     "metadata": {},
     "output_type": "execute_result"
    }
   ],
   "source": [
    "main_df['M1tot'].isna().sum()"
   ]
  },
  {
   "cell_type": "code",
   "execution_count": 98,
   "metadata": {},
   "outputs": [
    {
     "name": "stdout",
     "output_type": "stream",
     "text": [
      "['prsconv_87', 'prsconv_88', 'prsconv_136', 'prsconv_137', 'prsadj_88', 'prsadj_87', 'prsadj_136', 'prsadj_137']\n",
      "8\n"
     ]
    }
   ],
   "source": [
    "# \"Total Prior M-2 Conv/Adj\"\n",
    "\n",
    "columns = 'prsconv_87 prsconv_88 prsconv_136 prsconv_137 prsadj_88 prsadj_87 prsadj_136 prsadj_137'.split(' ')\n",
    "print(columns)\n",
    "print(len(columns))"
   ]
  },
  {
   "cell_type": "code",
   "execution_count": 99,
   "metadata": {},
   "outputs": [],
   "source": [
    "main_df['M2tot'] = main_df[columns].sum(axis=1)"
   ]
  },
  {
   "cell_type": "code",
   "execution_count": 100,
   "metadata": {},
   "outputs": [
    {
     "data": {
      "text/plain": [
       "0"
      ]
     },
     "execution_count": 100,
     "metadata": {},
     "output_type": "execute_result"
    }
   ],
   "source": [
    "main_df['M2tot'].isna().sum()"
   ]
  },
  {
   "cell_type": "code",
   "execution_count": 101,
   "metadata": {},
   "outputs": [],
   "source": [
    "# \"Total Prior F1/F2 Conv/Adj\"\n",
    "main_df['F1F2'] = main_df['F1tot'] + main_df['F2tot']"
   ]
  },
  {
   "cell_type": "code",
   "execution_count": 102,
   "metadata": {},
   "outputs": [
    {
     "data": {
      "text/plain": [
       "0"
      ]
     },
     "execution_count": 102,
     "metadata": {},
     "output_type": "execute_result"
    }
   ],
   "source": [
    "main_df['F1F2'].isna().sum()"
   ]
  },
  {
   "cell_type": "markdown",
   "metadata": {},
   "source": [
    "##### 8th edition PRS categories"
   ]
  },
  {
   "cell_type": "markdown",
   "metadata": {},
   "source": [
    "\"mostserious\" score categories:   \n",
    "1: \"F1\"  \n",
    "2: \"F2\"  \n",
    "3: \"F3\"  \n",
    "4: \"M1\"   \n",
    "5: \"M2\"  \n",
    "6: \"Other Misd\"   \n",
    "7: \"True Zero\" "
   ]
  },
  {
   "cell_type": "code",
   "execution_count": 107,
   "metadata": {},
   "outputs": [],
   "source": [
    "main_df['mostserious'] = np.nan"
   ]
  },
  {
   "cell_type": "code",
   "execution_count": 121,
   "metadata": {},
   "outputs": [],
   "source": [
    "mask1 = main_df['F1tot'] > 0\n",
    "\n",
    "main_df.loc[mask1, 'mostserious'] = 1"
   ]
  },
  {
   "cell_type": "code",
   "execution_count": 109,
   "metadata": {},
   "outputs": [],
   "source": [
    "mask1 = main_df['F2tot'] > 0\n",
    "mask2 = main_df['F1tot'] == 0\n",
    "\n",
    "main_df.loc[mask1 & mask2, 'mostserious'] = 2"
   ]
  },
  {
   "cell_type": "code",
   "execution_count": 110,
   "metadata": {},
   "outputs": [],
   "source": [
    "mask1 = main_df['F3tot'] > 0\n",
    "mask2 = main_df['F1tot'] == 0\n",
    "mask3 = main_df['F2tot'] == 0\n",
    "\n",
    "main_df.loc[mask1 & mask2 & mask3, 'mostserious'] = 3"
   ]
  },
  {
   "cell_type": "code",
   "execution_count": 111,
   "metadata": {},
   "outputs": [],
   "source": [
    "mask1 = main_df['M1tot'] > 0\n",
    "mask2 = main_df['F1tot'] == 0\n",
    "mask3 = main_df['F2tot'] == 0\n",
    "mask4 = main_df['F3tot'] == 0\n",
    "\n",
    "main_df.loc[mask1 & mask2 & mask3 & mask4, 'mostserious'] = 4"
   ]
  },
  {
   "cell_type": "code",
   "execution_count": 112,
   "metadata": {},
   "outputs": [],
   "source": [
    "mask1 = main_df['M2tot'] > 0\n",
    "mask2 = main_df['F1tot'] == 0\n",
    "mask3 = main_df['F2tot'] == 0\n",
    "mask4 = main_df['F3tot'] == 0\n",
    "mask5 = main_df['M1tot'] == 0\n",
    "\n",
    "main_df.loc[mask1 & mask2 & mask3 & mask4 & mask5, 'mostserious'] = 5"
   ]
  },
  {
   "cell_type": "code",
   "execution_count": 113,
   "metadata": {},
   "outputs": [],
   "source": [
    "mask1 = main_df['prs_other_misd'] > 0\n",
    "mask2 = main_df['F1tot'] == 0\n",
    "mask3 = main_df['F2tot'] == 0\n",
    "mask4 = main_df['F3tot'] == 0\n",
    "mask5 = main_df['M1tot'] == 0\n",
    "mask6 = main_df['M2tot'] == 0\n",
    "\n",
    "main_df.loc[mask1 & mask2 & mask3 & mask4 & mask5 & mask6, 'mostserious'] = 6"
   ]
  },
  {
   "cell_type": "code",
   "execution_count": 114,
   "metadata": {},
   "outputs": [],
   "source": [
    "mask1 = main_df['prs_other_misd'] == 0\n",
    "mask2 = main_df['F1tot'] == 0\n",
    "mask3 = main_df['F2tot'] == 0\n",
    "mask4 = main_df['F3tot'] == 0\n",
    "mask5 = main_df['M1tot'] == 0\n",
    "mask6 = main_df['M2tot'] == 0\n",
    "\n",
    "main_df.loc[mask1 & mask2 & mask3 & mask4 & mask5 & mask6, 'mostserious'] = 7"
   ]
  },
  {
   "cell_type": "code",
   "execution_count": 122,
   "metadata": {},
   "outputs": [
    {
     "data": {
      "text/plain": [
       "1.0     243348\n",
       "2.0     198950\n",
       "3.0     460184\n",
       "4.0      66433\n",
       "5.0      45421\n",
       "6.0     491685\n",
       "7.0    1087615\n",
       "Name: mostserious, dtype: int64"
      ]
     },
     "execution_count": 122,
     "metadata": {},
     "output_type": "execute_result"
    }
   ],
   "source": [
    "main_df['mostserious'].value_counts().sort_index()"
   ]
  },
  {
   "cell_type": "code",
   "execution_count": 124,
   "metadata": {},
   "outputs": [
    {
     "data": {
      "text/plain": [
       "0"
      ]
     },
     "execution_count": 124,
     "metadata": {},
     "output_type": "execute_result"
    }
   ],
   "source": [
    "main_df['mostserious'].isna().sum()"
   ]
  },
  {
   "cell_type": "markdown",
   "metadata": {},
   "source": [
    "##### Create PRS 8 scores\n",
    "\n",
    "Score categories:  \n",
    "1: \"Zero\"   \n",
    "2: \"Low\"   \n",
    "3: \"Medium\"  \n",
    "4: \"High\" (includes REVOC)"
   ]
  },
  {
   "cell_type": "code",
   "execution_count": 125,
   "metadata": {},
   "outputs": [],
   "source": [
    "# PRS scores\n",
    "\n",
    "main_df['prs8'] = np.nan"
   ]
  },
  {
   "cell_type": "code",
   "execution_count": 126,
   "metadata": {},
   "outputs": [],
   "source": [
    "mask1 = main_df['mostserious'] == 7\n",
    "\n",
    "main_df.loc[mask1, 'prs8'] = 1"
   ]
  },
  {
   "cell_type": "code",
   "execution_count": 127,
   "metadata": {},
   "outputs": [],
   "source": [
    "mask1 = main_df['mostserious'] == 6\n",
    "mask2 = main_df['mostserious'] == 5\n",
    "\n",
    "main_df.loc[mask1 | mask2, 'prs8'] = 2"
   ]
  },
  {
   "cell_type": "code",
   "execution_count": 128,
   "metadata": {},
   "outputs": [],
   "source": [
    "mask1 = main_df['mostserious'] == 4\n",
    "mask2 = main_df['M1tot'] == 1\n",
    "\n",
    "main_df.loc[mask1 & mask2, 'prs8'] = 2"
   ]
  },
  {
   "cell_type": "code",
   "execution_count": 129,
   "metadata": {},
   "outputs": [],
   "source": [
    "mask1 = main_df['mostserious'] == 1\n",
    "mask2 = main_df['F1F2'] == 1\n",
    "mask3 = main_df['mostserious'] == 2\n",
    "mask4 = main_df['F1F2'] == 1\n",
    "\n",
    "main_df.loc[(mask1 & mask2) | (mask3 & mask4), 'prs8'] = 3"
   ]
  },
  {
   "cell_type": "code",
   "execution_count": 130,
   "metadata": {},
   "outputs": [],
   "source": [
    "mask1 = main_df['mostserious'] == 3\n",
    "mask2 = main_df['mostserious'] == 4\n",
    "mask3 = main_df['M1tot'] > 1\n",
    "\n",
    "main_df.loc[mask1 | (mask2 & mask3), 'prs8'] = 3"
   ]
  },
  {
   "cell_type": "code",
   "execution_count": 131,
   "metadata": {},
   "outputs": [],
   "source": [
    "mask1 = main_df['mostserious'] == 1\n",
    "mask2 = main_df['F1F2'] > 1\n",
    "mask3 = main_df['mostserious'] == 2\n",
    "mask4 = main_df['F1F2'] > 1\n",
    "\n",
    "main_df.loc[(mask1 & mask2) | (mask3 & mask4), 'prs8'] = 4"
   ]
  },
  {
   "cell_type": "code",
   "execution_count": 132,
   "metadata": {},
   "outputs": [
    {
     "data": {
      "text/plain": [
       "0"
      ]
     },
     "execution_count": 132,
     "metadata": {},
     "output_type": "execute_result"
    }
   ],
   "source": [
    "main_df['prs8'].isna().sum()"
   ]
  },
  {
   "cell_type": "markdown",
   "metadata": {},
   "source": [
    "At this point, I do not replace prs8 as 5 for the REVOC category, as our subsequent analysis will combine REVOC and RFEL anyways. "
   ]
  },
  {
   "cell_type": "markdown",
   "metadata": {},
   "source": [
    "However, there are 10 rows (5 people) who have a current PRS of REVOC but their prs8 is not the highest category of 4. To remain consistent with the STATA code file, we will re-code these as prs8 == 4"
   ]
  },
  {
   "cell_type": "code",
   "execution_count": 137,
   "metadata": {},
   "outputs": [
    {
     "data": {
      "text/html": [
       "<div>\n",
       "<style scoped>\n",
       "    .dataframe tbody tr th:only-of-type {\n",
       "        vertical-align: middle;\n",
       "    }\n",
       "\n",
       "    .dataframe tbody tr th {\n",
       "        vertical-align: top;\n",
       "    }\n",
       "\n",
       "    .dataframe thead th {\n",
       "        text-align: right;\n",
       "    }\n",
       "</style>\n",
       "<table border=\"1\" class=\"dataframe\">\n",
       "  <thead>\n",
       "    <tr style=\"text-align: right;\">\n",
       "      <th></th>\n",
       "      <th>jpr_id</th>\n",
       "      <th>id_variable</th>\n",
       "      <th>mostserious</th>\n",
       "      <th>prs8</th>\n",
       "    </tr>\n",
       "  </thead>\n",
       "  <tbody>\n",
       "    <tr>\n",
       "      <th>10296</th>\n",
       "      <td>624566</td>\n",
       "      <td>1204940</td>\n",
       "      <td>7.0</td>\n",
       "      <td>1.0</td>\n",
       "    </tr>\n",
       "    <tr>\n",
       "      <th>201857</th>\n",
       "      <td>2739220</td>\n",
       "      <td>1398299</td>\n",
       "      <td>7.0</td>\n",
       "      <td>1.0</td>\n",
       "    </tr>\n",
       "    <tr>\n",
       "      <th>201858</th>\n",
       "      <td>2739220</td>\n",
       "      <td>1398299</td>\n",
       "      <td>7.0</td>\n",
       "      <td>1.0</td>\n",
       "    </tr>\n",
       "    <tr>\n",
       "      <th>282952</th>\n",
       "      <td>4999177</td>\n",
       "      <td>1030140</td>\n",
       "      <td>7.0</td>\n",
       "      <td>1.0</td>\n",
       "    </tr>\n",
       "    <tr>\n",
       "      <th>453872</th>\n",
       "      <td>92371</td>\n",
       "      <td>1913854</td>\n",
       "      <td>7.0</td>\n",
       "      <td>1.0</td>\n",
       "    </tr>\n",
       "    <tr>\n",
       "      <th>453873</th>\n",
       "      <td>92371</td>\n",
       "      <td>1913854</td>\n",
       "      <td>7.0</td>\n",
       "      <td>1.0</td>\n",
       "    </tr>\n",
       "    <tr>\n",
       "      <th>486545</th>\n",
       "      <td>40108</td>\n",
       "      <td>1619954</td>\n",
       "      <td>7.0</td>\n",
       "      <td>1.0</td>\n",
       "    </tr>\n",
       "    <tr>\n",
       "      <th>486546</th>\n",
       "      <td>40108</td>\n",
       "      <td>1619954</td>\n",
       "      <td>7.0</td>\n",
       "      <td>1.0</td>\n",
       "    </tr>\n",
       "    <tr>\n",
       "      <th>486547</th>\n",
       "      <td>40108</td>\n",
       "      <td>1619954</td>\n",
       "      <td>7.0</td>\n",
       "      <td>1.0</td>\n",
       "    </tr>\n",
       "    <tr>\n",
       "      <th>486548</th>\n",
       "      <td>40108</td>\n",
       "      <td>1619954</td>\n",
       "      <td>7.0</td>\n",
       "      <td>1.0</td>\n",
       "    </tr>\n",
       "  </tbody>\n",
       "</table>\n",
       "</div>"
      ],
      "text/plain": [
       "         jpr_id  id_variable  mostserious  prs8\n",
       "10296    624566      1204940          7.0   1.0\n",
       "201857  2739220      1398299          7.0   1.0\n",
       "201858  2739220      1398299          7.0   1.0\n",
       "282952  4999177      1030140          7.0   1.0\n",
       "453872    92371      1913854          7.0   1.0\n",
       "453873    92371      1913854          7.0   1.0\n",
       "486545    40108      1619954          7.0   1.0\n",
       "486546    40108      1619954          7.0   1.0\n",
       "486547    40108      1619954          7.0   1.0\n",
       "486548    40108      1619954          7.0   1.0"
      ]
     },
     "execution_count": 137,
     "metadata": {},
     "output_type": "execute_result"
    }
   ],
   "source": [
    "main_df[(main_df['prs'].str.upper() == 'REVOC') & (main_df['prs8']!=4)][['jpr_id', 'id_variable', 'mostserious', 'prs8']]"
   ]
  },
  {
   "cell_type": "code",
   "execution_count": 138,
   "metadata": {},
   "outputs": [],
   "source": [
    "main_df.loc[(main_df['prs'].str.upper() == 'REVOC') & (main_df['prs8']!=4), 'prs8'] = 4"
   ]
  },
  {
   "cell_type": "markdown",
   "metadata": {},
   "source": [
    "##### output to dataset"
   ]
  },
  {
   "cell_type": "code",
   "execution_count": 198,
   "metadata": {},
   "outputs": [],
   "source": [
    "all_cols = set(all_cols) - set([i.upper() for i in prsconv])\n",
    "all_cols = all_cols - set([i.upper() for i in prsadj])"
   ]
  },
  {
   "cell_type": "code",
   "execution_count": 199,
   "metadata": {},
   "outputs": [],
   "source": [
    "all_cols = list(all_cols)\n",
    "all_cols += ['PRS8', 'F1TOT', 'F2TOT', 'F3TOT', 'M1TOT', 'M2TOT', 'F1F2', 'MOSTSERIOUS']"
   ]
  },
  {
   "cell_type": "code",
   "execution_count": 200,
   "metadata": {},
   "outputs": [
    {
     "name": "stdout",
     "output_type": "stream",
     "text": [
      "87\n",
      "['INC_END', 'MOSTSERIOUS', 'MND_MINIMUM', 'OFF_AGE', 'PRS_MANUAL', 'JPS_DRUG_DEPENDENT', 'INC_TYPE', 'JPO_ID', 'PROB_SANCTION_EXISTS', 'JPR_ID', 'DOSAGE', 'IP_START', 'GUILTY_NO_PENALTY', 'OFN_LABEL', 'STAT_MIN', 'F2TOT', 'DOB2', 'SGR_LVL', 'OFF_SEX', 'F3TOT', 'DOS', 'F1TOT', 'JP_MIN', 'INC_RELATIONSHIP', 'OFN_TITLE', 'OGS', 'JMIN', 'F1F2', 'REASON_THREE', 'JPR_LASTUPDATE', 'OFN_COUNT', 'MS_OFFBODY', 'OFN_GRADE', 'PCS_OFF_ID', 'JPS_DA_EVAL', 'SGR_LVL_OGS_PRS', 'INCMAX', 'REASON_ONE', 'M1TOT', 'PMIN', 'JPS_SVP', 'PRS_OTHER_MISD', 'DOF', 'GRADE', 'GLEPOCH', 'PRS8', 'IP_SANCTION_EXISTS', 'INC_RELATEDTO', 'IP_END', 'INC_RELATEDOTN', 'PRS_LAPSING', 'SIP', 'CONFORMITY', 'INC_SANCTION_EXISTS', 'DOB', 'MS_OFFINJP', 'INC_START', 'CONFORM', 'OFF_RACE', 'PRS', 'LABEL', 'PRS_NONLAPSING', 'JP_CC_BUG', 'MORE_REASONS', 'MS_SANCTION', 'STATE_IP', 'MS_SENTJP', 'OFN_LIFE_DEATH', 'OTN', 'DISPOSITION', 'COUNTY', 'DOFAGE', 'ID_VARIABLE', 'OFF_CRIMEFREE', 'REASON_TWO', 'INCMIN', 'JP_LIFE_DEATH', 'M2TOT', 'GUIDELINE_RANGE', 'PRS8', 'F1TOT', 'F2TOT', 'F3TOT', 'M1TOT', 'M2TOT', 'F1F2', 'MOSTSERIOUS']\n"
     ]
    }
   ],
   "source": [
    "print(len(all_cols))\n",
    "print(all_cols)"
   ]
  },
  {
   "cell_type": "code",
   "execution_count": 202,
   "metadata": {},
   "outputs": [],
   "source": [
    "main_df.rename(columns = str.upper, inplace=True)"
   ]
  },
  {
   "cell_type": "code",
   "execution_count": 203,
   "metadata": {},
   "outputs": [],
   "source": [
    "trimmed = main_df[all_cols]"
   ]
  },
  {
   "cell_type": "code",
   "execution_count": 204,
   "metadata": {},
   "outputs": [],
   "source": [
    "trimmed.to_csv('../../../Project/data/trimmed_w_prs8.csv')"
   ]
  },
  {
   "cell_type": "code",
   "execution_count": null,
   "metadata": {},
   "outputs": [],
   "source": []
  }
 ],
 "metadata": {
  "interpreter": {
   "hash": "afec748c810c07fdf21e149c8de6953906908fb5121a9cf6f8c7e3c440df79ae"
  },
  "kernelspec": {
   "display_name": "Python 3.9.7 ('pa_sentencing')",
   "language": "python",
   "name": "python3"
  },
  "language_info": {
   "codemirror_mode": {
    "name": "ipython",
    "version": 3
   },
   "file_extension": ".py",
   "mimetype": "text/x-python",
   "name": "python",
   "nbconvert_exporter": "python",
   "pygments_lexer": "ipython3",
   "version": "3.9.7"
  },
  "orig_nbformat": 4
 },
 "nbformat": 4,
 "nbformat_minor": 2
}
