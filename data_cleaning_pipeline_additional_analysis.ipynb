{
 "cells": [
  {
   "cell_type": "markdown",
   "metadata": {},
   "source": [
    "# Load Data"
   ]
  },
  {
   "cell_type": "code",
   "execution_count": 1,
   "metadata": {},
   "outputs": [],
   "source": [
    "#this jupyter notebook is essentially the same as the \"recidivism-check\" notebook, just cleaned up a bit (hence the name)\n",
    "#import required libraries\n",
    "import os\n",
    "import pandas as pd\n",
    "import numpy as np\n",
    "import datetime\n",
    "\n",
    "#get the folder path for this data -- EDIT HERE\n",
    "pa_sentencing_path = os.path.dirname(os.path.dirname(os.path.dirname(os.getcwd())))"
   ]
  },
  {
   "cell_type": "markdown",
   "metadata": {},
   "source": [
    "#### **Note About Reading in the Data:** You may need to edit the last line of code in the code chunk above and the code in the code chunk below to navigate to the correct folder where the data is stored for you. These lines of code were based on the way that the data was stored for our purposes but this may be different for you."
   ]
  },
  {
   "cell_type": "code",
   "execution_count": 2,
   "metadata": {},
   "outputs": [
    {
     "name": "stderr",
     "output_type": "stream",
     "text": [
      "C:\\Users\\lakna\\anaconda3\\lib\\site-packages\\IPython\\core\\interactiveshell.py:3229: DtypeWarning: Columns (6,16,18,30,31,33,49,59,64,68,69,75,76,78,92) have mixed types.Specify dtype option on import or set low_memory=False.\n",
      "  interactivity=interactivity, compiler=compiler, result=result)\n"
     ]
    }
   ],
   "source": [
    "#read in trimmed version WITH 8th edition PRS score implementation -- EDIT HERE\n",
    "psc_trimmed = pd.read_csv(os.path.join(pa_sentencing_path, \"Project\", \"data\", \"PSC8_CRIMECAT_MERGED_w_prs8.csv\"))\n"
   ]
  },
  {
   "cell_type": "markdown",
   "metadata": {},
   "source": [
    "# Description of the Dataset"
   ]
  },
  {
   "cell_type": "markdown",
   "metadata": {},
   "source": [
    "Because the original dataset provided by the PA Sentencing Commission included **547** columns, and took anywhere from 20-30 minutes to load, we selected the columns of the original dataset that we most relevant for our analysis and created a new, \"trimmed\" dataset. This new trimmed dataset (loaded in above) has **93** columns. In the next cell, we display the names of the columns in the dataset."
   ]
  },
  {
   "cell_type": "code",
   "execution_count": 5,
   "metadata": {},
   "outputs": [
    {
     "name": "stdout",
     "output_type": "stream",
     "text": [
      "The names of the columns in the trimmed dataset are: \n",
      " ['Unnamed: 0', 'Unnamed: 0.1', 'INC_END', 'MOSTSERIOUS', 'MND_MINIMUM', 'OFF_AGE', 'PRS_MANUAL', 'JPS_DRUG_DEPENDENT', 'INC_TYPE', 'JPO_ID', 'PROB_SANCTION_EXISTS', 'JPR_ID', 'DOSAGE', 'IP_START', 'GUILTY_NO_PENALTY', 'OFN_LABEL', 'STAT_MIN', 'F2TOT', 'DOB2', 'SGR_LVL', 'OFF_SEX', 'F3TOT', 'DOS', 'F1TOT', 'JP_MIN', 'INC_RELATIONSHIP', 'OFN_TITLE', 'OGS', 'JMIN', 'F1F2', 'REASON_THREE', 'JPR_LASTUPDATE', 'OFN_COUNT', 'MS_OFFBODY', 'OFN_GRADE', 'PCS_OFF_ID', 'JPS_DA_EVAL', 'SGR_LVL_OGS_PRS', 'INCMAX', 'REASON_ONE', 'M1TOT', 'PMIN', 'JPS_SVP', 'PRS_OTHER_MISD', 'DOF', 'GRADE', 'GLEPOCH', 'PRS8', 'IP_SANCTION_EXISTS', 'INC_RELATEDTO', 'IP_END', 'INC_RELATEDOTN', 'PRS_LAPSING', 'SIP', 'CONFORMITY', 'INC_SANCTION_EXISTS', 'DOB', 'MS_OFFINJP', 'INC_START', 'CONFORM', 'OFF_RACE', 'PRS', 'LABEL', 'PRS_NONLAPSING', 'JP_CC_BUG', 'MORE_REASONS', 'MS_SANCTION', 'STATE_IP', 'MS_SENTJP', 'OFN_LIFE_DEATH', 'OTN', 'DISPOSITION', 'COUNTY', 'DOFAGE', 'ID_VARIABLE', 'OFF_CRIMEFREE', 'REASON_TWO', 'INCMIN', 'JP_LIFE_DEATH', 'M2TOT', 'GUIDELINE_RANGE', 'PRS8.1', 'F1TOT.1', 'F2TOT.1', 'F3TOT.1', 'M1TOT.1', 'M2TOT.1', 'F1F2.1', 'MOSTSERIOUS.1', 'OFN_TITLE.1', 'OFN_SECTION', 'OFN_SUBSECTION', 'JPS_WalshActAssessment']\n"
     ]
    }
   ],
   "source": [
    "print(\"The names of the columns in the trimmed dataset are: \\n {}\".format(psc_trimmed.columns.tolist()))"
   ]
  },
  {
   "cell_type": "code",
   "execution_count": 6,
   "metadata": {},
   "outputs": [],
   "source": [
    "df = psc_trimmed.copy()  #copy the trimmed dataset into a new dataframe\n",
    "\n",
    "df.columns = df.columns.str.upper() #change all column names to uppercase"
   ]
  },
  {
   "cell_type": "code",
   "execution_count": 7,
   "metadata": {},
   "outputs": [
    {
     "data": {
      "text/html": [
       "<div>\n",
       "<style scoped>\n",
       "    .dataframe tbody tr th:only-of-type {\n",
       "        vertical-align: middle;\n",
       "    }\n",
       "\n",
       "    .dataframe tbody tr th {\n",
       "        vertical-align: top;\n",
       "    }\n",
       "\n",
       "    .dataframe thead th {\n",
       "        text-align: right;\n",
       "    }\n",
       "</style>\n",
       "<table border=\"1\" class=\"dataframe\">\n",
       "  <thead>\n",
       "    <tr style=\"text-align: right;\">\n",
       "      <th></th>\n",
       "      <th>UNNAMED: 0</th>\n",
       "      <th>UNNAMED: 0.1</th>\n",
       "      <th>INC_END</th>\n",
       "      <th>MOSTSERIOUS</th>\n",
       "      <th>MND_MINIMUM</th>\n",
       "      <th>OFF_AGE</th>\n",
       "      <th>PRS_MANUAL</th>\n",
       "      <th>JPS_DRUG_DEPENDENT</th>\n",
       "      <th>INC_TYPE</th>\n",
       "      <th>JPO_ID</th>\n",
       "      <th>...</th>\n",
       "      <th>F2TOT.1</th>\n",
       "      <th>F3TOT.1</th>\n",
       "      <th>M1TOT.1</th>\n",
       "      <th>M2TOT.1</th>\n",
       "      <th>F1F2.1</th>\n",
       "      <th>MOSTSERIOUS.1</th>\n",
       "      <th>OFN_TITLE.1</th>\n",
       "      <th>OFN_SECTION</th>\n",
       "      <th>OFN_SUBSECTION</th>\n",
       "      <th>JPS_WALSHACTASSESSMENT</th>\n",
       "    </tr>\n",
       "  </thead>\n",
       "  <tbody>\n",
       "    <tr>\n",
       "      <th>0</th>\n",
       "      <td>0</td>\n",
       "      <td>0</td>\n",
       "      <td>NaN</td>\n",
       "      <td>7.0</td>\n",
       "      <td>NaN</td>\n",
       "      <td>36.0</td>\n",
       "      <td>NaN</td>\n",
       "      <td>N</td>\n",
       "      <td>NaN</td>\n",
       "      <td>938145</td>\n",
       "      <td>...</td>\n",
       "      <td>0.0</td>\n",
       "      <td>0.0</td>\n",
       "      <td>0.0</td>\n",
       "      <td>0.0</td>\n",
       "      <td>0.0</td>\n",
       "      <td>7.0</td>\n",
       "      <td>18</td>\n",
       "      <td>6301</td>\n",
       "      <td>(a)(1)*</td>\n",
       "      <td>NaN</td>\n",
       "    </tr>\n",
       "    <tr>\n",
       "      <th>1</th>\n",
       "      <td>1</td>\n",
       "      <td>1</td>\n",
       "      <td>02 Dec 02</td>\n",
       "      <td>7.0</td>\n",
       "      <td>48 Hours</td>\n",
       "      <td>18.0</td>\n",
       "      <td>NaN</td>\n",
       "      <td>N</td>\n",
       "      <td>County Facility</td>\n",
       "      <td>942201</td>\n",
       "      <td>...</td>\n",
       "      <td>0.0</td>\n",
       "      <td>0.0</td>\n",
       "      <td>0.0</td>\n",
       "      <td>0.0</td>\n",
       "      <td>0.0</td>\n",
       "      <td>7.0</td>\n",
       "      <td>75</td>\n",
       "      <td>3731</td>\n",
       "      <td>NaN</td>\n",
       "      <td>NaN</td>\n",
       "    </tr>\n",
       "    <tr>\n",
       "      <th>2</th>\n",
       "      <td>2</td>\n",
       "      <td>2</td>\n",
       "      <td>27 Apr 01</td>\n",
       "      <td>7.0</td>\n",
       "      <td>48 Hours</td>\n",
       "      <td>36.0</td>\n",
       "      <td>NaN</td>\n",
       "      <td>N</td>\n",
       "      <td>County Facility</td>\n",
       "      <td>971901</td>\n",
       "      <td>...</td>\n",
       "      <td>0.0</td>\n",
       "      <td>0.0</td>\n",
       "      <td>0.0</td>\n",
       "      <td>0.0</td>\n",
       "      <td>0.0</td>\n",
       "      <td>7.0</td>\n",
       "      <td>75</td>\n",
       "      <td>3731</td>\n",
       "      <td>NaN</td>\n",
       "      <td>NaN</td>\n",
       "    </tr>\n",
       "    <tr>\n",
       "      <th>3</th>\n",
       "      <td>3</td>\n",
       "      <td>3</td>\n",
       "      <td>NaN</td>\n",
       "      <td>7.0</td>\n",
       "      <td>NaN</td>\n",
       "      <td>22.0</td>\n",
       "      <td>NaN</td>\n",
       "      <td>N</td>\n",
       "      <td>NaN</td>\n",
       "      <td>919472</td>\n",
       "      <td>...</td>\n",
       "      <td>0.0</td>\n",
       "      <td>0.0</td>\n",
       "      <td>0.0</td>\n",
       "      <td>0.0</td>\n",
       "      <td>0.0</td>\n",
       "      <td>7.0</td>\n",
       "      <td>18</td>\n",
       "      <td>2701</td>\n",
       "      <td>(b)</td>\n",
       "      <td>NaN</td>\n",
       "    </tr>\n",
       "    <tr>\n",
       "      <th>4</th>\n",
       "      <td>4</td>\n",
       "      <td>4</td>\n",
       "      <td>01 Jan 03</td>\n",
       "      <td>6.0</td>\n",
       "      <td>30 Days</td>\n",
       "      <td>40.0</td>\n",
       "      <td>NaN</td>\n",
       "      <td>N</td>\n",
       "      <td>County Facility</td>\n",
       "      <td>870391</td>\n",
       "      <td>...</td>\n",
       "      <td>0.0</td>\n",
       "      <td>0.0</td>\n",
       "      <td>0.0</td>\n",
       "      <td>0.0</td>\n",
       "      <td>0.0</td>\n",
       "      <td>6.0</td>\n",
       "      <td>75</td>\n",
       "      <td>3731</td>\n",
       "      <td>NaN</td>\n",
       "      <td>NaN</td>\n",
       "    </tr>\n",
       "  </tbody>\n",
       "</table>\n",
       "<p>5 rows × 93 columns</p>\n",
       "</div>"
      ],
      "text/plain": [
       "   UNNAMED: 0  UNNAMED: 0.1    INC_END  MOSTSERIOUS MND_MINIMUM  OFF_AGE  \\\n",
       "0           0             0        NaN          7.0         NaN     36.0   \n",
       "1           1             1  02 Dec 02          7.0    48 Hours     18.0   \n",
       "2           2             2  27 Apr 01          7.0    48 Hours     36.0   \n",
       "3           3             3        NaN          7.0         NaN     22.0   \n",
       "4           4             4  01 Jan 03          6.0     30 Days     40.0   \n",
       "\n",
       "  PRS_MANUAL JPS_DRUG_DEPENDENT         INC_TYPE  JPO_ID  ... F2TOT.1  \\\n",
       "0        NaN                  N              NaN  938145  ...     0.0   \n",
       "1        NaN                  N  County Facility  942201  ...     0.0   \n",
       "2        NaN                  N  County Facility  971901  ...     0.0   \n",
       "3        NaN                  N              NaN  919472  ...     0.0   \n",
       "4        NaN                  N  County Facility  870391  ...     0.0   \n",
       "\n",
       "   F3TOT.1  M1TOT.1 M2TOT.1 F1F2.1 MOSTSERIOUS.1 OFN_TITLE.1  OFN_SECTION  \\\n",
       "0      0.0      0.0     0.0    0.0           7.0          18         6301   \n",
       "1      0.0      0.0     0.0    0.0           7.0          75         3731   \n",
       "2      0.0      0.0     0.0    0.0           7.0          75         3731   \n",
       "3      0.0      0.0     0.0    0.0           7.0          18         2701   \n",
       "4      0.0      0.0     0.0    0.0           6.0          75         3731   \n",
       "\n",
       "  OFN_SUBSECTION JPS_WALSHACTASSESSMENT  \n",
       "0        (a)(1)*                    NaN  \n",
       "1            NaN                    NaN  \n",
       "2            NaN                    NaN  \n",
       "3            (b)                    NaN  \n",
       "4            NaN                    NaN  \n",
       "\n",
       "[5 rows x 93 columns]"
      ]
     },
     "execution_count": 7,
     "metadata": {},
     "output_type": "execute_result"
    }
   ],
   "source": [
    "df.head() #inspect the dataset"
   ]
  },
  {
   "cell_type": "markdown",
   "metadata": {},
   "source": [
    "# Table of Contents  \n",
    "\n",
    "1.  [Data Cleaning](#data_cleaning)\n",
    "    1. Convert Dates \n",
    "    2. Combine REVOC and RFEL Categories\n",
    "    3. Clean DOF\n",
    "    4. Clean Missing PRS Scores in the 7th Edition\n",
    "    5. Clean Missing PRS Scores in the 8th Edition\n",
    "    6. Clean JP_CC_BUG Issue\n",
    "2.  [Adding New Columns](#new_columns)\n",
    "    1. Crime Categories\n",
    "    2. Handing Philadelphia Cases Vs. Other Counties\n",
    "3.  [At-Risk Date Calculation](#at_risk)\n",
    "    1. Group Data at JPR_ID Level\n",
    "        1. Address Mutiple Dates of Sentencing\n",
    "        2. Adjust the ADJ_JPMIN Calculation\n",
    "        3. Create NEW_DOS variable\n",
    "        4. Create NEW_INC_SANCTION_EXISTS variable\n",
    "        5. Aggregate Select Columns at the ID_VARIABLE, JPR_ID LEVEL\n",
    "    2. Group Data at the ID_VARIABLE, DOS LEVEL\n",
    "    3. Implement At-Risk Date Logic\n",
    "4. [Calculate Recidivism](#cal_recid)\n",
    "    1. Populate Next Date of Offense\n",
    "    2. Check for Free Time\n",
    "    3. Calculate Time to Recidivate & 3-Year and 5-Year Recidivism Variables\n",
    "5. [Explort Results to CSV](#export_results)\n",
    "\n"
   ]
  },
  {
   "cell_type": "markdown",
   "metadata": {},
   "source": [
    "# Data Cleaning <a id='data_cleaning'></a>"
   ]
  },
  {
   "cell_type": "markdown",
   "metadata": {},
   "source": [
    "## Convert Dates"
   ]
  },
  {
   "cell_type": "code",
   "execution_count": 8,
   "metadata": {},
   "outputs": [],
   "source": [
    "## Convert Dates#convert date strings to datetime variable\n",
    "df[['DOF','DOS']] = df[['DOF','DOS']].apply(pd.to_datetime,format=\"%d %b %y\")"
   ]
  },
  {
   "cell_type": "code",
   "execution_count": 9,
   "metadata": {},
   "outputs": [],
   "source": [
    "# extracting out the just the year from the date to be used later \n",
    "df['DOF_YEAR'] = pd.DatetimeIndex(df['DOF']).year\n",
    "df['DOS_YEAR'] = pd.DatetimeIndex(df['DOS']).year"
   ]
  },
  {
   "cell_type": "code",
   "execution_count": 10,
   "metadata": {},
   "outputs": [
    {
     "name": "stdout",
     "output_type": "stream",
     "text": [
      "The minimum date of offense in the dataset is: 1984-11-14 00:00:00\n",
      "The maximum date of offense in the dataset is: 2020-05-08 00:00:00\n",
      "The minimum date of sentencing in the dataset is: 2001-01-01 00:00:00\n",
      "The maximum date of sentencing in the dataset is: 2019-12-31 00:00:00\n"
     ]
    }
   ],
   "source": [
    "#checking the range of values for the DOF and DOS variables\n",
    "print(\"The minimum date of offense in the dataset is: {}\".format(df[[\"DOF\"]].min()[0]))\n",
    "print(\"The maximum date of offense in the dataset is: {}\".format(df[[\"DOF\"]].max()[0]))\n",
    "print(\"The minimum date of sentencing in the dataset is: {}\".format(df[[\"DOS\"]].min()[0]))\n",
    "print(\"The maximum date of sentencing in the dataset is: {}\".format(df[[\"DOS\"]].max()[0]))"
   ]
  },
  {
   "cell_type": "markdown",
   "metadata": {},
   "source": [
    "## Combine REVOC into RFEL for 7th Edition PRS Scores"
   ]
  },
  {
   "cell_type": "code",
   "execution_count": 11,
   "metadata": {},
   "outputs": [
    {
     "data": {
      "text/plain": [
       "array(['0', '1', '2', '3', '5', '4', 'RFEL', 'REVOC', 'rfel', 'RFEl', nan,\n",
       "       'Rfel', 'revoc'], dtype=object)"
      ]
     },
     "execution_count": 11,
     "metadata": {},
     "output_type": "execute_result"
    }
   ],
   "source": [
    "# Values before conversion\n",
    "df['PRS'].unique()"
   ]
  },
  {
   "cell_type": "code",
   "execution_count": 12,
   "metadata": {},
   "outputs": [],
   "source": [
    "def refl_combine(x):\n",
    "    if x in ['RFEL', 'REVOC', 'rfel', 'RFEl', 'Rfel', 'revoc']:\n",
    "        return('RFEL/REVOC')\n",
    "    else:\n",
    "        return(x)   "
   ]
  },
  {
   "cell_type": "code",
   "execution_count": 13,
   "metadata": {},
   "outputs": [],
   "source": [
    "df['PRS'] = df['PRS'].apply(refl_combine)"
   ]
  },
  {
   "cell_type": "code",
   "execution_count": 14,
   "metadata": {},
   "outputs": [
    {
     "data": {
      "text/plain": [
       "array([1., 2., 3., 4.])"
      ]
     },
     "execution_count": 14,
     "metadata": {},
     "output_type": "execute_result"
    }
   ],
   "source": [
    "df['PRS8'].unique()"
   ]
  },
  {
   "cell_type": "code",
   "execution_count": 15,
   "metadata": {},
   "outputs": [
    {
     "data": {
      "text/plain": [
       "array(['0', '1', '2', '3', '5', '4', 'RFEL/REVOC', nan], dtype=object)"
      ]
     },
     "execution_count": 15,
     "metadata": {},
     "output_type": "execute_result"
    }
   ],
   "source": [
    "df['PRS'].unique()"
   ]
  },
  {
   "cell_type": "markdown",
   "metadata": {},
   "source": [
    "## Clean DOF\n",
    "\n",
    "Note: group offense by ID_VAR, JPR_ID, MIN(DOF) to get the first DOF associated for a single JPR_ID"
   ]
  },
  {
   "cell_type": "markdown",
   "metadata": {},
   "source": [
    "### Step 1: Get **minimum** value for the DOF across all of the charges associated with **one** JPR_ID, ID VARIABLE COMBO. \n",
    "\n",
    "Note: This is the procedure because we don't wan't to count a DOF as an instance of recidivism if it occurs BEFORE the date of sentencing. Additionally, we group here by id_var and jpr_id because multiple id variables can be associated with one JPR_ID."
   ]
  },
  {
   "cell_type": "code",
   "execution_count": 16,
   "metadata": {},
   "outputs": [],
   "source": [
    "#at the JPR_ID level we only want ONE DOF because becuase we don't want to take into account DOF's that occur\n",
    "#BEFORE the DOS (associated with the JPR_ID) as an instance of recidivism. -- each JPR_ID should have only ONE DOS\n",
    "\n",
    "#here we will group by id_Variable as well as jpr_id\n",
    "df[\"NEW_DOF\"] = df.groupby([\"JPR_ID\", \"ID_VARIABLE\"])[\"DOF\"].transform(\"min\")\n"
   ]
  },
  {
   "cell_type": "code",
   "execution_count": 17,
   "metadata": {},
   "outputs": [
    {
     "data": {
      "text/html": [
       "<div>\n",
       "<style scoped>\n",
       "    .dataframe tbody tr th:only-of-type {\n",
       "        vertical-align: middle;\n",
       "    }\n",
       "\n",
       "    .dataframe tbody tr th {\n",
       "        vertical-align: top;\n",
       "    }\n",
       "\n",
       "    .dataframe thead th {\n",
       "        text-align: right;\n",
       "    }\n",
       "</style>\n",
       "<table border=\"1\" class=\"dataframe\">\n",
       "  <thead>\n",
       "    <tr style=\"text-align: right;\">\n",
       "      <th></th>\n",
       "      <th>JPR_ID</th>\n",
       "      <th>ID_VARIABLE</th>\n",
       "      <th>DOF</th>\n",
       "      <th>NEW_DOF</th>\n",
       "    </tr>\n",
       "  </thead>\n",
       "  <tbody>\n",
       "    <tr>\n",
       "      <th>0</th>\n",
       "      <td>640001</td>\n",
       "      <td>1904581</td>\n",
       "      <td>2000-04-01</td>\n",
       "      <td>2000-04-01</td>\n",
       "    </tr>\n",
       "    <tr>\n",
       "      <th>1</th>\n",
       "      <td>642480</td>\n",
       "      <td>1157226</td>\n",
       "      <td>1999-12-31</td>\n",
       "      <td>1999-12-31</td>\n",
       "    </tr>\n",
       "    <tr>\n",
       "      <th>2</th>\n",
       "      <td>660434</td>\n",
       "      <td>1467650</td>\n",
       "      <td>2000-12-23</td>\n",
       "      <td>2000-12-23</td>\n",
       "    </tr>\n",
       "    <tr>\n",
       "      <th>3</th>\n",
       "      <td>628940</td>\n",
       "      <td>1746031</td>\n",
       "      <td>2000-06-26</td>\n",
       "      <td>2000-06-26</td>\n",
       "    </tr>\n",
       "    <tr>\n",
       "      <th>4</th>\n",
       "      <td>594048</td>\n",
       "      <td>1374131</td>\n",
       "      <td>2000-10-15</td>\n",
       "      <td>2000-10-15</td>\n",
       "    </tr>\n",
       "  </tbody>\n",
       "</table>\n",
       "</div>"
      ],
      "text/plain": [
       "   JPR_ID  ID_VARIABLE        DOF    NEW_DOF\n",
       "0  640001      1904581 2000-04-01 2000-04-01\n",
       "1  642480      1157226 1999-12-31 1999-12-31\n",
       "2  660434      1467650 2000-12-23 2000-12-23\n",
       "3  628940      1746031 2000-06-26 2000-06-26\n",
       "4  594048      1374131 2000-10-15 2000-10-15"
      ]
     },
     "execution_count": 17,
     "metadata": {},
     "output_type": "execute_result"
    }
   ],
   "source": [
    "df.head()[[\"JPR_ID\", \"ID_VARIABLE\",\"DOF\", \"NEW_DOF\"]] #inspect the results"
   ]
  },
  {
   "cell_type": "code",
   "execution_count": 18,
   "metadata": {},
   "outputs": [
    {
     "name": "stdout",
     "output_type": "stream",
     "text": [
      "After cleaning, there are 11,785 (0.454381%) rows with missing DOFs in the dataset.\n"
     ]
    }
   ],
   "source": [
    "dof_missing = df[df['NEW_DOF'].isnull()]\n",
    "\n",
    "percent_missing = len(dof_missing)/len(df)\n",
    "print(\"After cleaning, there are {:,} ({:%}) rows with missing DOFs in the dataset.\".format(len(dof_missing), percent_missing))"
   ]
  },
  {
   "cell_type": "markdown",
   "metadata": {},
   "source": [
    "### Step 2: Subset the data to just include those rows where NEW_DOF <= DOS"
   ]
  },
  {
   "cell_type": "code",
   "execution_count": 19,
   "metadata": {},
   "outputs": [],
   "source": [
    "#make sure the sentencing \n",
    "before_length = len(df)\n",
    "df = df[df.NEW_DOF <= df.DOS] \n",
    "after_length = len(df)\n"
   ]
  },
  {
   "cell_type": "code",
   "execution_count": 20,
   "metadata": {},
   "outputs": [
    {
     "name": "stdout",
     "output_type": "stream",
     "text": [
      "Before DOF <= DOS correction, there were 2,593,636 rows and after cleaning there were 2,581,813 rows. A change of 11,823.\n"
     ]
    }
   ],
   "source": [
    "print(\"Before DOF <= DOS correction, there were {:,} rows and after cleaning there were {:,} rows. A change of {:,}.\".format(before_length, after_length, before_length - after_length))\n"
   ]
  },
  {
   "cell_type": "markdown",
   "metadata": {},
   "source": [
    "## Clean Missing PRS Score in the 7th Edition"
   ]
  },
  {
   "cell_type": "code",
   "execution_count": 21,
   "metadata": {},
   "outputs": [
    {
     "name": "stdout",
     "output_type": "stream",
     "text": [
      "Before PRS correction there were 2,581,813 rows and after cleaning there were 2,581,750 rows. A change of 63 rows and 18 people.\n"
     ]
    }
   ],
   "source": [
    "before_length = len(df)\n",
    "#subset to just the id variables with a PRS score missing\n",
    "id_varswith_prsmissing= set(df[df.PRS.isnull()].ID_VARIABLE)\n",
    "\n",
    "#remove id vars with missing PRS\n",
    "df_prs_notaffected = df[~df.ID_VARIABLE.isin(id_varswith_prsmissing)]\n",
    "\n",
    "#reassign to working dataframe\n",
    "df = df_prs_notaffected \n",
    "\n",
    "after_length = len(df)\n",
    "print(\"Before PRS correction there were {:,} rows and after cleaning there were {:,} rows. A change of {:,} rows and {} people.\".format(before_length, after_length, before_length - after_length, len(id_varswith_prsmissing)))\n"
   ]
  },
  {
   "cell_type": "markdown",
   "metadata": {},
   "source": [
    "## Clean Missing PRS8 (8th Edition Sentencing Guidelines PRS Score) "
   ]
  },
  {
   "cell_type": "code",
   "execution_count": 22,
   "metadata": {},
   "outputs": [
    {
     "name": "stdout",
     "output_type": "stream",
     "text": [
      "Before PRS8 correction there were 2,581,750 rows and after cleaning there were 2,581,750 rows. A change of 0 rows and 0 people.\n"
     ]
    }
   ],
   "source": [
    "before_length = len(df)\n",
    "#subset to just the id variables with a PRS score missing\n",
    "id_varswith_prs8missing= set(df[df.PRS8.isnull()].ID_VARIABLE)\n",
    "\n",
    "#remove id vars with missing PRS\n",
    "df_prs8_notaffected = df[~df.ID_VARIABLE.isin(id_varswith_prs8missing)]\n",
    "\n",
    "#reassign to working dataframe\n",
    "df = df_prs8_notaffected \n",
    "\n",
    "after_length = len(df)\n",
    "print(\"Before PRS8 correction there were {:,} rows and after cleaning there were {:,} rows. A change of {:,} rows and {} people.\".format(before_length, after_length, before_length - after_length, len(id_varswith_prs8missing)))\n"
   ]
  },
  {
   "cell_type": "markdown",
   "metadata": {},
   "source": [
    "## Clean JP CC Bug"
   ]
  },
  {
   "cell_type": "markdown",
   "metadata": {},
   "source": [
    "## Steps followed in cleaning JP_CC Bug\n",
    "1. It is evident that there are JPR_ID's with DOS from 2016 to 2019 that were impacted by the JP_CC_BUG \n",
    "2. The first step was to extract out the ID variables that were impacted out by the bug. \n",
    "3. Next, we removed the Judicial proceedings of these JPR_ID's who had DOS's in 2017,2018, and 2019. However if an ID variable had a sentencing outcome only in 2016 we kept those ID variables since these individuals did not have sentencing in the future, and thus would not be impacted by the software bug"
   ]
  },
  {
   "cell_type": "code",
   "execution_count": 23,
   "metadata": {},
   "outputs": [
    {
     "data": {
      "text/plain": [
       "{2016, 2017, 2018, 2019}"
      ]
     },
     "execution_count": 23,
     "metadata": {},
     "output_type": "execute_result"
    }
   ],
   "source": [
    "#confirming the years that impacted the JP_CC_BUG\n",
    "set(df[df.JP_CC_BUG=='Y'].DOS_YEAR)\n"
   ]
  },
  {
   "cell_type": "code",
   "execution_count": 25,
   "metadata": {},
   "outputs": [],
   "source": [
    "# Obtaining the id variables with jp_bug\n",
    "id_varswith_jpbug= set(df[df.JP_CC_BUG=='Y'].ID_VARIABLE) #pull out both id_variable and DOS"
   ]
  },
  {
   "cell_type": "code",
   "execution_count": 27,
   "metadata": {},
   "outputs": [],
   "source": [
    "# assigning all the rows associated with the jp bugs to a seperate dataframe \n",
    "df_with_jpbug=  df[df.ID_VARIABLE.isin(id_varswith_jpbug)]  #want to remove the charges that come after the DOS associated with the JP_CC_BUG row (want to eliminate the problemative date of sentencing)"
   ]
  },
  {
   "cell_type": "code",
   "execution_count": 28,
   "metadata": {},
   "outputs": [
    {
     "name": "stderr",
     "output_type": "stream",
     "text": [
      "C:\\Users\\lakna\\anaconda3\\lib\\site-packages\\ipykernel_launcher.py:2: UserWarning: Boolean Series key will be reindexed to match DataFrame index.\n",
      "  \n"
     ]
    }
   ],
   "source": [
    "# Removing the JPR'IDS's that have DOS in 2017,2018 and 2019\n",
    "df_jp_bug_cleaned = df_with_jpbug[df.DOS_YEAR<2017]"
   ]
  },
  {
   "cell_type": "code",
   "execution_count": 29,
   "metadata": {},
   "outputs": [],
   "source": [
    "# Isolating the rows associated with id_vars in the original dataframe that is not associated with the bug\n",
    "df_jpbug_notaffected = df[~df.ID_VARIABLE.isin(id_varswith_jpbug)]"
   ]
  },
  {
   "cell_type": "code",
   "execution_count": 31,
   "metadata": {},
   "outputs": [],
   "source": [
    "# Rejoining the rows affected by the JP_CC_bug after cleaning them to the rows not affected by the bug\n",
    "df_cleaned_1 = pd.concat([df_jpbug_notaffected,df_jp_bug_cleaned])  #new working df\n",
    "\n",
    "df = df_cleaned_1"
   ]
  },
  {
   "cell_type": "code",
   "execution_count": 32,
   "metadata": {},
   "outputs": [
    {
     "name": "stdout",
     "output_type": "stream",
     "text": [
      "After the JP_CC_BUG correction there are 2,574,269 rows. \n"
     ]
    }
   ],
   "source": [
    "after_length = len(df)\n",
    "\n",
    "print(\"After the JP_CC_BUG correction there are {:,} rows. \".format(after_length))\n"
   ]
  },
  {
   "cell_type": "markdown",
   "metadata": {},
   "source": [
    "# Adding New Columns <a id='new_columns'></a>"
   ]
  },
  {
   "cell_type": "markdown",
   "metadata": {},
   "source": [
    "## Crime Categories"
   ]
  },
  {
   "cell_type": "code",
   "execution_count": 33,
   "metadata": {},
   "outputs": [],
   "source": [
    "# Sex crimes\n",
    "df['SEXCRIME'] = [True if (a == 'Tier I' or a == 'Tier II' or a == 'Tier III') else False for a in df['JPS_WALSHACTASSESSMENT']]"
   ]
  },
  {
   "cell_type": "code",
   "execution_count": 34,
   "metadata": {},
   "outputs": [
    {
     "data": {
      "text/plain": [
       "array([nan, 'Tier I', 'Tier II', 'Tier III'], dtype=object)"
      ]
     },
     "execution_count": 34,
     "metadata": {},
     "output_type": "execute_result"
    }
   ],
   "source": [
    "df.JPS_WALSHACTASSESSMENT.unique()"
   ]
  },
  {
   "cell_type": "markdown",
   "metadata": {},
   "source": [
    "## Create a Numeric column for the Categorical Sex Crime tiers in JPS_WALSHACTASSESSMENT"
   ]
  },
  {
   "cell_type": "code",
   "execution_count": 35,
   "metadata": {},
   "outputs": [],
   "source": [
    "def numeric_sextier(x):\n",
    "    if x =='Tier I':\n",
    "        return(1)\n",
    "    elif x=='Tier II':\n",
    "        return(2)\n",
    "    elif x=='Tier III':\n",
    "        return(3)\n",
    "    else:\n",
    "        return(x)      "
   ]
  },
  {
   "cell_type": "code",
   "execution_count": 36,
   "metadata": {},
   "outputs": [],
   "source": [
    "df['SEXTIER_NUMERIC']= df['JPS_WALSHACTASSESSMENT'].apply(numeric_sextier)"
   ]
  },
  {
   "cell_type": "code",
   "execution_count": 37,
   "metadata": {},
   "outputs": [],
   "source": [
    "df['OFN_SECTION_61'] = [True if a[:2]=='61' else False for a in df['OFN_SECTION']]\n",
    "df['FIREARMS'] = np.where((df['OFN_SECTION_61'] == True) & (df['OFN_TITLE'] ==\n",
    "18), True, False)\n"
   ]
  },
  {
   "cell_type": "code",
   "execution_count": 38,
   "metadata": {},
   "outputs": [],
   "source": [
    "def conditions(s):\n",
    "    if (s['OFN_TITLE']==18):\n",
    "        if (s['OFN_SECTION']=='2502') & (s['OFN_SUBSECTION'] == 'C'):\n",
    "            return True\n",
    "        elif (s['OFN_SECTION']=='2502') & (s['OFN_SUBSECTION'] == '(c)'):\n",
    "            return True\n",
    "        elif (s['OFN_SECTION']=='2503'):\n",
    "            return True\n",
    "        elif (s['OFN_SECTION']=='2506'):\n",
    "            return True\n",
    "        elif (s['OFN_SECTION']=='2507') & (s['OFN_SUBSECTION'] == 'C'):\n",
    "            return True\n",
    "        elif (s['OFN_SECTION']=='2507') & (s['OFN_SUBSECTION'] == 'C1'):\n",
    "            return True\n",
    "        elif (s['OFN_SECTION']=='2507') & (s['OFN_SUBSECTION'] == 'C1I'):\n",
    "            return True\n",
    "        elif (s['OFN_SECTION']=='2507') & (s['OFN_SUBSECTION'] == 'C1II'):\n",
    "            return True\n",
    "        elif (s['OFN_SECTION']=='2507') & (s['OFN_SUBSECTION'] == 'D'):\n",
    "            return True\n",
    "        elif (s['OFN_SECTION']=='2604') & (s['OFN_SUBSECTION'] == 'C'):\n",
    "            return True\n",
    "        elif (s['OFN_SECTION']=='2604') & (s['OFN_SUBSECTION'] == 'C1'):\n",
    "            return True\n",
    "        elif (s['OFN_SECTION']=='2606'):\n",
    "            return True\n",
    "        elif (s['OFN_SECTION']=='2702') & (s['OFN_SUBSECTION'] == '(a)(1)'):\n",
    "            return True\n",
    "        elif (s['OFN_SECTION']=='2702') & (s['OFN_SUBSECTION'] == '(a)(1)*'):\n",
    "            return True\n",
    "        elif (s['OFN_SECTION']=='2702') & (s['OFN_SUBSECTION'] == 'A1'):\n",
    "            return True\n",
    "        elif (s['OFN_SECTION']=='2702') & (s['OFN_SUBSECTION'] == '(a)(2)'):\n",
    "            return True\n",
    "        elif (s['OFN_SECTION']=='2702') & (s['OFN_SUBSECTION'] == '(a)(2)*'):\n",
    "            return True\n",
    "        elif (s['OFN_SECTION']=='2702') & (s['OFN_SUBSECTION'] == 'A2'):\n",
    "            return True\n",
    "        elif (s['OFN_SECTION']=='2702.1'):\n",
    "            return True\n",
    "        elif (s['OFN_SECTION']=='2716') & (s['OFN_SUBSECTION'] == 'B'):\n",
    "            return True\n",
    "        elif (s['OFN_SECTION']=='2716') & (s['OFN_SUBSECTION'] == 'B1'):\n",
    "            return True\n",
    "        elif (s['OFN_SECTION']=='2716') & (s['OFN_SUBSECTION'] == '(b)'):\n",
    "            return True\n",
    "        elif (s['OFN_SECTION']=='2716') & (s['OFN_SUBSECTION'] == '(b)1'):\n",
    "            return True\n",
    "        elif (s['OFN_SECTION']=='2717') & (s['OFN_GRADE'] == 'F-1'):\n",
    "            return True\n",
    "        elif (s['OFN_SECTION']=='2718') & (s['OFN_GRADE'] == 'F-1'):\n",
    "            return True\n",
    "        elif (s['OFN_SECTION']=='2901'):\n",
    "            return True\n",
    "        elif (s['OFN_SECTION']=='3002') & (s['OFN_GRADE'] == 'F-1'):\n",
    "            return True\n",
    "        elif (s['OFN_SECTION']=='3011') & (s['OFN_GRADE'] == 'F-1'):\n",
    "            return True\n",
    "        elif (s['OFN_SECTION']=='3012') & (s['OFN_GRADE'] == 'F-1'):\n",
    "            return True\n",
    "        elif (s['OFN_SECTION']=='3121'):\n",
    "            return True\n",
    "        elif (s['OFN_SECTION']=='3123'):\n",
    "            return True\n",
    "        elif (s['OFN_SECTION']=='3124.1'):\n",
    "            return True\n",
    "        elif (s['OFN_SECTION']=='3125'):\n",
    "            return True\n",
    "        elif (s['OFN_SECTION']=='4302'):\n",
    "            return True\n",
    "        elif (s['OFN_SECTION']=='3301'):\n",
    "            if (s['OFN_SUBSECTION'] == 'A'):\n",
    "                return True\n",
    "            elif (s['OFN_SUBSECTION'] == 'A1'):\n",
    "                return True\n",
    "            elif (s['OFN_SUBSECTION'] == 'A1I'):\n",
    "                return True\n",
    "            elif (s['OFN_SUBSECTION'] == 'A1II'):\n",
    "                return True\n",
    "            elif (s['OFN_SUBSECTION'] == 'A2'):\n",
    "                return True\n",
    "            elif (s['OFN_SUBSECTION'] == '(a)(1)*'):\n",
    "                return True\n",
    "            elif (s['OFN_SUBSECTION'] == 'A.1'):\n",
    "                return True\n",
    "            elif (s['OFN_SUBSECTION'] == 'A.11'):\n",
    "                return True\n",
    "            elif (s['OFN_SUBSECTION'] == 'A.11I'):\n",
    "                return True\n",
    "            elif (s['OFN_SUBSECTION'] == 'A.11II'):\n",
    "                return True\n",
    "        elif (s['OFN_SECTION']=='3311') & (s['OFN_GRADE'] == 'F-1'):     \n",
    "            return True\n",
    "        elif (s['OFN_SECTION']=='3502') & (s['OFN_SUBSECTION'] == 'A1'):\n",
    "            return True\n",
    "        elif (s['OFN_SECTION']=='3701'):\n",
    "            if (s['OFN_SUBSECTION'] == '(a)(1)(i)'):\n",
    "                return True\n",
    "            elif (s['OFN_SUBSECTION'] == '(a)(1)(ii)'):\n",
    "                return True\n",
    "            elif (s['OFN_SUBSECTION'] == '(a)(1)(iii)'):\n",
    "                return True\n",
    "            elif (s['OFN_SUBSECTION'] == 'A1I'):\n",
    "                return True\n",
    "            elif (s['OFN_SUBSECTION'] == 'A1II'):\n",
    "                return True\n",
    "            elif (s['OFN_SUBSECTION'] == 'A1III'):\n",
    "                return True\n",
    "        elif (s['OFN_SECTION']=='3702'):\n",
    "            return True\n",
    "        else:\n",
    "            return False\n",
    "    else:\n",
    "        return False"
   ]
  },
  {
   "cell_type": "code",
   "execution_count": 39,
   "metadata": {},
   "outputs": [],
   "source": [
    "df['VIOLENCE'] = df.apply(conditions, axis=1)"
   ]
  },
  {
   "cell_type": "code",
   "execution_count": 40,
   "metadata": {},
   "outputs": [],
   "source": [
    "# Drug\n",
    "df['DRUGOFFENSE'] = np.where((df['OFN_TITLE'] == 35), True, False)"
   ]
  },
  {
   "cell_type": "code",
   "execution_count": 41,
   "metadata": {},
   "outputs": [],
   "source": [
    "# DUI\n",
    "df['DUI'] = np.where((df['OFN_TITLE'] == 75) & (df['OFN_SECTION']=='3802'), True, False)"
   ]
  },
  {
   "cell_type": "markdown",
   "metadata": {},
   "source": [
    "## Handling Cases where sentencing was in Philly and another county "
   ]
  },
  {
   "cell_type": "code",
   "execution_count": 42,
   "metadata": {},
   "outputs": [],
   "source": [
    "# creating a temp Philly indicator column\n",
    "df['CTY_PHL'] = np.where(df['COUNTY']=='Philadelphia', 1, 0)"
   ]
  },
  {
   "cell_type": "code",
   "execution_count": 43,
   "metadata": {},
   "outputs": [
    {
     "data": {
      "text/plain": [
       "ID_VARIABLE  JPR_ID \n",
       "1916197      5830496    1\n",
       "1305564      376540     1\n",
       "1305561      300713     1\n",
       "             337354     1\n",
       "             634482     1\n",
       "                       ..\n",
       "1610862      2845289    1\n",
       "1610863      5692419    1\n",
       "             5741168    1\n",
       "1610864      4918949    1\n",
       "1000001      4915383    1\n",
       "Name: COUNTY, Length: 1571856, dtype: int64"
      ]
     },
     "execution_count": 43,
     "metadata": {},
     "output_type": "execute_result"
    }
   ],
   "source": [
    "# check whether there are cases in which a single JPR_ID is sentenced in multiple counties \n",
    "df.groupby(by=['ID_VARIABLE', 'JPR_ID'])['COUNTY'].nunique().sort_values(ascending=False)"
   ]
  },
  {
   "cell_type": "markdown",
   "metadata": {},
   "source": [
    "## Adding Concurrent and Consecutive Sentencing Info"
   ]
  },
  {
   "cell_type": "code",
   "execution_count": 44,
   "metadata": {},
   "outputs": [],
   "source": [
    "# !!! AZ changed the order per Matt's comment \n",
    "\n",
    "# Use the following order to map numeric values to INC_RELATIONSHIP (i.e., 0 for NAs, 1 for Concurrent and 2 for Consecutive). \n",
    "# By taking the max() value later, this will assign all cases with at least one consecutive sentence in the consecutive category. \n",
    "order = [np.nan, 'Concurrent', 'Consecutive']"
   ]
  },
  {
   "cell_type": "code",
   "execution_count": 45,
   "metadata": {},
   "outputs": [],
   "source": [
    "df['INC_REL_NUMERIC'] = df['INC_RELATIONSHIP'].map(dict(zip(order, np.arange(len(order)))))"
   ]
  },
  {
   "cell_type": "code",
   "execution_count": 46,
   "metadata": {},
   "outputs": [
    {
     "data": {
      "text/html": [
       "<div>\n",
       "<style scoped>\n",
       "    .dataframe tbody tr th:only-of-type {\n",
       "        vertical-align: middle;\n",
       "    }\n",
       "\n",
       "    .dataframe tbody tr th {\n",
       "        vertical-align: top;\n",
       "    }\n",
       "\n",
       "    .dataframe thead th {\n",
       "        text-align: right;\n",
       "    }\n",
       "</style>\n",
       "<table border=\"1\" class=\"dataframe\">\n",
       "  <thead>\n",
       "    <tr style=\"text-align: right;\">\n",
       "      <th></th>\n",
       "      <th>INC_REL_NUMERIC</th>\n",
       "      <th>INC_RELATIONSHIP</th>\n",
       "    </tr>\n",
       "  </thead>\n",
       "  <tbody>\n",
       "    <tr>\n",
       "      <th>49</th>\n",
       "      <td>2.0</td>\n",
       "      <td>Consecutive</td>\n",
       "    </tr>\n",
       "    <tr>\n",
       "      <th>54</th>\n",
       "      <td>1.0</td>\n",
       "      <td>Concurrent</td>\n",
       "    </tr>\n",
       "    <tr>\n",
       "      <th>57</th>\n",
       "      <td>1.0</td>\n",
       "      <td>Concurrent</td>\n",
       "    </tr>\n",
       "    <tr>\n",
       "      <th>80</th>\n",
       "      <td>1.0</td>\n",
       "      <td>Concurrent</td>\n",
       "    </tr>\n",
       "    <tr>\n",
       "      <th>81</th>\n",
       "      <td>1.0</td>\n",
       "      <td>Concurrent</td>\n",
       "    </tr>\n",
       "  </tbody>\n",
       "</table>\n",
       "</div>"
      ],
      "text/plain": [
       "    INC_REL_NUMERIC INC_RELATIONSHIP\n",
       "49              2.0      Consecutive\n",
       "54              1.0       Concurrent\n",
       "57              1.0       Concurrent\n",
       "80              1.0       Concurrent\n",
       "81              1.0       Concurrent"
      ]
     },
     "execution_count": 46,
     "metadata": {},
     "output_type": "execute_result"
    }
   ],
   "source": [
    "df[df['INC_RELATIONSHIP'].notna()][['INC_REL_NUMERIC', 'INC_RELATIONSHIP']].head()"
   ]
  },
  {
   "cell_type": "code",
   "execution_count": 47,
   "metadata": {},
   "outputs": [
    {
     "data": {
      "text/html": [
       "<div>\n",
       "<style scoped>\n",
       "    .dataframe tbody tr th:only-of-type {\n",
       "        vertical-align: middle;\n",
       "    }\n",
       "\n",
       "    .dataframe tbody tr th {\n",
       "        vertical-align: top;\n",
       "    }\n",
       "\n",
       "    .dataframe thead th {\n",
       "        text-align: right;\n",
       "    }\n",
       "</style>\n",
       "<table border=\"1\" class=\"dataframe\">\n",
       "  <thead>\n",
       "    <tr style=\"text-align: right;\">\n",
       "      <th></th>\n",
       "      <th>INC_REL_NUMERIC</th>\n",
       "      <th>INC_RELATIONSHIP</th>\n",
       "    </tr>\n",
       "  </thead>\n",
       "  <tbody>\n",
       "    <tr>\n",
       "      <th>0</th>\n",
       "      <td>0.0</td>\n",
       "      <td>NaN</td>\n",
       "    </tr>\n",
       "    <tr>\n",
       "      <th>1</th>\n",
       "      <td>0.0</td>\n",
       "      <td>NaN</td>\n",
       "    </tr>\n",
       "    <tr>\n",
       "      <th>2</th>\n",
       "      <td>0.0</td>\n",
       "      <td>NaN</td>\n",
       "    </tr>\n",
       "    <tr>\n",
       "      <th>3</th>\n",
       "      <td>0.0</td>\n",
       "      <td>NaN</td>\n",
       "    </tr>\n",
       "    <tr>\n",
       "      <th>4</th>\n",
       "      <td>0.0</td>\n",
       "      <td>NaN</td>\n",
       "    </tr>\n",
       "  </tbody>\n",
       "</table>\n",
       "</div>"
      ],
      "text/plain": [
       "   INC_REL_NUMERIC INC_RELATIONSHIP\n",
       "0              0.0              NaN\n",
       "1              0.0              NaN\n",
       "2              0.0              NaN\n",
       "3              0.0              NaN\n",
       "4              0.0              NaN"
      ]
     },
     "execution_count": 47,
     "metadata": {},
     "output_type": "execute_result"
    }
   ],
   "source": [
    "df[df['INC_RELATIONSHIP'].isna()][['INC_REL_NUMERIC', 'INC_RELATIONSHIP']].head()"
   ]
  },
  {
   "cell_type": "code",
   "execution_count": 48,
   "metadata": {},
   "outputs": [],
   "source": [
    "# Again, by taking the maximum of the INC_REL_NUMERIC variable, we isolate cases that have only concurrent or only consecutive sentences. \n",
    "# cases with both consecutive and concurrent cases are grouped as consecutive\n",
    "df['INC_REL_NUMERIC'] = df.groupby(by=['ID_VARIABLE', 'JPR_ID'])['INC_REL_NUMERIC'].transform('max')"
   ]
  },
  {
   "cell_type": "code",
   "execution_count": 49,
   "metadata": {},
   "outputs": [],
   "source": [
    "# !!! AZ Edit\n",
    "\n",
    "# get the number of charges sentenced per JP. Because there are cases where one JP has multiple DOS, we also group by unique DOS here to get the number of charges for each unique hearing for each JP\n",
    "df['CHARGE_COUNT'] = df.groupby(by=['ID_VARIABLE', 'JPR_ID', 'DOS'])['JPO_ID'].transform('count')"
   ]
  },
  {
   "cell_type": "markdown",
   "metadata": {},
   "source": [
    "# Implement At Risk Date Calculation Logic <a id='at_risk'></a>"
   ]
  },
  {
   "cell_type": "markdown",
   "metadata": {},
   "source": [
    "## Step 1: Address Issue with Multiple DOS for one JPR_ID"
   ]
  },
  {
   "cell_type": "code",
   "execution_count": 51,
   "metadata": {},
   "outputs": [],
   "source": [
    "# !!! AZ edit. also need to groupby ID_VAR and JPR_ID here\n",
    "\n",
    "#first, figure out how many JPR_IDs hae multiple dates of sentencing \n",
    "num_dos = df.groupby([\"ID_VARIABLE\", \"JPR_ID\"])['DOS'].nunique() \n",
    "#num_dos[2847193]"
   ]
  },
  {
   "cell_type": "code",
   "execution_count": 52,
   "metadata": {},
   "outputs": [
    {
     "name": "stdout",
     "output_type": "stream",
     "text": [
      "There are 353 JPR_IDS in the dataset with more than one date of sentence.\n"
     ]
    }
   ],
   "source": [
    "print(\"There are {:,} JPR_IDS in the dataset with more than one date of sentence.\".format((num_dos>1).sum()))"
   ]
  },
  {
   "cell_type": "code",
   "execution_count": 53,
   "metadata": {},
   "outputs": [],
   "source": [
    "#subset the data JUST to those ID's in the more_than_one dos bucket\n",
    "df['NUM_DOS'] = df.groupby(by=['ID_VARIABLE', 'JPR_ID'])['DOS'].transform('nunique')\n",
    "only_one_dos = df[df['NUM_DOS']==1]\n",
    "more_than_one_dos_df = df[df['NUM_DOS']>1]\n"
   ]
  },
  {
   "cell_type": "code",
   "execution_count": 54,
   "metadata": {},
   "outputs": [
    {
     "data": {
      "text/html": [
       "<div>\n",
       "<style scoped>\n",
       "    .dataframe tbody tr th:only-of-type {\n",
       "        vertical-align: middle;\n",
       "    }\n",
       "\n",
       "    .dataframe tbody tr th {\n",
       "        vertical-align: top;\n",
       "    }\n",
       "\n",
       "    .dataframe thead th {\n",
       "        text-align: right;\n",
       "    }\n",
       "</style>\n",
       "<table border=\"1\" class=\"dataframe\">\n",
       "  <thead>\n",
       "    <tr style=\"text-align: right;\">\n",
       "      <th></th>\n",
       "      <th>JPR_ID</th>\n",
       "      <th>DOS</th>\n",
       "      <th>OFN_LABEL</th>\n",
       "      <th>PRS</th>\n",
       "      <th>JP_MIN</th>\n",
       "      <th>MS_SENTJP</th>\n",
       "      <th>INC_SANCTION_EXISTS</th>\n",
       "      <th>INC_REL_NUMERIC</th>\n",
       "      <th>CHARGE_COUNT</th>\n",
       "    </tr>\n",
       "  </thead>\n",
       "  <tbody>\n",
       "    <tr>\n",
       "      <th>569776</th>\n",
       "      <td>92399</td>\n",
       "      <td>2005-01-06</td>\n",
       "      <td>Murder of The Second Degree</td>\n",
       "      <td>0</td>\n",
       "      <td>30346.0</td>\n",
       "      <td>NaN</td>\n",
       "      <td>Y</td>\n",
       "      <td>0.0</td>\n",
       "      <td>1</td>\n",
       "    </tr>\n",
       "    <tr>\n",
       "      <th>2131297</th>\n",
       "      <td>92399</td>\n",
       "      <td>2016-06-27</td>\n",
       "      <td>Murder of The Second Degree</td>\n",
       "      <td>0</td>\n",
       "      <td>NaN</td>\n",
       "      <td>Yes</td>\n",
       "      <td>Y</td>\n",
       "      <td>0.0</td>\n",
       "      <td>1</td>\n",
       "    </tr>\n",
       "    <tr>\n",
       "      <th>620698</th>\n",
       "      <td>117010</td>\n",
       "      <td>2005-02-01</td>\n",
       "      <td>Aggravated Assault - Cause or Att B.I. w/Deadl...</td>\n",
       "      <td>5</td>\n",
       "      <td>8127.0</td>\n",
       "      <td>NaN</td>\n",
       "      <td>Y</td>\n",
       "      <td>2.0</td>\n",
       "      <td>4</td>\n",
       "    </tr>\n",
       "    <tr>\n",
       "      <th>620699</th>\n",
       "      <td>117010</td>\n",
       "      <td>2005-02-01</td>\n",
       "      <td>Burglary - Home: Person Present</td>\n",
       "      <td>5</td>\n",
       "      <td>8127.0</td>\n",
       "      <td>NaN</td>\n",
       "      <td>Y</td>\n",
       "      <td>2.0</td>\n",
       "      <td>4</td>\n",
       "    </tr>\n",
       "    <tr>\n",
       "      <th>620700</th>\n",
       "      <td>117010</td>\n",
       "      <td>2005-02-01</td>\n",
       "      <td>Murder Inchoate -  Attempt with S.B.I.</td>\n",
       "      <td>5</td>\n",
       "      <td>8127.0</td>\n",
       "      <td>NaN</td>\n",
       "      <td>Y</td>\n",
       "      <td>2.0</td>\n",
       "      <td>4</td>\n",
       "    </tr>\n",
       "  </tbody>\n",
       "</table>\n",
       "</div>"
      ],
      "text/plain": [
       "         JPR_ID        DOS                                          OFN_LABEL  \\\n",
       "569776    92399 2005-01-06                        Murder of The Second Degree   \n",
       "2131297   92399 2016-06-27                        Murder of The Second Degree   \n",
       "620698   117010 2005-02-01  Aggravated Assault - Cause or Att B.I. w/Deadl...   \n",
       "620699   117010 2005-02-01                    Burglary - Home: Person Present   \n",
       "620700   117010 2005-02-01             Murder Inchoate -  Attempt with S.B.I.   \n",
       "\n",
       "        PRS   JP_MIN MS_SENTJP INC_SANCTION_EXISTS  INC_REL_NUMERIC  \\\n",
       "569776    0  30346.0       NaN                   Y              0.0   \n",
       "2131297   0      NaN       Yes                   Y              0.0   \n",
       "620698    5   8127.0       NaN                   Y              2.0   \n",
       "620699    5   8127.0       NaN                   Y              2.0   \n",
       "620700    5   8127.0       NaN                   Y              2.0   \n",
       "\n",
       "         CHARGE_COUNT  \n",
       "569776              1  \n",
       "2131297             1  \n",
       "620698              4  \n",
       "620699              4  \n",
       "620700              4  "
      ]
     },
     "execution_count": 54,
     "metadata": {},
     "output_type": "execute_result"
    }
   ],
   "source": [
    "more_than_one_dos_df = more_than_one_dos_df.sort_values([\"JPR_ID\", \"DOS\"]) #sort by jpr_id AND DOS\n",
    "\n",
    "more_than_one_dos_df.head()[[\"JPR_ID\", \"DOS\", \"OFN_LABEL\", \"PRS\", \"JP_MIN\", \"MS_SENTJP\", \"INC_SANCTION_EXISTS\", \"INC_REL_NUMERIC\", \"CHARGE_COUNT\"]]\n"
   ]
  },
  {
   "cell_type": "code",
   "execution_count": 55,
   "metadata": {},
   "outputs": [
    {
     "data": {
      "text/html": [
       "<div>\n",
       "<style scoped>\n",
       "    .dataframe tbody tr th:only-of-type {\n",
       "        vertical-align: middle;\n",
       "    }\n",
       "\n",
       "    .dataframe tbody tr th {\n",
       "        vertical-align: top;\n",
       "    }\n",
       "\n",
       "    .dataframe thead th {\n",
       "        text-align: right;\n",
       "    }\n",
       "</style>\n",
       "<table border=\"1\" class=\"dataframe\">\n",
       "  <thead>\n",
       "    <tr style=\"text-align: right;\">\n",
       "      <th></th>\n",
       "      <th>JPR_ID</th>\n",
       "      <th>ID_VARIABLE</th>\n",
       "      <th>DOS</th>\n",
       "      <th>OFN_LABEL</th>\n",
       "      <th>MIN_DOS</th>\n",
       "      <th>JP_MIN</th>\n",
       "      <th>MAX_DOS</th>\n",
       "      <th>TIME_SERVED</th>\n",
       "      <th>LATEST_JPMIN</th>\n",
       "      <th>ADJ_JPMIN</th>\n",
       "      <th>INC_REL_NUMERIC</th>\n",
       "      <th>CHARGE_COUNT</th>\n",
       "    </tr>\n",
       "  </thead>\n",
       "  <tbody>\n",
       "    <tr>\n",
       "      <th>569776</th>\n",
       "      <td>92399</td>\n",
       "      <td>1877126</td>\n",
       "      <td>2005-01-06</td>\n",
       "      <td>Murder of The Second Degree</td>\n",
       "      <td>2005-01-06</td>\n",
       "      <td>30346.0</td>\n",
       "      <td>2016-06-27</td>\n",
       "      <td>4190</td>\n",
       "      <td>30346.0</td>\n",
       "      <td>26156.0</td>\n",
       "      <td>0.0</td>\n",
       "      <td>1</td>\n",
       "    </tr>\n",
       "    <tr>\n",
       "      <th>2131297</th>\n",
       "      <td>92399</td>\n",
       "      <td>1877126</td>\n",
       "      <td>2016-06-27</td>\n",
       "      <td>Murder of The Second Degree</td>\n",
       "      <td>2005-01-06</td>\n",
       "      <td>NaN</td>\n",
       "      <td>2016-06-27</td>\n",
       "      <td>4190</td>\n",
       "      <td>30346.0</td>\n",
       "      <td>26156.0</td>\n",
       "      <td>0.0</td>\n",
       "      <td>1</td>\n",
       "    </tr>\n",
       "    <tr>\n",
       "      <th>620698</th>\n",
       "      <td>117010</td>\n",
       "      <td>1325462</td>\n",
       "      <td>2005-02-01</td>\n",
       "      <td>Aggravated Assault - Cause or Att B.I. w/Deadl...</td>\n",
       "      <td>2005-02-01</td>\n",
       "      <td>8127.0</td>\n",
       "      <td>2007-10-17</td>\n",
       "      <td>988</td>\n",
       "      <td>5570.0</td>\n",
       "      <td>4582.0</td>\n",
       "      <td>2.0</td>\n",
       "      <td>4</td>\n",
       "    </tr>\n",
       "    <tr>\n",
       "      <th>620699</th>\n",
       "      <td>117010</td>\n",
       "      <td>1325462</td>\n",
       "      <td>2005-02-01</td>\n",
       "      <td>Burglary - Home: Person Present</td>\n",
       "      <td>2005-02-01</td>\n",
       "      <td>8127.0</td>\n",
       "      <td>2007-10-17</td>\n",
       "      <td>988</td>\n",
       "      <td>5570.0</td>\n",
       "      <td>4582.0</td>\n",
       "      <td>2.0</td>\n",
       "      <td>4</td>\n",
       "    </tr>\n",
       "    <tr>\n",
       "      <th>620700</th>\n",
       "      <td>117010</td>\n",
       "      <td>1325462</td>\n",
       "      <td>2005-02-01</td>\n",
       "      <td>Murder Inchoate -  Attempt with S.B.I.</td>\n",
       "      <td>2005-02-01</td>\n",
       "      <td>8127.0</td>\n",
       "      <td>2007-10-17</td>\n",
       "      <td>988</td>\n",
       "      <td>5570.0</td>\n",
       "      <td>4582.0</td>\n",
       "      <td>2.0</td>\n",
       "      <td>4</td>\n",
       "    </tr>\n",
       "    <tr>\n",
       "      <th>620701</th>\n",
       "      <td>117010</td>\n",
       "      <td>1325462</td>\n",
       "      <td>2005-02-01</td>\n",
       "      <td>Aggravated Assault - Cause or Att B.I. w/Deadl...</td>\n",
       "      <td>2005-02-01</td>\n",
       "      <td>8127.0</td>\n",
       "      <td>2007-10-17</td>\n",
       "      <td>988</td>\n",
       "      <td>5570.0</td>\n",
       "      <td>4582.0</td>\n",
       "      <td>2.0</td>\n",
       "      <td>4</td>\n",
       "    </tr>\n",
       "    <tr>\n",
       "      <th>895508</th>\n",
       "      <td>117010</td>\n",
       "      <td>1325462</td>\n",
       "      <td>2007-10-17</td>\n",
       "      <td>Murder Inchoate - Attempt with S.B.I.</td>\n",
       "      <td>2005-02-01</td>\n",
       "      <td>5570.0</td>\n",
       "      <td>2007-10-17</td>\n",
       "      <td>988</td>\n",
       "      <td>5570.0</td>\n",
       "      <td>4582.0</td>\n",
       "      <td>2.0</td>\n",
       "      <td>4</td>\n",
       "    </tr>\n",
       "    <tr>\n",
       "      <th>895509</th>\n",
       "      <td>117010</td>\n",
       "      <td>1325462</td>\n",
       "      <td>2007-10-17</td>\n",
       "      <td>Aggravated Assault - Cause or Att B.I. w/Deadl...</td>\n",
       "      <td>2005-02-01</td>\n",
       "      <td>5570.0</td>\n",
       "      <td>2007-10-17</td>\n",
       "      <td>988</td>\n",
       "      <td>5570.0</td>\n",
       "      <td>4582.0</td>\n",
       "      <td>2.0</td>\n",
       "      <td>4</td>\n",
       "    </tr>\n",
       "    <tr>\n",
       "      <th>895510</th>\n",
       "      <td>117010</td>\n",
       "      <td>1325462</td>\n",
       "      <td>2007-10-17</td>\n",
       "      <td>Aggravated Assault - Cause or Att B.I. w/Deadl...</td>\n",
       "      <td>2005-02-01</td>\n",
       "      <td>5570.0</td>\n",
       "      <td>2007-10-17</td>\n",
       "      <td>988</td>\n",
       "      <td>5570.0</td>\n",
       "      <td>4582.0</td>\n",
       "      <td>2.0</td>\n",
       "      <td>4</td>\n",
       "    </tr>\n",
       "    <tr>\n",
       "      <th>895511</th>\n",
       "      <td>117010</td>\n",
       "      <td>1325462</td>\n",
       "      <td>2007-10-17</td>\n",
       "      <td>Burglary - Home: Person Present</td>\n",
       "      <td>2005-02-01</td>\n",
       "      <td>5570.0</td>\n",
       "      <td>2007-10-17</td>\n",
       "      <td>988</td>\n",
       "      <td>5570.0</td>\n",
       "      <td>4582.0</td>\n",
       "      <td>2.0</td>\n",
       "      <td>4</td>\n",
       "    </tr>\n",
       "    <tr>\n",
       "      <th>640731</th>\n",
       "      <td>248150</td>\n",
       "      <td>1476143</td>\n",
       "      <td>2006-05-18</td>\n",
       "      <td>Sexual Abuse of Children/Possess Child Pornogr...</td>\n",
       "      <td>2006-05-18</td>\n",
       "      <td>3287.0</td>\n",
       "      <td>2008-09-12</td>\n",
       "      <td>848</td>\n",
       "      <td>3287.0</td>\n",
       "      <td>2439.0</td>\n",
       "      <td>2.0</td>\n",
       "      <td>299</td>\n",
       "    </tr>\n",
       "    <tr>\n",
       "      <th>640732</th>\n",
       "      <td>248150</td>\n",
       "      <td>1476143</td>\n",
       "      <td>2006-05-18</td>\n",
       "      <td>Sexual Abuse of Children/Possess Child Pornogr...</td>\n",
       "      <td>2006-05-18</td>\n",
       "      <td>3287.0</td>\n",
       "      <td>2008-09-12</td>\n",
       "      <td>848</td>\n",
       "      <td>3287.0</td>\n",
       "      <td>2439.0</td>\n",
       "      <td>2.0</td>\n",
       "      <td>299</td>\n",
       "    </tr>\n",
       "    <tr>\n",
       "      <th>640733</th>\n",
       "      <td>248150</td>\n",
       "      <td>1476143</td>\n",
       "      <td>2006-05-18</td>\n",
       "      <td>Sexual Abuse of Children/Possess Child Pornogr...</td>\n",
       "      <td>2006-05-18</td>\n",
       "      <td>3287.0</td>\n",
       "      <td>2008-09-12</td>\n",
       "      <td>848</td>\n",
       "      <td>3287.0</td>\n",
       "      <td>2439.0</td>\n",
       "      <td>2.0</td>\n",
       "      <td>299</td>\n",
       "    </tr>\n",
       "    <tr>\n",
       "      <th>640734</th>\n",
       "      <td>248150</td>\n",
       "      <td>1476143</td>\n",
       "      <td>2006-05-18</td>\n",
       "      <td>Sexual Abuse of Children/Possess Child Pornogr...</td>\n",
       "      <td>2006-05-18</td>\n",
       "      <td>3287.0</td>\n",
       "      <td>2008-09-12</td>\n",
       "      <td>848</td>\n",
       "      <td>3287.0</td>\n",
       "      <td>2439.0</td>\n",
       "      <td>2.0</td>\n",
       "      <td>299</td>\n",
       "    </tr>\n",
       "    <tr>\n",
       "      <th>640735</th>\n",
       "      <td>248150</td>\n",
       "      <td>1476143</td>\n",
       "      <td>2006-05-18</td>\n",
       "      <td>Sexual Abuse of Children/Possess Child Pornogr...</td>\n",
       "      <td>2006-05-18</td>\n",
       "      <td>3287.0</td>\n",
       "      <td>2008-09-12</td>\n",
       "      <td>848</td>\n",
       "      <td>3287.0</td>\n",
       "      <td>2439.0</td>\n",
       "      <td>2.0</td>\n",
       "      <td>299</td>\n",
       "    </tr>\n",
       "    <tr>\n",
       "      <th>640736</th>\n",
       "      <td>248150</td>\n",
       "      <td>1476143</td>\n",
       "      <td>2006-05-18</td>\n",
       "      <td>Sexual Abuse of Children/Possess Child Pornogr...</td>\n",
       "      <td>2006-05-18</td>\n",
       "      <td>3287.0</td>\n",
       "      <td>2008-09-12</td>\n",
       "      <td>848</td>\n",
       "      <td>3287.0</td>\n",
       "      <td>2439.0</td>\n",
       "      <td>2.0</td>\n",
       "      <td>299</td>\n",
       "    </tr>\n",
       "    <tr>\n",
       "      <th>640737</th>\n",
       "      <td>248150</td>\n",
       "      <td>1476143</td>\n",
       "      <td>2006-05-18</td>\n",
       "      <td>Sexual Abuse of Children/Possess Child Pornogr...</td>\n",
       "      <td>2006-05-18</td>\n",
       "      <td>3287.0</td>\n",
       "      <td>2008-09-12</td>\n",
       "      <td>848</td>\n",
       "      <td>3287.0</td>\n",
       "      <td>2439.0</td>\n",
       "      <td>2.0</td>\n",
       "      <td>299</td>\n",
       "    </tr>\n",
       "    <tr>\n",
       "      <th>640738</th>\n",
       "      <td>248150</td>\n",
       "      <td>1476143</td>\n",
       "      <td>2006-05-18</td>\n",
       "      <td>Sexual Abuse of Children/Possess Child Pornogr...</td>\n",
       "      <td>2006-05-18</td>\n",
       "      <td>3287.0</td>\n",
       "      <td>2008-09-12</td>\n",
       "      <td>848</td>\n",
       "      <td>3287.0</td>\n",
       "      <td>2439.0</td>\n",
       "      <td>2.0</td>\n",
       "      <td>299</td>\n",
       "    </tr>\n",
       "    <tr>\n",
       "      <th>640739</th>\n",
       "      <td>248150</td>\n",
       "      <td>1476143</td>\n",
       "      <td>2006-05-18</td>\n",
       "      <td>Sexual Abuse of Children/Possess Child Pornogr...</td>\n",
       "      <td>2006-05-18</td>\n",
       "      <td>3287.0</td>\n",
       "      <td>2008-09-12</td>\n",
       "      <td>848</td>\n",
       "      <td>3287.0</td>\n",
       "      <td>2439.0</td>\n",
       "      <td>2.0</td>\n",
       "      <td>299</td>\n",
       "    </tr>\n",
       "    <tr>\n",
       "      <th>640740</th>\n",
       "      <td>248150</td>\n",
       "      <td>1476143</td>\n",
       "      <td>2006-05-18</td>\n",
       "      <td>Sexual Abuse of Children/Possess Child Pornogr...</td>\n",
       "      <td>2006-05-18</td>\n",
       "      <td>3287.0</td>\n",
       "      <td>2008-09-12</td>\n",
       "      <td>848</td>\n",
       "      <td>3287.0</td>\n",
       "      <td>2439.0</td>\n",
       "      <td>2.0</td>\n",
       "      <td>299</td>\n",
       "    </tr>\n",
       "  </tbody>\n",
       "</table>\n",
       "</div>"
      ],
      "text/plain": [
       "         JPR_ID  ID_VARIABLE        DOS  \\\n",
       "569776    92399      1877126 2005-01-06   \n",
       "2131297   92399      1877126 2016-06-27   \n",
       "620698   117010      1325462 2005-02-01   \n",
       "620699   117010      1325462 2005-02-01   \n",
       "620700   117010      1325462 2005-02-01   \n",
       "620701   117010      1325462 2005-02-01   \n",
       "895508   117010      1325462 2007-10-17   \n",
       "895509   117010      1325462 2007-10-17   \n",
       "895510   117010      1325462 2007-10-17   \n",
       "895511   117010      1325462 2007-10-17   \n",
       "640731   248150      1476143 2006-05-18   \n",
       "640732   248150      1476143 2006-05-18   \n",
       "640733   248150      1476143 2006-05-18   \n",
       "640734   248150      1476143 2006-05-18   \n",
       "640735   248150      1476143 2006-05-18   \n",
       "640736   248150      1476143 2006-05-18   \n",
       "640737   248150      1476143 2006-05-18   \n",
       "640738   248150      1476143 2006-05-18   \n",
       "640739   248150      1476143 2006-05-18   \n",
       "640740   248150      1476143 2006-05-18   \n",
       "\n",
       "                                                 OFN_LABEL    MIN_DOS  \\\n",
       "569776                         Murder of The Second Degree 2005-01-06   \n",
       "2131297                        Murder of The Second Degree 2005-01-06   \n",
       "620698   Aggravated Assault - Cause or Att B.I. w/Deadl... 2005-02-01   \n",
       "620699                     Burglary - Home: Person Present 2005-02-01   \n",
       "620700              Murder Inchoate -  Attempt with S.B.I. 2005-02-01   \n",
       "620701   Aggravated Assault - Cause or Att B.I. w/Deadl... 2005-02-01   \n",
       "895508               Murder Inchoate - Attempt with S.B.I. 2005-02-01   \n",
       "895509   Aggravated Assault - Cause or Att B.I. w/Deadl... 2005-02-01   \n",
       "895510   Aggravated Assault - Cause or Att B.I. w/Deadl... 2005-02-01   \n",
       "895511                     Burglary - Home: Person Present 2005-02-01   \n",
       "640731   Sexual Abuse of Children/Possess Child Pornogr... 2006-05-18   \n",
       "640732   Sexual Abuse of Children/Possess Child Pornogr... 2006-05-18   \n",
       "640733   Sexual Abuse of Children/Possess Child Pornogr... 2006-05-18   \n",
       "640734   Sexual Abuse of Children/Possess Child Pornogr... 2006-05-18   \n",
       "640735   Sexual Abuse of Children/Possess Child Pornogr... 2006-05-18   \n",
       "640736   Sexual Abuse of Children/Possess Child Pornogr... 2006-05-18   \n",
       "640737   Sexual Abuse of Children/Possess Child Pornogr... 2006-05-18   \n",
       "640738   Sexual Abuse of Children/Possess Child Pornogr... 2006-05-18   \n",
       "640739   Sexual Abuse of Children/Possess Child Pornogr... 2006-05-18   \n",
       "640740   Sexual Abuse of Children/Possess Child Pornogr... 2006-05-18   \n",
       "\n",
       "          JP_MIN    MAX_DOS  TIME_SERVED  LATEST_JPMIN  ADJ_JPMIN  \\\n",
       "569776   30346.0 2016-06-27         4190       30346.0    26156.0   \n",
       "2131297      NaN 2016-06-27         4190       30346.0    26156.0   \n",
       "620698    8127.0 2007-10-17          988        5570.0     4582.0   \n",
       "620699    8127.0 2007-10-17          988        5570.0     4582.0   \n",
       "620700    8127.0 2007-10-17          988        5570.0     4582.0   \n",
       "620701    8127.0 2007-10-17          988        5570.0     4582.0   \n",
       "895508    5570.0 2007-10-17          988        5570.0     4582.0   \n",
       "895509    5570.0 2007-10-17          988        5570.0     4582.0   \n",
       "895510    5570.0 2007-10-17          988        5570.0     4582.0   \n",
       "895511    5570.0 2007-10-17          988        5570.0     4582.0   \n",
       "640731    3287.0 2008-09-12          848        3287.0     2439.0   \n",
       "640732    3287.0 2008-09-12          848        3287.0     2439.0   \n",
       "640733    3287.0 2008-09-12          848        3287.0     2439.0   \n",
       "640734    3287.0 2008-09-12          848        3287.0     2439.0   \n",
       "640735    3287.0 2008-09-12          848        3287.0     2439.0   \n",
       "640736    3287.0 2008-09-12          848        3287.0     2439.0   \n",
       "640737    3287.0 2008-09-12          848        3287.0     2439.0   \n",
       "640738    3287.0 2008-09-12          848        3287.0     2439.0   \n",
       "640739    3287.0 2008-09-12          848        3287.0     2439.0   \n",
       "640740    3287.0 2008-09-12          848        3287.0     2439.0   \n",
       "\n",
       "         INC_REL_NUMERIC  CHARGE_COUNT  \n",
       "569776               0.0             1  \n",
       "2131297              0.0             1  \n",
       "620698               2.0             4  \n",
       "620699               2.0             4  \n",
       "620700               2.0             4  \n",
       "620701               2.0             4  \n",
       "895508               2.0             4  \n",
       "895509               2.0             4  \n",
       "895510               2.0             4  \n",
       "895511               2.0             4  \n",
       "640731               2.0           299  \n",
       "640732               2.0           299  \n",
       "640733               2.0           299  \n",
       "640734               2.0           299  \n",
       "640735               2.0           299  \n",
       "640736               2.0           299  \n",
       "640737               2.0           299  \n",
       "640738               2.0           299  \n",
       "640739               2.0           299  \n",
       "640740               2.0           299  "
      ]
     },
     "execution_count": 55,
     "metadata": {},
     "output_type": "execute_result"
    }
   ],
   "source": [
    "#create a new column with the NEW_DOS value\n",
    "more_than_one_dos_df[\"MAX_DOS\"] = more_than_one_dos_df.groupby(\"JPR_ID\")[\"DOS\"].transform(\"max\") #take the latest date of sentencing\n",
    "more_than_one_dos_df[\"MIN_DOS\"] = more_than_one_dos_df.groupby(\"JPR_ID\")[\"DOS\"].transform(\"min\") #take the earliest date of sentencing\n",
    "\n",
    "# #create a new time served column\n",
    "more_than_one_dos_df[\"TIME_SERVED\"] = more_than_one_dos_df[\"MAX_DOS\"] - more_than_one_dos_df[\"MIN_DOS\"]\n",
    "more_than_one_dos_df[\"TIME_SERVED\"] = more_than_one_dos_df[\"TIME_SERVED\"].dt.days\n",
    "\n",
    "#finds the JP_MIN associated with the latest DOS (because the data is already sorted by JPR_ID and DOS)\n",
    "more_than_one_dos_df[\"LATEST_JPMIN\"] = more_than_one_dos_df.groupby(\"JPR_ID\")[\"JP_MIN\"].transform(\"last\")\n",
    "\n",
    "#calculate an adjusted JP_MIN from the logic provided by Miranda\n",
    "#!!! AZ edit, to remove the issue where ADJ_JPMIN ends up negative \n",
    "more_than_one_dos_df['ADJ_JPMIN'] = np.where(more_than_one_dos_df['LATEST_JPMIN']>0, more_than_one_dos_df[\"LATEST_JPMIN\"] - more_than_one_dos_df[\"TIME_SERVED\"], more_than_one_dos_df['LATEST_JPMIN'])\n",
    "\n",
    "#inspect results\n",
    "more_than_one_dos_df[:20][[\"JPR_ID\", \"ID_VARIABLE\", \"DOS\", \"OFN_LABEL\", \"MIN_DOS\", \"JP_MIN\", \"MAX_DOS\", \"TIME_SERVED\", \"LATEST_JPMIN\", \"ADJ_JPMIN\", \"INC_REL_NUMERIC\", \"CHARGE_COUNT\"]]\n"
   ]
  },
  {
   "cell_type": "code",
   "execution_count": 56,
   "metadata": {},
   "outputs": [
    {
     "data": {
      "text/plain": [
       "ID_VARIABLE  JPR_ID \n",
       "1150237      5364786    2\n",
       "1658560      5528393    2\n",
       "1206226      5587333    2\n",
       "1198743      5273246    2\n",
       "1606518      1652779    2\n",
       "                       ..\n",
       "1574247      5129728    1\n",
       "1575350      2736677    1\n",
       "             2853490    1\n",
       "1578991      5815120    1\n",
       "1002106      5402465    1\n",
       "Name: CHARGE_COUNT, Length: 353, dtype: int64"
      ]
     },
     "execution_count": 56,
     "metadata": {},
     "output_type": "execute_result"
    }
   ],
   "source": [
    "# There are several cases in which the number of charges heard on different DOS for a given JPR_ID is not the same\n",
    "more_than_one_dos_df.groupby(by=['ID_VARIABLE', 'JPR_ID'])['CHARGE_COUNT'].nunique().sort_values(ascending=False)"
   ]
  },
  {
   "cell_type": "code",
   "execution_count": 57,
   "metadata": {},
   "outputs": [
    {
     "data": {
      "text/html": [
       "<div>\n",
       "<style scoped>\n",
       "    .dataframe tbody tr th:only-of-type {\n",
       "        vertical-align: middle;\n",
       "    }\n",
       "\n",
       "    .dataframe tbody tr th {\n",
       "        vertical-align: top;\n",
       "    }\n",
       "\n",
       "    .dataframe thead th {\n",
       "        text-align: right;\n",
       "    }\n",
       "</style>\n",
       "<table border=\"1\" class=\"dataframe\">\n",
       "  <thead>\n",
       "    <tr style=\"text-align: right;\">\n",
       "      <th></th>\n",
       "      <th>JPR_ID</th>\n",
       "      <th>ID_VARIABLE</th>\n",
       "      <th>DOS</th>\n",
       "      <th>OFN_LABEL</th>\n",
       "      <th>MIN_DOS</th>\n",
       "      <th>JP_MIN</th>\n",
       "      <th>MAX_DOS</th>\n",
       "      <th>TIME_SERVED</th>\n",
       "      <th>LATEST_JPMIN</th>\n",
       "      <th>ADJ_JPMIN</th>\n",
       "      <th>INC_REL_NUMERIC</th>\n",
       "      <th>CHARGE_COUNT</th>\n",
       "    </tr>\n",
       "  </thead>\n",
       "  <tbody>\n",
       "    <tr>\n",
       "      <th>1651785</th>\n",
       "      <td>5311207</td>\n",
       "      <td>1697895</td>\n",
       "      <td>2013-10-15</td>\n",
       "      <td>Firearms-persons not to possess: convicted of ...</td>\n",
       "      <td>2013-10-15</td>\n",
       "      <td>2739.0</td>\n",
       "      <td>2016-07-07</td>\n",
       "      <td>996</td>\n",
       "      <td>2740.0</td>\n",
       "      <td>1744.0</td>\n",
       "      <td>2.0</td>\n",
       "      <td>2</td>\n",
       "    </tr>\n",
       "    <tr>\n",
       "      <th>1651786</th>\n",
       "      <td>5311207</td>\n",
       "      <td>1697895</td>\n",
       "      <td>2013-10-15</td>\n",
       "      <td>Firearms-persons not to possess: convicted of ...</td>\n",
       "      <td>2013-10-15</td>\n",
       "      <td>2739.0</td>\n",
       "      <td>2016-07-07</td>\n",
       "      <td>996</td>\n",
       "      <td>2740.0</td>\n",
       "      <td>1744.0</td>\n",
       "      <td>2.0</td>\n",
       "      <td>2</td>\n",
       "    </tr>\n",
       "    <tr>\n",
       "      <th>2081313</th>\n",
       "      <td>5311207</td>\n",
       "      <td>1697895</td>\n",
       "      <td>2016-07-07</td>\n",
       "      <td>Firearms-carried w/o license: ineligible (load...</td>\n",
       "      <td>2013-10-15</td>\n",
       "      <td>2740.0</td>\n",
       "      <td>2016-07-07</td>\n",
       "      <td>996</td>\n",
       "      <td>2740.0</td>\n",
       "      <td>1744.0</td>\n",
       "      <td>2.0</td>\n",
       "      <td>3</td>\n",
       "    </tr>\n",
       "    <tr>\n",
       "      <th>2081314</th>\n",
       "      <td>5311207</td>\n",
       "      <td>1697895</td>\n",
       "      <td>2016-07-07</td>\n",
       "      <td>Firearms-persons not to possess: convicted of ...</td>\n",
       "      <td>2013-10-15</td>\n",
       "      <td>2740.0</td>\n",
       "      <td>2016-07-07</td>\n",
       "      <td>996</td>\n",
       "      <td>2740.0</td>\n",
       "      <td>1744.0</td>\n",
       "      <td>2.0</td>\n",
       "      <td>3</td>\n",
       "    </tr>\n",
       "    <tr>\n",
       "      <th>2081315</th>\n",
       "      <td>5311207</td>\n",
       "      <td>1697895</td>\n",
       "      <td>2016-07-07</td>\n",
       "      <td>Firearms-carried w/o license: ineligible (unlo...</td>\n",
       "      <td>2013-10-15</td>\n",
       "      <td>2740.0</td>\n",
       "      <td>2016-07-07</td>\n",
       "      <td>996</td>\n",
       "      <td>2740.0</td>\n",
       "      <td>1744.0</td>\n",
       "      <td>2.0</td>\n",
       "      <td>3</td>\n",
       "    </tr>\n",
       "  </tbody>\n",
       "</table>\n",
       "</div>"
      ],
      "text/plain": [
       "          JPR_ID  ID_VARIABLE        DOS  \\\n",
       "1651785  5311207      1697895 2013-10-15   \n",
       "1651786  5311207      1697895 2013-10-15   \n",
       "2081313  5311207      1697895 2016-07-07   \n",
       "2081314  5311207      1697895 2016-07-07   \n",
       "2081315  5311207      1697895 2016-07-07   \n",
       "\n",
       "                                                 OFN_LABEL    MIN_DOS  JP_MIN  \\\n",
       "1651785  Firearms-persons not to possess: convicted of ... 2013-10-15  2739.0   \n",
       "1651786  Firearms-persons not to possess: convicted of ... 2013-10-15  2739.0   \n",
       "2081313  Firearms-carried w/o license: ineligible (load... 2013-10-15  2740.0   \n",
       "2081314  Firearms-persons not to possess: convicted of ... 2013-10-15  2740.0   \n",
       "2081315  Firearms-carried w/o license: ineligible (unlo... 2013-10-15  2740.0   \n",
       "\n",
       "           MAX_DOS  TIME_SERVED  LATEST_JPMIN  ADJ_JPMIN  INC_REL_NUMERIC  \\\n",
       "1651785 2016-07-07          996        2740.0     1744.0              2.0   \n",
       "1651786 2016-07-07          996        2740.0     1744.0              2.0   \n",
       "2081313 2016-07-07          996        2740.0     1744.0              2.0   \n",
       "2081314 2016-07-07          996        2740.0     1744.0              2.0   \n",
       "2081315 2016-07-07          996        2740.0     1744.0              2.0   \n",
       "\n",
       "         CHARGE_COUNT  \n",
       "1651785             2  \n",
       "1651786             2  \n",
       "2081313             3  \n",
       "2081314             3  \n",
       "2081315             3  "
      ]
     },
     "execution_count": 57,
     "metadata": {},
     "output_type": "execute_result"
    }
   ],
   "source": [
    "# As an example: this is a case in which the second hearing of the same JP had more charges than the previous\n",
    "more_than_one_dos_df[(more_than_one_dos_df['ID_VARIABLE']==1697895) & (more_than_one_dos_df['JPR_ID']==5311207)][[\"JPR_ID\", \"ID_VARIABLE\", \"DOS\", \"OFN_LABEL\", \"MIN_DOS\", \"JP_MIN\", \"MAX_DOS\", \"TIME_SERVED\", \"LATEST_JPMIN\", \"ADJ_JPMIN\", \"INC_REL_NUMERIC\", \"CHARGE_COUNT\"]]"
   ]
  },
  {
   "cell_type": "code",
   "execution_count": 58,
   "metadata": {},
   "outputs": [],
   "source": [
    "# Using the latest DOS, we want to get the number of charges sentenced for the most recent hearing of each JP\n",
    "# !!! AZ Edit\n",
    "more_than_one_dos_df['CHARGE_COUNT'] = more_than_one_dos_df.sort_values(by=['ID_VARIABLE', 'JPR_ID', 'DOS'], ascending=[True, True, True]).groupby(by=['ID_VARIABLE', 'JPR_ID'])['CHARGE_COUNT'].transform('last')"
   ]
  },
  {
   "cell_type": "code",
   "execution_count": 59,
   "metadata": {},
   "outputs": [],
   "source": [
    "# using the latest JP_MIN information (i.e. the most 'final' incarceration length), get the inc_relationship associated with that JP \n",
    "# we also want to take the max(IND_REL_NUMERIC), so we also sort in ascending order by INC_REL_NUMERIC and take the last observation\n",
    "# !!!! AZ edit\n",
    "more_than_one_dos_df['INC_REL_NUMERIC'] = more_than_one_dos_df.sort_values(by=['ID_VARIABLE', 'JPR_ID', 'DOS', 'INC_REL_NUMERIC'], ascending=[True, True, True, True]).groupby(by=['ID_VARIABLE', 'JPR_ID'])['INC_REL_NUMERIC'].transform('last')"
   ]
  },
  {
   "cell_type": "code",
   "execution_count": 60,
   "metadata": {},
   "outputs": [],
   "source": [
    "#combine the data back together\n",
    "\n",
    "df_combo_dos = pd.concat([only_one_dos, more_than_one_dos_df])\n",
    "\n",
    "df = df_combo_dos"
   ]
  },
  {
   "cell_type": "markdown",
   "metadata": {},
   "source": [
    "## **Step 2:** Adjust the ADJ_JPMIN variable to take the Max(JP_MIN) for a given JPR_ID, ID_VARIABLE combinations that have not already been addressed above"
   ]
  },
  {
   "cell_type": "code",
   "execution_count": 61,
   "metadata": {},
   "outputs": [],
   "source": [
    "df.loc[df[\"ADJ_JPMIN\"].isnull(), \"ADJ_JPMIN\"] =  df.groupby([\"JPR_ID\", \"ID_VARIABLE\"])[\"JP_MIN\"].transform(\"max\")\n"
   ]
  },
  {
   "cell_type": "markdown",
   "metadata": {},
   "source": [
    "## STEP 3: Create a New_DOS Variable to Account for Cases with Multiple Dates of Sentencing "
   ]
  },
  {
   "cell_type": "code",
   "execution_count": 62,
   "metadata": {},
   "outputs": [],
   "source": [
    "#if max_dos is null, then there is only one DOS associated with a given JPR_ID OTHERWISE, \n",
    "# the new_dos becomes the max dos (meaning there were multiple dates of sentence associated with that JPR_ID)\n",
    "df.loc[df[\"MAX_DOS\"].notna(), \"NEW_DOS\"] = df[\"MAX_DOS\"]\n",
    "\n",
    "df.loc[df[\"MAX_DOS\"].isnull(), \"NEW_DOS\"] = df[\"DOS\"]"
   ]
  },
  {
   "cell_type": "markdown",
   "metadata": {},
   "source": [
    "## Step 3: Ensure that the INC_SANCTION_EXISTS Flag Is Aggregated Correctly"
   ]
  },
  {
   "cell_type": "markdown",
   "metadata": {},
   "source": [
    "##### !!! AZ edit of this entire section: "
   ]
  },
  {
   "cell_type": "code",
   "execution_count": 70,
   "metadata": {},
   "outputs": [],
   "source": [
    "# In this case, we can fill out all NA values in INC_SANCTION_EXISTS with \"N\" @Laknath --- KEEP!!! -- start this section here\n",
    "df['INC_SANCTION_EXISTS'].fillna(\"N\", inplace=True)"
   ]
  },
  {
   "cell_type": "code",
   "execution_count": 71,
   "metadata": {},
   "outputs": [],
   "source": [
    "# Next, by taking the MAX() within each ID_VARIABLE and JPR_ID group, we can flag a case as INC_SANCTION_EXISTS = Y if at least one charge in the JPR_ID has an incarceration sanction  @Laknath --- KEEP!!!\n",
    "df['NEW_INC_SANCTION_EXISTS'] = np.where(df['INC_SANCTION_EXISTS']=='Y', 1, 0)\n",
    "df['NEW_INC_SANCTION_EXISTS'] = df.groupby(by=['JPR_ID', 'ID_VARIABLE'])['NEW_INC_SANCTION_EXISTS'].transform('max')"
   ]
  },
  {
   "cell_type": "code",
   "execution_count": 72,
   "metadata": {},
   "outputs": [
    {
     "name": "stdout",
     "output_type": "stream",
     "text": [
      "Note: As shown below, there are two distinct JPs before we collapse at the ID_VAR, DOS-LEVEL with the adj_jpmin & new_inc_sanction_exists mismatch\n"
     ]
    },
    {
     "data": {
      "text/html": [
       "<div>\n",
       "<style scoped>\n",
       "    .dataframe tbody tr th:only-of-type {\n",
       "        vertical-align: middle;\n",
       "    }\n",
       "\n",
       "    .dataframe tbody tr th {\n",
       "        vertical-align: top;\n",
       "    }\n",
       "\n",
       "    .dataframe thead th {\n",
       "        text-align: right;\n",
       "    }\n",
       "</style>\n",
       "<table border=\"1\" class=\"dataframe\">\n",
       "  <thead>\n",
       "    <tr style=\"text-align: right;\">\n",
       "      <th></th>\n",
       "      <th>ID_VARIABLE</th>\n",
       "      <th>JPR_ID</th>\n",
       "      <th>DOS</th>\n",
       "      <th>NEW_DOF</th>\n",
       "      <th>NEW_INC_SANCTION_EXISTS</th>\n",
       "      <th>INC_SANCTION_EXISTS</th>\n",
       "      <th>INCMIN</th>\n",
       "      <th>ADJ_JPMIN</th>\n",
       "    </tr>\n",
       "  </thead>\n",
       "  <tbody>\n",
       "    <tr>\n",
       "      <th>2208408</th>\n",
       "      <td>1501571</td>\n",
       "      <td>5794095</td>\n",
       "      <td>2017-09-07</td>\n",
       "      <td>2016-02-18</td>\n",
       "      <td>0</td>\n",
       "      <td>N</td>\n",
       "      <td>NaN</td>\n",
       "      <td>349.0</td>\n",
       "    </tr>\n",
       "    <tr>\n",
       "      <th>2208409</th>\n",
       "      <td>1501571</td>\n",
       "      <td>5794095</td>\n",
       "      <td>2017-09-07</td>\n",
       "      <td>2016-02-18</td>\n",
       "      <td>0</td>\n",
       "      <td>N</td>\n",
       "      <td>NaN</td>\n",
       "      <td>349.0</td>\n",
       "    </tr>\n",
       "    <tr>\n",
       "      <th>2347266</th>\n",
       "      <td>1644095</td>\n",
       "      <td>5480997</td>\n",
       "      <td>2018-07-25</td>\n",
       "      <td>2014-07-29</td>\n",
       "      <td>0</td>\n",
       "      <td>N</td>\n",
       "      <td>NaN</td>\n",
       "      <td>148.0</td>\n",
       "    </tr>\n",
       "  </tbody>\n",
       "</table>\n",
       "</div>"
      ],
      "text/plain": [
       "         ID_VARIABLE   JPR_ID        DOS    NEW_DOF  NEW_INC_SANCTION_EXISTS  \\\n",
       "2208408      1501571  5794095 2017-09-07 2016-02-18                        0   \n",
       "2208409      1501571  5794095 2017-09-07 2016-02-18                        0   \n",
       "2347266      1644095  5480997 2018-07-25 2014-07-29                        0   \n",
       "\n",
       "        INC_SANCTION_EXISTS  INCMIN  ADJ_JPMIN  \n",
       "2208408                   N     NaN      349.0  \n",
       "2208409                   N     NaN      349.0  \n",
       "2347266                   N     NaN      148.0  "
      ]
     },
     "execution_count": 72,
     "metadata": {},
     "output_type": "execute_result"
    }
   ],
   "source": [
    "print(\"Note: As shown below, there are two distinct JPs before we collapse at the ID_VAR, DOS-LEVEL with the adj_jpmin & new_inc_sanction_exists mismatch\") #@Laknath --- KEEP!!!\n",
    "df.loc[(df[\"ADJ_JPMIN\"] > 0) & (df[\"NEW_INC_SANCTION_EXISTS\"] == 0)][[\"ID_VARIABLE\", \"JPR_ID\", \"DOS\", \"NEW_DOF\", \"NEW_INC_SANCTION_EXISTS\", \"INC_SANCTION_EXISTS\", \"INCMIN\", \"ADJ_JPMIN\"]] #, \"OFN_LIFE_DEATH\", \"JP_LIFE_DEATH\"]] \n"
   ]
  },
  {
   "cell_type": "code",
   "execution_count": 75,
   "metadata": {},
   "outputs": [],
   "source": [
    "# To resolve the above, we will mark NEW_INC_SANCTION_EXISTS as \"Y\" if ADJ_JPMIN is > 0 @Laknath --- KEEP!!!\n",
    "df['NEW_INC_SANCTION_EXISTS'] = np.where(df['ADJ_JPMIN']>0, 1, df['NEW_INC_SANCTION_EXISTS'])"
   ]
  },
  {
   "cell_type": "code",
   "execution_count": 76,
   "metadata": {},
   "outputs": [
    {
     "name": "stdout",
     "output_type": "stream",
     "text": [
      "Note: double check that this issue is resolved. As seen below, there are no more conflicts\n"
     ]
    },
    {
     "data": {
      "text/html": [
       "<div>\n",
       "<style scoped>\n",
       "    .dataframe tbody tr th:only-of-type {\n",
       "        vertical-align: middle;\n",
       "    }\n",
       "\n",
       "    .dataframe tbody tr th {\n",
       "        vertical-align: top;\n",
       "    }\n",
       "\n",
       "    .dataframe thead th {\n",
       "        text-align: right;\n",
       "    }\n",
       "</style>\n",
       "<table border=\"1\" class=\"dataframe\">\n",
       "  <thead>\n",
       "    <tr style=\"text-align: right;\">\n",
       "      <th></th>\n",
       "      <th>ID_VARIABLE</th>\n",
       "      <th>JPR_ID</th>\n",
       "      <th>DOS</th>\n",
       "      <th>NEW_DOF</th>\n",
       "      <th>NEW_INC_SANCTION_EXISTS</th>\n",
       "      <th>INC_SANCTION_EXISTS</th>\n",
       "      <th>INCMIN</th>\n",
       "      <th>ADJ_JPMIN</th>\n",
       "    </tr>\n",
       "  </thead>\n",
       "  <tbody>\n",
       "  </tbody>\n",
       "</table>\n",
       "</div>"
      ],
      "text/plain": [
       "Empty DataFrame\n",
       "Columns: [ID_VARIABLE, JPR_ID, DOS, NEW_DOF, NEW_INC_SANCTION_EXISTS, INC_SANCTION_EXISTS, INCMIN, ADJ_JPMIN]\n",
       "Index: []"
      ]
     },
     "execution_count": 76,
     "metadata": {},
     "output_type": "execute_result"
    }
   ],
   "source": [
    "# @Laknath --- KEEP!!!\n",
    "print(\"Note: double check that this issue is resolved. As seen below, there are no more conflicts\")\n",
    "df.loc[(df[\"ADJ_JPMIN\"] > 0) & (df[\"NEW_INC_SANCTION_EXISTS\"] == 0)][[\"ID_VARIABLE\", \"JPR_ID\", \"DOS\", \"NEW_DOF\", \"NEW_INC_SANCTION_EXISTS\", \"INC_SANCTION_EXISTS\", \"INCMIN\", \"ADJ_JPMIN\"]] #, \"OFN_LIFE_DEATH\", \"JP_LIFE_DEATH\"]] \n"
   ]
  },
  {
   "cell_type": "markdown",
   "metadata": {},
   "source": [
    "# Aggregate Select Columns at the JPR_ID Level"
   ]
  },
  {
   "cell_type": "markdown",
   "metadata": {},
   "source": [
    "## Get MAX PRS and OGS Scores at the JPR_ID level"
   ]
  },
  {
   "cell_type": "code",
   "execution_count": 77,
   "metadata": {},
   "outputs": [
    {
     "data": {
      "text/plain": [
       "array(['0', '1', '2', '3', '5', '4', 'RFEL/REVOC'], dtype=object)"
      ]
     },
     "execution_count": 77,
     "metadata": {},
     "output_type": "execute_result"
    }
   ],
   "source": [
    "df['PRS'].unique()"
   ]
  },
  {
   "cell_type": "code",
   "execution_count": 78,
   "metadata": {},
   "outputs": [],
   "source": [
    "# convert PRS scores to int to allow for taking the maximum value when collapsing\n",
    "df['PRS'] = np.where(df['PRS']=='RFEL/REVOC', '6', df['PRS'])\n",
    "df['PRS'] = df['PRS'].astype('int')"
   ]
  },
  {
   "cell_type": "code",
   "execution_count": 79,
   "metadata": {},
   "outputs": [],
   "source": [
    "\n",
    "# new code:\n",
    "df['PRS8'] = df.groupby([\"ID_VARIABLE\", \"JPR_ID\"])['PRS8'].transform(\"max\")\n",
    "df['PRS'] = df.groupby([\"ID_VARIABLE\", \"JPR_ID\"])['PRS'].transform('max')\n",
    "df['OGS'] = df.groupby([\"ID_VARIABLE\", \"JPR_ID\"])['OGS'].transform('max')"
   ]
  },
  {
   "cell_type": "markdown",
   "metadata": {},
   "source": [
    "## Collapsing Crime Type Variables at the JPR_ID Level"
   ]
  },
  {
   "cell_type": "code",
   "execution_count": 80,
   "metadata": {},
   "outputs": [],
   "source": [
    "crime_cats = ['SEXCRIME', 'SEXTIER_NUMERIC', 'FIREARMS', 'VIOLENCE', 'DRUGOFFENSE', 'DUI']"
   ]
  },
  {
   "cell_type": "code",
   "execution_count": 81,
   "metadata": {},
   "outputs": [],
   "source": [
    "for i in crime_cats:\n",
    "    df[i] = np.where(df[i]==True, 1, 0)"
   ]
  },
  {
   "cell_type": "code",
   "execution_count": 82,
   "metadata": {},
   "outputs": [],
   "source": [
    "for i in crime_cats:\n",
    "    df[i] = df.groupby([\"ID_VARIABLE\", \"JPR_ID\"])[i].transform(\"max\")"
   ]
  },
  {
   "cell_type": "markdown",
   "metadata": {},
   "source": [
    "## Collapsing the county information at the JPR_ID Level"
   ]
  },
  {
   "cell_type": "code",
   "execution_count": 83,
   "metadata": {},
   "outputs": [],
   "source": [
    "# !!! AZ edit: get CTY at JPR_ID level \n",
    "df['CTY_PHL'] = df.groupby(by=['ID_VARIABLE', 'JPR_ID'])['CTY_PHL'].transform('max')"
   ]
  },
  {
   "cell_type": "markdown",
   "metadata": {},
   "source": [
    "### Collapse additional columns !!! AZ added"
   ]
  },
  {
   "cell_type": "code",
   "execution_count": 84,
   "metadata": {},
   "outputs": [],
   "source": [
    "# !!! AZ Edit\n",
    "df[\"ADJ_JPMIN\"] = df.groupby(by=[\"ID_VARIABLE\", \"JPR_ID\"])[\"ADJ_JPMIN\"].transform(max)\n",
    "df[\"LATEST_JPMIN\"] = df.groupby(by=[\"ID_VARIABLE\", \"JPR_ID\"])[\"LATEST_JPMIN\"].transform(max)\n",
    "df[\"NEW_INC_SANCTION_EXISTS\"] = df.groupby(by=[\"ID_VARIABLE\", \"JPR_ID\"])[\"NEW_INC_SANCTION_EXISTS\"].transform(max) #will need to edit this at the end back to Y or N\n"
   ]
  },
  {
   "cell_type": "code",
   "execution_count": 85,
   "metadata": {},
   "outputs": [],
   "source": [
    "df[\"INCMIN\"] = df.groupby(by=[\"ID_VARIABLE\", \"JPR_ID\"])[\"INCMIN\"].transform(max)"
   ]
  },
  {
   "cell_type": "code",
   "execution_count": 86,
   "metadata": {},
   "outputs": [
    {
     "data": {
      "text/plain": [
       "array([nan, 'LIFE', 'DEATH'], dtype=object)"
      ]
     },
     "execution_count": 86,
     "metadata": {},
     "output_type": "execute_result"
    }
   ],
   "source": [
    "df['OFN_LIFE_DEATH'].unique()"
   ]
  },
  {
   "cell_type": "code",
   "execution_count": 87,
   "metadata": {},
   "outputs": [
    {
     "data": {
      "text/plain": [
       "array([nan, 'Yes', 'No'], dtype=object)"
      ]
     },
     "execution_count": 87,
     "metadata": {},
     "output_type": "execute_result"
    }
   ],
   "source": [
    "df['JP_LIFE_DEATH'].unique()"
   ]
  },
  {
   "cell_type": "code",
   "execution_count": 88,
   "metadata": {},
   "outputs": [],
   "source": [
    "# replace \"No\" values in JP_LIFE_DEATH column with NAs \n",
    "df['JP_LIFE_DEATH'] = np.where(df['JP_LIFE_DEATH']=='No', np.nan, df['JP_LIFE_DEATH'])"
   ]
  },
  {
   "cell_type": "code",
   "execution_count": 89,
   "metadata": {},
   "outputs": [],
   "source": [
    "life_death = ['OFN_LIFE_DEATH', 'JP_LIFE_DEATH']\n",
    "\n",
    "# replace with numeric values\n",
    "for i in life_death:\n",
    "    df[i] = np.where(df[i].isna(), 0, 1)"
   ]
  },
  {
   "cell_type": "code",
   "execution_count": 90,
   "metadata": {},
   "outputs": [],
   "source": [
    "for i in life_death:\n",
    "    df[i] = df.groupby(by=[\"ID_VARIABLE\", \"JPR_ID\"])[i].transform(max)"
   ]
  },
  {
   "cell_type": "markdown",
   "metadata": {},
   "source": [
    "# Collapse the data at the ID_VARIABLE, DOS-LEVEL \n",
    "\n"
   ]
  },
  {
   "cell_type": "markdown",
   "metadata": {},
   "source": [
    "### Adjust the following columns to be at the id var, dos level"
   ]
  },
  {
   "cell_type": "code",
   "execution_count": 91,
   "metadata": {},
   "outputs": [],
   "source": [
    "df['LATEST_JPMIN'] = np.where(df['LATEST_JPMIN'].isna(), df['JP_MIN'], df['LATEST_JPMIN']) "
   ]
  },
  {
   "cell_type": "code",
   "execution_count": 92,
   "metadata": {},
   "outputs": [],
   "source": [
    "df_collapsed = df[['ID_VARIABLE', 'NEW_DOS', 'NEW_DOF', 'PRS', 'OGS', 'PRS8', 'ADJ_JPMIN', \n",
    "    'LATEST_JPMIN', 'CTY_PHL', 'INCMIN', 'NEW_INC_SANCTION_EXISTS', \n",
    "    'CHARGE_COUNT', 'INC_REL_NUMERIC', 'OFN_LIFE_DEATH', 'JP_LIFE_DEATH'] + crime_cats].copy()\n",
    "\n",
    "\n",
    "#get the max values of the OGS and JP_MIN values \n",
    "df_collapsed['OGS'] = df_collapsed.groupby(by=[\"ID_VARIABLE\", \"NEW_DOS\"])[\"OGS\"].transform(max)\n",
    "\n",
    "#for the same id_variable, DOS pairing, get the \"MIN\" (i.e. first) DOF\n",
    "df_collapsed['NEW_DOF'] = df_collapsed.groupby(by=[\"ID_VARIABLE\", \"NEW_DOS\"])[\"NEW_DOF\"].transform(min)\n",
    "\n",
    "#get the max PRS and PRS8 scores at the id_variable, date of sentencing level\n",
    "df_collapsed['PRS'] = df_collapsed.groupby(by=[\"ID_VARIABLE\", \"NEW_DOS\"])[\"PRS\"].transform(max)\n",
    "df_collapsed[\"PRS8\"] = df_collapsed.groupby(by=[\"ID_VARIABLE\", \"NEW_DOS\"])[\"PRS8\"].transform(max)\n",
    "\n",
    "#collapse each crime type variable at the id var, dos level\n",
    "for i in crime_cats:\n",
    "    df_collapsed[i] = df_collapsed.groupby(by=[\"ID_VARIABLE\", \"NEW_DOS\"])[i].transform(max)\n",
    "\n",
    "# collapse the adjusted JPMIN and latest JPMIN variables \n",
    "df_collapsed[\"ADJ_JPMIN\"] = df_collapsed.groupby(by=[\"ID_VARIABLE\", \"NEW_DOS\"])[\"ADJ_JPMIN\"].transform(max)\n",
    "df_collapsed[\"LATEST_JPMIN\"] = df_collapsed.groupby(by=[\"ID_VARIABLE\", \"NEW_DOS\"])[\"LATEST_JPMIN\"].transform(max)\n",
    "\n",
    "# also collapse INCMIN values for use in edge cases later\n",
    "df_collapsed[\"INCMIN\"] = df_collapsed.groupby(by=[\"ID_VARIABLE\", \"NEW_DOS\"])[\"INCMIN\"].transform(max)\n",
    "\n",
    "# collapse Philly county flag information\n",
    "df_collapsed[\"CTY_PHL\"] = df_collapsed.groupby(by=[\"ID_VARIABLE\", \"NEW_DOS\"])[\"CTY_PHL\"].transform(max)\n",
    "\n",
    "# collapse incarceration sanction information\n",
    "df_collapsed[\"NEW_INC_SANCTION_EXISTS\"] = df_collapsed.groupby(by=[\"ID_VARIABLE\", \"NEW_DOS\"])[\"NEW_INC_SANCTION_EXISTS\"].transform(max)\n",
    "\n",
    "# collapse life/death information\n",
    "for i in life_death:\n",
    "    df_collapsed[i] = df_collapsed.groupby(by=[\"ID_VARIABLE\", \"NEW_DOS\"])[i].transform(max)\n",
    "\n",
    "# for charge counts and inc relationship, use the data observed for the most serious sanction (e.g. max latest_jp_min)\n",
    "# we use LATEST_JPMIN here instead of adjusted JPMIN to consider the actual total length of sentence\n",
    "# rather than the remaining sentence that needs to be served, for cases with multiple DOS per JP\n",
    "# we first sort by ID_VAR (ascending), DOS (ascending), and LATEST_JPMIN (descending), \n",
    "# and grab the first value for CHARGE_COUNT and INC_REL_NUMERIC within each group \n",
    "df_collapsed['CHARGE_COUNT'] = df_collapsed.sort_values(by=['ID_VARIABLE', 'NEW_DOS', 'LATEST_JPMIN'], ascending=[True, True, False]\n",
    "    ).groupby(['ID_VARIABLE', 'NEW_DOS'])['CHARGE_COUNT'].transform('first')\n",
    "\n",
    "# note that skipna is set to False here since we want to keep N\n",
    "df_collapsed['INC_REL_NUMERIC'] = df_collapsed.sort_values(by=['ID_VARIABLE', 'NEW_DOS', 'LATEST_JPMIN'], ascending=[True, True, False]\n",
    "    ).groupby(['ID_VARIABLE', 'NEW_DOS'])['INC_REL_NUMERIC'].transform('first')\n"
   ]
  },
  {
   "cell_type": "markdown",
   "metadata": {},
   "source": [
    "## Actually Collapse the Dataset Now "
   ]
  },
  {
   "cell_type": "code",
   "execution_count": 93,
   "metadata": {},
   "outputs": [
    {
     "data": {
      "text/html": [
       "<div>\n",
       "<style scoped>\n",
       "    .dataframe tbody tr th:only-of-type {\n",
       "        vertical-align: middle;\n",
       "    }\n",
       "\n",
       "    .dataframe tbody tr th {\n",
       "        vertical-align: top;\n",
       "    }\n",
       "\n",
       "    .dataframe thead th {\n",
       "        text-align: right;\n",
       "    }\n",
       "</style>\n",
       "<table border=\"1\" class=\"dataframe\">\n",
       "  <thead>\n",
       "    <tr style=\"text-align: right;\">\n",
       "      <th></th>\n",
       "      <th>ID_VARIABLE</th>\n",
       "      <th>NEW_DOS</th>\n",
       "      <th>NEW_DOF</th>\n",
       "      <th>PRS</th>\n",
       "      <th>OGS</th>\n",
       "      <th>PRS8</th>\n",
       "      <th>ADJ_JPMIN</th>\n",
       "      <th>LATEST_JPMIN</th>\n",
       "      <th>CTY_PHL</th>\n",
       "      <th>INCMIN</th>\n",
       "      <th>...</th>\n",
       "      <th>CHARGE_COUNT</th>\n",
       "      <th>INC_REL_NUMERIC</th>\n",
       "      <th>OFN_LIFE_DEATH</th>\n",
       "      <th>JP_LIFE_DEATH</th>\n",
       "      <th>SEXCRIME</th>\n",
       "      <th>SEXTIER_NUMERIC</th>\n",
       "      <th>FIREARMS</th>\n",
       "      <th>VIOLENCE</th>\n",
       "      <th>DRUGOFFENSE</th>\n",
       "      <th>DUI</th>\n",
       "    </tr>\n",
       "  </thead>\n",
       "  <tbody>\n",
       "    <tr>\n",
       "      <th>0</th>\n",
       "      <td>1000001</td>\n",
       "      <td>2010-02-18</td>\n",
       "      <td>2009-06-25</td>\n",
       "      <td>0</td>\n",
       "      <td>3.0</td>\n",
       "      <td>1.0</td>\n",
       "      <td>16.0</td>\n",
       "      <td>16.0</td>\n",
       "      <td>0</td>\n",
       "      <td>0.526316</td>\n",
       "      <td>...</td>\n",
       "      <td>3</td>\n",
       "      <td>0.0</td>\n",
       "      <td>0</td>\n",
       "      <td>0</td>\n",
       "      <td>0</td>\n",
       "      <td>0</td>\n",
       "      <td>0</td>\n",
       "      <td>0</td>\n",
       "      <td>0</td>\n",
       "      <td>0</td>\n",
       "    </tr>\n",
       "    <tr>\n",
       "      <th>1</th>\n",
       "      <td>1000002</td>\n",
       "      <td>2017-01-31</td>\n",
       "      <td>2015-09-01</td>\n",
       "      <td>4</td>\n",
       "      <td>3.0</td>\n",
       "      <td>2.0</td>\n",
       "      <td>120.0</td>\n",
       "      <td>120.0</td>\n",
       "      <td>0</td>\n",
       "      <td>4.000000</td>\n",
       "      <td>...</td>\n",
       "      <td>2</td>\n",
       "      <td>1.0</td>\n",
       "      <td>0</td>\n",
       "      <td>0</td>\n",
       "      <td>0</td>\n",
       "      <td>0</td>\n",
       "      <td>0</td>\n",
       "      <td>0</td>\n",
       "      <td>0</td>\n",
       "      <td>1</td>\n",
       "    </tr>\n",
       "    <tr>\n",
       "      <th>2</th>\n",
       "      <td>1000003</td>\n",
       "      <td>2002-05-08</td>\n",
       "      <td>2001-09-07</td>\n",
       "      <td>0</td>\n",
       "      <td>3.0</td>\n",
       "      <td>2.0</td>\n",
       "      <td>0.0</td>\n",
       "      <td>0.0</td>\n",
       "      <td>0</td>\n",
       "      <td>NaN</td>\n",
       "      <td>...</td>\n",
       "      <td>1</td>\n",
       "      <td>0.0</td>\n",
       "      <td>0</td>\n",
       "      <td>0</td>\n",
       "      <td>0</td>\n",
       "      <td>0</td>\n",
       "      <td>0</td>\n",
       "      <td>0</td>\n",
       "      <td>1</td>\n",
       "      <td>0</td>\n",
       "    </tr>\n",
       "    <tr>\n",
       "      <th>3</th>\n",
       "      <td>1000003</td>\n",
       "      <td>2009-03-04</td>\n",
       "      <td>2009-03-04</td>\n",
       "      <td>3</td>\n",
       "      <td>3.0</td>\n",
       "      <td>3.0</td>\n",
       "      <td>92.0</td>\n",
       "      <td>92.0</td>\n",
       "      <td>0</td>\n",
       "      <td>3.000000</td>\n",
       "      <td>...</td>\n",
       "      <td>1</td>\n",
       "      <td>0.0</td>\n",
       "      <td>0</td>\n",
       "      <td>0</td>\n",
       "      <td>0</td>\n",
       "      <td>0</td>\n",
       "      <td>0</td>\n",
       "      <td>0</td>\n",
       "      <td>0</td>\n",
       "      <td>0</td>\n",
       "    </tr>\n",
       "    <tr>\n",
       "      <th>4</th>\n",
       "      <td>1000004</td>\n",
       "      <td>2013-12-10</td>\n",
       "      <td>2013-09-19</td>\n",
       "      <td>0</td>\n",
       "      <td>1.0</td>\n",
       "      <td>2.0</td>\n",
       "      <td>0.0</td>\n",
       "      <td>0.0</td>\n",
       "      <td>0</td>\n",
       "      <td>NaN</td>\n",
       "      <td>...</td>\n",
       "      <td>1</td>\n",
       "      <td>0.0</td>\n",
       "      <td>0</td>\n",
       "      <td>0</td>\n",
       "      <td>0</td>\n",
       "      <td>0</td>\n",
       "      <td>0</td>\n",
       "      <td>0</td>\n",
       "      <td>1</td>\n",
       "      <td>0</td>\n",
       "    </tr>\n",
       "  </tbody>\n",
       "</table>\n",
       "<p>5 rows × 21 columns</p>\n",
       "</div>"
      ],
      "text/plain": [
       "   ID_VARIABLE    NEW_DOS    NEW_DOF  PRS  OGS  PRS8  ADJ_JPMIN  LATEST_JPMIN  \\\n",
       "0      1000001 2010-02-18 2009-06-25    0  3.0   1.0       16.0          16.0   \n",
       "1      1000002 2017-01-31 2015-09-01    4  3.0   2.0      120.0         120.0   \n",
       "2      1000003 2002-05-08 2001-09-07    0  3.0   2.0        0.0           0.0   \n",
       "3      1000003 2009-03-04 2009-03-04    3  3.0   3.0       92.0          92.0   \n",
       "4      1000004 2013-12-10 2013-09-19    0  1.0   2.0        0.0           0.0   \n",
       "\n",
       "   CTY_PHL    INCMIN  ...  CHARGE_COUNT  INC_REL_NUMERIC  OFN_LIFE_DEATH  \\\n",
       "0        0  0.526316  ...             3              0.0               0   \n",
       "1        0  4.000000  ...             2              1.0               0   \n",
       "2        0       NaN  ...             1              0.0               0   \n",
       "3        0  3.000000  ...             1              0.0               0   \n",
       "4        0       NaN  ...             1              0.0               0   \n",
       "\n",
       "   JP_LIFE_DEATH  SEXCRIME  SEXTIER_NUMERIC  FIREARMS  VIOLENCE  DRUGOFFENSE  \\\n",
       "0              0         0                0         0         0            0   \n",
       "1              0         0                0         0         0            0   \n",
       "2              0         0                0         0         0            1   \n",
       "3              0         0                0         0         0            0   \n",
       "4              0         0                0         0         0            1   \n",
       "\n",
       "   DUI  \n",
       "0    0  \n",
       "1    1  \n",
       "2    0  \n",
       "3    0  \n",
       "4    0  \n",
       "\n",
       "[5 rows x 21 columns]"
      ]
     },
     "execution_count": 93,
     "metadata": {},
     "output_type": "execute_result"
    }
   ],
   "source": [
    "#collapse data to be at the id variable, DOS level (need to ungroup the data for the at_risk date calculation to work)\n",
    "df_collapsed = df_collapsed.copy().groupby([\"ID_VARIABLE\", \"NEW_DOS\"]).first().reset_index()\n",
    "\n",
    "#inspect the results\n",
    "df_collapsed.head() # [[\"ID_VARIABLE\", \"DOS\", \"NEW_DOF\", \"NEW_INC_SANCTION_EXISTS\", \"ADJ_JPMIN\", \"LATEST_JPMIN\", \"CHARGE_COUNT\", \"CTY_PHL\", \"CHARGE_COUNT\", \"INC_REL_NUMERIC\"] + crime_cats] #, \"OFN_LIFE_DEATH\", \"JP_LIFE_DEATH\"]] "
   ]
  },
  {
   "cell_type": "code",
   "execution_count": 97,
   "metadata": {},
   "outputs": [
    {
     "data": {
      "text/plain": [
       "(1486949, 21)"
      ]
     },
     "execution_count": 97,
     "metadata": {},
     "output_type": "execute_result"
    }
   ],
   "source": [
    "df_collapsed.shape"
   ]
  },
  {
   "cell_type": "markdown",
   "metadata": {},
   "source": [
    "### **STEP 3:** Calculate the AT_RISK_DT using the following logic"
   ]
  },
  {
   "cell_type": "code",
   "execution_count": 98,
   "metadata": {},
   "outputs": [
    {
     "data": {
      "text/plain": [
       "array(['LIFE', nan, 'DEATH', '420 Months', '360 Months'], dtype=object)"
      ]
     },
     "execution_count": 98,
     "metadata": {},
     "output_type": "execute_result"
    }
   ],
   "source": [
    "# check cases where INC_SANCTION_EXISTS is 1 but there are no INCMIN or JP_MIN values filled out @Laknath --- remove!!!\n",
    "# all of these seem to have long mandatory minimums \n",
    "df[(df.NEW_INC_SANCTION_EXISTS==1) & (df['INCMIN'].isna()) & (df['ADJ_JPMIN'].isna())]['MND_MINIMUM'].unique()"
   ]
  },
  {
   "cell_type": "code",
   "execution_count": 99,
   "metadata": {},
   "outputs": [
    {
     "data": {
      "text/html": [
       "<div>\n",
       "<style scoped>\n",
       "    .dataframe tbody tr th:only-of-type {\n",
       "        vertical-align: middle;\n",
       "    }\n",
       "\n",
       "    .dataframe tbody tr th {\n",
       "        vertical-align: top;\n",
       "    }\n",
       "\n",
       "    .dataframe thead th {\n",
       "        text-align: right;\n",
       "    }\n",
       "</style>\n",
       "<table border=\"1\" class=\"dataframe\">\n",
       "  <thead>\n",
       "    <tr style=\"text-align: right;\">\n",
       "      <th></th>\n",
       "      <th>UNNAMED: 0</th>\n",
       "      <th>UNNAMED: 0.1</th>\n",
       "      <th>INC_END</th>\n",
       "      <th>MOSTSERIOUS</th>\n",
       "      <th>MND_MINIMUM</th>\n",
       "      <th>OFF_AGE</th>\n",
       "      <th>PRS_MANUAL</th>\n",
       "      <th>JPS_DRUG_DEPENDENT</th>\n",
       "      <th>INC_TYPE</th>\n",
       "      <th>JPO_ID</th>\n",
       "      <th>...</th>\n",
       "      <th>INC_REL_NUMERIC</th>\n",
       "      <th>CHARGE_COUNT</th>\n",
       "      <th>NUM_DOS</th>\n",
       "      <th>MAX_DOS</th>\n",
       "      <th>MIN_DOS</th>\n",
       "      <th>TIME_SERVED</th>\n",
       "      <th>LATEST_JPMIN</th>\n",
       "      <th>ADJ_JPMIN</th>\n",
       "      <th>NEW_DOS</th>\n",
       "      <th>NEW_INC_SANCTION_EXISTS</th>\n",
       "    </tr>\n",
       "  </thead>\n",
       "  <tbody>\n",
       "  </tbody>\n",
       "</table>\n",
       "<p>0 rows × 114 columns</p>\n",
       "</div>"
      ],
      "text/plain": [
       "Empty DataFrame\n",
       "Columns: [UNNAMED: 0, UNNAMED: 0.1, INC_END, MOSTSERIOUS, MND_MINIMUM, OFF_AGE, PRS_MANUAL, JPS_DRUG_DEPENDENT, INC_TYPE, JPO_ID, PROB_SANCTION_EXISTS, JPR_ID, DOSAGE, IP_START, GUILTY_NO_PENALTY, OFN_LABEL, STAT_MIN, F2TOT, DOB2, SGR_LVL, OFF_SEX, F3TOT, DOS, F1TOT, JP_MIN, INC_RELATIONSHIP, OFN_TITLE, OGS, JMIN, F1F2, REASON_THREE, JPR_LASTUPDATE, OFN_COUNT, MS_OFFBODY, OFN_GRADE, PCS_OFF_ID, JPS_DA_EVAL, SGR_LVL_OGS_PRS, INCMAX, REASON_ONE, M1TOT, PMIN, JPS_SVP, PRS_OTHER_MISD, DOF, GRADE, GLEPOCH, PRS8, IP_SANCTION_EXISTS, INC_RELATEDTO, IP_END, INC_RELATEDOTN, PRS_LAPSING, SIP, CONFORMITY, INC_SANCTION_EXISTS, DOB, MS_OFFINJP, INC_START, CONFORM, OFF_RACE, PRS, LABEL, PRS_NONLAPSING, JP_CC_BUG, MORE_REASONS, MS_SANCTION, STATE_IP, MS_SENTJP, OFN_LIFE_DEATH, OTN, DISPOSITION, COUNTY, DOFAGE, ID_VARIABLE, OFF_CRIMEFREE, REASON_TWO, INCMIN, JP_LIFE_DEATH, M2TOT, GUIDELINE_RANGE, PRS8.1, F1TOT.1, F2TOT.1, F3TOT.1, M1TOT.1, M2TOT.1, F1F2.1, MOSTSERIOUS.1, OFN_TITLE.1, OFN_SECTION, OFN_SUBSECTION, JPS_WALSHACTASSESSMENT, DOF_YEAR, DOS_YEAR, NEW_DOF, SEXCRIME, SEXTIER_NUMERIC, OFN_SECTION_61, FIREARMS, ...]\n",
       "Index: []\n",
       "\n",
       "[0 rows x 114 columns]"
      ]
     },
     "execution_count": 99,
     "metadata": {},
     "output_type": "execute_result"
    }
   ],
   "source": [
    "# but there are cases with NA values in the MND_MINIMUM column. these are likely life/death cases. if we filter out life/death using OFN_LIFE_DEATH and JP_LIFE_DEATH, no further rows remain #@Laknath --- remove!!!\n",
    "df[(df.NEW_INC_SANCTION_EXISTS==1) & (df['INCMIN'].isna()) & (df['ADJ_JPMIN'].isna()) & (df['MND_MINIMUM'].isna()) & (df['OFN_LIFE_DEATH']==0) & (df['JP_LIFE_DEATH']==0)]"
   ]
  },
  {
   "cell_type": "code",
   "execution_count": 100,
   "metadata": {},
   "outputs": [
    {
     "data": {
      "text/plain": [
       "array([0, 1])"
      ]
     },
     "execution_count": 100,
     "metadata": {},
     "output_type": "execute_result"
    }
   ],
   "source": [
    "df[(df.NEW_INC_SANCTION_EXISTS==1) & (df['INCMIN'].isna()) & (df['ADJ_JPMIN'].isna())]['JP_LIFE_DEATH'].unique() #@Laknath --- remove!!!"
   ]
  },
  {
   "cell_type": "code",
   "execution_count": 101,
   "metadata": {},
   "outputs": [
    {
     "data": {
      "text/html": [
       "<div>\n",
       "<style scoped>\n",
       "    .dataframe tbody tr th:only-of-type {\n",
       "        vertical-align: middle;\n",
       "    }\n",
       "\n",
       "    .dataframe tbody tr th {\n",
       "        vertical-align: top;\n",
       "    }\n",
       "\n",
       "    .dataframe thead th {\n",
       "        text-align: right;\n",
       "    }\n",
       "</style>\n",
       "<table border=\"1\" class=\"dataframe\">\n",
       "  <thead>\n",
       "    <tr style=\"text-align: right;\">\n",
       "      <th></th>\n",
       "      <th>ID_VARIABLE</th>\n",
       "      <th>MND_MINIMUM</th>\n",
       "      <th>OFN_LIFE_DEATH</th>\n",
       "      <th>JP_LIFE_DEATH</th>\n",
       "      <th>OGS</th>\n",
       "      <th>DOS</th>\n",
       "      <th>JPR_ID</th>\n",
       "      <th>INCMIN</th>\n",
       "      <th>INC_END</th>\n",
       "      <th>JP_MIN</th>\n",
       "      <th>ADJ_JPMIN</th>\n",
       "      <th>INC_SANCTION_EXISTS</th>\n",
       "      <th>NEW_INC_SANCTION_EXISTS</th>\n",
       "    </tr>\n",
       "  </thead>\n",
       "  <tbody>\n",
       "    <tr>\n",
       "      <th>2486179</th>\n",
       "      <td>1001381</td>\n",
       "      <td>LIFE</td>\n",
       "      <td>1</td>\n",
       "      <td>1</td>\n",
       "      <td>0.0</td>\n",
       "      <td>2019-09-13</td>\n",
       "      <td>6043557</td>\n",
       "      <td>NaN</td>\n",
       "      <td>29 Dec 99</td>\n",
       "      <td>NaN</td>\n",
       "      <td>NaN</td>\n",
       "      <td>Y</td>\n",
       "      <td>1</td>\n",
       "    </tr>\n",
       "  </tbody>\n",
       "</table>\n",
       "</div>"
      ],
      "text/plain": [
       "         ID_VARIABLE MND_MINIMUM  OFN_LIFE_DEATH  JP_LIFE_DEATH  OGS  \\\n",
       "2486179      1001381        LIFE               1              1  0.0   \n",
       "\n",
       "               DOS   JPR_ID  INCMIN    INC_END  JP_MIN  ADJ_JPMIN  \\\n",
       "2486179 2019-09-13  6043557     NaN  29 Dec 99     NaN        NaN   \n",
       "\n",
       "        INC_SANCTION_EXISTS  NEW_INC_SANCTION_EXISTS  \n",
       "2486179                   Y                        1  "
      ]
     },
     "execution_count": 101,
     "metadata": {},
     "output_type": "execute_result"
    }
   ],
   "source": [
    "df[(df['ID_VARIABLE']==1001381) & (df['NEW_DOS']==pd.to_datetime('2019-09-13'))][['ID_VARIABLE', 'MND_MINIMUM', 'OFN_LIFE_DEATH', 'JP_LIFE_DEATH', 'OGS', 'DOS', 'JPR_ID', 'INCMIN', 'INC_END', 'JP_MIN', 'ADJ_JPMIN', 'INC_SANCTION_EXISTS', 'NEW_INC_SANCTION_EXISTS']] #@Laknath --- remove!!!"
   ]
  },
  {
   "cell_type": "code",
   "execution_count": 103,
   "metadata": {},
   "outputs": [
    {
     "data": {
      "text/html": [
       "<div>\n",
       "<style scoped>\n",
       "    .dataframe tbody tr th:only-of-type {\n",
       "        vertical-align: middle;\n",
       "    }\n",
       "\n",
       "    .dataframe tbody tr th {\n",
       "        vertical-align: top;\n",
       "    }\n",
       "\n",
       "    .dataframe thead th {\n",
       "        text-align: right;\n",
       "    }\n",
       "</style>\n",
       "<table border=\"1\" class=\"dataframe\">\n",
       "  <thead>\n",
       "    <tr style=\"text-align: right;\">\n",
       "      <th></th>\n",
       "      <th>ID_VARIABLE</th>\n",
       "      <th>INCMIN</th>\n",
       "      <th>ADJ_JPMIN</th>\n",
       "      <th>NEW_INC_SANCTION_EXISTS</th>\n",
       "      <th>NEW_DOS</th>\n",
       "      <th>NEW_DOF</th>\n",
       "      <th>AT_RISK_DT</th>\n",
       "    </tr>\n",
       "  </thead>\n",
       "  <tbody>\n",
       "    <tr>\n",
       "      <th>0</th>\n",
       "      <td>1000001</td>\n",
       "      <td>0.526316</td>\n",
       "      <td>16.0</td>\n",
       "      <td>1</td>\n",
       "      <td>2010-02-18</td>\n",
       "      <td>2009-06-25</td>\n",
       "      <td>2010-03-06</td>\n",
       "    </tr>\n",
       "    <tr>\n",
       "      <th>1</th>\n",
       "      <td>1000002</td>\n",
       "      <td>4.000000</td>\n",
       "      <td>120.0</td>\n",
       "      <td>1</td>\n",
       "      <td>2017-01-31</td>\n",
       "      <td>2015-09-01</td>\n",
       "      <td>2017-05-31</td>\n",
       "    </tr>\n",
       "    <tr>\n",
       "      <th>2</th>\n",
       "      <td>1000003</td>\n",
       "      <td>NaN</td>\n",
       "      <td>0.0</td>\n",
       "      <td>0</td>\n",
       "      <td>2002-05-08</td>\n",
       "      <td>2001-09-07</td>\n",
       "      <td>2002-05-08</td>\n",
       "    </tr>\n",
       "    <tr>\n",
       "      <th>3</th>\n",
       "      <td>1000003</td>\n",
       "      <td>3.000000</td>\n",
       "      <td>92.0</td>\n",
       "      <td>1</td>\n",
       "      <td>2009-03-04</td>\n",
       "      <td>2009-03-04</td>\n",
       "      <td>2009-06-04</td>\n",
       "    </tr>\n",
       "    <tr>\n",
       "      <th>4</th>\n",
       "      <td>1000004</td>\n",
       "      <td>NaN</td>\n",
       "      <td>0.0</td>\n",
       "      <td>0</td>\n",
       "      <td>2013-12-10</td>\n",
       "      <td>2013-09-19</td>\n",
       "      <td>2013-12-10</td>\n",
       "    </tr>\n",
       "    <tr>\n",
       "      <th>...</th>\n",
       "      <td>...</td>\n",
       "      <td>...</td>\n",
       "      <td>...</td>\n",
       "      <td>...</td>\n",
       "      <td>...</td>\n",
       "      <td>...</td>\n",
       "      <td>...</td>\n",
       "    </tr>\n",
       "    <tr>\n",
       "      <th>1486944</th>\n",
       "      <td>1916193</td>\n",
       "      <td>NaN</td>\n",
       "      <td>0.0</td>\n",
       "      <td>0</td>\n",
       "      <td>2002-01-07</td>\n",
       "      <td>2001-05-03</td>\n",
       "      <td>2002-01-07</td>\n",
       "    </tr>\n",
       "    <tr>\n",
       "      <th>1486945</th>\n",
       "      <td>1916194</td>\n",
       "      <td>NaN</td>\n",
       "      <td>0.0</td>\n",
       "      <td>0</td>\n",
       "      <td>2016-11-14</td>\n",
       "      <td>2015-03-30</td>\n",
       "      <td>2016-11-14</td>\n",
       "    </tr>\n",
       "    <tr>\n",
       "      <th>1486946</th>\n",
       "      <td>1916195</td>\n",
       "      <td>NaN</td>\n",
       "      <td>0.0</td>\n",
       "      <td>0</td>\n",
       "      <td>2009-06-04</td>\n",
       "      <td>2009-05-16</td>\n",
       "      <td>2009-06-04</td>\n",
       "    </tr>\n",
       "    <tr>\n",
       "      <th>1486947</th>\n",
       "      <td>1916196</td>\n",
       "      <td>1.000000</td>\n",
       "      <td>31.0</td>\n",
       "      <td>1</td>\n",
       "      <td>2014-03-03</td>\n",
       "      <td>2013-07-05</td>\n",
       "      <td>2014-04-03</td>\n",
       "    </tr>\n",
       "    <tr>\n",
       "      <th>1486948</th>\n",
       "      <td>1916197</td>\n",
       "      <td>NaN</td>\n",
       "      <td>0.0</td>\n",
       "      <td>0</td>\n",
       "      <td>2018-08-30</td>\n",
       "      <td>2017-05-21</td>\n",
       "      <td>2018-08-30</td>\n",
       "    </tr>\n",
       "  </tbody>\n",
       "</table>\n",
       "<p>1486949 rows × 7 columns</p>\n",
       "</div>"
      ],
      "text/plain": [
       "         ID_VARIABLE    INCMIN  ADJ_JPMIN  NEW_INC_SANCTION_EXISTS    NEW_DOS  \\\n",
       "0            1000001  0.526316       16.0                        1 2010-02-18   \n",
       "1            1000002  4.000000      120.0                        1 2017-01-31   \n",
       "2            1000003       NaN        0.0                        0 2002-05-08   \n",
       "3            1000003  3.000000       92.0                        1 2009-03-04   \n",
       "4            1000004       NaN        0.0                        0 2013-12-10   \n",
       "...              ...       ...        ...                      ...        ...   \n",
       "1486944      1916193       NaN        0.0                        0 2002-01-07   \n",
       "1486945      1916194       NaN        0.0                        0 2016-11-14   \n",
       "1486946      1916195       NaN        0.0                        0 2009-06-04   \n",
       "1486947      1916196  1.000000       31.0                        1 2014-03-03   \n",
       "1486948      1916197       NaN        0.0                        0 2018-08-30   \n",
       "\n",
       "           NEW_DOF  AT_RISK_DT  \n",
       "0       2009-06-25  2010-03-06  \n",
       "1       2015-09-01  2017-05-31  \n",
       "2       2001-09-07  2002-05-08  \n",
       "3       2009-03-04  2009-06-04  \n",
       "4       2013-09-19  2013-12-10  \n",
       "...            ...         ...  \n",
       "1486944 2001-05-03  2002-01-07  \n",
       "1486945 2015-03-30  2016-11-14  \n",
       "1486946 2009-05-16  2009-06-04  \n",
       "1486947 2013-07-05  2014-04-03  \n",
       "1486948 2017-05-21  2018-08-30  \n",
       "\n",
       "[1486949 rows x 7 columns]"
      ]
     },
     "execution_count": 103,
     "metadata": {},
     "output_type": "execute_result"
    }
   ],
   "source": [
    "def create_at_risk_date(row):\n",
    "    #need to account for REALLY large JP_MIN values\n",
    "    \n",
    "    # Because of this error message OverflowError: Python int too large to convert to C long\n",
    "    # 25 is more years than we have in our data, so their at_risk date also get set to some value far in the future\n",
    "    upper_limit = 25.0 * 365.0\n",
    "    \n",
    "    num_days_in_month = 30.0\n",
    "    \n",
    "    #if offense has a life or death flag, set their at_risk_date abritarily large\n",
    "    if row['OFN_LIFE_DEATH'] == 1 or row['JP_LIFE_DEATH'] == 1:\n",
    "        at_risk_date = pd.to_datetime('2035-12-31')\n",
    "\n",
    "    #if they were not incarcerated, then their at risk date is just their date of sentence\n",
    "    elif row[\"NEW_INC_SANCTION_EXISTS\"] == 0:\n",
    "        at_risk_date = row['NEW_DOS'] \n",
    "    \n",
    "    #if they were incarcerated, look at the below logic to determine their at-risk date\n",
    "    else: # this case already accounts for NEW_INC_SANCTION_EXISTS == 1\n",
    "\n",
    "        if row[\"ADJ_JPMIN\"] < upper_limit:\n",
    "\n",
    "            if row['ADJ_JPMIN']>=0:\n",
    "\n",
    "                #!!! AZ: updated all of the DOS vars to NEW_DOS. if ADJ_JPMIN is adjusted JPMIN that already subtracted time served\n",
    "                #  (in other words, equals the latest JPMIN minus time already served equals time remaining from the latest DOS)\n",
    "               # then we should use NEW_DOS to do this calculation \n",
    "                at_risk_date = row['NEW_DOS'] + pd.Timedelta(days = row['ADJ_JPMIN'])\n",
    "            \n",
    "            elif row['INCMIN']>=0:\n",
    "                at_risk_date = row['NEW_DOS'] + pd.Timedelta(days = row['INCMIN'] * num_days_in_month)\n",
    "\n",
    "            # in the case that INC_SANCTION_EXISTS but both JP_MIN and INCMIN are null, we treat these as LIFE/DEATH cases, as shown in the previous analysis\n",
    "            else: #!!! AZ changed here: based on the analysis above, we can treat these cases with INC_SANCTION = 1 but JPMIN and INCMIN as life/death cases\n",
    "                at_risk_date = pd.to_datetime('2035-12-31')\n",
    "\n",
    "        else:\n",
    "            at_risk_date = pd.to_datetime('2035-12-31')\n",
    "\n",
    "    return at_risk_date\n",
    "\n",
    "\n",
    "#apply the function to the data (row by row)\n",
    "df_collapsed[\"AT_RISK_DT\"] = df_collapsed.apply(create_at_risk_date, axis = 1)\n",
    "\n",
    " #adjust so that the times do not include minutes and seconds\n",
    "df_collapsed[\"AT_RISK_DT\"] = pd.to_datetime(df_collapsed[\"AT_RISK_DT\"]).dt.date\n",
    "\n",
    "# #inspect the results\n",
    "df_collapsed[['ID_VARIABLE', \"INCMIN\", \"ADJ_JPMIN\", \"NEW_INC_SANCTION_EXISTS\", \"NEW_DOS\", \"NEW_DOF\", \"AT_RISK_DT\"]]\n",
    "\n"
   ]
  },
  {
   "cell_type": "markdown",
   "metadata": {},
   "source": [
    "**Note:** In the above at_risk_date calculation code, there is an \"upper_limit\" because the largest JP_MIN value is 230,000+ days, which is the equivalent of about 631 years. This person would not recidivate in our dataset and Python throws a \"OverflowError: Python int too large to convert to C long\" for these individuals. So, in order to allow the code to run, those with jp_min values equivalent to more days than we have data for, will just get an at-risk date very far into the future."
   ]
  },
  {
   "cell_type": "markdown",
   "metadata": {},
   "source": [
    "## Populate Next DOF <a id='cal_recid'></a>"
   ]
  },
  {
   "cell_type": "code",
   "execution_count": 104,
   "metadata": {},
   "outputs": [
    {
     "data": {
      "text/html": [
       "<div>\n",
       "<style scoped>\n",
       "    .dataframe tbody tr th:only-of-type {\n",
       "        vertical-align: middle;\n",
       "    }\n",
       "\n",
       "    .dataframe tbody tr th {\n",
       "        vertical-align: top;\n",
       "    }\n",
       "\n",
       "    .dataframe thead th {\n",
       "        text-align: right;\n",
       "    }\n",
       "</style>\n",
       "<table border=\"1\" class=\"dataframe\">\n",
       "  <thead>\n",
       "    <tr style=\"text-align: right;\">\n",
       "      <th></th>\n",
       "      <th>ID_VARIABLE</th>\n",
       "      <th>NEW_DOS</th>\n",
       "      <th>NEW_DOF</th>\n",
       "      <th>NEXT_DOF</th>\n",
       "      <th>AT_RISK_DT</th>\n",
       "      <th>NEW_INC_SANCTION_EXISTS</th>\n",
       "    </tr>\n",
       "  </thead>\n",
       "  <tbody>\n",
       "    <tr>\n",
       "      <th>0</th>\n",
       "      <td>1000001</td>\n",
       "      <td>2010-02-18</td>\n",
       "      <td>2009-06-25</td>\n",
       "      <td>NaT</td>\n",
       "      <td>2010-03-06</td>\n",
       "      <td>1</td>\n",
       "    </tr>\n",
       "    <tr>\n",
       "      <th>1</th>\n",
       "      <td>1000002</td>\n",
       "      <td>2017-01-31</td>\n",
       "      <td>2015-09-01</td>\n",
       "      <td>NaT</td>\n",
       "      <td>2017-05-31</td>\n",
       "      <td>1</td>\n",
       "    </tr>\n",
       "    <tr>\n",
       "      <th>2</th>\n",
       "      <td>1000003</td>\n",
       "      <td>2002-05-08</td>\n",
       "      <td>2001-09-07</td>\n",
       "      <td>2009-03-04</td>\n",
       "      <td>2002-05-08</td>\n",
       "      <td>0</td>\n",
       "    </tr>\n",
       "    <tr>\n",
       "      <th>3</th>\n",
       "      <td>1000003</td>\n",
       "      <td>2009-03-04</td>\n",
       "      <td>2009-03-04</td>\n",
       "      <td>NaT</td>\n",
       "      <td>2009-06-04</td>\n",
       "      <td>1</td>\n",
       "    </tr>\n",
       "    <tr>\n",
       "      <th>4</th>\n",
       "      <td>1000004</td>\n",
       "      <td>2013-12-10</td>\n",
       "      <td>2013-09-19</td>\n",
       "      <td>2018-07-09</td>\n",
       "      <td>2013-12-10</td>\n",
       "      <td>0</td>\n",
       "    </tr>\n",
       "    <tr>\n",
       "      <th>5</th>\n",
       "      <td>1000004</td>\n",
       "      <td>2018-09-26</td>\n",
       "      <td>2018-07-09</td>\n",
       "      <td>NaT</td>\n",
       "      <td>2018-09-26</td>\n",
       "      <td>0</td>\n",
       "    </tr>\n",
       "    <tr>\n",
       "      <th>6</th>\n",
       "      <td>1000005</td>\n",
       "      <td>2008-08-11</td>\n",
       "      <td>2006-08-14</td>\n",
       "      <td>NaT</td>\n",
       "      <td>2009-02-10</td>\n",
       "      <td>1</td>\n",
       "    </tr>\n",
       "    <tr>\n",
       "      <th>7</th>\n",
       "      <td>1000006</td>\n",
       "      <td>2006-08-30</td>\n",
       "      <td>2005-10-08</td>\n",
       "      <td>NaT</td>\n",
       "      <td>2007-11-30</td>\n",
       "      <td>1</td>\n",
       "    </tr>\n",
       "    <tr>\n",
       "      <th>8</th>\n",
       "      <td>1000007</td>\n",
       "      <td>2004-03-02</td>\n",
       "      <td>2003-04-18</td>\n",
       "      <td>NaT</td>\n",
       "      <td>2004-03-02</td>\n",
       "      <td>0</td>\n",
       "    </tr>\n",
       "    <tr>\n",
       "      <th>9</th>\n",
       "      <td>1000008</td>\n",
       "      <td>2011-05-13</td>\n",
       "      <td>2011-01-16</td>\n",
       "      <td>NaT</td>\n",
       "      <td>2011-11-13</td>\n",
       "      <td>1</td>\n",
       "    </tr>\n",
       "    <tr>\n",
       "      <th>10</th>\n",
       "      <td>1000009</td>\n",
       "      <td>2007-12-19</td>\n",
       "      <td>2007-04-23</td>\n",
       "      <td>NaT</td>\n",
       "      <td>2007-12-19</td>\n",
       "      <td>0</td>\n",
       "    </tr>\n",
       "    <tr>\n",
       "      <th>11</th>\n",
       "      <td>1000010</td>\n",
       "      <td>2010-06-24</td>\n",
       "      <td>2008-09-28</td>\n",
       "      <td>2010-04-16</td>\n",
       "      <td>2010-06-24</td>\n",
       "      <td>0</td>\n",
       "    </tr>\n",
       "    <tr>\n",
       "      <th>13</th>\n",
       "      <td>1000010</td>\n",
       "      <td>2010-11-22</td>\n",
       "      <td>2010-04-16</td>\n",
       "      <td>2010-04-18</td>\n",
       "      <td>2010-11-22</td>\n",
       "      <td>0</td>\n",
       "    </tr>\n",
       "    <tr>\n",
       "      <th>12</th>\n",
       "      <td>1000010</td>\n",
       "      <td>2010-08-31</td>\n",
       "      <td>2010-04-18</td>\n",
       "      <td>2016-01-11</td>\n",
       "      <td>2010-09-04</td>\n",
       "      <td>1</td>\n",
       "    </tr>\n",
       "    <tr>\n",
       "      <th>14</th>\n",
       "      <td>1000010</td>\n",
       "      <td>2016-12-01</td>\n",
       "      <td>2016-01-11</td>\n",
       "      <td>2016-07-05</td>\n",
       "      <td>2016-12-01</td>\n",
       "      <td>0</td>\n",
       "    </tr>\n",
       "    <tr>\n",
       "      <th>15</th>\n",
       "      <td>1000010</td>\n",
       "      <td>2016-12-05</td>\n",
       "      <td>2016-07-05</td>\n",
       "      <td>2018-02-09</td>\n",
       "      <td>2016-12-05</td>\n",
       "      <td>0</td>\n",
       "    </tr>\n",
       "    <tr>\n",
       "      <th>16</th>\n",
       "      <td>1000010</td>\n",
       "      <td>2018-08-08</td>\n",
       "      <td>2018-02-09</td>\n",
       "      <td>2018-03-03</td>\n",
       "      <td>2018-08-08</td>\n",
       "      <td>0</td>\n",
       "    </tr>\n",
       "    <tr>\n",
       "      <th>17</th>\n",
       "      <td>1000010</td>\n",
       "      <td>2018-08-14</td>\n",
       "      <td>2018-03-03</td>\n",
       "      <td>NaT</td>\n",
       "      <td>2018-10-14</td>\n",
       "      <td>1</td>\n",
       "    </tr>\n",
       "    <tr>\n",
       "      <th>18</th>\n",
       "      <td>1000011</td>\n",
       "      <td>2003-12-08</td>\n",
       "      <td>2003-03-22</td>\n",
       "      <td>2005-04-21</td>\n",
       "      <td>2003-12-08</td>\n",
       "      <td>0</td>\n",
       "    </tr>\n",
       "    <tr>\n",
       "      <th>19</th>\n",
       "      <td>1000011</td>\n",
       "      <td>2006-10-03</td>\n",
       "      <td>2005-04-21</td>\n",
       "      <td>2006-01-17</td>\n",
       "      <td>2006-10-03</td>\n",
       "      <td>0</td>\n",
       "    </tr>\n",
       "  </tbody>\n",
       "</table>\n",
       "</div>"
      ],
      "text/plain": [
       "    ID_VARIABLE    NEW_DOS    NEW_DOF    NEXT_DOF  AT_RISK_DT  \\\n",
       "0       1000001 2010-02-18 2009-06-25         NaT  2010-03-06   \n",
       "1       1000002 2017-01-31 2015-09-01         NaT  2017-05-31   \n",
       "2       1000003 2002-05-08 2001-09-07  2009-03-04  2002-05-08   \n",
       "3       1000003 2009-03-04 2009-03-04         NaT  2009-06-04   \n",
       "4       1000004 2013-12-10 2013-09-19  2018-07-09  2013-12-10   \n",
       "5       1000004 2018-09-26 2018-07-09         NaT  2018-09-26   \n",
       "6       1000005 2008-08-11 2006-08-14         NaT  2009-02-10   \n",
       "7       1000006 2006-08-30 2005-10-08         NaT  2007-11-30   \n",
       "8       1000007 2004-03-02 2003-04-18         NaT  2004-03-02   \n",
       "9       1000008 2011-05-13 2011-01-16         NaT  2011-11-13   \n",
       "10      1000009 2007-12-19 2007-04-23         NaT  2007-12-19   \n",
       "11      1000010 2010-06-24 2008-09-28  2010-04-16  2010-06-24   \n",
       "13      1000010 2010-11-22 2010-04-16  2010-04-18  2010-11-22   \n",
       "12      1000010 2010-08-31 2010-04-18  2016-01-11  2010-09-04   \n",
       "14      1000010 2016-12-01 2016-01-11  2016-07-05  2016-12-01   \n",
       "15      1000010 2016-12-05 2016-07-05  2018-02-09  2016-12-05   \n",
       "16      1000010 2018-08-08 2018-02-09  2018-03-03  2018-08-08   \n",
       "17      1000010 2018-08-14 2018-03-03         NaT  2018-10-14   \n",
       "18      1000011 2003-12-08 2003-03-22  2005-04-21  2003-12-08   \n",
       "19      1000011 2006-10-03 2005-04-21  2006-01-17  2006-10-03   \n",
       "\n",
       "    NEW_INC_SANCTION_EXISTS  \n",
       "0                         1  \n",
       "1                         1  \n",
       "2                         0  \n",
       "3                         1  \n",
       "4                         0  \n",
       "5                         0  \n",
       "6                         1  \n",
       "7                         1  \n",
       "8                         0  \n",
       "9                         1  \n",
       "10                        0  \n",
       "11                        0  \n",
       "13                        0  \n",
       "12                        1  \n",
       "14                        0  \n",
       "15                        0  \n",
       "16                        0  \n",
       "17                        1  \n",
       "18                        0  \n",
       "19                        0  "
      ]
     },
     "execution_count": 104,
     "metadata": {},
     "output_type": "execute_result"
    }
   ],
   "source": [
    "#sort the data\n",
    "df_collapsed = df_collapsed.sort_values(by = [\"ID_VARIABLE\", \"NEW_DOF\"])\n",
    "\n",
    "#shift the data up by one to create the new vaariable \"NEXT_DOF\"\n",
    "df_collapsed['NEXT_DOF'] = df_collapsed.groupby(['ID_VARIABLE'])['NEW_DOF'].shift(-1).dt.date\n",
    "\n",
    "df_collapsed[:20][[\"ID_VARIABLE\", \"NEW_DOS\", \"NEW_DOF\", \"NEXT_DOF\", \"AT_RISK_DT\", \"NEW_INC_SANCTION_EXISTS\"]]"
   ]
  },
  {
   "cell_type": "markdown",
   "metadata": {},
   "source": [
    "## Check for \"Free Time\" \n",
    "Here, we try to find out: Do we have enough data for an individual to see definitively if they recidivated in 3 years or not?"
   ]
  },
  {
   "cell_type": "markdown",
   "metadata": {},
   "source": [
    "**Procedure Below:**\n",
    "1. Subset just to those whose at_risk date < max NEW_DOS\n",
    "3. Subset subset to cases with at_risk_date <= 2017-01-01,\n"
   ]
  },
  {
   "cell_type": "code",
   "execution_count": 105,
   "metadata": {},
   "outputs": [
    {
     "name": "stdout",
     "output_type": "stream",
     "text": [
      "There are 35,817 id_var, dos combos where the at risk date is after the last date of sentence available.\n"
     ]
    }
   ],
   "source": [
    "#subset to those whose at_risk_date < the largest sentencing date that we have\n",
    "\n",
    "before_length = len(df_collapsed)\n",
    "\n",
    "#what is the maximum sentence date?\n",
    "last_day = pd.to_datetime(df_collapsed[[\"NEW_DOS\"]].max())[0]  \n",
    "df_collapsed = df_collapsed[df_collapsed[\"AT_RISK_DT\"] <= last_day]\n",
    "\n",
    "after_length = len(df_collapsed) \n",
    "\n",
    "print(\"There are {:,} id_var, dos combos where the at risk date is after the last date of sentence available.\".format(before_length - after_length))\n"
   ]
  },
  {
   "cell_type": "code",
   "execution_count": 106,
   "metadata": {},
   "outputs": [
    {
     "name": "stdout",
     "output_type": "stream",
     "text": [
      "There are 234894 cases where the at-risk-date is less than 3 years from the end of the data range, and therefore does not have a long enough observation period for recidivism calculations\n"
     ]
    }
   ],
   "source": [
    "# !!! AZ add here --- TJ MOVED THIS UP TO THE FREE TIME SECTION\n",
    "# subset to cases with at_risk_date <= 2017-01-01, AFTER we get recidivsm info (e.g. we don't want to lose convictions in 2018 or 2019 as they might count as recidivism events for earlier convictions)\n",
    "starting_len = len(df_collapsed)\n",
    "df_collapsed = df_collapsed[df_collapsed['AT_RISK_DT']<=pd.to_datetime('2017-01-01')]\n",
    "ending_len = len(df_collapsed)\n",
    "print(\"There are {:d} cases where the at-risk-date is less than 3 years from the end of the data range, and therefore does not have a long enough observation period for recidivism calculations\".format(starting_len - ending_len))"
   ]
  },
  {
   "cell_type": "markdown",
   "metadata": {},
   "source": [
    "# Create The Time To Recidivite and Recidivism Variables"
   ]
  },
  {
   "cell_type": "code",
   "execution_count": 107,
   "metadata": {},
   "outputs": [
    {
     "data": {
      "text/html": [
       "<div>\n",
       "<style scoped>\n",
       "    .dataframe tbody tr th:only-of-type {\n",
       "        vertical-align: middle;\n",
       "    }\n",
       "\n",
       "    .dataframe tbody tr th {\n",
       "        vertical-align: top;\n",
       "    }\n",
       "\n",
       "    .dataframe thead th {\n",
       "        text-align: right;\n",
       "    }\n",
       "</style>\n",
       "<table border=\"1\" class=\"dataframe\">\n",
       "  <thead>\n",
       "    <tr style=\"text-align: right;\">\n",
       "      <th></th>\n",
       "      <th>ID_VARIABLE</th>\n",
       "      <th>NEW_DOS</th>\n",
       "      <th>NEW_DOF</th>\n",
       "      <th>NEXT_DOF</th>\n",
       "      <th>TIME_TO_RECIDIVATE</th>\n",
       "    </tr>\n",
       "  </thead>\n",
       "  <tbody>\n",
       "    <tr>\n",
       "      <th>0</th>\n",
       "      <td>1000001</td>\n",
       "      <td>2010-02-18</td>\n",
       "      <td>2009-06-25</td>\n",
       "      <td>NaT</td>\n",
       "      <td>NaN</td>\n",
       "    </tr>\n",
       "    <tr>\n",
       "      <th>2</th>\n",
       "      <td>1000003</td>\n",
       "      <td>2002-05-08</td>\n",
       "      <td>2001-09-07</td>\n",
       "      <td>2009-03-04</td>\n",
       "      <td>2492.0</td>\n",
       "    </tr>\n",
       "    <tr>\n",
       "      <th>3</th>\n",
       "      <td>1000003</td>\n",
       "      <td>2009-03-04</td>\n",
       "      <td>2009-03-04</td>\n",
       "      <td>NaT</td>\n",
       "      <td>NaN</td>\n",
       "    </tr>\n",
       "    <tr>\n",
       "      <th>4</th>\n",
       "      <td>1000004</td>\n",
       "      <td>2013-12-10</td>\n",
       "      <td>2013-09-19</td>\n",
       "      <td>2018-07-09</td>\n",
       "      <td>1672.0</td>\n",
       "    </tr>\n",
       "    <tr>\n",
       "      <th>6</th>\n",
       "      <td>1000005</td>\n",
       "      <td>2008-08-11</td>\n",
       "      <td>2006-08-14</td>\n",
       "      <td>NaT</td>\n",
       "      <td>NaN</td>\n",
       "    </tr>\n",
       "    <tr>\n",
       "      <th>...</th>\n",
       "      <td>...</td>\n",
       "      <td>...</td>\n",
       "      <td>...</td>\n",
       "      <td>...</td>\n",
       "      <td>...</td>\n",
       "    </tr>\n",
       "    <tr>\n",
       "      <th>1486943</th>\n",
       "      <td>1916192</td>\n",
       "      <td>2015-10-20</td>\n",
       "      <td>2014-05-06</td>\n",
       "      <td>NaN</td>\n",
       "      <td>NaN</td>\n",
       "    </tr>\n",
       "    <tr>\n",
       "      <th>1486944</th>\n",
       "      <td>1916193</td>\n",
       "      <td>2002-01-07</td>\n",
       "      <td>2001-05-03</td>\n",
       "      <td>NaN</td>\n",
       "      <td>NaN</td>\n",
       "    </tr>\n",
       "    <tr>\n",
       "      <th>1486945</th>\n",
       "      <td>1916194</td>\n",
       "      <td>2016-11-14</td>\n",
       "      <td>2015-03-30</td>\n",
       "      <td>NaN</td>\n",
       "      <td>NaN</td>\n",
       "    </tr>\n",
       "    <tr>\n",
       "      <th>1486946</th>\n",
       "      <td>1916195</td>\n",
       "      <td>2009-06-04</td>\n",
       "      <td>2009-05-16</td>\n",
       "      <td>NaN</td>\n",
       "      <td>NaN</td>\n",
       "    </tr>\n",
       "    <tr>\n",
       "      <th>1486947</th>\n",
       "      <td>1916196</td>\n",
       "      <td>2014-03-03</td>\n",
       "      <td>2013-07-05</td>\n",
       "      <td>NaN</td>\n",
       "      <td>NaN</td>\n",
       "    </tr>\n",
       "  </tbody>\n",
       "</table>\n",
       "<p>1216238 rows × 5 columns</p>\n",
       "</div>"
      ],
      "text/plain": [
       "         ID_VARIABLE    NEW_DOS    NEW_DOF    NEXT_DOF  TIME_TO_RECIDIVATE\n",
       "0            1000001 2010-02-18 2009-06-25         NaT                 NaN\n",
       "2            1000003 2002-05-08 2001-09-07  2009-03-04              2492.0\n",
       "3            1000003 2009-03-04 2009-03-04         NaT                 NaN\n",
       "4            1000004 2013-12-10 2013-09-19  2018-07-09              1672.0\n",
       "6            1000005 2008-08-11 2006-08-14         NaT                 NaN\n",
       "...              ...        ...        ...         ...                 ...\n",
       "1486943      1916192 2015-10-20 2014-05-06         NaN                 NaN\n",
       "1486944      1916193 2002-01-07 2001-05-03         NaN                 NaN\n",
       "1486945      1916194 2016-11-14 2015-03-30         NaN                 NaN\n",
       "1486946      1916195 2009-06-04 2009-05-16         NaN                 NaN\n",
       "1486947      1916196 2014-03-03 2013-07-05         NaN                 NaN\n",
       "\n",
       "[1216238 rows x 5 columns]"
      ]
     },
     "execution_count": 107,
     "metadata": {},
     "output_type": "execute_result"
    }
   ],
   "source": [
    "#subtract the next_dof and at_risk_dt variables  -- update this \n",
    "df_collapsed['TIME_TO_RECIDIVATE'] = pd.to_datetime(df_collapsed['NEXT_DOF']) - pd.to_datetime(df_collapsed['AT_RISK_DT'])#update to this level \n",
    "    \n",
    "#update the time to recidivate column to JUST be the number of days as an integer/float\n",
    "df_collapsed['TIME_TO_RECIDIVATE'] = df_collapsed['TIME_TO_RECIDIVATE'].dt.days\n",
    "\n",
    "df_collapsed[[\"ID_VARIABLE\", \"NEW_DOS\", \"NEW_DOF\", \"NEXT_DOF\", \"TIME_TO_RECIDIVATE\"]]\n"
   ]
  },
  {
   "cell_type": "code",
   "execution_count": 108,
   "metadata": {},
   "outputs": [
    {
     "data": {
      "text/html": [
       "<div>\n",
       "<style scoped>\n",
       "    .dataframe tbody tr th:only-of-type {\n",
       "        vertical-align: middle;\n",
       "    }\n",
       "\n",
       "    .dataframe tbody tr th {\n",
       "        vertical-align: top;\n",
       "    }\n",
       "\n",
       "    .dataframe thead th {\n",
       "        text-align: right;\n",
       "    }\n",
       "</style>\n",
       "<table border=\"1\" class=\"dataframe\">\n",
       "  <thead>\n",
       "    <tr style=\"text-align: right;\">\n",
       "      <th></th>\n",
       "      <th>ID_VARIABLE</th>\n",
       "      <th>NEW_DOS</th>\n",
       "      <th>ADJ_JPMIN</th>\n",
       "      <th>NEW_DOF</th>\n",
       "      <th>NEXT_DOF</th>\n",
       "      <th>AT_RISK_DT</th>\n",
       "      <th>TIME_TO_RECIDIVATE</th>\n",
       "      <th>RECIDIVISM_3Y</th>\n",
       "      <th>RECIDIVISM_5Y</th>\n",
       "    </tr>\n",
       "  </thead>\n",
       "  <tbody>\n",
       "    <tr>\n",
       "      <th>0</th>\n",
       "      <td>1000001</td>\n",
       "      <td>2010-02-18</td>\n",
       "      <td>16.0</td>\n",
       "      <td>2009-06-25</td>\n",
       "      <td>NaT</td>\n",
       "      <td>2010-03-06</td>\n",
       "      <td>NaN</td>\n",
       "      <td>0</td>\n",
       "      <td>0</td>\n",
       "    </tr>\n",
       "    <tr>\n",
       "      <th>2</th>\n",
       "      <td>1000003</td>\n",
       "      <td>2002-05-08</td>\n",
       "      <td>0.0</td>\n",
       "      <td>2001-09-07</td>\n",
       "      <td>2009-03-04</td>\n",
       "      <td>2002-05-08</td>\n",
       "      <td>2492.0</td>\n",
       "      <td>0</td>\n",
       "      <td>0</td>\n",
       "    </tr>\n",
       "    <tr>\n",
       "      <th>3</th>\n",
       "      <td>1000003</td>\n",
       "      <td>2009-03-04</td>\n",
       "      <td>92.0</td>\n",
       "      <td>2009-03-04</td>\n",
       "      <td>NaT</td>\n",
       "      <td>2009-06-04</td>\n",
       "      <td>NaN</td>\n",
       "      <td>0</td>\n",
       "      <td>0</td>\n",
       "    </tr>\n",
       "    <tr>\n",
       "      <th>4</th>\n",
       "      <td>1000004</td>\n",
       "      <td>2013-12-10</td>\n",
       "      <td>0.0</td>\n",
       "      <td>2013-09-19</td>\n",
       "      <td>2018-07-09</td>\n",
       "      <td>2013-12-10</td>\n",
       "      <td>1672.0</td>\n",
       "      <td>0</td>\n",
       "      <td>1</td>\n",
       "    </tr>\n",
       "    <tr>\n",
       "      <th>6</th>\n",
       "      <td>1000005</td>\n",
       "      <td>2008-08-11</td>\n",
       "      <td>183.0</td>\n",
       "      <td>2006-08-14</td>\n",
       "      <td>NaT</td>\n",
       "      <td>2009-02-10</td>\n",
       "      <td>NaN</td>\n",
       "      <td>0</td>\n",
       "      <td>0</td>\n",
       "    </tr>\n",
       "    <tr>\n",
       "      <th>...</th>\n",
       "      <td>...</td>\n",
       "      <td>...</td>\n",
       "      <td>...</td>\n",
       "      <td>...</td>\n",
       "      <td>...</td>\n",
       "      <td>...</td>\n",
       "      <td>...</td>\n",
       "      <td>...</td>\n",
       "      <td>...</td>\n",
       "    </tr>\n",
       "    <tr>\n",
       "      <th>1486943</th>\n",
       "      <td>1916192</td>\n",
       "      <td>2015-10-20</td>\n",
       "      <td>7.0</td>\n",
       "      <td>2014-05-06</td>\n",
       "      <td>NaT</td>\n",
       "      <td>2015-10-27</td>\n",
       "      <td>NaN</td>\n",
       "      <td>0</td>\n",
       "      <td>0</td>\n",
       "    </tr>\n",
       "    <tr>\n",
       "      <th>1486944</th>\n",
       "      <td>1916193</td>\n",
       "      <td>2002-01-07</td>\n",
       "      <td>0.0</td>\n",
       "      <td>2001-05-03</td>\n",
       "      <td>NaT</td>\n",
       "      <td>2002-01-07</td>\n",
       "      <td>NaN</td>\n",
       "      <td>0</td>\n",
       "      <td>0</td>\n",
       "    </tr>\n",
       "    <tr>\n",
       "      <th>1486945</th>\n",
       "      <td>1916194</td>\n",
       "      <td>2016-11-14</td>\n",
       "      <td>0.0</td>\n",
       "      <td>2015-03-30</td>\n",
       "      <td>NaT</td>\n",
       "      <td>2016-11-14</td>\n",
       "      <td>NaN</td>\n",
       "      <td>0</td>\n",
       "      <td>0</td>\n",
       "    </tr>\n",
       "    <tr>\n",
       "      <th>1486946</th>\n",
       "      <td>1916195</td>\n",
       "      <td>2009-06-04</td>\n",
       "      <td>0.0</td>\n",
       "      <td>2009-05-16</td>\n",
       "      <td>NaT</td>\n",
       "      <td>2009-06-04</td>\n",
       "      <td>NaN</td>\n",
       "      <td>0</td>\n",
       "      <td>0</td>\n",
       "    </tr>\n",
       "    <tr>\n",
       "      <th>1486947</th>\n",
       "      <td>1916196</td>\n",
       "      <td>2014-03-03</td>\n",
       "      <td>31.0</td>\n",
       "      <td>2013-07-05</td>\n",
       "      <td>NaT</td>\n",
       "      <td>2014-04-03</td>\n",
       "      <td>NaN</td>\n",
       "      <td>0</td>\n",
       "      <td>0</td>\n",
       "    </tr>\n",
       "  </tbody>\n",
       "</table>\n",
       "<p>1216238 rows × 9 columns</p>\n",
       "</div>"
      ],
      "text/plain": [
       "         ID_VARIABLE    NEW_DOS  ADJ_JPMIN    NEW_DOF    NEXT_DOF  AT_RISK_DT  \\\n",
       "0            1000001 2010-02-18       16.0 2009-06-25         NaT  2010-03-06   \n",
       "2            1000003 2002-05-08        0.0 2001-09-07  2009-03-04  2002-05-08   \n",
       "3            1000003 2009-03-04       92.0 2009-03-04         NaT  2009-06-04   \n",
       "4            1000004 2013-12-10        0.0 2013-09-19  2018-07-09  2013-12-10   \n",
       "6            1000005 2008-08-11      183.0 2006-08-14         NaT  2009-02-10   \n",
       "...              ...        ...        ...        ...         ...         ...   \n",
       "1486943      1916192 2015-10-20        7.0 2014-05-06         NaT  2015-10-27   \n",
       "1486944      1916193 2002-01-07        0.0 2001-05-03         NaT  2002-01-07   \n",
       "1486945      1916194 2016-11-14        0.0 2015-03-30         NaT  2016-11-14   \n",
       "1486946      1916195 2009-06-04        0.0 2009-05-16         NaT  2009-06-04   \n",
       "1486947      1916196 2014-03-03       31.0 2013-07-05         NaT  2014-04-03   \n",
       "\n",
       "         TIME_TO_RECIDIVATE  RECIDIVISM_3Y  RECIDIVISM_5Y  \n",
       "0                       NaN              0              0  \n",
       "2                    2492.0              0              0  \n",
       "3                       NaN              0              0  \n",
       "4                    1672.0              0              1  \n",
       "6                       NaN              0              0  \n",
       "...                     ...            ...            ...  \n",
       "1486943                 NaN              0              0  \n",
       "1486944                 NaN              0              0  \n",
       "1486945                 NaN              0              0  \n",
       "1486946                 NaN              0              0  \n",
       "1486947                 NaN              0              0  \n",
       "\n",
       "[1216238 rows x 9 columns]"
      ]
     },
     "execution_count": 108,
     "metadata": {},
     "output_type": "execute_result"
    }
   ],
   "source": [
    "#number of days in  years\n",
    "three_years_in_days = float(3) * 365.0  \n",
    "five_years_in_days = float(5) * 365.0  \n",
    "\n",
    "#ID_VARIABLE, DOS-LEVEL RECIDIVISM -- does not count times where the next_dof < at_risk_dt as instances of recidivism\n",
    "\n",
    "df_collapsed[\"RECIDIVISM_3Y\"] = np.where(\n",
    "    (df_collapsed['TIME_TO_RECIDIVATE'] > 0) & (df_collapsed['TIME_TO_RECIDIVATE'] <= three_years_in_days), 1, 0)\n",
    "\n",
    "df_collapsed[\"RECIDIVISM_5Y\"] = np.where(\n",
    "    (df_collapsed['TIME_TO_RECIDIVATE'] > 0) & (df_collapsed['TIME_TO_RECIDIVATE'] <= five_years_in_days), 1, 0)\n",
    "\n",
    "df_collapsed[[\"ID_VARIABLE\", \"NEW_DOS\", \"ADJ_JPMIN\", \"NEW_DOF\", \"NEXT_DOF\", \"AT_RISK_DT\", \"TIME_TO_RECIDIVATE\", \"RECIDIVISM_3Y\", \"RECIDIVISM_5Y\"]]\n"
   ]
  },
  {
   "cell_type": "code",
   "execution_count": 109,
   "metadata": {},
   "outputs": [
    {
     "name": "stdout",
     "output_type": "stream",
     "text": [
      "(1216238, 26)\n"
     ]
    }
   ],
   "source": [
    "print(df_collapsed.shape) #print the final dataset shape"
   ]
  },
  {
   "cell_type": "markdown",
   "metadata": {},
   "source": [
    "# Export The Results to CSV <a id='export_results'></a>\n"
   ]
  },
  {
   "cell_type": "code",
   "execution_count": 110,
   "metadata": {},
   "outputs": [
    {
     "data": {
      "text/plain": [
       "Index(['ID_VARIABLE', 'NEW_DOS', 'NEW_DOF', 'PRS', 'OGS', 'PRS8', 'ADJ_JPMIN',\n",
       "       'LATEST_JPMIN', 'CTY_PHL', 'INCMIN', 'NEW_INC_SANCTION_EXISTS',\n",
       "       'CHARGE_COUNT', 'INC_REL_NUMERIC', 'OFN_LIFE_DEATH', 'JP_LIFE_DEATH',\n",
       "       'SEXCRIME', 'SEXTIER_NUMERIC', 'FIREARMS', 'VIOLENCE', 'DRUGOFFENSE',\n",
       "       'DUI', 'AT_RISK_DT', 'NEXT_DOF', 'TIME_TO_RECIDIVATE', 'RECIDIVISM_3Y',\n",
       "       'RECIDIVISM_5Y'],\n",
       "      dtype='object')"
      ]
     },
     "execution_count": 110,
     "metadata": {},
     "output_type": "execute_result"
    }
   ],
   "source": [
    "df_collapsed.columns #inspect the remaining columns"
   ]
  },
  {
   "cell_type": "markdown",
   "metadata": {},
   "source": [
    "##### **Note About Exporting the Data**: In the code chunk below, you may need to update the \"output_path\" section of the code to ensure that the final, cleaned, recidivism dataset is exported to the correct location."
   ]
  },
  {
   "cell_type": "code",
   "execution_count": 111,
   "metadata": {},
   "outputs": [],
   "source": [
    "#Export the Results to a CSV\n",
    "\n",
    "#get the demographics dataset\n",
    "cleaned_demographics = pd.read_csv(os.path.join(pa_sentencing_path, \"Project\", \"data\", \"demographic_dataset.csv\"))\n",
    "\n",
    "#merged the recidivism dataset with the cleaned demographics dataset\n",
    "result = pd.merge(df_collapsed, cleaned_demographics, how=\"left\", on=[\"ID_VARIABLE\", \"ID_VARIABLE\"])\n",
    "\n",
    "# #export the dataframe with the recidivism variables to a new dataframe\n",
    "#output_path = os.path.join(pa_sentencing_path, \"Project\", \"data\", \"recidivism_dataset.csv\")\n",
    "\n",
    "#changes the output path to include a flag for including the PRS score 8 values\n",
    "output_path = os.path.join(pa_sentencing_path, \"Project\", \"data\", \"recidivism_dataset_final.csv\")\n",
    "\n",
    "\n",
    "\n",
    "result.to_csv(output_path,index=False) #export the final results"
   ]
  },
  {
   "cell_type": "code",
   "execution_count": null,
   "metadata": {},
   "outputs": [],
   "source": [
    "#check to see what the data looks like\n",
    "test = pd.read_csv(output_path)\n",
    "\n",
    "print(test.RECIDIVISM_3Y.value_counts())"
   ]
  }
 ],
 "metadata": {
  "interpreter": {
   "hash": "aee8b7b246df8f9039afb4144a1f6fd8d2ca17a180786b69acc140d282b71a49"
  },
  "kernelspec": {
   "display_name": "Python 3.9.6 64-bit",
   "language": "python",
   "name": "python3"
  },
  "language_info": {
   "codemirror_mode": {
    "name": "ipython",
    "version": 3
   },
   "file_extension": ".py",
   "mimetype": "text/x-python",
   "name": "python",
   "nbconvert_exporter": "python",
   "pygments_lexer": "ipython3",
   "version": "3.7.6"
  },
  "orig_nbformat": 4
 },
 "nbformat": 4,
 "nbformat_minor": 2
}
