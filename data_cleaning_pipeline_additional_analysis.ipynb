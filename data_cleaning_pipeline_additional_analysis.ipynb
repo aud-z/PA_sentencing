{
 "cells": [
  {
   "cell_type": "markdown",
   "metadata": {},
   "source": [
    "# Load Data"
   ]
  },
  {
   "cell_type": "code",
   "execution_count": 1,
   "metadata": {},
   "outputs": [],
   "source": [
    "#this jupyter notebook is essentially the same as the \"recidivism-check\" notebook, just cleaned up a bit (hence the name)\n",
    "#import required libraries\n",
    "import os\n",
    "import pandas as pd\n",
    "import numpy as np\n",
    "import datetime\n",
    "\n",
    "#get the folder path for this data\n",
    "pa_sentencing_path = os.path.dirname(os.path.dirname(os.path.dirname(os.getcwd())))"
   ]
  },
  {
   "cell_type": "markdown",
   "metadata": {},
   "source": [
    "## **WILL NEED TO EDIT THE BELOW TO MAKE IT GENERALIZABLE FOR THE PA SENTENCING COMISSION**"
   ]
  },
  {
   "cell_type": "code",
   "execution_count": 2,
   "metadata": {},
   "outputs": [
    {
     "name": "stderr",
     "output_type": "stream",
     "text": [
      "/var/folders/l8/t9x4mbrd2qz1gg4gt4t9rttc0000gn/T/ipykernel_64857/146127444.py:2: DtypeWarning: Columns (6,16,18,30,31,33,49,59,64,68,69,75,76,78,92) have mixed types. Specify dtype option on import or set low_memory=False.\n",
      "  psc_trimmed = pd.read_csv(os.path.join(pa_sentencing_path, \"Project\", \"data\", \"PSC8_CRIMECAT_MERGED_w_prs8.csv\"))\n"
     ]
    }
   ],
   "source": [
    "#read in trimmed version WITH 8th edition PRS score implementation\n",
    "psc_trimmed = pd.read_csv(os.path.join(pa_sentencing_path, \"Project\", \"data\", \"PSC8_CRIMECAT_MERGED_w_prs8.csv\"))\n"
   ]
  },
  {
   "cell_type": "markdown",
   "metadata": {},
   "source": [
    "# Description of the Dataset"
   ]
  },
  {
   "cell_type": "markdown",
   "metadata": {},
   "source": [
    "Because the original dataset provided by the PA Sentencing Commission included **547** columns, and took anywhere from 20-30 minutes to load, we selected the columns of the original dataset that we most relevant for our analysis and created a new, \"trimmed\" dataset. This new trimmed dataset (loaded in above) has **93** columns. In the next cell, we display the names of the columns in the dataset."
   ]
  },
  {
   "cell_type": "code",
   "execution_count": 3,
   "metadata": {},
   "outputs": [
    {
     "name": "stdout",
     "output_type": "stream",
     "text": [
      "The names of the columns in the trimmed dataset are: \n",
      " ['Unnamed: 0.1', 'Unnamed: 0', 'INC_END', 'MOSTSERIOUS', 'MND_MINIMUM', 'OFF_AGE', 'PRS_MANUAL', 'JPS_DRUG_DEPENDENT', 'INC_TYPE', 'JPO_ID', 'PROB_SANCTION_EXISTS', 'JPR_ID', 'DOSAGE', 'IP_START', 'GUILTY_NO_PENALTY', 'OFN_LABEL', 'STAT_MIN', 'F2TOT', 'DOB2', 'SGR_LVL', 'OFF_SEX', 'F3TOT', 'DOS', 'F1TOT', 'JP_MIN', 'INC_RELATIONSHIP', 'OFN_TITLE', 'OGS', 'JMIN', 'F1F2', 'REASON_THREE', 'JPR_LASTUPDATE', 'OFN_COUNT', 'MS_OFFBODY', 'OFN_GRADE', 'PCS_OFF_ID', 'JPS_DA_EVAL', 'SGR_LVL_OGS_PRS', 'INCMAX', 'REASON_ONE', 'M1TOT', 'PMIN', 'JPS_SVP', 'PRS_OTHER_MISD', 'DOF', 'GRADE', 'GLEPOCH', 'PRS8', 'IP_SANCTION_EXISTS', 'INC_RELATEDTO', 'IP_END', 'INC_RELATEDOTN', 'PRS_LAPSING', 'SIP', 'CONFORMITY', 'INC_SANCTION_EXISTS', 'DOB', 'MS_OFFINJP', 'INC_START', 'CONFORM', 'OFF_RACE', 'PRS', 'LABEL', 'PRS_NONLAPSING', 'JP_CC_BUG', 'MORE_REASONS', 'MS_SANCTION', 'STATE_IP', 'MS_SENTJP', 'OFN_LIFE_DEATH', 'OTN', 'DISPOSITION', 'COUNTY', 'DOFAGE', 'ID_VARIABLE', 'OFF_CRIMEFREE', 'REASON_TWO', 'INCMIN', 'JP_LIFE_DEATH', 'M2TOT', 'GUIDELINE_RANGE', 'PRS8.1', 'F1TOT.1', 'F2TOT.1', 'F3TOT.1', 'M1TOT.1', 'M2TOT.1', 'F1F2.1', 'MOSTSERIOUS.1', 'OFN_TITLE.1', 'OFN_SECTION', 'OFN_SUBSECTION', 'JPS_WalshActAssessment']\n"
     ]
    }
   ],
   "source": [
    "print(\"The names of the columns in the trimmed dataset are: \\n {}\".format(psc_trimmed.columns.tolist()))"
   ]
  },
  {
   "cell_type": "code",
   "execution_count": 4,
   "metadata": {},
   "outputs": [],
   "source": [
    "#DELETE\n",
    "\n",
    "# Copying a this column needed from the main dataset\n",
    "# !!! AZ: I don't think we actually need ofn-id, i used it in my code to do a count so really any other column is fine! \n",
    "# usecols = ['OFN_ID']\n",
    "# main_df = pd.read_csv('../../../Project/data/Main.csv', usecols=usecols) "
   ]
  },
  {
   "cell_type": "code",
   "execution_count": 5,
   "metadata": {},
   "outputs": [],
   "source": [
    "# DELETE\n",
    "\n",
    "#ofn_df = main_df.copy()\n"
   ]
  },
  {
   "cell_type": "code",
   "execution_count": 6,
   "metadata": {},
   "outputs": [],
   "source": [
    "df = psc_trimmed.copy()  #copy the trimmed dataset into a new dataframe\n",
    "\n",
    "df.columns = df.columns.str.upper() #change all column names to uppercase"
   ]
  },
  {
   "cell_type": "code",
   "execution_count": 7,
   "metadata": {},
   "outputs": [
    {
     "data": {
      "text/html": [
       "<div>\n",
       "<style scoped>\n",
       "    .dataframe tbody tr th:only-of-type {\n",
       "        vertical-align: middle;\n",
       "    }\n",
       "\n",
       "    .dataframe tbody tr th {\n",
       "        vertical-align: top;\n",
       "    }\n",
       "\n",
       "    .dataframe thead th {\n",
       "        text-align: right;\n",
       "    }\n",
       "</style>\n",
       "<table border=\"1\" class=\"dataframe\">\n",
       "  <thead>\n",
       "    <tr style=\"text-align: right;\">\n",
       "      <th></th>\n",
       "      <th>UNNAMED: 0.1</th>\n",
       "      <th>UNNAMED: 0</th>\n",
       "      <th>INC_END</th>\n",
       "      <th>MOSTSERIOUS</th>\n",
       "      <th>MND_MINIMUM</th>\n",
       "      <th>OFF_AGE</th>\n",
       "      <th>PRS_MANUAL</th>\n",
       "      <th>JPS_DRUG_DEPENDENT</th>\n",
       "      <th>INC_TYPE</th>\n",
       "      <th>JPO_ID</th>\n",
       "      <th>...</th>\n",
       "      <th>F2TOT.1</th>\n",
       "      <th>F3TOT.1</th>\n",
       "      <th>M1TOT.1</th>\n",
       "      <th>M2TOT.1</th>\n",
       "      <th>F1F2.1</th>\n",
       "      <th>MOSTSERIOUS.1</th>\n",
       "      <th>OFN_TITLE.1</th>\n",
       "      <th>OFN_SECTION</th>\n",
       "      <th>OFN_SUBSECTION</th>\n",
       "      <th>JPS_WALSHACTASSESSMENT</th>\n",
       "    </tr>\n",
       "  </thead>\n",
       "  <tbody>\n",
       "    <tr>\n",
       "      <th>0</th>\n",
       "      <td>0</td>\n",
       "      <td>0</td>\n",
       "      <td>NaN</td>\n",
       "      <td>7.0</td>\n",
       "      <td>NaN</td>\n",
       "      <td>36.0</td>\n",
       "      <td>NaN</td>\n",
       "      <td>N</td>\n",
       "      <td>NaN</td>\n",
       "      <td>938145</td>\n",
       "      <td>...</td>\n",
       "      <td>0.0</td>\n",
       "      <td>0.0</td>\n",
       "      <td>0.0</td>\n",
       "      <td>0.0</td>\n",
       "      <td>0.0</td>\n",
       "      <td>7.0</td>\n",
       "      <td>18</td>\n",
       "      <td>6301</td>\n",
       "      <td>(a)(1)*</td>\n",
       "      <td>NaN</td>\n",
       "    </tr>\n",
       "    <tr>\n",
       "      <th>1</th>\n",
       "      <td>1</td>\n",
       "      <td>1</td>\n",
       "      <td>02 Dec 02</td>\n",
       "      <td>7.0</td>\n",
       "      <td>48 Hours</td>\n",
       "      <td>18.0</td>\n",
       "      <td>NaN</td>\n",
       "      <td>N</td>\n",
       "      <td>County Facility</td>\n",
       "      <td>942201</td>\n",
       "      <td>...</td>\n",
       "      <td>0.0</td>\n",
       "      <td>0.0</td>\n",
       "      <td>0.0</td>\n",
       "      <td>0.0</td>\n",
       "      <td>0.0</td>\n",
       "      <td>7.0</td>\n",
       "      <td>75</td>\n",
       "      <td>3731</td>\n",
       "      <td>NaN</td>\n",
       "      <td>NaN</td>\n",
       "    </tr>\n",
       "    <tr>\n",
       "      <th>2</th>\n",
       "      <td>2</td>\n",
       "      <td>2</td>\n",
       "      <td>27 Apr 01</td>\n",
       "      <td>7.0</td>\n",
       "      <td>48 Hours</td>\n",
       "      <td>36.0</td>\n",
       "      <td>NaN</td>\n",
       "      <td>N</td>\n",
       "      <td>County Facility</td>\n",
       "      <td>971901</td>\n",
       "      <td>...</td>\n",
       "      <td>0.0</td>\n",
       "      <td>0.0</td>\n",
       "      <td>0.0</td>\n",
       "      <td>0.0</td>\n",
       "      <td>0.0</td>\n",
       "      <td>7.0</td>\n",
       "      <td>75</td>\n",
       "      <td>3731</td>\n",
       "      <td>NaN</td>\n",
       "      <td>NaN</td>\n",
       "    </tr>\n",
       "    <tr>\n",
       "      <th>3</th>\n",
       "      <td>3</td>\n",
       "      <td>3</td>\n",
       "      <td>NaN</td>\n",
       "      <td>7.0</td>\n",
       "      <td>NaN</td>\n",
       "      <td>22.0</td>\n",
       "      <td>NaN</td>\n",
       "      <td>N</td>\n",
       "      <td>NaN</td>\n",
       "      <td>919472</td>\n",
       "      <td>...</td>\n",
       "      <td>0.0</td>\n",
       "      <td>0.0</td>\n",
       "      <td>0.0</td>\n",
       "      <td>0.0</td>\n",
       "      <td>0.0</td>\n",
       "      <td>7.0</td>\n",
       "      <td>18</td>\n",
       "      <td>2701</td>\n",
       "      <td>(b)</td>\n",
       "      <td>NaN</td>\n",
       "    </tr>\n",
       "    <tr>\n",
       "      <th>4</th>\n",
       "      <td>4</td>\n",
       "      <td>4</td>\n",
       "      <td>01 Jan 03</td>\n",
       "      <td>6.0</td>\n",
       "      <td>30 Days</td>\n",
       "      <td>40.0</td>\n",
       "      <td>NaN</td>\n",
       "      <td>N</td>\n",
       "      <td>County Facility</td>\n",
       "      <td>870391</td>\n",
       "      <td>...</td>\n",
       "      <td>0.0</td>\n",
       "      <td>0.0</td>\n",
       "      <td>0.0</td>\n",
       "      <td>0.0</td>\n",
       "      <td>0.0</td>\n",
       "      <td>6.0</td>\n",
       "      <td>75</td>\n",
       "      <td>3731</td>\n",
       "      <td>NaN</td>\n",
       "      <td>NaN</td>\n",
       "    </tr>\n",
       "  </tbody>\n",
       "</table>\n",
       "<p>5 rows × 93 columns</p>\n",
       "</div>"
      ],
      "text/plain": [
       "   UNNAMED: 0.1  UNNAMED: 0    INC_END  MOSTSERIOUS MND_MINIMUM  OFF_AGE  \\\n",
       "0             0           0        NaN          7.0         NaN     36.0   \n",
       "1             1           1  02 Dec 02          7.0    48 Hours     18.0   \n",
       "2             2           2  27 Apr 01          7.0    48 Hours     36.0   \n",
       "3             3           3        NaN          7.0         NaN     22.0   \n",
       "4             4           4  01 Jan 03          6.0     30 Days     40.0   \n",
       "\n",
       "  PRS_MANUAL JPS_DRUG_DEPENDENT         INC_TYPE  JPO_ID  ... F2TOT.1  \\\n",
       "0        NaN                  N              NaN  938145  ...     0.0   \n",
       "1        NaN                  N  County Facility  942201  ...     0.0   \n",
       "2        NaN                  N  County Facility  971901  ...     0.0   \n",
       "3        NaN                  N              NaN  919472  ...     0.0   \n",
       "4        NaN                  N  County Facility  870391  ...     0.0   \n",
       "\n",
       "   F3TOT.1  M1TOT.1 M2TOT.1 F1F2.1 MOSTSERIOUS.1 OFN_TITLE.1  OFN_SECTION  \\\n",
       "0      0.0      0.0     0.0    0.0           7.0          18         6301   \n",
       "1      0.0      0.0     0.0    0.0           7.0          75         3731   \n",
       "2      0.0      0.0     0.0    0.0           7.0          75         3731   \n",
       "3      0.0      0.0     0.0    0.0           7.0          18         2701   \n",
       "4      0.0      0.0     0.0    0.0           6.0          75         3731   \n",
       "\n",
       "  OFN_SUBSECTION JPS_WALSHACTASSESSMENT  \n",
       "0        (a)(1)*                    NaN  \n",
       "1            NaN                    NaN  \n",
       "2            NaN                    NaN  \n",
       "3            (b)                    NaN  \n",
       "4            NaN                    NaN  \n",
       "\n",
       "[5 rows x 93 columns]"
      ]
     },
     "execution_count": 7,
     "metadata": {},
     "output_type": "execute_result"
    }
   ],
   "source": [
    "df.head() #inspect the dataset"
   ]
  },
  {
   "cell_type": "markdown",
   "metadata": {},
   "source": [
    "# Table of Contents  EDIT!!!!!\n",
    "\n",
    "1. Data Cleaning\n",
    "    1. Convert Dates \n",
    "    2. [Combine REVOC and RFEL Categories](#combining-revoc-into-rfel)\n",
    "    3. Clean DOF\n",
    "    1. [Clean Missing PRS Scores in the 7th Edition](#clean-missing-prs-score)\n",
    "    4. Clean Missing PRS Scores in the 8th Edition\n",
    "    1. [Clean JP_CC_BUG Issue](#clean-jp-cc-bug)\n",
    "2. Adding New Columns\n",
    "    1. Crime Categories\n",
    "    2. Handing Philadelphia Cases Vs. Other Counties\n",
    "2. [At-Risk Date Calculation](#implement-at-risk-date-calculation-logic)\n",
    "    1. Group Data at JPR_ID Level\n",
    "        1. [Address Mutiple Dates of Sentencing](#multiple-dos-for-one-jprid)\n",
    "        2. [Create Adjusted JP_MIN Value]\n",
    "        3. [Check INC_SANCTION EXISTS](#incsanctionexists-check)\n",
    "    2. Group Data at the ID_VARIABLE, DOS LEVEL\n",
    "    3. Implement At-Risk Date Logic\n",
    "3. Calculate Recidivism\n",
    "    1. [Calculate Next Date of Offense](#populate-next-dof)\n",
    "    2. [Check for Free Time](#check-for-\"free-time\")\n",
    "    3. [Calculate Time to Recidivate & 3-Year and 5-Year Recidivism Variables](#create-time-to-recidivate-and-recidivsm-variables)\n",
    "\n",
    "Note: the links aove may not work well in VSCode but wold work better in Jupyter Notebooks via Anaconda\n",
    "    \n"
   ]
  },
  {
   "cell_type": "markdown",
   "metadata": {},
   "source": [
    "# Data Cleaning"
   ]
  },
  {
   "cell_type": "markdown",
   "metadata": {},
   "source": [
    "## Convert Dates"
   ]
  },
  {
   "cell_type": "code",
   "execution_count": 8,
   "metadata": {},
   "outputs": [],
   "source": [
    "## Convert Dates#convert date strings to datetime variable\n",
    "df[['DOF','DOS']] = df[['DOF','DOS']].apply(pd.to_datetime,format=\"%d %b %y\")"
   ]
  },
  {
   "cell_type": "code",
   "execution_count": 9,
   "metadata": {},
   "outputs": [],
   "source": [
    "# extracting out the just the year from the date to be used later \n",
    "df['DOF_YEAR'] = pd.DatetimeIndex(df['DOF']).year\n",
    "df['DOS_YEAR'] = pd.DatetimeIndex(df['DOS']).year"
   ]
  },
  {
   "cell_type": "code",
   "execution_count": 10,
   "metadata": {},
   "outputs": [
    {
     "name": "stdout",
     "output_type": "stream",
     "text": [
      "The minimum date of offense in the dataset is: 1984-11-14 00:00:00\n",
      "The maximum date of offense in the dataset is: 2020-05-08 00:00:00\n",
      "The minimum date of sentencing in the dataset is: 2001-01-01 00:00:00\n",
      "The maximum date of sentencing in the dataset is: 2019-12-31 00:00:00\n"
     ]
    }
   ],
   "source": [
    "#checking the range of values for the DOF and DOS variables\n",
    "print(\"The minimum date of offense in the dataset is: {}\".format(df[[\"DOF\"]].min()[0]))\n",
    "print(\"The maximum date of offense in the dataset is: {}\".format(df[[\"DOF\"]].max()[0]))\n",
    "print(\"The minimum date of sentencing in the dataset is: {}\".format(df[[\"DOS\"]].min()[0]))\n",
    "print(\"The maximum date of sentencing in the dataset is: {}\".format(df[[\"DOS\"]].max()[0]))"
   ]
  },
  {
   "cell_type": "markdown",
   "metadata": {},
   "source": [
    "## Combine REVOC into RFEL for 7th Edition PRS Scores"
   ]
  },
  {
   "cell_type": "code",
   "execution_count": 11,
   "metadata": {},
   "outputs": [
    {
     "data": {
      "text/plain": [
       "array(['0', '1', '2', '3', '5', '4', 'RFEL', 'REVOC', 'rfel', 'RFEl', nan,\n",
       "       'Rfel', 'revoc'], dtype=object)"
      ]
     },
     "execution_count": 11,
     "metadata": {},
     "output_type": "execute_result"
    }
   ],
   "source": [
    "# Values before conversion\n",
    "df['PRS'].unique()"
   ]
  },
  {
   "cell_type": "code",
   "execution_count": 12,
   "metadata": {},
   "outputs": [],
   "source": [
    "def refl_combine(x):\n",
    "    if x in ['RFEL', 'REVOC', 'rfel', 'RFEl', 'Rfel', 'revoc']:\n",
    "        return('RFEL/REVOC')\n",
    "    else:\n",
    "        return(x)   "
   ]
  },
  {
   "cell_type": "code",
   "execution_count": 13,
   "metadata": {},
   "outputs": [],
   "source": [
    "df['PRS'] = df['PRS'].apply(refl_combine)"
   ]
  },
  {
   "cell_type": "code",
   "execution_count": 14,
   "metadata": {},
   "outputs": [
    {
     "data": {
      "text/plain": [
       "array([1., 2., 3., 4.])"
      ]
     },
     "execution_count": 14,
     "metadata": {},
     "output_type": "execute_result"
    }
   ],
   "source": [
    "df['PRS8'].unique()"
   ]
  },
  {
   "cell_type": "code",
   "execution_count": 15,
   "metadata": {},
   "outputs": [
    {
     "data": {
      "text/plain": [
       "array(['0', '1', '2', '3', '5', '4', 'RFEL/REVOC', nan], dtype=object)"
      ]
     },
     "execution_count": 15,
     "metadata": {},
     "output_type": "execute_result"
    }
   ],
   "source": [
    "df['PRS'].unique()"
   ]
  },
  {
   "cell_type": "markdown",
   "metadata": {},
   "source": [
    "## Clean DOF\n",
    "\n",
    "Note: group offense by ID_VAR, JPR_ID, MIN(DOF) to get the first DOF associated for a single JPR_ID"
   ]
  },
  {
   "cell_type": "markdown",
   "metadata": {},
   "source": [
    "### Step 1: Get **minimum** value for the DOF across all of the charges associated with **one** JPR_ID, ID VARIABLE COMBO. \n",
    "\n",
    "Note: This is the procedure because we don't wan't to count a DOF as an instance of recidivism if it occurs BEFORE the date of sentencing. Additionally, we group here by id_var and jpr_id because multiple id variables can be associated with one JPR_ID."
   ]
  },
  {
   "cell_type": "code",
   "execution_count": 16,
   "metadata": {},
   "outputs": [],
   "source": [
    "#at the JPR_ID level we only want ONE DOF because becuase we don't want to take into account DOF's that occur\n",
    "#BEFORE the DOS (associated with the JPR_ID) as an instance of recidivism. -- each JPR_ID should have only ONE DOS\n",
    "\n",
    "#here we will group by id_Variable as well as jpr_id\n",
    "df[\"NEW_DOF\"] = df.groupby([\"JPR_ID\", \"ID_VARIABLE\"])[\"DOF\"].transform(\"min\")\n",
    "\n"
   ]
  },
  {
   "cell_type": "code",
   "execution_count": 17,
   "metadata": {},
   "outputs": [
    {
     "data": {
      "text/html": [
       "<div>\n",
       "<style scoped>\n",
       "    .dataframe tbody tr th:only-of-type {\n",
       "        vertical-align: middle;\n",
       "    }\n",
       "\n",
       "    .dataframe tbody tr th {\n",
       "        vertical-align: top;\n",
       "    }\n",
       "\n",
       "    .dataframe thead th {\n",
       "        text-align: right;\n",
       "    }\n",
       "</style>\n",
       "<table border=\"1\" class=\"dataframe\">\n",
       "  <thead>\n",
       "    <tr style=\"text-align: right;\">\n",
       "      <th></th>\n",
       "      <th>JPR_ID</th>\n",
       "      <th>ID_VARIABLE</th>\n",
       "      <th>DOS</th>\n",
       "      <th>DOF</th>\n",
       "      <th>NEW_DOF</th>\n",
       "      <th>OFN_LABEL</th>\n",
       "    </tr>\n",
       "  </thead>\n",
       "  <tbody>\n",
       "    <tr>\n",
       "      <th>676640</th>\n",
       "      <td>465584</td>\n",
       "      <td>1468038</td>\n",
       "      <td>2006-09-07</td>\n",
       "      <td>2006-04-15</td>\n",
       "      <td>2005-12-31</td>\n",
       "      <td>DUI: High Rate of Alcohol - (BAC .10 - &lt; .16) ...</td>\n",
       "    </tr>\n",
       "    <tr>\n",
       "      <th>676641</th>\n",
       "      <td>465584</td>\n",
       "      <td>1468038</td>\n",
       "      <td>2006-09-07</td>\n",
       "      <td>2005-12-31</td>\n",
       "      <td>2005-12-31</td>\n",
       "      <td>DUI: High Rate of Alcohol - (BAC .10 - &lt; .16) ...</td>\n",
       "    </tr>\n",
       "    <tr>\n",
       "      <th>1964753</th>\n",
       "      <td>5499834</td>\n",
       "      <td>1468038</td>\n",
       "      <td>2015-03-24</td>\n",
       "      <td>2014-08-18</td>\n",
       "      <td>2014-08-18</td>\n",
       "      <td>Theft by unlaw taking-movable property ($200-$...</td>\n",
       "    </tr>\n",
       "    <tr>\n",
       "      <th>2104401</th>\n",
       "      <td>5646230</td>\n",
       "      <td>1468038</td>\n",
       "      <td>2016-05-23</td>\n",
       "      <td>2016-01-28</td>\n",
       "      <td>2016-01-28</td>\n",
       "      <td>Possession-drug paraphernalia</td>\n",
       "    </tr>\n",
       "  </tbody>\n",
       "</table>\n",
       "</div>"
      ],
      "text/plain": [
       "          JPR_ID  ID_VARIABLE        DOS        DOF    NEW_DOF  \\\n",
       "676640    465584      1468038 2006-09-07 2006-04-15 2005-12-31   \n",
       "676641    465584      1468038 2006-09-07 2005-12-31 2005-12-31   \n",
       "1964753  5499834      1468038 2015-03-24 2014-08-18 2014-08-18   \n",
       "2104401  5646230      1468038 2016-05-23 2016-01-28 2016-01-28   \n",
       "\n",
       "                                                 OFN_LABEL  \n",
       "676640   DUI: High Rate of Alcohol - (BAC .10 - < .16) ...  \n",
       "676641   DUI: High Rate of Alcohol - (BAC .10 - < .16) ...  \n",
       "1964753  Theft by unlaw taking-movable property ($200-$...  \n",
       "2104401                      Possession-drug paraphernalia  "
      ]
     },
     "execution_count": 17,
     "metadata": {},
     "output_type": "execute_result"
    }
   ],
   "source": [
    "#testing code\n",
    "df_test = df.copy()\n",
    "\n",
    "df_jprid = df_test[df_test[\"JPR_ID\"] == 5499834]\n",
    "df_test = df_test[df_test[\"ID_VARIABLE\"] == 1468038]\n",
    "\n",
    "df_test[[\"JPR_ID\", \"ID_VARIABLE\", \"DOS\", \"DOF\", \"NEW_DOF\",\"OFN_LABEL\"]]\n"
   ]
  },
  {
   "cell_type": "code",
   "execution_count": 18,
   "metadata": {},
   "outputs": [
    {
     "data": {
      "text/html": [
       "<div>\n",
       "<style scoped>\n",
       "    .dataframe tbody tr th:only-of-type {\n",
       "        vertical-align: middle;\n",
       "    }\n",
       "\n",
       "    .dataframe tbody tr th {\n",
       "        vertical-align: top;\n",
       "    }\n",
       "\n",
       "    .dataframe thead th {\n",
       "        text-align: right;\n",
       "    }\n",
       "</style>\n",
       "<table border=\"1\" class=\"dataframe\">\n",
       "  <thead>\n",
       "    <tr style=\"text-align: right;\">\n",
       "      <th></th>\n",
       "      <th>JPR_ID</th>\n",
       "      <th>ID_VARIABLE</th>\n",
       "      <th>DOF</th>\n",
       "      <th>NEW_DOF</th>\n",
       "    </tr>\n",
       "  </thead>\n",
       "  <tbody>\n",
       "    <tr>\n",
       "      <th>0</th>\n",
       "      <td>640001</td>\n",
       "      <td>1904581</td>\n",
       "      <td>2000-04-01</td>\n",
       "      <td>2000-04-01</td>\n",
       "    </tr>\n",
       "    <tr>\n",
       "      <th>1</th>\n",
       "      <td>642480</td>\n",
       "      <td>1157226</td>\n",
       "      <td>1999-12-31</td>\n",
       "      <td>1999-12-31</td>\n",
       "    </tr>\n",
       "    <tr>\n",
       "      <th>2</th>\n",
       "      <td>660434</td>\n",
       "      <td>1467650</td>\n",
       "      <td>2000-12-23</td>\n",
       "      <td>2000-12-23</td>\n",
       "    </tr>\n",
       "    <tr>\n",
       "      <th>3</th>\n",
       "      <td>628940</td>\n",
       "      <td>1746031</td>\n",
       "      <td>2000-06-26</td>\n",
       "      <td>2000-06-26</td>\n",
       "    </tr>\n",
       "    <tr>\n",
       "      <th>4</th>\n",
       "      <td>594048</td>\n",
       "      <td>1374131</td>\n",
       "      <td>2000-10-15</td>\n",
       "      <td>2000-10-15</td>\n",
       "    </tr>\n",
       "  </tbody>\n",
       "</table>\n",
       "</div>"
      ],
      "text/plain": [
       "   JPR_ID  ID_VARIABLE        DOF    NEW_DOF\n",
       "0  640001      1904581 2000-04-01 2000-04-01\n",
       "1  642480      1157226 1999-12-31 1999-12-31\n",
       "2  660434      1467650 2000-12-23 2000-12-23\n",
       "3  628940      1746031 2000-06-26 2000-06-26\n",
       "4  594048      1374131 2000-10-15 2000-10-15"
      ]
     },
     "execution_count": 18,
     "metadata": {},
     "output_type": "execute_result"
    }
   ],
   "source": [
    "df.head()[[\"JPR_ID\", \"ID_VARIABLE\",\"DOF\", \"NEW_DOF\"]]"
   ]
  },
  {
   "cell_type": "code",
   "execution_count": 19,
   "metadata": {},
   "outputs": [
    {
     "name": "stdout",
     "output_type": "stream",
     "text": [
      "After cleaning, there are 11,785 (0.454381%) rows with missing DOFs in the dataset.\n"
     ]
    }
   ],
   "source": [
    "dof_missing = df[df['NEW_DOF'].isnull()]\n",
    "\n",
    "percent_missing = len(dof_missing)/len(df)\n",
    "print(\"After cleaning, there are {:,} ({:%}) rows with missing DOFs in the dataset.\".format(len(dof_missing), percent_missing))"
   ]
  },
  {
   "cell_type": "markdown",
   "metadata": {},
   "source": [
    "### Step 2: Subset the data to just include those rows where NEW_DOF <= DOS"
   ]
  },
  {
   "cell_type": "code",
   "execution_count": 20,
   "metadata": {},
   "outputs": [],
   "source": [
    "#make sure the sentencing \n",
    "before_length = len(df)\n",
    "df = df[df.NEW_DOF <= df.DOS] \n",
    "after_length = len(df)\n"
   ]
  },
  {
   "cell_type": "code",
   "execution_count": 21,
   "metadata": {},
   "outputs": [
    {
     "name": "stdout",
     "output_type": "stream",
     "text": [
      "Before DOF <= DOS correction, there were 2,593,636 rows and after cleaning there were 2,581,813 rows. A change of 11,823.\n"
     ]
    }
   ],
   "source": [
    "print(\"Before DOF <= DOS correction, there were {:,} rows and after cleaning there were {:,} rows. A change of {:,}.\".format(before_length, after_length, before_length - after_length))\n"
   ]
  },
  {
   "cell_type": "markdown",
   "metadata": {},
   "source": [
    "## Clean Missing PRS Score "
   ]
  },
  {
   "cell_type": "code",
   "execution_count": 22,
   "metadata": {},
   "outputs": [
    {
     "name": "stdout",
     "output_type": "stream",
     "text": [
      "Before PRS correction there were 2,581,813 rows and after cleaning there were 2,581,750 rows. A change of 63 rows and 18 people.\n"
     ]
    }
   ],
   "source": [
    "before_length = len(df)\n",
    "#subset to just the id variables with a PRS score missing\n",
    "id_varswith_prsmissing= set(df[df.PRS.isnull()].ID_VARIABLE)\n",
    "\n",
    "#remove id vars with missing PRS\n",
    "df_prs_notaffected = df[~df.ID_VARIABLE.isin(id_varswith_prsmissing)]\n",
    "\n",
    "#reassign to working dataframe\n",
    "df = df_prs_notaffected \n",
    "\n",
    "after_length = len(df)\n",
    "print(\"Before PRS correction there were {:,} rows and after cleaning there were {:,} rows. A change of {:,} rows and {} people.\".format(before_length, after_length, before_length - after_length, len(id_varswith_prsmissing)))\n"
   ]
  },
  {
   "cell_type": "markdown",
   "metadata": {},
   "source": [
    "## Clean Missing PRS8 (8th Edition Sentencing Guidelines) Score"
   ]
  },
  {
   "cell_type": "code",
   "execution_count": 23,
   "metadata": {},
   "outputs": [
    {
     "name": "stdout",
     "output_type": "stream",
     "text": [
      "Before PRS8 correction there were 2,581,750 rows and after cleaning there were 2,581,750 rows. A change of 0 rows and 0 people.\n"
     ]
    }
   ],
   "source": [
    "before_length = len(df)\n",
    "#subset to just the id variables with a PRS score missing\n",
    "id_varswith_prs8missing= set(df[df.PRS8.isnull()].ID_VARIABLE)\n",
    "\n",
    "#remove id vars with missing PRS\n",
    "df_prs8_notaffected = df[~df.ID_VARIABLE.isin(id_varswith_prs8missing)]\n",
    "\n",
    "#reassign to working dataframe\n",
    "df = df_prs8_notaffected \n",
    "\n",
    "after_length = len(df)\n",
    "print(\"Before PRS8 correction there were {:,} rows and after cleaning there were {:,} rows. A change of {:,} rows and {} people.\".format(before_length, after_length, before_length - after_length, len(id_varswith_prs8missing)))\n"
   ]
  },
  {
   "cell_type": "markdown",
   "metadata": {},
   "source": [
    "## Clean JP CC Bug"
   ]
  },
  {
   "cell_type": "markdown",
   "metadata": {},
   "source": [
    "## Steps followed in cleaning JP_CC Bug\n",
    "1. It is evident that there are JPR_ID's with DOS from 2016 to 2019 that were impacted by the JP_CC_BUG \n",
    "2. The first step was to extract out the ID variables that were impacted out by the bug. \n",
    "3. Next, we removed the Judicial proceedings of these JPR_ID's where the DOS is in 2017,2018, and 2019. However, the JPR_ID's associated with the first occurence of the JP_CC Bug is kept- In other words, the JPR_ID's where the DOS was in 2016 is kept. \n"
   ]
  },
  {
   "cell_type": "code",
   "execution_count": 24,
   "metadata": {},
   "outputs": [
    {
     "data": {
      "text/plain": [
       "{2016, 2017, 2018, 2019}"
      ]
     },
     "execution_count": 24,
     "metadata": {},
     "output_type": "execute_result"
    }
   ],
   "source": [
    "#confirming the years that impacted the JP_CC_BUG\n",
    "set(df[df.JP_CC_BUG=='Y'].DOS_YEAR)\n"
   ]
  },
  {
   "cell_type": "code",
   "execution_count": 25,
   "metadata": {},
   "outputs": [],
   "source": [
    "# Obtaining the id variables with jp_bug\n",
    "id_varswith_jpbug= set(df[df.JP_CC_BUG=='Y'].ID_VARIABLE) #pull out both id_variable and DOS"
   ]
  },
  {
   "cell_type": "code",
   "execution_count": 26,
   "metadata": {},
   "outputs": [],
   "source": [
    "# assigning all the rows associated with the jp bugs to a seperate dataframe \n",
    "df_with_jpbug=  df[df.ID_VARIABLE.isin(id_varswith_jpbug)]  #want to remove the charges that come after the DOS associated with the JP_CC_BUG row (want to eliminate the problemative date of sentencing)"
   ]
  },
  {
   "cell_type": "code",
   "execution_count": 27,
   "metadata": {},
   "outputs": [
    {
     "name": "stderr",
     "output_type": "stream",
     "text": [
      "/var/folders/l8/t9x4mbrd2qz1gg4gt4t9rttc0000gn/T/ipykernel_64857/2375223154.py:2: UserWarning: Boolean Series key will be reindexed to match DataFrame index.\n",
      "  df_jp_bug_cleaned = df_with_jpbug[df.DOS_YEAR<2017]\n"
     ]
    }
   ],
   "source": [
    "# Removing the JPR'IDS's that have DOS in 2017,2018 and 2019\n",
    "df_jp_bug_cleaned = df_with_jpbug[df.DOS_YEAR<2017]"
   ]
  },
  {
   "cell_type": "code",
   "execution_count": 28,
   "metadata": {},
   "outputs": [],
   "source": [
    "# Isolating the rows associated with id_vars in the original dataframe that is not associated with the bug\n",
    "df_jpbug_notaffected = df[~df.ID_VARIABLE.isin(id_varswith_jpbug)]"
   ]
  },
  {
   "cell_type": "code",
   "execution_count": 29,
   "metadata": {},
   "outputs": [],
   "source": [
    "# Rejoining the rows affected by the JP_CC_bug after cleaning them to the rows not affected by the bug\n",
    "df_cleaned_1 = pd.concat([df_jpbug_notaffected,df_jp_bug_cleaned])  #new working df\n",
    "\n",
    "df = df_cleaned_1"
   ]
  },
  {
   "cell_type": "code",
   "execution_count": 30,
   "metadata": {},
   "outputs": [
    {
     "name": "stdout",
     "output_type": "stream",
     "text": [
      "After the JP_CC_BUG correction there are 2,574,269 rows. \n"
     ]
    }
   ],
   "source": [
    "after_length = len(df)\n",
    "\n",
    "print(\"After the JP_CC_BUG correction there are {:,} rows. \".format(after_length))\n"
   ]
  },
  {
   "cell_type": "markdown",
   "metadata": {},
   "source": [
    "# Adding New Columns"
   ]
  },
  {
   "cell_type": "markdown",
   "metadata": {},
   "source": [
    "## Crime Categories"
   ]
  },
  {
   "cell_type": "code",
   "execution_count": 31,
   "metadata": {},
   "outputs": [],
   "source": [
    "# Sex crimes\n",
    "df['SEXCRIME'] = [True if (a == 'Tier I' or a == 'Tier II' or a == 'Tier III') else False for a in df['JPS_WALSHACTASSESSMENT']]"
   ]
  },
  {
   "cell_type": "code",
   "execution_count": 32,
   "metadata": {},
   "outputs": [
    {
     "data": {
      "text/plain": [
       "array([nan, 'Tier I', 'Tier II', 'Tier III'], dtype=object)"
      ]
     },
     "execution_count": 32,
     "metadata": {},
     "output_type": "execute_result"
    }
   ],
   "source": [
    "df.JPS_WALSHACTASSESSMENT.unique()"
   ]
  },
  {
   "cell_type": "markdown",
   "metadata": {},
   "source": [
    "## Create a Numeric column for the Categorical Sex Crime tiers in JPS_WALSHACTASSESSMENT"
   ]
  },
  {
   "cell_type": "code",
   "execution_count": 33,
   "metadata": {},
   "outputs": [],
   "source": [
    "def numeric_sextier(x):\n",
    "    if x =='Tier I':\n",
    "        return(1)\n",
    "    elif x=='Tier II':\n",
    "        return(2)\n",
    "    elif x=='Tier III':\n",
    "        return(3)\n",
    "    else:\n",
    "        return(x)      "
   ]
  },
  {
   "cell_type": "code",
   "execution_count": 34,
   "metadata": {},
   "outputs": [],
   "source": [
    "df['SEXTIER_NUMERIC']= df['JPS_WALSHACTASSESSMENT'].apply(numeric_sextier)"
   ]
  },
  {
   "cell_type": "code",
   "execution_count": 35,
   "metadata": {},
   "outputs": [],
   "source": [
    "df['OFN_SECTION_61'] = [True if a[:2]=='61' else False for a in df['OFN_SECTION']]\n",
    "df['FIREARMS'] = np.where((df['OFN_SECTION_61'] == True) & (df['OFN_TITLE'] ==\n",
    "18), True, False)\n"
   ]
  },
  {
   "cell_type": "code",
   "execution_count": 36,
   "metadata": {},
   "outputs": [],
   "source": [
    "def conditions(s):\n",
    "    if (s['OFN_TITLE']==18):\n",
    "        if (s['OFN_SECTION']=='2502') & (s['OFN_SUBSECTION'] == 'C'):\n",
    "            return True\n",
    "        elif (s['OFN_SECTION']=='2502') & (s['OFN_SUBSECTION'] == '(c)'):\n",
    "            return True\n",
    "        elif (s['OFN_SECTION']=='2503'):\n",
    "            return True\n",
    "        elif (s['OFN_SECTION']=='2506'):\n",
    "            return True\n",
    "        elif (s['OFN_SECTION']=='2507') & (s['OFN_SUBSECTION'] == 'C'):\n",
    "            return True\n",
    "        elif (s['OFN_SECTION']=='2507') & (s['OFN_SUBSECTION'] == 'C1'):\n",
    "            return True\n",
    "        elif (s['OFN_SECTION']=='2507') & (s['OFN_SUBSECTION'] == 'C1I'):\n",
    "            return True\n",
    "        elif (s['OFN_SECTION']=='2507') & (s['OFN_SUBSECTION'] == 'C1II'):\n",
    "            return True\n",
    "        elif (s['OFN_SECTION']=='2507') & (s['OFN_SUBSECTION'] == 'D'):\n",
    "            return True\n",
    "        elif (s['OFN_SECTION']=='2604') & (s['OFN_SUBSECTION'] == 'C'):\n",
    "            return True\n",
    "        elif (s['OFN_SECTION']=='2604') & (s['OFN_SUBSECTION'] == 'C1'):\n",
    "            return True\n",
    "        elif (s['OFN_SECTION']=='2606'):\n",
    "            return True\n",
    "        elif (s['OFN_SECTION']=='2702') & (s['OFN_SUBSECTION'] == '(a)(1)'):\n",
    "            return True\n",
    "        elif (s['OFN_SECTION']=='2702') & (s['OFN_SUBSECTION'] == '(a)(1)*'):\n",
    "            return True\n",
    "        elif (s['OFN_SECTION']=='2702') & (s['OFN_SUBSECTION'] == 'A1'):\n",
    "            return True\n",
    "        elif (s['OFN_SECTION']=='2702') & (s['OFN_SUBSECTION'] == '(a)(2)'):\n",
    "            return True\n",
    "        elif (s['OFN_SECTION']=='2702') & (s['OFN_SUBSECTION'] == '(a)(2)*'):\n",
    "            return True\n",
    "        elif (s['OFN_SECTION']=='2702') & (s['OFN_SUBSECTION'] == 'A2'):\n",
    "            return True\n",
    "        elif (s['OFN_SECTION']=='2702.1'):\n",
    "            return True\n",
    "        elif (s['OFN_SECTION']=='2716') & (s['OFN_SUBSECTION'] == 'B'):\n",
    "            return True\n",
    "        elif (s['OFN_SECTION']=='2716') & (s['OFN_SUBSECTION'] == 'B1'):\n",
    "            return True\n",
    "        elif (s['OFN_SECTION']=='2716') & (s['OFN_SUBSECTION'] == '(b)'):\n",
    "            return True\n",
    "        elif (s['OFN_SECTION']=='2716') & (s['OFN_SUBSECTION'] == '(b)1'):\n",
    "            return True\n",
    "        elif (s['OFN_SECTION']=='2717') & (s['OFN_GRADE'] == 'F-1'):\n",
    "            return True\n",
    "        elif (s['OFN_SECTION']=='2718') & (s['OFN_GRADE'] == 'F-1'):\n",
    "            return True\n",
    "        elif (s['OFN_SECTION']=='2901'):\n",
    "            return True\n",
    "        elif (s['OFN_SECTION']=='3002') & (s['OFN_GRADE'] == 'F-1'):\n",
    "            return True\n",
    "        elif (s['OFN_SECTION']=='3011') & (s['OFN_GRADE'] == 'F-1'):\n",
    "            return True\n",
    "        elif (s['OFN_SECTION']=='3012') & (s['OFN_GRADE'] == 'F-1'):\n",
    "            return True\n",
    "        elif (s['OFN_SECTION']=='3121'):\n",
    "            return True\n",
    "        elif (s['OFN_SECTION']=='3123'):\n",
    "            return True\n",
    "        elif (s['OFN_SECTION']=='3124.1'):\n",
    "            return True\n",
    "        elif (s['OFN_SECTION']=='3125'):\n",
    "            return True\n",
    "        elif (s['OFN_SECTION']=='4302'):\n",
    "            return True\n",
    "        elif (s['OFN_SECTION']=='3301'):\n",
    "            if (s['OFN_SUBSECTION'] == 'A'):\n",
    "                return True\n",
    "            elif (s['OFN_SUBSECTION'] == 'A1'):\n",
    "                return True\n",
    "            elif (s['OFN_SUBSECTION'] == 'A1I'):\n",
    "                return True\n",
    "            elif (s['OFN_SUBSECTION'] == 'A1II'):\n",
    "                return True\n",
    "            elif (s['OFN_SUBSECTION'] == 'A2'):\n",
    "                return True\n",
    "            elif (s['OFN_SUBSECTION'] == '(a)(1)*'):\n",
    "                return True\n",
    "            elif (s['OFN_SUBSECTION'] == 'A.1'):\n",
    "                return True\n",
    "            elif (s['OFN_SUBSECTION'] == 'A.11'):\n",
    "                return True\n",
    "            elif (s['OFN_SUBSECTION'] == 'A.11I'):\n",
    "                return True\n",
    "            elif (s['OFN_SUBSECTION'] == 'A.11II'):\n",
    "                return True\n",
    "        elif (s['OFN_SECTION']=='3311') & (s['OFN_GRADE'] == 'F-1'):     \n",
    "            return True\n",
    "        elif (s['OFN_SECTION']=='3502') & (s['OFN_SUBSECTION'] == 'A1'):\n",
    "            return True\n",
    "        elif (s['OFN_SECTION']=='3701'):\n",
    "            if (s['OFN_SUBSECTION'] == '(a)(1)(i)'):\n",
    "                return True\n",
    "            elif (s['OFN_SUBSECTION'] == '(a)(1)(ii)'):\n",
    "                return True\n",
    "            elif (s['OFN_SUBSECTION'] == '(a)(1)(iii)'):\n",
    "                return True\n",
    "            elif (s['OFN_SUBSECTION'] == 'A1I'):\n",
    "                return True\n",
    "            elif (s['OFN_SUBSECTION'] == 'A1II'):\n",
    "                return True\n",
    "            elif (s['OFN_SUBSECTION'] == 'A1III'):\n",
    "                return True\n",
    "        elif (s['OFN_SECTION']=='3702'):\n",
    "            return True\n",
    "        else:\n",
    "            return False\n",
    "    else:\n",
    "        return False"
   ]
  },
  {
   "cell_type": "code",
   "execution_count": 37,
   "metadata": {},
   "outputs": [],
   "source": [
    "df['VIOLENCE'] = df.apply(conditions, axis=1)"
   ]
  },
  {
   "cell_type": "code",
   "execution_count": 38,
   "metadata": {},
   "outputs": [],
   "source": [
    "# Drug\n",
    "df['DRUGOFFENSE'] = np.where((df['OFN_TITLE'] == 35), True, False)"
   ]
  },
  {
   "cell_type": "code",
   "execution_count": 39,
   "metadata": {},
   "outputs": [],
   "source": [
    "# DUI\n",
    "df['DUI'] = np.where((df['OFN_TITLE'] == 75) & (df['OFN_SECTION']=='3802'), True, False)"
   ]
  },
  {
   "cell_type": "markdown",
   "metadata": {},
   "source": [
    "# Handling Cases where sentencing was in Philly and another county "
   ]
  },
  {
   "cell_type": "code",
   "execution_count": 40,
   "metadata": {},
   "outputs": [],
   "source": [
    "\n",
    "# creating Philly indicator column\n",
    "df['CTY_PHL'] = np.where(df['COUNTY']=='Philadelphia', 1, 0)"
   ]
  },
  {
   "cell_type": "code",
   "execution_count": 41,
   "metadata": {},
   "outputs": [],
   "source": [
    "# !!! AZ EDIT \n",
    "df['CTY_PHL_CLEANED'] = df.groupby(by=['JPR_ID', 'ID_VARIABLE'])['CTY_PHL'].transform('max') # TJ EDIT = changed the order of these columns"
   ]
  },
  {
   "cell_type": "markdown",
   "metadata": {},
   "source": [
    "# Adding Concurrent and Consecutive Sentencing Info"
   ]
  },
  {
   "cell_type": "code",
   "execution_count": 42,
   "metadata": {},
   "outputs": [],
   "source": [
    "# !!! AZ changed the order per Matt's comment \n",
    "\n",
    "# Use the following order to map numeric values to INC_RELATIONSHIP (i.e., 0 for Concurrent and 1 for Consecutive). \n",
    "# By taking the max() value later, this will assign all cases with at least one consecutive sentence in the consecutive category. \n",
    "order = [np.nan, 'Concurrent', 'Consecutive']"
   ]
  },
  {
   "cell_type": "code",
   "execution_count": 43,
   "metadata": {},
   "outputs": [],
   "source": [
    "df['INC_REL_NUMERIC'] = df['INC_RELATIONSHIP'].map(dict(zip(order, np.arange(len(order)))))"
   ]
  },
  {
   "cell_type": "code",
   "execution_count": 44,
   "metadata": {},
   "outputs": [
    {
     "data": {
      "text/html": [
       "<div>\n",
       "<style scoped>\n",
       "    .dataframe tbody tr th:only-of-type {\n",
       "        vertical-align: middle;\n",
       "    }\n",
       "\n",
       "    .dataframe tbody tr th {\n",
       "        vertical-align: top;\n",
       "    }\n",
       "\n",
       "    .dataframe thead th {\n",
       "        text-align: right;\n",
       "    }\n",
       "</style>\n",
       "<table border=\"1\" class=\"dataframe\">\n",
       "  <thead>\n",
       "    <tr style=\"text-align: right;\">\n",
       "      <th></th>\n",
       "      <th>INC_REL_NUMERIC</th>\n",
       "      <th>INC_RELATIONSHIP</th>\n",
       "    </tr>\n",
       "  </thead>\n",
       "  <tbody>\n",
       "    <tr>\n",
       "      <th>49</th>\n",
       "      <td>2.0</td>\n",
       "      <td>Consecutive</td>\n",
       "    </tr>\n",
       "    <tr>\n",
       "      <th>54</th>\n",
       "      <td>1.0</td>\n",
       "      <td>Concurrent</td>\n",
       "    </tr>\n",
       "    <tr>\n",
       "      <th>57</th>\n",
       "      <td>1.0</td>\n",
       "      <td>Concurrent</td>\n",
       "    </tr>\n",
       "    <tr>\n",
       "      <th>80</th>\n",
       "      <td>1.0</td>\n",
       "      <td>Concurrent</td>\n",
       "    </tr>\n",
       "    <tr>\n",
       "      <th>81</th>\n",
       "      <td>1.0</td>\n",
       "      <td>Concurrent</td>\n",
       "    </tr>\n",
       "  </tbody>\n",
       "</table>\n",
       "</div>"
      ],
      "text/plain": [
       "    INC_REL_NUMERIC INC_RELATIONSHIP\n",
       "49              2.0      Consecutive\n",
       "54              1.0       Concurrent\n",
       "57              1.0       Concurrent\n",
       "80              1.0       Concurrent\n",
       "81              1.0       Concurrent"
      ]
     },
     "execution_count": 44,
     "metadata": {},
     "output_type": "execute_result"
    }
   ],
   "source": [
    "df[df['INC_RELATIONSHIP'].notna()][['INC_REL_NUMERIC', 'INC_RELATIONSHIP']].head()"
   ]
  },
  {
   "cell_type": "code",
   "execution_count": 45,
   "metadata": {},
   "outputs": [
    {
     "data": {
      "text/html": [
       "<div>\n",
       "<style scoped>\n",
       "    .dataframe tbody tr th:only-of-type {\n",
       "        vertical-align: middle;\n",
       "    }\n",
       "\n",
       "    .dataframe tbody tr th {\n",
       "        vertical-align: top;\n",
       "    }\n",
       "\n",
       "    .dataframe thead th {\n",
       "        text-align: right;\n",
       "    }\n",
       "</style>\n",
       "<table border=\"1\" class=\"dataframe\">\n",
       "  <thead>\n",
       "    <tr style=\"text-align: right;\">\n",
       "      <th></th>\n",
       "      <th>INC_REL_NUMERIC</th>\n",
       "      <th>INC_RELATIONSHIP</th>\n",
       "    </tr>\n",
       "  </thead>\n",
       "  <tbody>\n",
       "    <tr>\n",
       "      <th>0</th>\n",
       "      <td>0.0</td>\n",
       "      <td>NaN</td>\n",
       "    </tr>\n",
       "    <tr>\n",
       "      <th>1</th>\n",
       "      <td>0.0</td>\n",
       "      <td>NaN</td>\n",
       "    </tr>\n",
       "    <tr>\n",
       "      <th>2</th>\n",
       "      <td>0.0</td>\n",
       "      <td>NaN</td>\n",
       "    </tr>\n",
       "    <tr>\n",
       "      <th>3</th>\n",
       "      <td>0.0</td>\n",
       "      <td>NaN</td>\n",
       "    </tr>\n",
       "    <tr>\n",
       "      <th>4</th>\n",
       "      <td>0.0</td>\n",
       "      <td>NaN</td>\n",
       "    </tr>\n",
       "  </tbody>\n",
       "</table>\n",
       "</div>"
      ],
      "text/plain": [
       "   INC_REL_NUMERIC INC_RELATIONSHIP\n",
       "0              0.0              NaN\n",
       "1              0.0              NaN\n",
       "2              0.0              NaN\n",
       "3              0.0              NaN\n",
       "4              0.0              NaN"
      ]
     },
     "execution_count": 45,
     "metadata": {},
     "output_type": "execute_result"
    }
   ],
   "source": [
    "df[df['INC_RELATIONSHIP'].isna()][['INC_REL_NUMERIC', 'INC_RELATIONSHIP']].head()"
   ]
  },
  {
   "cell_type": "code",
   "execution_count": 46,
   "metadata": {},
   "outputs": [],
   "source": [
    "# !!! AZ Edit \n",
    "df['INC_REL_NUMERIC_CLEANED'] = df.groupby(by=['ID_VARIABLE', 'JPR_ID'])['INC_REL_NUMERIC'].transform('max')"
   ]
  },
  {
   "cell_type": "code",
   "execution_count": 47,
   "metadata": {},
   "outputs": [],
   "source": [
    "# !!! AZ Edit\n",
    "\n",
    "# get the number of charges sentenced per JP on each DOS\n",
    "df['CHARGE_COUNT'] = df.groupby(by=['ID_VARIABLE', 'JPR_ID', 'DOS'])['JPO_ID'].transform('count')"
   ]
  },
  {
   "cell_type": "code",
   "execution_count": 48,
   "metadata": {},
   "outputs": [
    {
     "data": {
      "text/html": [
       "<div>\n",
       "<style scoped>\n",
       "    .dataframe tbody tr th:only-of-type {\n",
       "        vertical-align: middle;\n",
       "    }\n",
       "\n",
       "    .dataframe tbody tr th {\n",
       "        vertical-align: top;\n",
       "    }\n",
       "\n",
       "    .dataframe thead th {\n",
       "        text-align: right;\n",
       "    }\n",
       "</style>\n",
       "<table border=\"1\" class=\"dataframe\">\n",
       "  <thead>\n",
       "    <tr style=\"text-align: right;\">\n",
       "      <th></th>\n",
       "      <th>CHARGE_COUNT</th>\n",
       "      <th>JPR_ID</th>\n",
       "      <th>DOS</th>\n",
       "    </tr>\n",
       "  </thead>\n",
       "  <tbody>\n",
       "    <tr>\n",
       "      <th>1591799</th>\n",
       "      <td>6</td>\n",
       "      <td>5199873</td>\n",
       "      <td>2012-12-06</td>\n",
       "    </tr>\n",
       "    <tr>\n",
       "      <th>1591800</th>\n",
       "      <td>6</td>\n",
       "      <td>5199873</td>\n",
       "      <td>2012-12-06</td>\n",
       "    </tr>\n",
       "    <tr>\n",
       "      <th>1591801</th>\n",
       "      <td>6</td>\n",
       "      <td>5199873</td>\n",
       "      <td>2012-12-06</td>\n",
       "    </tr>\n",
       "    <tr>\n",
       "      <th>1591802</th>\n",
       "      <td>6</td>\n",
       "      <td>5199873</td>\n",
       "      <td>2012-12-06</td>\n",
       "    </tr>\n",
       "    <tr>\n",
       "      <th>1591803</th>\n",
       "      <td>6</td>\n",
       "      <td>5199873</td>\n",
       "      <td>2012-12-06</td>\n",
       "    </tr>\n",
       "    <tr>\n",
       "      <th>1591804</th>\n",
       "      <td>6</td>\n",
       "      <td>5199873</td>\n",
       "      <td>2012-12-06</td>\n",
       "    </tr>\n",
       "    <tr>\n",
       "      <th>1885851</th>\n",
       "      <td>6</td>\n",
       "      <td>5199873</td>\n",
       "      <td>2014-10-09</td>\n",
       "    </tr>\n",
       "    <tr>\n",
       "      <th>1885850</th>\n",
       "      <td>6</td>\n",
       "      <td>5199873</td>\n",
       "      <td>2014-10-09</td>\n",
       "    </tr>\n",
       "    <tr>\n",
       "      <th>1885849</th>\n",
       "      <td>6</td>\n",
       "      <td>5199873</td>\n",
       "      <td>2014-10-09</td>\n",
       "    </tr>\n",
       "    <tr>\n",
       "      <th>1885848</th>\n",
       "      <td>6</td>\n",
       "      <td>5199873</td>\n",
       "      <td>2014-10-09</td>\n",
       "    </tr>\n",
       "    <tr>\n",
       "      <th>1885847</th>\n",
       "      <td>6</td>\n",
       "      <td>5199873</td>\n",
       "      <td>2014-10-09</td>\n",
       "    </tr>\n",
       "    <tr>\n",
       "      <th>1885846</th>\n",
       "      <td>6</td>\n",
       "      <td>5199873</td>\n",
       "      <td>2014-10-09</td>\n",
       "    </tr>\n",
       "    <tr>\n",
       "      <th>2023558</th>\n",
       "      <td>6</td>\n",
       "      <td>5199873</td>\n",
       "      <td>2015-05-14</td>\n",
       "    </tr>\n",
       "    <tr>\n",
       "      <th>2023559</th>\n",
       "      <td>6</td>\n",
       "      <td>5199873</td>\n",
       "      <td>2015-05-14</td>\n",
       "    </tr>\n",
       "    <tr>\n",
       "      <th>2023560</th>\n",
       "      <td>6</td>\n",
       "      <td>5199873</td>\n",
       "      <td>2015-05-14</td>\n",
       "    </tr>\n",
       "    <tr>\n",
       "      <th>2023561</th>\n",
       "      <td>6</td>\n",
       "      <td>5199873</td>\n",
       "      <td>2015-05-14</td>\n",
       "    </tr>\n",
       "    <tr>\n",
       "      <th>2023562</th>\n",
       "      <td>6</td>\n",
       "      <td>5199873</td>\n",
       "      <td>2015-05-14</td>\n",
       "    </tr>\n",
       "    <tr>\n",
       "      <th>2023563</th>\n",
       "      <td>6</td>\n",
       "      <td>5199873</td>\n",
       "      <td>2015-05-14</td>\n",
       "    </tr>\n",
       "  </tbody>\n",
       "</table>\n",
       "</div>"
      ],
      "text/plain": [
       "         CHARGE_COUNT   JPR_ID        DOS\n",
       "1591799             6  5199873 2012-12-06\n",
       "1591800             6  5199873 2012-12-06\n",
       "1591801             6  5199873 2012-12-06\n",
       "1591802             6  5199873 2012-12-06\n",
       "1591803             6  5199873 2012-12-06\n",
       "1591804             6  5199873 2012-12-06\n",
       "1885851             6  5199873 2014-10-09\n",
       "1885850             6  5199873 2014-10-09\n",
       "1885849             6  5199873 2014-10-09\n",
       "1885848             6  5199873 2014-10-09\n",
       "1885847             6  5199873 2014-10-09\n",
       "1885846             6  5199873 2014-10-09\n",
       "2023558             6  5199873 2015-05-14\n",
       "2023559             6  5199873 2015-05-14\n",
       "2023560             6  5199873 2015-05-14\n",
       "2023561             6  5199873 2015-05-14\n",
       "2023562             6  5199873 2015-05-14\n",
       "2023563             6  5199873 2015-05-14"
      ]
     },
     "execution_count": 48,
     "metadata": {},
     "output_type": "execute_result"
    }
   ],
   "source": [
    "df[(df['ID_VARIABLE']==1884187) & (df['JPR_ID']==5199873)][['CHARGE_COUNT', 'JPR_ID', 'DOS']].sort_values(by='DOS')"
   ]
  },
  {
   "cell_type": "code",
   "execution_count": 49,
   "metadata": {},
   "outputs": [],
   "source": [
    "# FOR NOW: we will take the charge count associated with most severe sentence (largest JP_MIN) and highest OGS for a given DOS, after dealing with NANs\n",
    "# TEAM: review later when incorporating into pipeline as to whether this logic makes sense \n",
    "#charge_counts['OGS'] = charge_counts['OGS'].fillna(0)\n",
    "#charge_counts = charge_counts.sort_values(by=['ID_VARIABLE', 'DOS', 'JP_MIN', 'OGS', 'CHARGE_COUNT'], ascending=[True, True, False, False, False])"
   ]
  },
  {
   "cell_type": "markdown",
   "metadata": {},
   "source": [
    "# Implement At Risk Date Calculation Logic"
   ]
  },
  {
   "cell_type": "markdown",
   "metadata": {},
   "source": [
    "## Step 1: Address Issue with Multiple DOS for one JPR_ID"
   ]
  },
  {
   "cell_type": "code",
   "execution_count": 50,
   "metadata": {},
   "outputs": [],
   "source": [
    "dos_vals = df.groupby([\"JPR_ID\"])['DOS'].agg(lambda x: set(x)) #> 1 #how many rows have two UNIQUE DOS for the same JPR_ID (set)"
   ]
  },
  {
   "cell_type": "code",
   "execution_count": 51,
   "metadata": {},
   "outputs": [],
   "source": [
    "num_dos = df.groupby([\"JPR_ID\"])['DOS'].agg(lambda x: len(set(x))) #how many dates of sentencing does each jpr_id have?\n",
    "#num_dos[2847193]"
   ]
  },
  {
   "cell_type": "code",
   "execution_count": 52,
   "metadata": {},
   "outputs": [
    {
     "name": "stdout",
     "output_type": "stream",
     "text": [
      "There are 359 JPR_IDS in the dataset with more than one date of sentence.\n"
     ]
    }
   ],
   "source": [
    "#more_than_one_dos.reset_index()\n",
    "more_than_one_dos = list(num_dos[num_dos > 1].index)\n",
    "\n",
    "print(\"There are {:,} JPR_IDS in the dataset with more than one date of sentence.\".format(len(more_than_one_dos)))"
   ]
  },
  {
   "cell_type": "code",
   "execution_count": 53,
   "metadata": {},
   "outputs": [],
   "source": [
    "#subset the data JUST to those ID's in the more_than_one dos bucket\n",
    "only_one_dos = df.loc[~df[\"JPR_ID\"].isin(more_than_one_dos)]\n",
    "more_than_one_dos_df = df.loc[df[\"JPR_ID\"].isin(more_than_one_dos)]\n"
   ]
  },
  {
   "cell_type": "code",
   "execution_count": 54,
   "metadata": {},
   "outputs": [
    {
     "data": {
      "text/html": [
       "<div>\n",
       "<style scoped>\n",
       "    .dataframe tbody tr th:only-of-type {\n",
       "        vertical-align: middle;\n",
       "    }\n",
       "\n",
       "    .dataframe tbody tr th {\n",
       "        vertical-align: top;\n",
       "    }\n",
       "\n",
       "    .dataframe thead th {\n",
       "        text-align: right;\n",
       "    }\n",
       "</style>\n",
       "<table border=\"1\" class=\"dataframe\">\n",
       "  <thead>\n",
       "    <tr style=\"text-align: right;\">\n",
       "      <th></th>\n",
       "      <th>JPR_ID</th>\n",
       "      <th>DOS</th>\n",
       "      <th>OFN_LABEL</th>\n",
       "      <th>PRS</th>\n",
       "      <th>JP_MIN</th>\n",
       "      <th>MS_SENTJP</th>\n",
       "      <th>INC_SANCTION_EXISTS</th>\n",
       "    </tr>\n",
       "  </thead>\n",
       "  <tbody>\n",
       "    <tr>\n",
       "      <th>569776</th>\n",
       "      <td>92399</td>\n",
       "      <td>2005-01-06</td>\n",
       "      <td>Murder of The Second Degree</td>\n",
       "      <td>0</td>\n",
       "      <td>30346.0</td>\n",
       "      <td>NaN</td>\n",
       "      <td>Y</td>\n",
       "    </tr>\n",
       "    <tr>\n",
       "      <th>2131297</th>\n",
       "      <td>92399</td>\n",
       "      <td>2016-06-27</td>\n",
       "      <td>Murder of The Second Degree</td>\n",
       "      <td>0</td>\n",
       "      <td>NaN</td>\n",
       "      <td>Yes</td>\n",
       "      <td>Y</td>\n",
       "    </tr>\n",
       "    <tr>\n",
       "      <th>620698</th>\n",
       "      <td>117010</td>\n",
       "      <td>2005-02-01</td>\n",
       "      <td>Aggravated Assault - Cause or Att B.I. w/Deadl...</td>\n",
       "      <td>5</td>\n",
       "      <td>8127.0</td>\n",
       "      <td>NaN</td>\n",
       "      <td>Y</td>\n",
       "    </tr>\n",
       "    <tr>\n",
       "      <th>620699</th>\n",
       "      <td>117010</td>\n",
       "      <td>2005-02-01</td>\n",
       "      <td>Burglary - Home: Person Present</td>\n",
       "      <td>5</td>\n",
       "      <td>8127.0</td>\n",
       "      <td>NaN</td>\n",
       "      <td>Y</td>\n",
       "    </tr>\n",
       "    <tr>\n",
       "      <th>620700</th>\n",
       "      <td>117010</td>\n",
       "      <td>2005-02-01</td>\n",
       "      <td>Murder Inchoate -  Attempt with S.B.I.</td>\n",
       "      <td>5</td>\n",
       "      <td>8127.0</td>\n",
       "      <td>NaN</td>\n",
       "      <td>Y</td>\n",
       "    </tr>\n",
       "  </tbody>\n",
       "</table>\n",
       "</div>"
      ],
      "text/plain": [
       "         JPR_ID        DOS                                          OFN_LABEL  \\\n",
       "569776    92399 2005-01-06                        Murder of The Second Degree   \n",
       "2131297   92399 2016-06-27                        Murder of The Second Degree   \n",
       "620698   117010 2005-02-01  Aggravated Assault - Cause or Att B.I. w/Deadl...   \n",
       "620699   117010 2005-02-01                    Burglary - Home: Person Present   \n",
       "620700   117010 2005-02-01             Murder Inchoate -  Attempt with S.B.I.   \n",
       "\n",
       "        PRS   JP_MIN MS_SENTJP INC_SANCTION_EXISTS  \n",
       "569776    0  30346.0       NaN                   Y  \n",
       "2131297   0      NaN       Yes                   Y  \n",
       "620698    5   8127.0       NaN                   Y  \n",
       "620699    5   8127.0       NaN                   Y  \n",
       "620700    5   8127.0       NaN                   Y  "
      ]
     },
     "execution_count": 54,
     "metadata": {},
     "output_type": "execute_result"
    }
   ],
   "source": [
    "more_than_one_dos_df = more_than_one_dos_df.sort_values([\"JPR_ID\", \"DOS\"]) #sort by jpr_id AND DOS\n",
    "\n",
    "more_than_one_dos_df.head()[[\"JPR_ID\", \"DOS\", \"OFN_LABEL\", \"PRS\", \"JP_MIN\", \"MS_SENTJP\", \"INC_SANCTION_EXISTS\"]]\n"
   ]
  },
  {
   "cell_type": "code",
   "execution_count": 55,
   "metadata": {},
   "outputs": [
    {
     "data": {
      "text/html": [
       "<div>\n",
       "<style scoped>\n",
       "    .dataframe tbody tr th:only-of-type {\n",
       "        vertical-align: middle;\n",
       "    }\n",
       "\n",
       "    .dataframe tbody tr th {\n",
       "        vertical-align: top;\n",
       "    }\n",
       "\n",
       "    .dataframe thead th {\n",
       "        text-align: right;\n",
       "    }\n",
       "</style>\n",
       "<table border=\"1\" class=\"dataframe\">\n",
       "  <thead>\n",
       "    <tr style=\"text-align: right;\">\n",
       "      <th></th>\n",
       "      <th>JPR_ID</th>\n",
       "      <th>ID_VARIABLE</th>\n",
       "      <th>DOS</th>\n",
       "      <th>OFN_LABEL</th>\n",
       "      <th>MIN_DOS</th>\n",
       "      <th>JP_MIN</th>\n",
       "      <th>MAX_DOS</th>\n",
       "      <th>TIME_SERVED</th>\n",
       "      <th>LATEST_JPMIN</th>\n",
       "      <th>ADJ_JPMIN</th>\n",
       "    </tr>\n",
       "  </thead>\n",
       "  <tbody>\n",
       "    <tr>\n",
       "      <th>569776</th>\n",
       "      <td>92399</td>\n",
       "      <td>1877126</td>\n",
       "      <td>2005-01-06</td>\n",
       "      <td>Murder of The Second Degree</td>\n",
       "      <td>2005-01-06</td>\n",
       "      <td>30346.0</td>\n",
       "      <td>2016-06-27</td>\n",
       "      <td>4190</td>\n",
       "      <td>30346.0</td>\n",
       "      <td>26156.0</td>\n",
       "    </tr>\n",
       "    <tr>\n",
       "      <th>2131297</th>\n",
       "      <td>92399</td>\n",
       "      <td>1877126</td>\n",
       "      <td>2016-06-27</td>\n",
       "      <td>Murder of The Second Degree</td>\n",
       "      <td>2005-01-06</td>\n",
       "      <td>NaN</td>\n",
       "      <td>2016-06-27</td>\n",
       "      <td>4190</td>\n",
       "      <td>30346.0</td>\n",
       "      <td>26156.0</td>\n",
       "    </tr>\n",
       "    <tr>\n",
       "      <th>620698</th>\n",
       "      <td>117010</td>\n",
       "      <td>1325462</td>\n",
       "      <td>2005-02-01</td>\n",
       "      <td>Aggravated Assault - Cause or Att B.I. w/Deadl...</td>\n",
       "      <td>2005-02-01</td>\n",
       "      <td>8127.0</td>\n",
       "      <td>2007-10-17</td>\n",
       "      <td>988</td>\n",
       "      <td>5570.0</td>\n",
       "      <td>4582.0</td>\n",
       "    </tr>\n",
       "    <tr>\n",
       "      <th>620699</th>\n",
       "      <td>117010</td>\n",
       "      <td>1325462</td>\n",
       "      <td>2005-02-01</td>\n",
       "      <td>Burglary - Home: Person Present</td>\n",
       "      <td>2005-02-01</td>\n",
       "      <td>8127.0</td>\n",
       "      <td>2007-10-17</td>\n",
       "      <td>988</td>\n",
       "      <td>5570.0</td>\n",
       "      <td>4582.0</td>\n",
       "    </tr>\n",
       "    <tr>\n",
       "      <th>620700</th>\n",
       "      <td>117010</td>\n",
       "      <td>1325462</td>\n",
       "      <td>2005-02-01</td>\n",
       "      <td>Murder Inchoate -  Attempt with S.B.I.</td>\n",
       "      <td>2005-02-01</td>\n",
       "      <td>8127.0</td>\n",
       "      <td>2007-10-17</td>\n",
       "      <td>988</td>\n",
       "      <td>5570.0</td>\n",
       "      <td>4582.0</td>\n",
       "    </tr>\n",
       "    <tr>\n",
       "      <th>620701</th>\n",
       "      <td>117010</td>\n",
       "      <td>1325462</td>\n",
       "      <td>2005-02-01</td>\n",
       "      <td>Aggravated Assault - Cause or Att B.I. w/Deadl...</td>\n",
       "      <td>2005-02-01</td>\n",
       "      <td>8127.0</td>\n",
       "      <td>2007-10-17</td>\n",
       "      <td>988</td>\n",
       "      <td>5570.0</td>\n",
       "      <td>4582.0</td>\n",
       "    </tr>\n",
       "    <tr>\n",
       "      <th>895508</th>\n",
       "      <td>117010</td>\n",
       "      <td>1325462</td>\n",
       "      <td>2007-10-17</td>\n",
       "      <td>Murder Inchoate - Attempt with S.B.I.</td>\n",
       "      <td>2005-02-01</td>\n",
       "      <td>5570.0</td>\n",
       "      <td>2007-10-17</td>\n",
       "      <td>988</td>\n",
       "      <td>5570.0</td>\n",
       "      <td>4582.0</td>\n",
       "    </tr>\n",
       "    <tr>\n",
       "      <th>895509</th>\n",
       "      <td>117010</td>\n",
       "      <td>1325462</td>\n",
       "      <td>2007-10-17</td>\n",
       "      <td>Aggravated Assault - Cause or Att B.I. w/Deadl...</td>\n",
       "      <td>2005-02-01</td>\n",
       "      <td>5570.0</td>\n",
       "      <td>2007-10-17</td>\n",
       "      <td>988</td>\n",
       "      <td>5570.0</td>\n",
       "      <td>4582.0</td>\n",
       "    </tr>\n",
       "    <tr>\n",
       "      <th>895510</th>\n",
       "      <td>117010</td>\n",
       "      <td>1325462</td>\n",
       "      <td>2007-10-17</td>\n",
       "      <td>Aggravated Assault - Cause or Att B.I. w/Deadl...</td>\n",
       "      <td>2005-02-01</td>\n",
       "      <td>5570.0</td>\n",
       "      <td>2007-10-17</td>\n",
       "      <td>988</td>\n",
       "      <td>5570.0</td>\n",
       "      <td>4582.0</td>\n",
       "    </tr>\n",
       "    <tr>\n",
       "      <th>895511</th>\n",
       "      <td>117010</td>\n",
       "      <td>1325462</td>\n",
       "      <td>2007-10-17</td>\n",
       "      <td>Burglary - Home: Person Present</td>\n",
       "      <td>2005-02-01</td>\n",
       "      <td>5570.0</td>\n",
       "      <td>2007-10-17</td>\n",
       "      <td>988</td>\n",
       "      <td>5570.0</td>\n",
       "      <td>4582.0</td>\n",
       "    </tr>\n",
       "    <tr>\n",
       "      <th>640731</th>\n",
       "      <td>248150</td>\n",
       "      <td>1476143</td>\n",
       "      <td>2006-05-18</td>\n",
       "      <td>Sexual Abuse of Children/Possess Child Pornogr...</td>\n",
       "      <td>2006-05-18</td>\n",
       "      <td>3287.0</td>\n",
       "      <td>2008-09-12</td>\n",
       "      <td>848</td>\n",
       "      <td>3287.0</td>\n",
       "      <td>2439.0</td>\n",
       "    </tr>\n",
       "    <tr>\n",
       "      <th>640732</th>\n",
       "      <td>248150</td>\n",
       "      <td>1476143</td>\n",
       "      <td>2006-05-18</td>\n",
       "      <td>Sexual Abuse of Children/Possess Child Pornogr...</td>\n",
       "      <td>2006-05-18</td>\n",
       "      <td>3287.0</td>\n",
       "      <td>2008-09-12</td>\n",
       "      <td>848</td>\n",
       "      <td>3287.0</td>\n",
       "      <td>2439.0</td>\n",
       "    </tr>\n",
       "    <tr>\n",
       "      <th>640733</th>\n",
       "      <td>248150</td>\n",
       "      <td>1476143</td>\n",
       "      <td>2006-05-18</td>\n",
       "      <td>Sexual Abuse of Children/Possess Child Pornogr...</td>\n",
       "      <td>2006-05-18</td>\n",
       "      <td>3287.0</td>\n",
       "      <td>2008-09-12</td>\n",
       "      <td>848</td>\n",
       "      <td>3287.0</td>\n",
       "      <td>2439.0</td>\n",
       "    </tr>\n",
       "    <tr>\n",
       "      <th>640734</th>\n",
       "      <td>248150</td>\n",
       "      <td>1476143</td>\n",
       "      <td>2006-05-18</td>\n",
       "      <td>Sexual Abuse of Children/Possess Child Pornogr...</td>\n",
       "      <td>2006-05-18</td>\n",
       "      <td>3287.0</td>\n",
       "      <td>2008-09-12</td>\n",
       "      <td>848</td>\n",
       "      <td>3287.0</td>\n",
       "      <td>2439.0</td>\n",
       "    </tr>\n",
       "    <tr>\n",
       "      <th>640735</th>\n",
       "      <td>248150</td>\n",
       "      <td>1476143</td>\n",
       "      <td>2006-05-18</td>\n",
       "      <td>Sexual Abuse of Children/Possess Child Pornogr...</td>\n",
       "      <td>2006-05-18</td>\n",
       "      <td>3287.0</td>\n",
       "      <td>2008-09-12</td>\n",
       "      <td>848</td>\n",
       "      <td>3287.0</td>\n",
       "      <td>2439.0</td>\n",
       "    </tr>\n",
       "    <tr>\n",
       "      <th>640736</th>\n",
       "      <td>248150</td>\n",
       "      <td>1476143</td>\n",
       "      <td>2006-05-18</td>\n",
       "      <td>Sexual Abuse of Children/Possess Child Pornogr...</td>\n",
       "      <td>2006-05-18</td>\n",
       "      <td>3287.0</td>\n",
       "      <td>2008-09-12</td>\n",
       "      <td>848</td>\n",
       "      <td>3287.0</td>\n",
       "      <td>2439.0</td>\n",
       "    </tr>\n",
       "    <tr>\n",
       "      <th>640737</th>\n",
       "      <td>248150</td>\n",
       "      <td>1476143</td>\n",
       "      <td>2006-05-18</td>\n",
       "      <td>Sexual Abuse of Children/Possess Child Pornogr...</td>\n",
       "      <td>2006-05-18</td>\n",
       "      <td>3287.0</td>\n",
       "      <td>2008-09-12</td>\n",
       "      <td>848</td>\n",
       "      <td>3287.0</td>\n",
       "      <td>2439.0</td>\n",
       "    </tr>\n",
       "    <tr>\n",
       "      <th>640738</th>\n",
       "      <td>248150</td>\n",
       "      <td>1476143</td>\n",
       "      <td>2006-05-18</td>\n",
       "      <td>Sexual Abuse of Children/Possess Child Pornogr...</td>\n",
       "      <td>2006-05-18</td>\n",
       "      <td>3287.0</td>\n",
       "      <td>2008-09-12</td>\n",
       "      <td>848</td>\n",
       "      <td>3287.0</td>\n",
       "      <td>2439.0</td>\n",
       "    </tr>\n",
       "    <tr>\n",
       "      <th>640739</th>\n",
       "      <td>248150</td>\n",
       "      <td>1476143</td>\n",
       "      <td>2006-05-18</td>\n",
       "      <td>Sexual Abuse of Children/Possess Child Pornogr...</td>\n",
       "      <td>2006-05-18</td>\n",
       "      <td>3287.0</td>\n",
       "      <td>2008-09-12</td>\n",
       "      <td>848</td>\n",
       "      <td>3287.0</td>\n",
       "      <td>2439.0</td>\n",
       "    </tr>\n",
       "    <tr>\n",
       "      <th>640740</th>\n",
       "      <td>248150</td>\n",
       "      <td>1476143</td>\n",
       "      <td>2006-05-18</td>\n",
       "      <td>Sexual Abuse of Children/Possess Child Pornogr...</td>\n",
       "      <td>2006-05-18</td>\n",
       "      <td>3287.0</td>\n",
       "      <td>2008-09-12</td>\n",
       "      <td>848</td>\n",
       "      <td>3287.0</td>\n",
       "      <td>2439.0</td>\n",
       "    </tr>\n",
       "  </tbody>\n",
       "</table>\n",
       "</div>"
      ],
      "text/plain": [
       "         JPR_ID  ID_VARIABLE        DOS  \\\n",
       "569776    92399      1877126 2005-01-06   \n",
       "2131297   92399      1877126 2016-06-27   \n",
       "620698   117010      1325462 2005-02-01   \n",
       "620699   117010      1325462 2005-02-01   \n",
       "620700   117010      1325462 2005-02-01   \n",
       "620701   117010      1325462 2005-02-01   \n",
       "895508   117010      1325462 2007-10-17   \n",
       "895509   117010      1325462 2007-10-17   \n",
       "895510   117010      1325462 2007-10-17   \n",
       "895511   117010      1325462 2007-10-17   \n",
       "640731   248150      1476143 2006-05-18   \n",
       "640732   248150      1476143 2006-05-18   \n",
       "640733   248150      1476143 2006-05-18   \n",
       "640734   248150      1476143 2006-05-18   \n",
       "640735   248150      1476143 2006-05-18   \n",
       "640736   248150      1476143 2006-05-18   \n",
       "640737   248150      1476143 2006-05-18   \n",
       "640738   248150      1476143 2006-05-18   \n",
       "640739   248150      1476143 2006-05-18   \n",
       "640740   248150      1476143 2006-05-18   \n",
       "\n",
       "                                                 OFN_LABEL    MIN_DOS  \\\n",
       "569776                         Murder of The Second Degree 2005-01-06   \n",
       "2131297                        Murder of The Second Degree 2005-01-06   \n",
       "620698   Aggravated Assault - Cause or Att B.I. w/Deadl... 2005-02-01   \n",
       "620699                     Burglary - Home: Person Present 2005-02-01   \n",
       "620700              Murder Inchoate -  Attempt with S.B.I. 2005-02-01   \n",
       "620701   Aggravated Assault - Cause or Att B.I. w/Deadl... 2005-02-01   \n",
       "895508               Murder Inchoate - Attempt with S.B.I. 2005-02-01   \n",
       "895509   Aggravated Assault - Cause or Att B.I. w/Deadl... 2005-02-01   \n",
       "895510   Aggravated Assault - Cause or Att B.I. w/Deadl... 2005-02-01   \n",
       "895511                     Burglary - Home: Person Present 2005-02-01   \n",
       "640731   Sexual Abuse of Children/Possess Child Pornogr... 2006-05-18   \n",
       "640732   Sexual Abuse of Children/Possess Child Pornogr... 2006-05-18   \n",
       "640733   Sexual Abuse of Children/Possess Child Pornogr... 2006-05-18   \n",
       "640734   Sexual Abuse of Children/Possess Child Pornogr... 2006-05-18   \n",
       "640735   Sexual Abuse of Children/Possess Child Pornogr... 2006-05-18   \n",
       "640736   Sexual Abuse of Children/Possess Child Pornogr... 2006-05-18   \n",
       "640737   Sexual Abuse of Children/Possess Child Pornogr... 2006-05-18   \n",
       "640738   Sexual Abuse of Children/Possess Child Pornogr... 2006-05-18   \n",
       "640739   Sexual Abuse of Children/Possess Child Pornogr... 2006-05-18   \n",
       "640740   Sexual Abuse of Children/Possess Child Pornogr... 2006-05-18   \n",
       "\n",
       "          JP_MIN    MAX_DOS  TIME_SERVED  LATEST_JPMIN  ADJ_JPMIN  \n",
       "569776   30346.0 2016-06-27         4190       30346.0    26156.0  \n",
       "2131297      NaN 2016-06-27         4190       30346.0    26156.0  \n",
       "620698    8127.0 2007-10-17          988        5570.0     4582.0  \n",
       "620699    8127.0 2007-10-17          988        5570.0     4582.0  \n",
       "620700    8127.0 2007-10-17          988        5570.0     4582.0  \n",
       "620701    8127.0 2007-10-17          988        5570.0     4582.0  \n",
       "895508    5570.0 2007-10-17          988        5570.0     4582.0  \n",
       "895509    5570.0 2007-10-17          988        5570.0     4582.0  \n",
       "895510    5570.0 2007-10-17          988        5570.0     4582.0  \n",
       "895511    5570.0 2007-10-17          988        5570.0     4582.0  \n",
       "640731    3287.0 2008-09-12          848        3287.0     2439.0  \n",
       "640732    3287.0 2008-09-12          848        3287.0     2439.0  \n",
       "640733    3287.0 2008-09-12          848        3287.0     2439.0  \n",
       "640734    3287.0 2008-09-12          848        3287.0     2439.0  \n",
       "640735    3287.0 2008-09-12          848        3287.0     2439.0  \n",
       "640736    3287.0 2008-09-12          848        3287.0     2439.0  \n",
       "640737    3287.0 2008-09-12          848        3287.0     2439.0  \n",
       "640738    3287.0 2008-09-12          848        3287.0     2439.0  \n",
       "640739    3287.0 2008-09-12          848        3287.0     2439.0  \n",
       "640740    3287.0 2008-09-12          848        3287.0     2439.0  "
      ]
     },
     "execution_count": 55,
     "metadata": {},
     "output_type": "execute_result"
    }
   ],
   "source": [
    "#create a new column with the NEW_DOS value\n",
    "more_than_one_dos_df[\"MAX_DOS\"] = more_than_one_dos_df.groupby(\"JPR_ID\")[\"DOS\"].transform(\"max\") #take the latest date of sentencing\n",
    "more_than_one_dos_df[\"MIN_DOS\"] = more_than_one_dos_df.groupby(\"JPR_ID\")[\"DOS\"].transform(\"min\") #take the earliest date of sentencing\n",
    "\n",
    "# #create a new time served column\n",
    "more_than_one_dos_df[\"TIME_SERVED\"] = more_than_one_dos_df[\"MAX_DOS\"] - more_than_one_dos_df[\"MIN_DOS\"]\n",
    "more_than_one_dos_df[\"TIME_SERVED\"] = more_than_one_dos_df[\"TIME_SERVED\"].dt.days\n",
    "\n",
    "#finds the JP_MIN associated with the latest DOS (because the data is already sorted by JPR_ID and DOS)\n",
    "more_than_one_dos_df[\"LATEST_JPMIN\"] = more_than_one_dos_df.groupby(\"JPR_ID\")[\"JP_MIN\"].transform(\"last\")\n",
    "\n",
    "#calculate an adjusted JP_MIN from the logic provided by Miranda\n",
    "more_than_one_dos_df['ADJ_JPMIN'] = more_than_one_dos_df[\"LATEST_JPMIN\"] - more_than_one_dos_df[\"TIME_SERVED\"]\n",
    "\n",
    "# # more_than_one_dos_df[:20][[\"JPR_ID\", \"DOS\", \"OFN_LABEL\", \"PRS\", \"JP_MIN\", \"ADJ_JPMIN\", \"INC_SANCTION_EXISTS\", \"NEW_DOS\"]]\n",
    "more_than_one_dos_df[:20][[\"JPR_ID\", \"ID_VARIABLE\", \"DOS\", \"OFN_LABEL\", \"MIN_DOS\", \"JP_MIN\", \"MAX_DOS\", \"TIME_SERVED\", \"LATEST_JPMIN\", \"ADJ_JPMIN\"]]\n"
   ]
  },
  {
   "cell_type": "code",
   "execution_count": 56,
   "metadata": {},
   "outputs": [],
   "source": [
    "# Using the earlist DOS, we want to get the number of charges sentenced for the initial hearing of each JP\n",
    "# !!! AZ Edit\n",
    "more_than_one_dos_df['CHARGE_COUNT'] = more_than_one_dos_df.sort_values(by=['ID_VARIABLE', 'JPR_ID', 'DOS'], ascending=[True, True, True]).groupby(by=['ID_VARIABLE', 'JPR_ID'])['CHARGE_COUNT'].transform('last')"
   ]
  },
  {
   "cell_type": "code",
   "execution_count": 57,
   "metadata": {},
   "outputs": [],
   "source": [
    "# using the latest JP_MIN information (i.e. the most 'final' incarceration length), get the inc_relationship associated with that JP \n",
    "# we also want to take the max(IND_REL_NUMERIC)\n",
    "# !!!! AZ edit\n",
    "more_than_one_dos_df['INC_REL_NUMERIC_CLEANED'] = more_than_one_dos_df.sort_values(by=['ID_VARIABLE', 'JPR_ID', 'DOS', 'INC_REL_NUMERIC_CLEANED'], ascending=[True, True, False, True]).groupby(by=['ID_VARIABLE', 'JPR_ID'])['INC_REL_NUMERIC_CLEANED'].transform('last')"
   ]
  },
  {
   "cell_type": "code",
   "execution_count": 58,
   "metadata": {},
   "outputs": [],
   "source": [
    "#combine the data back together\n",
    "\n",
    "df_combo_dos = pd.concat([only_one_dos, more_than_one_dos_df])\n",
    "\n",
    "df = df_combo_dos"
   ]
  },
  {
   "cell_type": "markdown",
   "metadata": {},
   "source": [
    "## **Step 2:** Create a New JP_MIN variable that takes the Max(JP_MIN) for a given JPR_ID, for cases that were not sentenced multiple times (EDIT & EXAMINE)"
   ]
  },
  {
   "cell_type": "code",
   "execution_count": 64,
   "metadata": {},
   "outputs": [],
   "source": [
    "#inspect the results\n",
    "\n",
    "#impute missing values for the ADJ_JPMIN values that are currently null -- if there are multiple JP_MINS for an instance that DOESNT have multiple sentencing dates, \n",
    "# just take the maximum value of the JP_MIN available and set it equal to the adj_jpmin value\n",
    "\n",
    "# !!! AZ shouldn't this also be grouping by ID_VAR and JPR_ID? -- TJ ADDRESSED THIS\n",
    "\n",
    "df.loc[df[\"ADJ_JPMIN\"].isnull(), \"ADJ_JPMIN\"] =  df.groupby([\"JPR_ID\", \"ID_VARIABLE\"])[\"JP_MIN\"].transform(\"max\")\n",
    "\n",
    "#examine if for a jpr_id, individiuals have the same jp_min in the same jpr_id\n",
    "# 1. first just subset to those jpr_ids with multiple id_variables\n",
    "\n",
    "\n",
    "#2. inspect if the jp_min values are the same\n",
    "\n",
    "#df.sort_values([\"JPR_ID\"])[:20][[\"JPR_ID\", \"DOS\", \"MIN_DOS\", \"JP_MIN\", \"MAX_DOS\", \"TIME_SERVED\", \"LATEST_JPMIN\", \"ADJ_JPMIN\"]]\n",
    "\n",
    "\n",
    "#[[\"JPR_ID\", \"DOS\", \"MIN_DOS\", \"JP_MIN\", \"MAX_DOS\", \"TIME_SERVED\", \"LATEST_JPMIN\", \"ADJ_JPMIN\"]]\n",
    "\n",
    "\n",
    "\n"
   ]
  },
  {
   "cell_type": "code",
   "execution_count": 63,
   "metadata": {},
   "outputs": [
    {
     "data": {
      "text/plain": [
       "11"
      ]
     },
     "execution_count": 63,
     "metadata": {},
     "output_type": "execute_result"
    }
   ],
   "source": [
    "#IN THE BELOW, WE CHECK TO SEE HOW MANY CASES THERE ARE WHERE THERE ARE MULTIPLE ID_VARS FOR A GIVEN JPR_ID \n",
    "# THIS NUMBER IS NECESSARY TO KNOW BC IT SERVES AS THE JUSTIFICATION FOR GROUPING AT THE JPR_ID, ID_VARIABLE LEVEL IN OUR DATASET\n",
    "num_id_vars = df.groupby([\"JPR_ID\"])['ID_VARIABLE'].agg(lambda x: len(set(x)))\n",
    "more_than_one_id_var = list(num_id_vars[num_id_vars > 1].index)\n",
    "#more_than_one_id_var_df = df.loc[df[\"JPR_ID\"].isin(more_than_one_id_var)]\n",
    "\n",
    "len(more_than_one_id_var) #TJ EDIT\n"
   ]
  },
  {
   "cell_type": "code",
   "execution_count": 65,
   "metadata": {},
   "outputs": [
    {
     "data": {
      "text/html": [
       "<div>\n",
       "<style scoped>\n",
       "    .dataframe tbody tr th:only-of-type {\n",
       "        vertical-align: middle;\n",
       "    }\n",
       "\n",
       "    .dataframe tbody tr th {\n",
       "        vertical-align: top;\n",
       "    }\n",
       "\n",
       "    .dataframe thead th {\n",
       "        text-align: right;\n",
       "    }\n",
       "</style>\n",
       "<table border=\"1\" class=\"dataframe\">\n",
       "  <thead>\n",
       "    <tr style=\"text-align: right;\">\n",
       "      <th></th>\n",
       "      <th>JPR_ID</th>\n",
       "      <th>DOS</th>\n",
       "      <th>MIN_DOS</th>\n",
       "      <th>JP_MIN</th>\n",
       "      <th>MAX_DOS</th>\n",
       "      <th>TIME_SERVED</th>\n",
       "      <th>LATEST_JPMIN</th>\n",
       "      <th>ADJ_JPMIN</th>\n",
       "    </tr>\n",
       "  </thead>\n",
       "  <tbody>\n",
       "    <tr>\n",
       "      <th>0</th>\n",
       "      <td>640001</td>\n",
       "      <td>2001-06-12</td>\n",
       "      <td>NaT</td>\n",
       "      <td>NaN</td>\n",
       "      <td>NaT</td>\n",
       "      <td>NaN</td>\n",
       "      <td>NaN</td>\n",
       "      <td>NaN</td>\n",
       "    </tr>\n",
       "    <tr>\n",
       "      <th>1</th>\n",
       "      <td>642480</td>\n",
       "      <td>2001-12-03</td>\n",
       "      <td>NaT</td>\n",
       "      <td>2.0</td>\n",
       "      <td>NaT</td>\n",
       "      <td>NaN</td>\n",
       "      <td>NaN</td>\n",
       "      <td>2.0</td>\n",
       "    </tr>\n",
       "    <tr>\n",
       "      <th>2</th>\n",
       "      <td>660434</td>\n",
       "      <td>2001-04-26</td>\n",
       "      <td>NaT</td>\n",
       "      <td>2.0</td>\n",
       "      <td>NaT</td>\n",
       "      <td>NaN</td>\n",
       "      <td>NaN</td>\n",
       "      <td>2.0</td>\n",
       "    </tr>\n",
       "    <tr>\n",
       "      <th>3</th>\n",
       "      <td>628940</td>\n",
       "      <td>2001-05-22</td>\n",
       "      <td>NaT</td>\n",
       "      <td>NaN</td>\n",
       "      <td>NaT</td>\n",
       "      <td>NaN</td>\n",
       "      <td>NaN</td>\n",
       "      <td>NaN</td>\n",
       "    </tr>\n",
       "    <tr>\n",
       "      <th>4</th>\n",
       "      <td>594048</td>\n",
       "      <td>2001-01-03</td>\n",
       "      <td>NaT</td>\n",
       "      <td>183.0</td>\n",
       "      <td>NaT</td>\n",
       "      <td>NaN</td>\n",
       "      <td>NaN</td>\n",
       "      <td>183.0</td>\n",
       "    </tr>\n",
       "    <tr>\n",
       "      <th>...</th>\n",
       "      <td>...</td>\n",
       "      <td>...</td>\n",
       "      <td>...</td>\n",
       "      <td>...</td>\n",
       "      <td>...</td>\n",
       "      <td>...</td>\n",
       "      <td>...</td>\n",
       "      <td>...</td>\n",
       "    </tr>\n",
       "    <tr>\n",
       "      <th>2189215</th>\n",
       "      <td>5614645</td>\n",
       "      <td>2016-03-29</td>\n",
       "      <td>NaT</td>\n",
       "      <td>NaN</td>\n",
       "      <td>NaT</td>\n",
       "      <td>NaN</td>\n",
       "      <td>NaN</td>\n",
       "      <td>NaN</td>\n",
       "    </tr>\n",
       "    <tr>\n",
       "      <th>2189216</th>\n",
       "      <td>5614645</td>\n",
       "      <td>2016-03-29</td>\n",
       "      <td>NaT</td>\n",
       "      <td>NaN</td>\n",
       "      <td>NaT</td>\n",
       "      <td>NaN</td>\n",
       "      <td>NaN</td>\n",
       "      <td>NaN</td>\n",
       "    </tr>\n",
       "    <tr>\n",
       "      <th>2189217</th>\n",
       "      <td>5640865</td>\n",
       "      <td>2016-06-22</td>\n",
       "      <td>NaT</td>\n",
       "      <td>2.0</td>\n",
       "      <td>NaT</td>\n",
       "      <td>NaN</td>\n",
       "      <td>NaN</td>\n",
       "      <td>2.0</td>\n",
       "    </tr>\n",
       "    <tr>\n",
       "      <th>2189219</th>\n",
       "      <td>5663216</td>\n",
       "      <td>2016-12-08</td>\n",
       "      <td>NaT</td>\n",
       "      <td>90.0</td>\n",
       "      <td>NaT</td>\n",
       "      <td>NaN</td>\n",
       "      <td>NaN</td>\n",
       "      <td>90.0</td>\n",
       "    </tr>\n",
       "    <tr>\n",
       "      <th>2189220</th>\n",
       "      <td>5672573</td>\n",
       "      <td>2016-12-06</td>\n",
       "      <td>NaT</td>\n",
       "      <td>0.0</td>\n",
       "      <td>NaT</td>\n",
       "      <td>NaN</td>\n",
       "      <td>NaN</td>\n",
       "      <td>0.0</td>\n",
       "    </tr>\n",
       "  </tbody>\n",
       "</table>\n",
       "<p>2570793 rows × 8 columns</p>\n",
       "</div>"
      ],
      "text/plain": [
       "          JPR_ID        DOS MIN_DOS  JP_MIN MAX_DOS  TIME_SERVED  \\\n",
       "0         640001 2001-06-12     NaT     NaN     NaT          NaN   \n",
       "1         642480 2001-12-03     NaT     2.0     NaT          NaN   \n",
       "2         660434 2001-04-26     NaT     2.0     NaT          NaN   \n",
       "3         628940 2001-05-22     NaT     NaN     NaT          NaN   \n",
       "4         594048 2001-01-03     NaT   183.0     NaT          NaN   \n",
       "...          ...        ...     ...     ...     ...          ...   \n",
       "2189215  5614645 2016-03-29     NaT     NaN     NaT          NaN   \n",
       "2189216  5614645 2016-03-29     NaT     NaN     NaT          NaN   \n",
       "2189217  5640865 2016-06-22     NaT     2.0     NaT          NaN   \n",
       "2189219  5663216 2016-12-08     NaT    90.0     NaT          NaN   \n",
       "2189220  5672573 2016-12-06     NaT     0.0     NaT          NaN   \n",
       "\n",
       "         LATEST_JPMIN  ADJ_JPMIN  \n",
       "0                 NaN        NaN  \n",
       "1                 NaN        2.0  \n",
       "2                 NaN        2.0  \n",
       "3                 NaN        NaN  \n",
       "4                 NaN      183.0  \n",
       "...               ...        ...  \n",
       "2189215           NaN        NaN  \n",
       "2189216           NaN        NaN  \n",
       "2189217           NaN        2.0  \n",
       "2189219           NaN       90.0  \n",
       "2189220           NaN        0.0  \n",
       "\n",
       "[2570793 rows x 8 columns]"
      ]
     },
     "execution_count": 65,
     "metadata": {},
     "output_type": "execute_result"
    }
   ],
   "source": [
    "df[[\"JPR_ID\", \"DOS\", \"MIN_DOS\", \"JP_MIN\", \"MAX_DOS\", \"TIME_SERVED\", \"LATEST_JPMIN\", \"ADJ_JPMIN\"]]\n",
    "\n",
    "df.loc[df[\"MAX_DOS\"].isnull()][[\"JPR_ID\", \"DOS\", \"MIN_DOS\", \"JP_MIN\", \"MAX_DOS\", \"TIME_SERVED\", \"LATEST_JPMIN\", \"ADJ_JPMIN\"]]\n"
   ]
  },
  {
   "cell_type": "markdown",
   "metadata": {},
   "source": [
    "## Step 3: Ensure that the INC_SANCTION_EXISTS Flag Is Aggregated Correctly"
   ]
  },
  {
   "cell_type": "code",
   "execution_count": 66,
   "metadata": {},
   "outputs": [],
   "source": [
    "#figure out how many different values INC_SANCTION_EXISTS takes on for each JPR_ID\n",
    "#if at least 1 charge is = Y (JPR_ID might have Yes and NO) -- then inc_sanction_exists for the ENTIRE JPR_ID should be \"Y\"\n",
    "\n",
    "num_inc_sanc_vals = df.groupby([\"JPR_ID\"])['INC_SANCTION_EXISTS'].agg(lambda x: len(set(x))) #INC_SANCTION_EXISTS values does each jpr_id have?\n",
    "\n",
    "#give back the list of JPR_IDs that have more than one inc_sanction_exists value\n",
    "more_than_one_inc_sanc = list(num_inc_sanc_vals[num_inc_sanc_vals > 1].index)\n"
   ]
  },
  {
   "cell_type": "code",
   "execution_count": 67,
   "metadata": {},
   "outputs": [],
   "source": [
    "only_one_inc_sanc = df.loc[~df[\"JPR_ID\"].isin(more_than_one_inc_sanc)]\n",
    "more_than_one_inc_sanc_df = df.loc[df[\"JPR_ID\"].isin(more_than_one_inc_sanc)]\n"
   ]
  },
  {
   "cell_type": "code",
   "execution_count": 68,
   "metadata": {},
   "outputs": [
    {
     "name": "stderr",
     "output_type": "stream",
     "text": [
      "/var/folders/l8/t9x4mbrd2qz1gg4gt4t9rttc0000gn/T/ipykernel_64857/397924210.py:3: SettingWithCopyWarning: \n",
      "A value is trying to be set on a copy of a slice from a DataFrame.\n",
      "Try using .loc[row_indexer,col_indexer] = value instead\n",
      "\n",
      "See the caveats in the documentation: https://pandas.pydata.org/pandas-docs/stable/user_guide/indexing.html#returning-a-view-versus-a-copy\n",
      "  more_than_one_inc_sanc_df[\"NEW_INC_SANCTION_EXISTS\"] = \"Y\"\n"
     ]
    },
    {
     "data": {
      "text/html": [
       "<div>\n",
       "<style scoped>\n",
       "    .dataframe tbody tr th:only-of-type {\n",
       "        vertical-align: middle;\n",
       "    }\n",
       "\n",
       "    .dataframe tbody tr th {\n",
       "        vertical-align: top;\n",
       "    }\n",
       "\n",
       "    .dataframe thead th {\n",
       "        text-align: right;\n",
       "    }\n",
       "</style>\n",
       "<table border=\"1\" class=\"dataframe\">\n",
       "  <thead>\n",
       "    <tr style=\"text-align: right;\">\n",
       "      <th></th>\n",
       "      <th>JPR_ID</th>\n",
       "      <th>DOS</th>\n",
       "      <th>INC_SANCTION_EXISTS</th>\n",
       "      <th>NEW_INC_SANCTION_EXISTS</th>\n",
       "    </tr>\n",
       "  </thead>\n",
       "  <tbody>\n",
       "    <tr>\n",
       "      <th>18</th>\n",
       "      <td>665877</td>\n",
       "      <td>2001-10-24</td>\n",
       "      <td>N</td>\n",
       "      <td>Y</td>\n",
       "    </tr>\n",
       "    <tr>\n",
       "      <th>19</th>\n",
       "      <td>665877</td>\n",
       "      <td>2001-10-24</td>\n",
       "      <td>Y</td>\n",
       "      <td>Y</td>\n",
       "    </tr>\n",
       "    <tr>\n",
       "      <th>34</th>\n",
       "      <td>675242</td>\n",
       "      <td>2001-11-07</td>\n",
       "      <td>Y</td>\n",
       "      <td>Y</td>\n",
       "    </tr>\n",
       "    <tr>\n",
       "      <th>35</th>\n",
       "      <td>675242</td>\n",
       "      <td>2001-11-07</td>\n",
       "      <td>N</td>\n",
       "      <td>Y</td>\n",
       "    </tr>\n",
       "    <tr>\n",
       "      <th>41</th>\n",
       "      <td>622266</td>\n",
       "      <td>2001-11-19</td>\n",
       "      <td>N</td>\n",
       "      <td>Y</td>\n",
       "    </tr>\n",
       "    <tr>\n",
       "      <th>...</th>\n",
       "      <td>...</td>\n",
       "      <td>...</td>\n",
       "      <td>...</td>\n",
       "      <td>...</td>\n",
       "    </tr>\n",
       "    <tr>\n",
       "      <th>2523585</th>\n",
       "      <td>5934987</td>\n",
       "      <td>2019-04-15</td>\n",
       "      <td>N</td>\n",
       "      <td>Y</td>\n",
       "    </tr>\n",
       "    <tr>\n",
       "      <th>2523586</th>\n",
       "      <td>5934987</td>\n",
       "      <td>2019-04-15</td>\n",
       "      <td>N</td>\n",
       "      <td>Y</td>\n",
       "    </tr>\n",
       "    <tr>\n",
       "      <th>2414646</th>\n",
       "      <td>5935437</td>\n",
       "      <td>2018-12-07</td>\n",
       "      <td>N</td>\n",
       "      <td>Y</td>\n",
       "    </tr>\n",
       "    <tr>\n",
       "      <th>2414647</th>\n",
       "      <td>5935437</td>\n",
       "      <td>2018-12-07</td>\n",
       "      <td>N</td>\n",
       "      <td>Y</td>\n",
       "    </tr>\n",
       "    <tr>\n",
       "      <th>2549504</th>\n",
       "      <td>5935437</td>\n",
       "      <td>2019-10-22</td>\n",
       "      <td>Y</td>\n",
       "      <td>Y</td>\n",
       "    </tr>\n",
       "  </tbody>\n",
       "</table>\n",
       "<p>648269 rows × 4 columns</p>\n",
       "</div>"
      ],
      "text/plain": [
       "          JPR_ID        DOS INC_SANCTION_EXISTS NEW_INC_SANCTION_EXISTS\n",
       "18        665877 2001-10-24                   N                       Y\n",
       "19        665877 2001-10-24                   Y                       Y\n",
       "34        675242 2001-11-07                   Y                       Y\n",
       "35        675242 2001-11-07                   N                       Y\n",
       "41        622266 2001-11-19                   N                       Y\n",
       "...          ...        ...                 ...                     ...\n",
       "2523585  5934987 2019-04-15                   N                       Y\n",
       "2523586  5934987 2019-04-15                   N                       Y\n",
       "2414646  5935437 2018-12-07                   N                       Y\n",
       "2414647  5935437 2018-12-07                   N                       Y\n",
       "2549504  5935437 2019-10-22                   Y                       Y\n",
       "\n",
       "[648269 rows x 4 columns]"
      ]
     },
     "execution_count": 68,
     "metadata": {},
     "output_type": "execute_result"
    }
   ],
   "source": [
    "#more_than_one_inc_sanc_df[[\"JPR_ID\", \"DOS\", \"INC_SANCTION_EXISTS\"]]\n",
    "\n",
    "more_than_one_inc_sanc_df[\"NEW_INC_SANCTION_EXISTS\"] = \"Y\"\n",
    "more_than_one_inc_sanc_df[[\"JPR_ID\", \"DOS\", \"INC_SANCTION_EXISTS\", \"NEW_INC_SANCTION_EXISTS\"]]"
   ]
  },
  {
   "cell_type": "code",
   "execution_count": 69,
   "metadata": {},
   "outputs": [],
   "source": [
    "inc_sanc_combined = pd.concat([only_one_inc_sanc, more_than_one_inc_sanc_df])"
   ]
  },
  {
   "cell_type": "code",
   "execution_count": 70,
   "metadata": {},
   "outputs": [],
   "source": [
    "inc_sanc_combined[[\"JPR_ID\", \"DOS\", \"INC_SANCTION_EXISTS\", \"NEW_INC_SANCTION_EXISTS\"]]"
   ]
  },
  {
   "cell_type": "code",
   "execution_count": null,
   "metadata": {},
   "outputs": [],
   "source": [
    "df = inc_sanc_combined\n",
    "\n",
    "df.loc[df[\"NEW_INC_SANCTION_EXISTS\"].isnull(), \"NEW_INC_SANCTION_EXISTS\"] =  df[\"INC_SANCTION_EXISTS\"]\n",
    "\n",
    "df[[\"JPR_ID\", \"DOS\", \"INC_SANCTION_EXISTS\", \"NEW_INC_SANCTION_EXISTS\"]]"
   ]
  },
  {
   "cell_type": "code",
   "execution_count": null,
   "metadata": {},
   "outputs": [],
   "source": [
    "print(\"Note: As shown below, there are no entries before we collapse at the ID_VAR, DOS-LEVEL with the adj_jpmin & new_inc_sanction_exists mismatch\")\n",
    "df.loc[(df[\"ADJ_JPMIN\"] > 0) & (df[\"NEW_INC_SANCTION_EXISTS\"] == \"N\")][[\"ID_VARIABLE\", \"DOS\", \"NEW_DOF\", \"NEW_INC_SANCTION_EXISTS\", \"ADJ_JPMIN\"]] #, \"OFN_LIFE_DEATH\", \"JP_LIFE_DEATH\"]] \n"
   ]
  },
  {
   "cell_type": "markdown",
   "metadata": {},
   "source": [
    "# Aggregate Select Columns at the JPR_ID Level"
   ]
  },
  {
   "cell_type": "markdown",
   "metadata": {},
   "source": [
    "## Get MAX PRS8 Score at the JPR_ID level"
   ]
  },
  {
   "cell_type": "code",
   "execution_count": null,
   "metadata": {},
   "outputs": [],
   "source": [
    "# !!! AZ shouldn't this be grouping by ID_VAR and JPR_ID level?? \n",
    "# original code: df['PRS8'] = df.groupby([\"JPR_ID\"])['PRS8'].transform(\"max\")\n",
    "\n",
    "# new code:\n",
    "df['PRS8'] = df.groupby([\"ID_VARIABLE\", \"JPR_ID\"])['PRS8'].transform(\"max\")"
   ]
  },
  {
   "cell_type": "markdown",
   "metadata": {},
   "source": [
    "## Collapsing the The Sex Crime Tier Numeric Variable at the JPR_ID Level"
   ]
  },
  {
   "cell_type": "code",
   "execution_count": null,
   "metadata": {},
   "outputs": [],
   "source": [
    "df['SEXTIER_NUMERIC'] = df.groupby([\"JPR_ID\", \"ID_VARIABLE\"])['SEXTIER_NUMERIC'].transform(\"max\") #may need to be at the jpr_id, id_variable level"
   ]
  },
  {
   "cell_type": "code",
   "execution_count": null,
   "metadata": {},
   "outputs": [],
   "source": [
    "# !!! AZ edit: get CTY at JPR_ID level \n",
    "df['CTY_PHL'] = df.groupby(by=['ID_VARIABLE', 'JPR_ID'])['CTY_PHL'].transform('max')"
   ]
  },
  {
   "cell_type": "markdown",
   "metadata": {},
   "source": [
    "# Collapse the data at the ID_VARIABLE, DOS-LEVEL \n",
    "\n"
   ]
  },
  {
   "cell_type": "markdown",
   "metadata": {},
   "source": [
    "### Adjust the following columns to be at the id var, dos level"
   ]
  },
  {
   "cell_type": "code",
   "execution_count": null,
   "metadata": {},
   "outputs": [],
   "source": [
    "# !!! AZ Edit - COMMENTED OUT FOR NOW BY TJ\n",
    "df['LATEST_JPMIN'] = np.where(df['LATEST_JPMIN'].isna(), df['JP_MIN'], df['LATEST_JPMIN']) # TJ edit: why is this added here?"
   ]
  },
  {
   "cell_type": "code",
   "execution_count": null,
   "metadata": {},
   "outputs": [],
   "source": [
    "df_collapsed = df.copy()\n",
    "\n",
    "\n",
    "# #get the max values of the OGS and JP_MIN values -- possibly further adjustments need to be at this level\n",
    "df_collapsed['OGS'] = df_collapsed.groupby([\"ID_VARIABLE\", \"DOS\"])[\"OGS\"].transform(max)\n",
    "\n",
    "#for the same id_variable, DOS pairing, get the \"MIN\" NEXT_DOF\n",
    "df_collapsed['NEW_DOF'] = df_collapsed.groupby([\"ID_VARIABLE\", \"DOS\"])[\"NEW_DOF\"].transform(min)\n",
    "\n",
    "#added this in on 4/11/22\n",
    "df_collapsed[\"ADJ_JPMIN\"] = df_collapsed.groupby([\"ID_VARIABLE\", \"DOS\"])[\"ADJ_JPMIN\"].transform(max)\n",
    "\n",
    "#get the max PRS8 score at the id_variable, date of sentencing level\n",
    "df_collapsed[\"PRS8\"] = df_collapsed.groupby([\"ID_VARIABLE\", \"DOS\"])[\"PRS8\"].transform(max)\n",
    "\n",
    "#collapse the sex tier numeric variable at the id var, dos level\n",
    "df_collapsed['SEXTIER_NUMERIC'] = df_collapsed.groupby([\"ID_VARIABLE\", \"DOS\"])['SEXTIER_NUMERIC'].transform(max)\n",
    "\n",
    "\n",
    "# !!! AZ Edit: \n",
    "#for charge counts and inc relationship, use the data observed for the most serious sanction (e.g. max latest_jp_min)\n",
    "#we use latest JPMIN here instead of adjusted JPMIN to consider the actual total length of sentence, rather than the remaining sentence that needs to be served, for cases with multiple DOS per JP\n",
    "\n",
    "df_collapsed['CHARGE_COUNT'] = df_collapsed.sort_values(by=['ID_VARIABLE', 'DOS', 'LATEST_JPMIN'], ascending=[True, True, False]).groupby(['ID_VARIABLE', 'DOS'])['CHARGE_COUNT'].transform('first')\n",
    "\n",
    "# note that skipna is set to False here since we want to keep N\n",
    "df_collapsed['INC_REL_NUMERIC_CLEANED'] = df_collapsed.sort_values(by=['ID_VARIABLE', 'DOS', 'LATEST_JPMIN'], ascending=[True, True, False]).groupby(['ID_VARIABLE', 'DOS'])['INC_REL_NUMERIC_CLEANED'].transform('first')\n"
   ]
  },
  {
   "cell_type": "code",
   "execution_count": null,
   "metadata": {},
   "outputs": [],
   "source": [
    "# test case !!! AZ\n",
    "#df_collapsed[df_collapsed[\"ID_VARIABLE\"]==1884187][['ID_VARIABLE', 'JPR_ID', 'DOS', 'JP_MIN', 'LATEST_JPMIN', 'CHARGE_COUNT', 'INC_REL_NUMERIC_CLEANED', 'INC_RELATIONSHIP']]"
   ]
  },
  {
   "cell_type": "code",
   "execution_count": null,
   "metadata": {},
   "outputs": [],
   "source": [
    "#df_collapsed[df_collapsed[\"ID_VARIABLE\"]==1001234][['ID_VARIABLE', 'JPR_ID', 'DOS', 'JP_MIN', 'LATEST_JPMIN', 'CHARGE_COUNT', 'INC_REL_NUMERIC_CLEANED', 'INC_RELATIONSHIP']]"
   ]
  },
  {
   "cell_type": "code",
   "execution_count": null,
   "metadata": {},
   "outputs": [],
   "source": [
    "# note the last two rows above have INC_REL as 0 even though there are multiple charges with JP_MIN\n",
    "# in the orig dataset this is also missing\n",
    "#psc_trimmed[psc_trimmed[\"ID_VARIABLE\"]==1001234][['ID_VARIABLE', 'JPR_ID', 'DOS', 'JP_MIN', 'INC_RELATIONSHIP']]"
   ]
  },
  {
   "cell_type": "markdown",
   "metadata": {},
   "source": [
    "## Actually Collpase the Dataset Now "
   ]
  },
  {
   "cell_type": "code",
   "execution_count": null,
   "metadata": {},
   "outputs": [],
   "source": [
    "#collapse data to be at the id variable, DOS level (need to ungroup the data for the at_risk date calculation to work)\n",
    "df_collapsed = df_collapsed.copy().groupby([\"ID_VARIABLE\", \"DOS\"]).first().reset_index()\n",
    "\n",
    "#inspect the results\n",
    "df_collapsed[[\"ID_VARIABLE\", \"DOS\", \"NEW_DOF\", \"NEW_INC_SANCTION_EXISTS\", \"ADJ_JPMIN\"]] #, \"OFN_LIFE_DEATH\", \"JP_LIFE_DEATH\"]] \n",
    "\n"
   ]
  },
  {
   "cell_type": "markdown",
   "metadata": {},
   "source": [
    "### **STEP 3:** Calculate the AT_RISK_DT using the following logic"
   ]
  },
  {
   "cell_type": "code",
   "execution_count": null,
   "metadata": {},
   "outputs": [],
   "source": [
    "def create_at_risk_date(row):\n",
    "    #need to account for REALLY large JP_MIN values\n",
    "    \n",
    "    # Because of this error message OverflowError: Python int too large to convert to C long\n",
    "    # 25 is more years than we have in our data, so their at_risk date also get set to some value far in the future\n",
    "    upper_limit = 25.0 * 365.0\n",
    "    \n",
    "    num_days_in_month = 30.0\n",
    "    \n",
    "    #if offense has a life or death flag, set their at_risk_date abritarily large\n",
    "    if row['OFN_LIFE_DEATH'] == \"Y\":\n",
    "        at_risk_date = pd.to_datetime('2035-12-31')\n",
    "    \n",
    "    if row['JP_LIFE_DEATH'] == \"Y\":\n",
    "        at_risk_date = pd.to_datetime('2035-12-31')\n",
    "\n",
    "    #if they were not incarcerated, then their at risk date is just their date of offense\n",
    "    if row[\"NEW_INC_SANCTION_EXISTS\"] == \"N\":\n",
    "        at_risk_date = row['DOS'] #(was previously DOF but should be DOS)\n",
    "    \n",
    "    #if they were incarcerated, look at the below logic to determine their at-risk date\n",
    "    else:\n",
    "\n",
    "        if row[\"ADJ_JPMIN\"] < upper_limit:\n",
    "\n",
    "            if row[\"NEW_INC_SANCTION_EXISTS\"] == \"Y\" and pd.notna(row['ADJ_JPMIN']):\n",
    "                at_risk_date = row['DOS'] + pd.Timedelta(days = row['ADJ_JPMIN'])\n",
    "            \n",
    "            elif row[\"NEW_INC_SANCTION_EXISTS\"] == \"Y\" and pd.notna(row['INCMIN']):\n",
    "                at_risk_date = row['DOS'] + pd.Timedelta(days = row['INCMIN'] * num_days_in_month)\n",
    "\n",
    "            else:\n",
    "                at_risk_date = row['INC_END']\n",
    "\n",
    "        else:\n",
    "            at_risk_date = pd.to_datetime('2035-12-31')\n",
    "\n",
    "    return at_risk_date\n",
    "\n",
    "\n",
    "#apply the function to the data (row by row)\n",
    "df_collapsed[\"AT_RISK_DT\"] = df_collapsed.apply(create_at_risk_date, axis = 1)\n",
    "\n",
    " #adjust so that the times do not include minutes and seconds\n",
    "df_collapsed[\"AT_RISK_DT\"] = pd.to_datetime(df_collapsed[\"AT_RISK_DT\"]).dt.date\n",
    "\n",
    "# #inspect the results\n",
    "df_collapsed[['ID_VARIABLE', 'JPR_ID',\"JP_MIN\", \"INCMIN\", \"INC_END\", \"ADJ_JPMIN\", \"INC_SANCTION_EXISTS\", \"DOS\", \"NEW_DOF\", \"AT_RISK_DT\"]]\n",
    "\n"
   ]
  },
  {
   "cell_type": "markdown",
   "metadata": {},
   "source": [
    "**Note:** In the above at_risk_date calculation code, there is an \"upper_limit\" because the largest JP_MIN value is 230,000+ days, which is the equivalent of about 631 years. This person would not recidivate in our dataset and Python throws a \"OverflowError: Python int too large to convert to C long\" for these individuals. So, in order to allow the code to run, those with jp_min values equivalent to more days than we have data for, will just get an at-risk date very far into the future."
   ]
  },
  {
   "cell_type": "code",
   "execution_count": null,
   "metadata": {},
   "outputs": [],
   "source": [
    "# #correct the at_risk_dt calculation for some rows:\n",
    "df_collapsed.loc[(~(df_collapsed[\"ADJ_JPMIN\"]).isnull()) & (~(df_collapsed['MAX_DOS'].isnull())), \"AT_RISK_DT\"] = df_collapsed['MAX_DOS']  + pd.to_timedelta(df_collapsed['ADJ_JPMIN'], unit='d')\n",
    "\n",
    "#will another line here work to resolve this issue?\n",
    "df_subset_mult = df_collapsed.loc[(~(df_collapsed[\"ADJ_JPMIN\"]).isnull()) & (~(df_collapsed['MAX_DOS'].isnull()))]  #, \"AT_RISK_DT\"] # = pd.to_datetime(df_collapsed[\"AT_RISK_DT\"])\n",
    "df_subset_rest = df_collapsed.loc[(~(df_collapsed[\"ADJ_JPMIN\"]).isnull()) & ((df_collapsed['MAX_DOS'].isnull()))]  #, \"AT_RISK_DT\"] # = pd.to_datetime(df_collapsed[\"AT_RISK_DT\"])\n",
    "\n"
   ]
  },
  {
   "cell_type": "code",
   "execution_count": null,
   "metadata": {},
   "outputs": [],
   "source": [
    "df_subset_mult[['ID_VARIABLE', 'JPR_ID', \"MAX_DOS\",\"ADJ_JPMIN\", \"NEW_DOF\", \"AT_RISK_DT\"]]\n",
    "\n",
    "df_subset_mult[\"AT_RISK_DT\"] = pd.to_datetime(df_subset_mult[\"AT_RISK_DT\"])\n",
    "\n",
    "df_subset_mult[['ID_VARIABLE', 'JPR_ID', \"MAX_DOS\",\"ADJ_JPMIN\", \"NEW_DOF\", \"AT_RISK_DT\"]]\n"
   ]
  },
  {
   "cell_type": "code",
   "execution_count": null,
   "metadata": {},
   "outputs": [],
   "source": [
    "#concatenate the dataframes back together\n",
    "df_collapsed = pd.concat([df_subset_mult, df_subset_rest])\n",
    "\n",
    "df_collapsed.loc[(~(df_collapsed[\"ADJ_JPMIN\"]).isnull()) & (~(df_collapsed['MAX_DOS'].isnull()))].head()[['ID_VARIABLE', 'JPR_ID', \"MAX_DOS\",\"ADJ_JPMIN\", \"NEW_DOF\", \"AT_RISK_DT\"]]\n",
    "\n"
   ]
  },
  {
   "cell_type": "markdown",
   "metadata": {},
   "source": [
    "## Populate Next DOF"
   ]
  },
  {
   "cell_type": "code",
   "execution_count": null,
   "metadata": {},
   "outputs": [],
   "source": [
    "#sort the data\n",
    "df_collapsed = df_collapsed.sort_values(by = [\"ID_VARIABLE\", \"NEW_DOF\"])\n",
    "\n",
    "#shift the data up by one to create the new vaariable \"NEXT_DOF\"\n",
    "df_collapsed['NEXT_DOF'] = df_collapsed.groupby(['ID_VARIABLE'])['NEW_DOF'].shift(-1).dt.date\n",
    "\n",
    "df_collapsed[:20][[\"ID_VARIABLE\", \"JPR_ID\", \"DOS\", \"NEW_DOF\", \"NEXT_DOF\", \"AT_RISK_DT\", \"INC_SANCTION_EXISTS\"]]"
   ]
  },
  {
   "cell_type": "markdown",
   "metadata": {},
   "source": [
    "## Check for \"Free Time\" \n",
    "(i.e.: Do we have enough data for an individual to see if they recidivated in 3 years or not?)"
   ]
  },
  {
   "cell_type": "markdown",
   "metadata": {},
   "source": [
    "**Procedure Below:**\n",
    "1. Subset just to those whose at_risk date < max DOS df[[\"DOS\"]].max()\n",
    "2. Then, we also want to remove those whose last next_dof is null and whose last dof > 2017\n",
    "3. Essentially, we want to subset (whatever grouping variable we're using) to just those entries where next_dof is null and FOR THIS SAME ROW, if the dof >= pd.todatetime(\"2017-01-01\") -- remove these entries\n",
    "\n"
   ]
  },
  {
   "cell_type": "code",
   "execution_count": null,
   "metadata": {},
   "outputs": [],
   "source": [
    "#subset to those whose at_risk_date < the largest sentencing date that we have\n",
    "\n",
    "before_length = len(df_collapsed)\n",
    "\n",
    "#what is the maximum sentence date?\n",
    "last_day = pd.to_datetime(df_collapsed[[\"DOS\"]].max())[0]  \n",
    "df_collapsed = df_collapsed[df_collapsed[\"AT_RISK_DT\"] <= last_day]\n",
    "\n",
    "after_length = len(df_collapsed) \n",
    "\n",
    "print(\"There are {:,} id_var, dos combos where the at risk date is after the last date of sentence available.\".format(before_length - after_length))\n"
   ]
  },
  {
   "cell_type": "markdown",
   "metadata": {},
   "source": [
    "Here, I calculate a \"LAST_DOF\" variable, which will then be used to subset the data to only those whose latest offense was before 2017"
   ]
  },
  {
   "cell_type": "code",
   "execution_count": null,
   "metadata": {},
   "outputs": [],
   "source": [
    "df_collapsed[\"LAST_DOF\"] = df_collapsed.loc[df_collapsed[\"NEXT_DOF\"].isnull(), \"NEW_DOF\"]\n",
    "\n",
    "df_collapsed[[\"ID_VARIABLE\", \"DOS\", \"NEW_DOF\", \"NEXT_DOF\", \"LAST_DOF\"]]"
   ]
  },
  {
   "cell_type": "code",
   "execution_count": null,
   "metadata": {},
   "outputs": [],
   "source": [
    "#subset the data to only those whose last_dof is before 2017\n",
    "#before_length = len(df_collapsed)\n",
    "\n",
    "last_day = pd.to_datetime(\"2017-01-01\") \n",
    "\n",
    "#subset the dataset to either where the LAST_DOF is null OR LAST_DOF < last_day\n",
    "df_collapsed = df_collapsed.loc[(df_collapsed[\"LAST_DOF\"].isnull()) | (df_collapsed[\"LAST_DOF\"] < last_day)]\n",
    "\n",
    "# after_length = len(df_collapsed) \n",
    "# print(\"There are {:,} id_var, dos combos whose's last dof is not in scope.\".format(before_length - after_length))\n",
    "\n",
    "df_collapsed[[\"ID_VARIABLE\", \"DOS\", \"NEW_DOF\", \"NEXT_DOF\", \"LAST_DOF\"]]\n"
   ]
  },
  {
   "cell_type": "markdown",
   "metadata": {},
   "source": [
    "# Create The Time To Recidivite and Recidivism Variables"
   ]
  },
  {
   "cell_type": "code",
   "execution_count": null,
   "metadata": {},
   "outputs": [],
   "source": [
    "#subtract the next_dof and at_risk_dt variables  -- update this \n",
    "df_collapsed['TIME_TO_RECIDIVATE'] = pd.to_datetime(df_collapsed['NEXT_DOF']) - pd.to_datetime(df_collapsed['AT_RISK_DT'])#update to this level \n",
    "    \n",
    "#update the time to recidivate column to JUST be the number of days as an integer/float\n",
    "df_collapsed['TIME_TO_RECIDIVATE'] = df_collapsed['TIME_TO_RECIDIVATE'].dt.days\n",
    "\n",
    "df_collapsed[[\"ID_VARIABLE\", \"DOS\", \"NEW_DOF\", \"NEXT_DOF\", \"TIME_TO_RECIDIVATE\"]]\n"
   ]
  },
  {
   "cell_type": "code",
   "execution_count": null,
   "metadata": {},
   "outputs": [],
   "source": [
    "#number of days in  years\n",
    "three_years_in_days = float(3) * 365.0  \n",
    "five_years_in_days = float(5) * 365.0  \n",
    "\n",
    "#ID_VARIABLE, DOS-LEVEL RECIDIVISM -- does not count times where the next_dof < at_risk_dt as instances of recidivism\n",
    "\n",
    "df_collapsed[\"RECIDIVISM_3Y\"] = np.where(\n",
    "    (df_collapsed['TIME_TO_RECIDIVATE'] > 0) & (df_collapsed['TIME_TO_RECIDIVATE'] <= three_years_in_days), 1, 0)\n",
    "\n",
    "df_collapsed[\"RECIDIVISM_5Y\"] = np.where(\n",
    "    (df_collapsed['TIME_TO_RECIDIVATE'] > 0) & (df_collapsed['TIME_TO_RECIDIVATE'] <= five_years_in_days), 1, 0)\n",
    "\n",
    "df_collapsed[[\"ID_VARIABLE\", \"DOS\", \"ADJ_JPMIN\", \"NEW_DOF\", \"NEXT_DOF\", \"AT_RISK_DT\", \"TIME_TO_RECIDIVATE\", \"RECIDIVISM_3Y\", \"RECIDIVISM_5Y\"]]\n"
   ]
  },
  {
   "cell_type": "markdown",
   "metadata": {},
   "source": [
    "## Export The Results to CSV \n",
    "(PA_SENTENCING/Project/data/recidivism_dataset.csv)"
   ]
  },
  {
   "cell_type": "code",
   "execution_count": null,
   "metadata": {},
   "outputs": [],
   "source": [
    "#create a new date of sentence variable\n",
    "\n",
    "#if max_dos is null, then there is only one DOS associated with a given JPR_ID OTHERWISE, the new_dos becomes the max dos (meaning there were multiple dates of sentence associated with that JPR_ID)\n",
    "\n",
    "df_collapsed.loc[df_collapsed[\"MAX_DOS\"].notna(), \"NEW_DOS\"] = df_collapsed[\"MAX_DOS\"]\n",
    "\n",
    "df_collapsed.loc[df_collapsed[\"MAX_DOS\"].isnull(), \"NEW_DOS\"] = df_collapsed[\"DOS\"]\n",
    "\n",
    "df_collapsed[[\"MAX_DOS\",\"DOS\", \"NEW_DOS\"]]"
   ]
  },
  {
   "cell_type": "code",
   "execution_count": null,
   "metadata": {},
   "outputs": [],
   "source": [
    "df_collapsed.rename(columns={'INC_REL_NUMERIC_CLEANED': 'INC_REL_NUMERIC'}, inplace=True)"
   ]
  },
  {
   "cell_type": "code",
   "execution_count": null,
   "metadata": {},
   "outputs": [],
   "source": [
    "#Export the Results to a CSV\n",
    "#subset the dataset before exporting it\n",
    "df_collapsed_subset = df_collapsed[[\"ID_VARIABLE\", \"NEW_DOS\", \"NEW_DOF\", \"PRS\", \n",
    "\"PRS8\", \"NEW_INC_SANCTION_EXISTS\", \"ADJ_JPMIN\", \"LATEST_JPMIN\", \"AT_RISK_DT\", \"COUNTY\", \n",
    "\"NEXT_DOF\", \"TIME_TO_RECIDIVATE\", \"RECIDIVISM_3Y\", \"RECIDIVISM_5Y\", \"OGS\",\n",
    "\"MS_SANCTION\",\"SEXCRIME\",\"DUI\",\"DRUGOFFENSE\",\"FIREARMS\",\"VIOLENCE\",'JPS_WALSHACTASSESSMENT', 'CTY_PHL', 'CHARGE_COUNT', 'INC_REL_NUMERIC']]\n",
    "\n",
    "\n",
    "#get the demographics dataset\n",
    "cleaned_demographics = pd.read_csv(os.path.join(pa_sentencing_path, \"Project\", \"data\", \"demographic_dataset.csv\"))\n",
    "\n",
    "#merged the recidivism dataset with the cleaned demographics dataset\n",
    "result = pd.merge(df_collapsed_subset, cleaned_demographics, how=\"left\", on=[\"ID_VARIABLE\", \"ID_VARIABLE\"])\n",
    "\n",
    "\n",
    "# #export the dataframe with the recidivism variables to a new dataframe\n",
    "#output_path = os.path.join(pa_sentencing_path, \"Project\", \"data\", \"recidivism_dataset.csv\")\n",
    "\n",
    "#changes the output path to include a flag for including the PRS score 8 values\n",
    "output_path = os.path.join(pa_sentencing_path, \"Project\", \"data\", \"recidivism_dataset_w_additional_analysis_2.csv\")\n",
    "\n",
    "\n",
    "\n",
    "result.to_csv(output_path,index=False) #export the final results"
   ]
  },
  {
   "cell_type": "code",
   "execution_count": null,
   "metadata": {},
   "outputs": [],
   "source": [
    "# #check to see what the data looks like\n",
    "test = pd.read_csv(output_path)\n",
    "\n",
    "\n",
    "print(test.RECIDIVISM_3Y.value_counts())\n"
   ]
  }
 ],
 "metadata": {
  "interpreter": {
   "hash": "aee8b7b246df8f9039afb4144a1f6fd8d2ca17a180786b69acc140d282b71a49"
  },
  "kernelspec": {
   "display_name": "Python 3.9.6 64-bit",
   "language": "python",
   "name": "python3"
  },
  "language_info": {
   "codemirror_mode": {
    "name": "ipython",
    "version": 3
   },
   "file_extension": ".py",
   "mimetype": "text/x-python",
   "name": "python",
   "nbconvert_exporter": "python",
   "pygments_lexer": "ipython3",
   "version": "3.9.6"
  },
  "orig_nbformat": 4
 },
 "nbformat": 4,
 "nbformat_minor": 2
}
