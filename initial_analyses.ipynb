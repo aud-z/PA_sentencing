{
 "cells": [
  {
   "cell_type": "code",
   "execution_count": 23,
   "metadata": {},
   "outputs": [],
   "source": [
    "import pandas as pd\n",
    "import matplotlib.pyplot as plt\n",
    "import seaborn as sns\n",
    "import numpy as np"
   ]
  },
  {
   "cell_type": "code",
   "execution_count": 24,
   "metadata": {},
   "outputs": [],
   "source": [
    "filepath = '../../../Project/data/'"
   ]
  },
  {
   "cell_type": "code",
   "execution_count": 18,
   "metadata": {},
   "outputs": [],
   "source": [
    "recidivism_df = pd.read_csv(filepath + 'recidivism_dataset.csv')"
   ]
  },
  {
   "cell_type": "code",
   "execution_count": 19,
   "metadata": {},
   "outputs": [
    {
     "data": {
      "text/html": [
       "<div>\n",
       "<style scoped>\n",
       "    .dataframe tbody tr th:only-of-type {\n",
       "        vertical-align: middle;\n",
       "    }\n",
       "\n",
       "    .dataframe tbody tr th {\n",
       "        vertical-align: top;\n",
       "    }\n",
       "\n",
       "    .dataframe thead th {\n",
       "        text-align: right;\n",
       "    }\n",
       "</style>\n",
       "<table border=\"1\" class=\"dataframe\">\n",
       "  <thead>\n",
       "    <tr style=\"text-align: right;\">\n",
       "      <th></th>\n",
       "      <th>Unnamed: 0</th>\n",
       "      <th>ID_VARIABLE</th>\n",
       "      <th>NEW_DOS</th>\n",
       "      <th>NEW_DOF</th>\n",
       "      <th>PRS</th>\n",
       "      <th>NEW_INC_SANCTION_EXISTS</th>\n",
       "      <th>ADJ_JPMIN</th>\n",
       "      <th>AT_RISK_DT</th>\n",
       "      <th>COUNTY</th>\n",
       "      <th>NEXT_DOF</th>\n",
       "      <th>TIME_TO_RECIDIVATE</th>\n",
       "      <th>RECIDIVISM_3Y</th>\n",
       "      <th>RECIDIVISM_5Y</th>\n",
       "      <th>OGS</th>\n",
       "      <th>DOB</th>\n",
       "      <th>OFF_RACE</th>\n",
       "      <th>OFF_SEX</th>\n",
       "    </tr>\n",
       "  </thead>\n",
       "  <tbody>\n",
       "    <tr>\n",
       "      <th>0</th>\n",
       "      <td>0</td>\n",
       "      <td>1000001</td>\n",
       "      <td>2010-02-18</td>\n",
       "      <td>2009-06-25</td>\n",
       "      <td>0</td>\n",
       "      <td>Y</td>\n",
       "      <td>16.0</td>\n",
       "      <td>2010-03-06</td>\n",
       "      <td>Schuylkill</td>\n",
       "      <td>NaN</td>\n",
       "      <td>NaN</td>\n",
       "      <td>0</td>\n",
       "      <td>0</td>\n",
       "      <td>3.0</td>\n",
       "      <td>1990-05-28</td>\n",
       "      <td>White</td>\n",
       "      <td>M</td>\n",
       "    </tr>\n",
       "    <tr>\n",
       "      <th>1</th>\n",
       "      <td>1</td>\n",
       "      <td>1000002</td>\n",
       "      <td>2017-01-31</td>\n",
       "      <td>2015-09-01</td>\n",
       "      <td>4</td>\n",
       "      <td>Y</td>\n",
       "      <td>120.0</td>\n",
       "      <td>2017-05-31</td>\n",
       "      <td>Somerset</td>\n",
       "      <td>NaN</td>\n",
       "      <td>NaN</td>\n",
       "      <td>0</td>\n",
       "      <td>0</td>\n",
       "      <td>3.0</td>\n",
       "      <td>1958-07-12</td>\n",
       "      <td>White</td>\n",
       "      <td>F</td>\n",
       "    </tr>\n",
       "    <tr>\n",
       "      <th>2</th>\n",
       "      <td>2</td>\n",
       "      <td>1000003</td>\n",
       "      <td>2002-05-08</td>\n",
       "      <td>2001-09-07</td>\n",
       "      <td>0</td>\n",
       "      <td>N</td>\n",
       "      <td>0.0</td>\n",
       "      <td>2002-05-08</td>\n",
       "      <td>Northampton</td>\n",
       "      <td>2009-03-04</td>\n",
       "      <td>2492.0</td>\n",
       "      <td>0</td>\n",
       "      <td>0</td>\n",
       "      <td>3.0</td>\n",
       "      <td>1961-08-14</td>\n",
       "      <td>White</td>\n",
       "      <td>F</td>\n",
       "    </tr>\n",
       "    <tr>\n",
       "      <th>3</th>\n",
       "      <td>3</td>\n",
       "      <td>1000003</td>\n",
       "      <td>2009-03-04</td>\n",
       "      <td>2009-03-04</td>\n",
       "      <td>3</td>\n",
       "      <td>Y</td>\n",
       "      <td>92.0</td>\n",
       "      <td>2009-06-04</td>\n",
       "      <td>Northampton</td>\n",
       "      <td>NaN</td>\n",
       "      <td>NaN</td>\n",
       "      <td>0</td>\n",
       "      <td>0</td>\n",
       "      <td>3.0</td>\n",
       "      <td>1961-08-14</td>\n",
       "      <td>White</td>\n",
       "      <td>F</td>\n",
       "    </tr>\n",
       "    <tr>\n",
       "      <th>4</th>\n",
       "      <td>4</td>\n",
       "      <td>1000004</td>\n",
       "      <td>2013-12-10</td>\n",
       "      <td>2013-09-19</td>\n",
       "      <td>0</td>\n",
       "      <td>N</td>\n",
       "      <td>0.0</td>\n",
       "      <td>2013-12-10</td>\n",
       "      <td>Franklin</td>\n",
       "      <td>2018-07-09</td>\n",
       "      <td>1672.0</td>\n",
       "      <td>0</td>\n",
       "      <td>1</td>\n",
       "      <td>1.0</td>\n",
       "      <td>1993-09-21</td>\n",
       "      <td>Unknown</td>\n",
       "      <td>M</td>\n",
       "    </tr>\n",
       "  </tbody>\n",
       "</table>\n",
       "</div>"
      ],
      "text/plain": [
       "   Unnamed: 0  ID_VARIABLE     NEW_DOS     NEW_DOF PRS  \\\n",
       "0           0      1000001  2010-02-18  2009-06-25   0   \n",
       "1           1      1000002  2017-01-31  2015-09-01   4   \n",
       "2           2      1000003  2002-05-08  2001-09-07   0   \n",
       "3           3      1000003  2009-03-04  2009-03-04   3   \n",
       "4           4      1000004  2013-12-10  2013-09-19   0   \n",
       "\n",
       "  NEW_INC_SANCTION_EXISTS  ADJ_JPMIN  AT_RISK_DT       COUNTY    NEXT_DOF  \\\n",
       "0                       Y       16.0  2010-03-06   Schuylkill         NaN   \n",
       "1                       Y      120.0  2017-05-31     Somerset         NaN   \n",
       "2                       N        0.0  2002-05-08  Northampton  2009-03-04   \n",
       "3                       Y       92.0  2009-06-04  Northampton         NaN   \n",
       "4                       N        0.0  2013-12-10     Franklin  2018-07-09   \n",
       "\n",
       "   TIME_TO_RECIDIVATE  RECIDIVISM_3Y  RECIDIVISM_5Y  OGS         DOB OFF_RACE  \\\n",
       "0                 NaN              0              0  3.0  1990-05-28    White   \n",
       "1                 NaN              0              0  3.0  1958-07-12    White   \n",
       "2              2492.0              0              0  3.0  1961-08-14    White   \n",
       "3                 NaN              0              0  3.0  1961-08-14    White   \n",
       "4              1672.0              0              1  1.0  1993-09-21  Unknown   \n",
       "\n",
       "  OFF_SEX  \n",
       "0       M  \n",
       "1       F  \n",
       "2       F  \n",
       "3       F  \n",
       "4       M  "
      ]
     },
     "execution_count": 19,
     "metadata": {},
     "output_type": "execute_result"
    }
   ],
   "source": [
    "recidivism_df.head()"
   ]
  },
  {
   "cell_type": "code",
   "execution_count": 20,
   "metadata": {},
   "outputs": [],
   "source": [
    "recidivism_df['NEW_DOF'] = pd.to_datetime(recidivism_df['NEW_DOF'])\n",
    "recidivism_df['NEW_DOS'] = pd.to_datetime(recidivism_df['NEW_DOS'])"
   ]
  },
  {
   "cell_type": "code",
   "execution_count": 118,
   "metadata": {},
   "outputs": [],
   "source": [
    "recidivism_df['NEXT_DOF'] = pd.to_datetime(recidivism_df['NEXT_DOF'])"
   ]
  },
  {
   "cell_type": "markdown",
   "metadata": {},
   "source": [
    "### Time to Conviction Analysis"
   ]
  },
  {
   "cell_type": "code",
   "execution_count": 21,
   "metadata": {},
   "outputs": [],
   "source": [
    "time_to_conviction = recidivism_df['NEW_DOS'] - recidivism_df['NEW_DOF']"
   ]
  },
  {
   "cell_type": "code",
   "execution_count": 22,
   "metadata": {},
   "outputs": [
    {
     "data": {
      "text/plain": [
       "count                        1118542\n",
       "mean     358 days 19:58:06.812654332\n",
       "std      375 days 10:05:50.195467544\n",
       "min                  0 days 00:00:00\n",
       "25%                164 days 00:00:00\n",
       "50%                255 days 00:00:00\n",
       "75%                415 days 00:00:00\n",
       "max               7993 days 00:00:00\n",
       "dtype: object"
      ]
     },
     "execution_count": 22,
     "metadata": {},
     "output_type": "execute_result"
    }
   ],
   "source": [
    "time_to_conviction.describe()"
   ]
  },
  {
   "cell_type": "code",
   "execution_count": 188,
   "metadata": {},
   "outputs": [],
   "source": [
    "sns.set_style(style='white') \n",
    "#palette = ['#9398f2', '#F29398',  '#ffcf6f']\n",
    "palette = ['#7B86BD', '#FFE347', '#F07B46', '#9EE493' ]\n",
    "# #EF767A' 7B86BD purple  EF7B45\n",
    "sns.set_palette(palette)\n",
    "#label_color = '#242728'"
   ]
  },
  {
   "cell_type": "code",
   "execution_count": 63,
   "metadata": {},
   "outputs": [
    {
     "data": {
      "image/png": "[encoded data removed]",
      "text/plain": [
       "<Figure size 1008x504 with 1 Axes>"
      ]
     },
     "metadata": {},
     "output_type": "display_data"
    }
   ],
   "source": [
    "fig, ax = plt.subplots(figsize=(14, 7))\n",
    "\n",
    "p = sns.histplot(time_to_conviction.dt.days/365,  ax=ax)\n",
    "sns.despine(top=True, right=True, left=True, bottom=True)\n",
    "#p.set_title('# of Years Between DOF and DOS', fontsize=16)\n",
    "p.set_ylabel('Count', fontsize=13)\n",
    "p.set_xlabel('Years', fontsize=13)\n",
    "plt.show()"
   ]
  },
  {
   "cell_type": "markdown",
   "metadata": {},
   "source": [
    "### Cohort Analysis"
   ]
  },
  {
   "cell_type": "code",
   "execution_count": 97,
   "metadata": {},
   "outputs": [
    {
     "data": {
      "text/plain": [
       "0.98084291872813"
      ]
     },
     "execution_count": 97,
     "metadata": {},
     "output_type": "execute_result"
    }
   ],
   "source": [
    "(time_to_conviction.dt.days<=4*365).sum()/len(time_to_conviction)"
   ]
  },
  {
   "cell_type": "code",
   "execution_count": 66,
   "metadata": {},
   "outputs": [],
   "source": [
    "recidivism_df['YOS'] = recidivism_df['NEW_DOS'].dt.year"
   ]
  },
  {
   "cell_type": "code",
   "execution_count": 98,
   "metadata": {},
   "outputs": [],
   "source": [
    "def create_sentencing_cohorts(x):\n",
    "    if x <= 2005:\n",
    "        cohort = '2001-2005'\n",
    "    elif x <= 2012:\n",
    "        cohort = '2006-2012'\n",
    "    elif x <= 2015: \n",
    "        cohort = '2013-2015'\n",
    "    else: \n",
    "        return np.nan\n",
    "    return cohort"
   ]
  },
  {
   "cell_type": "code",
   "execution_count": 76,
   "metadata": {},
   "outputs": [],
   "source": [
    "recidivism_df['SENTENCING_COHORT'] = recidivism_df['YOS'].apply(lambda x: create_sentencing_cohorts(x))"
   ]
  },
  {
   "cell_type": "code",
   "execution_count": 77,
   "metadata": {},
   "outputs": [],
   "source": [
    "recidivism_df['PRS'] = recidivism_df['PRS'].str.upper()"
   ]
  },
  {
   "cell_type": "code",
   "execution_count": 175,
   "metadata": {},
   "outputs": [],
   "source": [
    "recidivism_counts = recidivism_df[['SENTENCING_COHORT', 'PRS', 'RECIDIVISM_3Y']].groupby(by=['PRS', 'SENTENCING_COHORT']).agg({'RECIDIVISM_3Y':'sum'})\n",
    "total_counts = recidivism_df[['SENTENCING_COHORT', 'PRS', 'RECIDIVISM_3Y']].groupby(by=['PRS', 'SENTENCING_COHORT']).agg({'RECIDIVISM_3Y':'count'})\n",
    "recidivism_pct = recidivism_counts.div(total_counts).reset_index()"
   ]
  },
  {
   "cell_type": "code",
   "execution_count": 176,
   "metadata": {},
   "outputs": [
    {
     "data": {
      "text/plain": [
       "SENTENCING_COHORT\n",
       "2001-2005    0.231085\n",
       "2006-2012    0.401250\n",
       "2013-2015    0.218202\n",
       "Name: RECIDIVISM_3Y, dtype: float64"
      ]
     },
     "execution_count": 176,
     "metadata": {},
     "output_type": "execute_result"
    }
   ],
   "source": [
    "recidivism_df.groupby(by='SENTENCING_COHORT')['RECIDIVISM_3Y'].count()/len(recidivism_df)"
   ]
  },
  {
   "cell_type": "code",
   "execution_count": 189,
   "metadata": {},
   "outputs": [
    {
     "data": {
      "image/png": "[encoded data removed]",
      "text/plain": [
       "<Figure size 1152x720 with 1 Axes>"
      ]
     },
     "metadata": {},
     "output_type": "display_data"
    }
   ],
   "source": [
    "fig, ax = plt.subplots(figsize=(16, 10))\n",
    "p = sns.barplot(x='PRS', y='RECIDIVISM_3Y', hue='SENTENCING_COHORT', data=recidivism_pct,  ax=ax)\n",
    "sns.despine(top=True, right=True, left=True, bottom=True)\n",
    "p.set_xlabel('PRS score category', fontsize=13)\n",
    "p.set_ylabel('Recidivism rate', fontsize=13)\n",
    "#.set_title('Recidivism Rate by PRS Categories by Sentencing Cohort', fontsize=14)\n",
    "ax.legend(loc='upper left')\n",
    "ax.bar_label(ax.containers[0], label_type='edge', fmt='%1.2f')\n",
    "ax.bar_label(ax.containers[1], label_type='edge', fmt='%1.2f')\n",
    "ax.bar_label(ax.containers[2], label_type='edge', fmt='%1.2f')\n",
    "\n",
    "plt.show()"
   ]
  },
  {
   "cell_type": "code",
   "execution_count": 94,
   "metadata": {},
   "outputs": [],
   "source": [
    "recidivism_df.drop(columns='Unnamed: 0', inplace=True)"
   ]
  },
  {
   "cell_type": "code",
   "execution_count": 99,
   "metadata": {},
   "outputs": [],
   "source": [
    "recidivism_df.to_csv(filepath + 'recidivism_dataset_v1.csv', index=False)"
   ]
  },
  {
   "cell_type": "markdown",
   "metadata": {},
   "source": [
    "### Offense category/severity analysis"
   ]
  },
  {
   "cell_type": "code",
   "execution_count": 257,
   "metadata": {},
   "outputs": [],
   "source": [
    "offense_df = pd.read_csv(filepath + 'PSC_data_trimmed_v1.csv')"
   ]
  },
  {
   "cell_type": "code",
   "execution_count": null,
   "metadata": {},
   "outputs": [],
   "source": [
    "ofn_label_vars = ['JPR_ID', 'ID_VARIABLE', 'DOS', 'DOF', 'OFN_LABEL', 'LABEL', 'OGS']\n",
    "offense_df = offense_df[ofn_label_vars].copy()"
   ]
  },
  {
   "cell_type": "code",
   "execution_count": null,
   "metadata": {},
   "outputs": [],
   "source": [
    "offense_df['DOS'] = pd.to_datetime(offense_df['DOS'])"
   ]
  },
  {
   "cell_type": "code",
   "execution_count": null,
   "metadata": {},
   "outputs": [],
   "source": [
    "offense_df['_DOS'] = offense_df['DOS']\n",
    "offense_df['DOS'] = offense_df.groupby(by=['ID_VARIABLE', 'JPR_ID'])['DOS'].transform('min')"
   ]
  },
  {
   "cell_type": "code",
   "execution_count": null,
   "metadata": {},
   "outputs": [],
   "source": [
    "offense_df['DOF'] = pd.to_datetime(offense_df['DOF'])"
   ]
  },
  {
   "cell_type": "code",
   "execution_count": null,
   "metadata": {},
   "outputs": [],
   "source": [
    "offense_df['_DOF'] = offense_df['DOF']\n",
    "offense_df['DOF'] = offense_df.groupby(by=['ID_VARIABLE', 'JPR_ID'])['DOF'].transform('min')"
   ]
  },
  {
   "cell_type": "code",
   "execution_count": null,
   "metadata": {},
   "outputs": [],
   "source": [
    "# There are 79 charges with missing LABEL information. replace with OFN_LABEL column\n",
    "offense_df['LABEL'].fillna(offense_df['OFN_LABEL'], inplace=True)"
   ]
  },
  {
   "cell_type": "markdown",
   "metadata": {},
   "source": [
    "##### Recidivism to DUI "
   ]
  },
  {
   "cell_type": "code",
   "execution_count": 108,
   "metadata": {},
   "outputs": [
    {
     "data": {
      "text/plain": [
       "array(['DUI 97-M2', 'DUI 97-M1', 'Homicide-By Veh (No DUI)',\n",
       "       'Assault-Agg By Veh while DUI', 'Homicide-By Veh while DUI',\n",
       "       'Homicide-By Veh (DUI)', 'DUI-M2', 'DUI-M1', 'DUI-M',\n",
       "       'DUI-M1 Minor Occupant', 'DUI-F3',\n",
       "       'DUI-high rate of alcohol: BAC .10-<.16 (4th/subsq off)',\n",
       "       'DUI-general impairment: BAC .08-<.10 (4th/subsq off)',\n",
       "       'Homicide by vehicle while DUI - prior DUI conviction(s)',\n",
       "       'DUI-controlled substances: metabolite of Sched I/II/III (3rd/subsq off)',\n",
       "       'DUI-general impairment: BAC .08-<.10 (3rd off)'], dtype=object)"
      ]
     },
     "execution_count": 108,
     "metadata": {},
     "output_type": "execute_result"
    }
   ],
   "source": [
    "offense_df[offense_df['LABEL'].str.contains('DUI')]['LABEL'].unique()"
   ]
  },
  {
   "cell_type": "code",
   "execution_count": 109,
   "metadata": {},
   "outputs": [],
   "source": [
    "dui_codes =[i for i in offense_df[offense_df['LABEL'].str.contains('DUI')]['LABEL'].unique() if 'No DUI' not in i]"
   ]
  },
  {
   "cell_type": "code",
   "execution_count": 110,
   "metadata": {},
   "outputs": [],
   "source": [
    "offense_df['DUI'] = offense_df['LABEL'].apply(lambda x: 1 if x in dui_codes else 0)"
   ]
  },
  {
   "cell_type": "markdown",
   "metadata": {},
   "source": [
    "It is possible that a person commits multiple offenses on a DOF, including DUI and non-DUI related offenses. For now, we will count it as a DUI offense if 1+ charges committed on that day is a DUI."
   ]
  },
  {
   "cell_type": "code",
   "execution_count": 112,
   "metadata": {},
   "outputs": [],
   "source": [
    "dui_observations = offense_df[['ID_VARIABLE', 'DOF', 'DUI']].sort_values(by=['ID_VARIABLE', 'DOF', 'DUI'], ascending=[True, True, False]).groupby(by=['ID_VARIABLE', 'DOF']).first().reset_index()"
   ]
  },
  {
   "cell_type": "code",
   "execution_count": 114,
   "metadata": {},
   "outputs": [
    {
     "data": {
      "text/html": [
       "<div>\n",
       "<style scoped>\n",
       "    .dataframe tbody tr th:only-of-type {\n",
       "        vertical-align: middle;\n",
       "    }\n",
       "\n",
       "    .dataframe tbody tr th {\n",
       "        vertical-align: top;\n",
       "    }\n",
       "\n",
       "    .dataframe thead th {\n",
       "        text-align: right;\n",
       "    }\n",
       "</style>\n",
       "<table border=\"1\" class=\"dataframe\">\n",
       "  <thead>\n",
       "    <tr style=\"text-align: right;\">\n",
       "      <th></th>\n",
       "      <th>ID_VARIABLE</th>\n",
       "      <th>DOF</th>\n",
       "      <th>DUI</th>\n",
       "    </tr>\n",
       "  </thead>\n",
       "  <tbody>\n",
       "    <tr>\n",
       "      <th>0</th>\n",
       "      <td>1000001</td>\n",
       "      <td>2009-06-25</td>\n",
       "      <td>0</td>\n",
       "    </tr>\n",
       "    <tr>\n",
       "      <th>1</th>\n",
       "      <td>1000002</td>\n",
       "      <td>2015-09-01</td>\n",
       "      <td>1</td>\n",
       "    </tr>\n",
       "    <tr>\n",
       "      <th>2</th>\n",
       "      <td>1000003</td>\n",
       "      <td>2001-09-07</td>\n",
       "      <td>0</td>\n",
       "    </tr>\n",
       "    <tr>\n",
       "      <th>3</th>\n",
       "      <td>1000003</td>\n",
       "      <td>2009-03-04</td>\n",
       "      <td>0</td>\n",
       "    </tr>\n",
       "    <tr>\n",
       "      <th>4</th>\n",
       "      <td>1000004</td>\n",
       "      <td>2013-09-19</td>\n",
       "      <td>0</td>\n",
       "    </tr>\n",
       "  </tbody>\n",
       "</table>\n",
       "</div>"
      ],
      "text/plain": [
       "   ID_VARIABLE        DOF  DUI\n",
       "0      1000001 2009-06-25    0\n",
       "1      1000002 2015-09-01    1\n",
       "2      1000003 2001-09-07    0\n",
       "3      1000003 2009-03-04    0\n",
       "4      1000004 2013-09-19    0"
      ]
     },
     "execution_count": 114,
     "metadata": {},
     "output_type": "execute_result"
    }
   ],
   "source": [
    "dui_observations.head()"
   ]
  },
  {
   "cell_type": "code",
   "execution_count": 116,
   "metadata": {},
   "outputs": [],
   "source": [
    "recidivism_copy = recidivism_df.copy()"
   ]
  },
  {
   "cell_type": "code",
   "execution_count": 119,
   "metadata": {},
   "outputs": [],
   "source": [
    "recidivism_df = pd.merge(recidivism_df, dui_observations, left_on=['ID_VARIABLE', 'NEXT_DOF'], right_on=['ID_VARIABLE', 'DOF'], how='left')"
   ]
  },
  {
   "cell_type": "code",
   "execution_count": 122,
   "metadata": {},
   "outputs": [],
   "source": [
    "recidivism_df.rename(columns={'DUI': 'NEXT_OFN_DUI'}, inplace=True)"
   ]
  },
  {
   "cell_type": "code",
   "execution_count": 243,
   "metadata": {},
   "outputs": [],
   "source": [
    "recidivism_counts = recidivism_df[['NEXT_OFN_DUI', 'PRS', 'RECIDIVISM_3Y']].groupby(by=['PRS', 'NEXT_OFN_DUI']).agg({'RECIDIVISM_3Y':'sum'})\n",
    "total_counts = recidivism_df[['NEXT_OFN_DUI', 'PRS', 'RECIDIVISM_3Y']].groupby(by=['PRS', 'NEXT_OFN_DUI']).agg({'RECIDIVISM_3Y':'count'})\n",
    "recidivism_pct = recidivism_counts.div(total_counts).reset_index()"
   ]
  },
  {
   "cell_type": "code",
   "execution_count": 244,
   "metadata": {},
   "outputs": [],
   "source": [
    "dui_pct = recidivism_df.groupby(by='NEXT_OFN_DUI')['RECIDIVISM_3Y'].sum()/len(recidivism_df[recidivism_df['RECIDIVISM_3Y']==1])"
   ]
  },
  {
   "cell_type": "code",
   "execution_count": 245,
   "metadata": {},
   "outputs": [
    {
     "name": "stdout",
     "output_type": "stream",
     "text": [
      "['DUI 80.1%', 'non-DUI 19.9%']\n"
     ]
    }
   ],
   "source": [
    "labs = ['DUI', 'non-DUI']\n",
    "for i in range(2):\n",
    "    labs[i] = labs[i] + ' {:.1f}'.format(dui_pct.values[i] * 100) + '%'\n",
    "print(labs)\n",
    "recidivism_pct['NEXT_OFN_DUI'].replace(to_replace = [0.0, 1.0], value = labs, inplace=True)"
   ]
  },
  {
   "cell_type": "code",
   "execution_count": 246,
   "metadata": {},
   "outputs": [
    {
     "data": {
      "image/png": "[encoded data removed]",
      "text/plain": [
       "<Figure size 1008x576 with 1 Axes>"
      ]
     },
     "metadata": {},
     "output_type": "display_data"
    }
   ],
   "source": [
    "fig, ax = plt.subplots(figsize=(14, 8))\n",
    "p = sns.barplot(x='PRS', y='RECIDIVISM_3Y', hue='NEXT_OFN_DUI', data=recidivism_pct,  ax=ax)\n",
    "sns.despine(top=True, right=True, left=True, bottom=True)\n",
    "p.set_xlabel('PRS score category', fontsize=13)\n",
    "p.set_ylabel('Recidivism rate', fontsize=13)\n",
    "ax.legend(loc='upper right')\n",
    "ax.bar_label(ax.containers[0], label_type='edge', fmt='%1.2f')\n",
    "ax.bar_label(ax.containers[1], label_type='edge', fmt='%1.2f')\n",
    "\n",
    "plt.show()"
   ]
  },
  {
   "cell_type": "markdown",
   "metadata": {},
   "source": [
    "### Recidivate to Felony Offense"
   ]
  },
  {
   "cell_type": "markdown",
   "metadata": {},
   "source": [
    "A felony is defined as having an OGS >= 5 "
   ]
  },
  {
   "cell_type": "code",
   "execution_count": 256,
   "metadata": {},
   "outputs": [
    {
     "data": {
      "text/html": [
       "<div>\n",
       "<style scoped>\n",
       "    .dataframe tbody tr th:only-of-type {\n",
       "        vertical-align: middle;\n",
       "    }\n",
       "\n",
       "    .dataframe tbody tr th {\n",
       "        vertical-align: top;\n",
       "    }\n",
       "\n",
       "    .dataframe thead th {\n",
       "        text-align: right;\n",
       "    }\n",
       "</style>\n",
       "<table border=\"1\" class=\"dataframe\">\n",
       "  <thead>\n",
       "    <tr style=\"text-align: right;\">\n",
       "      <th></th>\n",
       "      <th>JPR_ID</th>\n",
       "      <th>ID_VARIABLE</th>\n",
       "      <th>DOS</th>\n",
       "      <th>DOF</th>\n",
       "      <th>OFN_LABEL</th>\n",
       "      <th>LABEL</th>\n",
       "      <th>_DOS</th>\n",
       "      <th>_DOF</th>\n",
       "      <th>DUI</th>\n",
       "    </tr>\n",
       "  </thead>\n",
       "  <tbody>\n",
       "    <tr>\n",
       "      <th>0</th>\n",
       "      <td>640001</td>\n",
       "      <td>1904581</td>\n",
       "      <td>2001-06-12</td>\n",
       "      <td>2000-04-01</td>\n",
       "      <td>Corruption of Minors - when of a sexual nature</td>\n",
       "      <td>Corrupting Minor</td>\n",
       "      <td>2001-06-12</td>\n",
       "      <td>2000-04-01</td>\n",
       "      <td>0</td>\n",
       "    </tr>\n",
       "    <tr>\n",
       "      <th>1</th>\n",
       "      <td>642480</td>\n",
       "      <td>1157226</td>\n",
       "      <td>2001-12-03</td>\n",
       "      <td>1999-12-31</td>\n",
       "      <td>DUI - M-2</td>\n",
       "      <td>DUI 97-M2</td>\n",
       "      <td>2001-12-03</td>\n",
       "      <td>1999-12-31</td>\n",
       "      <td>1</td>\n",
       "    </tr>\n",
       "    <tr>\n",
       "      <th>2</th>\n",
       "      <td>660434</td>\n",
       "      <td>1467650</td>\n",
       "      <td>2001-04-26</td>\n",
       "      <td>2000-12-23</td>\n",
       "      <td>DUI - M-2</td>\n",
       "      <td>DUI 97-M2</td>\n",
       "      <td>2001-04-26</td>\n",
       "      <td>2000-12-23</td>\n",
       "      <td>1</td>\n",
       "    </tr>\n",
       "    <tr>\n",
       "      <th>3</th>\n",
       "      <td>628940</td>\n",
       "      <td>1746031</td>\n",
       "      <td>2001-05-22</td>\n",
       "      <td>2000-06-26</td>\n",
       "      <td>Simple Assault</td>\n",
       "      <td>Assault-Simple</td>\n",
       "      <td>2001-05-22</td>\n",
       "      <td>2000-06-26</td>\n",
       "      <td>0</td>\n",
       "    </tr>\n",
       "    <tr>\n",
       "      <th>4</th>\n",
       "      <td>594048</td>\n",
       "      <td>1374131</td>\n",
       "      <td>2001-01-03</td>\n",
       "      <td>2000-10-15</td>\n",
       "      <td>DUI - M-1</td>\n",
       "      <td>DUI 97-M1</td>\n",
       "      <td>2001-01-03</td>\n",
       "      <td>2000-10-15</td>\n",
       "      <td>1</td>\n",
       "    </tr>\n",
       "    <tr>\n",
       "      <th>...</th>\n",
       "      <td>...</td>\n",
       "      <td>...</td>\n",
       "      <td>...</td>\n",
       "      <td>...</td>\n",
       "      <td>...</td>\n",
       "      <td>...</td>\n",
       "      <td>...</td>\n",
       "      <td>...</td>\n",
       "      <td>...</td>\n",
       "    </tr>\n",
       "    <tr>\n",
       "      <th>2593631</th>\n",
       "      <td>5884275</td>\n",
       "      <td>1031522</td>\n",
       "      <td>2019-01-08</td>\n",
       "      <td>2008-03-01</td>\n",
       "      <td>Theft - Deception; $200 - $2,000</td>\n",
       "      <td>Theft-Misd</td>\n",
       "      <td>2019-01-08</td>\n",
       "      <td>2008-03-01</td>\n",
       "      <td>0</td>\n",
       "    </tr>\n",
       "    <tr>\n",
       "      <th>2593632</th>\n",
       "      <td>5583208</td>\n",
       "      <td>1671183</td>\n",
       "      <td>2019-04-08</td>\n",
       "      <td>2015-08-06</td>\n",
       "      <td>Recklessly endangering another person</td>\n",
       "      <td>Assault-Reck Endanger</td>\n",
       "      <td>2019-04-08</td>\n",
       "      <td>2015-08-06</td>\n",
       "      <td>0</td>\n",
       "    </tr>\n",
       "    <tr>\n",
       "      <th>2593633</th>\n",
       "      <td>5997828</td>\n",
       "      <td>1491111</td>\n",
       "      <td>2019-04-18</td>\n",
       "      <td>2015-09-30</td>\n",
       "      <td>Theft by unlaw taking-movable property ($200-$...</td>\n",
       "      <td>Theft-Misd</td>\n",
       "      <td>2019-04-18</td>\n",
       "      <td>2015-09-30</td>\n",
       "      <td>0</td>\n",
       "    </tr>\n",
       "    <tr>\n",
       "      <th>2593634</th>\n",
       "      <td>6072750</td>\n",
       "      <td>1382936</td>\n",
       "      <td>2019-12-19</td>\n",
       "      <td>2019-04-25</td>\n",
       "      <td>Simple assault-attempt/cause BI</td>\n",
       "      <td>Assault-Simple</td>\n",
       "      <td>2019-12-19</td>\n",
       "      <td>2019-04-25</td>\n",
       "      <td>0</td>\n",
       "    </tr>\n",
       "    <tr>\n",
       "      <th>2593635</th>\n",
       "      <td>6072750</td>\n",
       "      <td>1382936</td>\n",
       "      <td>2019-12-19</td>\n",
       "      <td>2019-04-25</td>\n",
       "      <td>Simple assault-attempt/cause BI</td>\n",
       "      <td>Assault-Simple</td>\n",
       "      <td>2019-12-19</td>\n",
       "      <td>2019-04-25</td>\n",
       "      <td>0</td>\n",
       "    </tr>\n",
       "  </tbody>\n",
       "</table>\n",
       "<p>2593636 rows × 9 columns</p>\n",
       "</div>"
      ],
      "text/plain": [
       "          JPR_ID  ID_VARIABLE        DOS        DOF  \\\n",
       "0         640001      1904581 2001-06-12 2000-04-01   \n",
       "1         642480      1157226 2001-12-03 1999-12-31   \n",
       "2         660434      1467650 2001-04-26 2000-12-23   \n",
       "3         628940      1746031 2001-05-22 2000-06-26   \n",
       "4         594048      1374131 2001-01-03 2000-10-15   \n",
       "...          ...          ...        ...        ...   \n",
       "2593631  5884275      1031522 2019-01-08 2008-03-01   \n",
       "2593632  5583208      1671183 2019-04-08 2015-08-06   \n",
       "2593633  5997828      1491111 2019-04-18 2015-09-30   \n",
       "2593634  6072750      1382936 2019-12-19 2019-04-25   \n",
       "2593635  6072750      1382936 2019-12-19 2019-04-25   \n",
       "\n",
       "                                                 OFN_LABEL  \\\n",
       "0           Corruption of Minors - when of a sexual nature   \n",
       "1                                                DUI - M-2   \n",
       "2                                                DUI - M-2   \n",
       "3                                           Simple Assault   \n",
       "4                                                DUI - M-1   \n",
       "...                                                    ...   \n",
       "2593631                   Theft - Deception; $200 - $2,000   \n",
       "2593632              Recklessly endangering another person   \n",
       "2593633  Theft by unlaw taking-movable property ($200-$...   \n",
       "2593634                    Simple assault-attempt/cause BI   \n",
       "2593635                    Simple assault-attempt/cause BI   \n",
       "\n",
       "                         LABEL       _DOS       _DOF  DUI  \n",
       "0             Corrupting Minor 2001-06-12 2000-04-01    0  \n",
       "1                    DUI 97-M2 2001-12-03 1999-12-31    1  \n",
       "2                    DUI 97-M2 2001-04-26 2000-12-23    1  \n",
       "3               Assault-Simple 2001-05-22 2000-06-26    0  \n",
       "4                    DUI 97-M1 2001-01-03 2000-10-15    1  \n",
       "...                        ...        ...        ...  ...  \n",
       "2593631             Theft-Misd 2019-01-08 2008-03-01    0  \n",
       "2593632  Assault-Reck Endanger 2019-04-08 2015-08-06    0  \n",
       "2593633             Theft-Misd 2019-04-18 2015-09-30    0  \n",
       "2593634         Assault-Simple 2019-12-19 2019-04-25    0  \n",
       "2593635         Assault-Simple 2019-12-19 2019-04-25    0  \n",
       "\n",
       "[2593636 rows x 9 columns]"
      ]
     },
     "execution_count": 256,
     "metadata": {},
     "output_type": "execute_result"
    }
   ],
   "source": [
    "ogs = offense_df.groupby(by=['ID_VARIABLE', 'DOF'])['OGS'].max()"
   ]
  },
  {
   "cell_type": "code",
   "execution_count": 255,
   "metadata": {},
   "outputs": [
    {
     "ename": "KeyError",
     "evalue": "\"['OGS'] not in index\"",
     "output_type": "error",
     "traceback": [
      "\u001b[1;31m---------------------------------------------------------------------------\u001b[0m",
      "\u001b[1;31mKeyError\u001b[0m                                  Traceback (most recent call last)",
      "\u001b[1;32mz:\\PA_SENTENCING_PROJECT\\Home\\audrey\\PA_sentencing\\initial_analyses.ipynb Cell 47'\u001b[0m in \u001b[0;36m<module>\u001b[1;34m\u001b[0m\n\u001b[0;32m      <a href='vscode-notebook-cell:/z%3A/PA_SENTENCING_PROJECT/Home/audrey/PA_sentencing/initial_analyses.ipynb#ch0000069?line=0'>1</a>\u001b[0m \u001b[39m# get OGS score of by ID_VARIABLE and DOF for each individual\u001b[39;00m\n\u001b[1;32m----> <a href='vscode-notebook-cell:/z%3A/PA_SENTENCING_PROJECT/Home/audrey/PA_sentencing/initial_analyses.ipynb#ch0000069?line=1'>2</a>\u001b[0m ogs_df \u001b[39m=\u001b[39m offense_df[[\u001b[39m'\u001b[39;49m\u001b[39mID_VARIABLE\u001b[39;49m\u001b[39m'\u001b[39;49m, \u001b[39m'\u001b[39;49m\u001b[39mDOS\u001b[39;49m\u001b[39m'\u001b[39;49m, \u001b[39m'\u001b[39;49m\u001b[39mDOF\u001b[39;49m\u001b[39m'\u001b[39;49m, \u001b[39m'\u001b[39;49m\u001b[39mOGS\u001b[39;49m\u001b[39m'\u001b[39;49m]]\u001b[39m.\u001b[39mgroupby(by\u001b[39m=\u001b[39m[\u001b[39m'\u001b[39m\u001b[39mID_VARIABLE\u001b[39m\u001b[39m'\u001b[39m, \u001b[39m'\u001b[39m\u001b[39mJPR_ID\u001b[39m\u001b[39m'\u001b[39m])\u001b[39m.\u001b[39magg({\u001b[39m'\u001b[39m\u001b[39mDOS\u001b[39m\u001b[39m'\u001b[39m: \u001b[39m'\u001b[39m\u001b[39mmin\u001b[39m\u001b[39m'\u001b[39m, \u001b[39m'\u001b[39m\u001b[39mDOF\u001b[39m\u001b[39m'\u001b[39m: \u001b[39m'\u001b[39m\u001b[39mmin\u001b[39m\u001b[39m'\u001b[39m, \u001b[39m'\u001b[39m\u001b[39mOGS\u001b[39m\u001b[39m'\u001b[39m: \u001b[39m'\u001b[39m\u001b[39mmax\u001b[39m\u001b[39m'\u001b[39m})\n",
      "File \u001b[1;32m~\\anaconda3\\envs\\pa_sentencing\\lib\\site-packages\\pandas\\core\\frame.py:3512\u001b[0m, in \u001b[0;36mDataFrame.__getitem__\u001b[1;34m(self, key)\u001b[0m\n\u001b[0;32m   <a href='file:///~/anaconda3/envs/pa_sentencing/lib/site-packages/pandas/core/frame.py?line=3509'>3510</a>\u001b[0m     \u001b[39mif\u001b[39;00m is_iterator(key):\n\u001b[0;32m   <a href='file:///~/anaconda3/envs/pa_sentencing/lib/site-packages/pandas/core/frame.py?line=3510'>3511</a>\u001b[0m         key \u001b[39m=\u001b[39m \u001b[39mlist\u001b[39m(key)\n\u001b[1;32m-> <a href='file:///~/anaconda3/envs/pa_sentencing/lib/site-packages/pandas/core/frame.py?line=3511'>3512</a>\u001b[0m     indexer \u001b[39m=\u001b[39m \u001b[39mself\u001b[39;49m\u001b[39m.\u001b[39;49mcolumns\u001b[39m.\u001b[39;49m_get_indexer_strict(key, \u001b[39m\"\u001b[39;49m\u001b[39mcolumns\u001b[39;49m\u001b[39m\"\u001b[39;49m)[\u001b[39m1\u001b[39m]\n\u001b[0;32m   <a href='file:///~/anaconda3/envs/pa_sentencing/lib/site-packages/pandas/core/frame.py?line=3513'>3514</a>\u001b[0m \u001b[39m# take() does not accept boolean indexers\u001b[39;00m\n\u001b[0;32m   <a href='file:///~/anaconda3/envs/pa_sentencing/lib/site-packages/pandas/core/frame.py?line=3514'>3515</a>\u001b[0m \u001b[39mif\u001b[39;00m \u001b[39mgetattr\u001b[39m(indexer, \u001b[39m\"\u001b[39m\u001b[39mdtype\u001b[39m\u001b[39m\"\u001b[39m, \u001b[39mNone\u001b[39;00m) \u001b[39m==\u001b[39m \u001b[39mbool\u001b[39m:\n",
      "File \u001b[1;32m~\\anaconda3\\envs\\pa_sentencing\\lib\\site-packages\\pandas\\core\\indexes\\base.py:5782\u001b[0m, in \u001b[0;36mIndex._get_indexer_strict\u001b[1;34m(self, key, axis_name)\u001b[0m\n\u001b[0;32m   <a href='file:///~/anaconda3/envs/pa_sentencing/lib/site-packages/pandas/core/indexes/base.py?line=5778'>5779</a>\u001b[0m \u001b[39melse\u001b[39;00m:\n\u001b[0;32m   <a href='file:///~/anaconda3/envs/pa_sentencing/lib/site-packages/pandas/core/indexes/base.py?line=5779'>5780</a>\u001b[0m     keyarr, indexer, new_indexer \u001b[39m=\u001b[39m \u001b[39mself\u001b[39m\u001b[39m.\u001b[39m_reindex_non_unique(keyarr)\n\u001b[1;32m-> <a href='file:///~/anaconda3/envs/pa_sentencing/lib/site-packages/pandas/core/indexes/base.py?line=5781'>5782</a>\u001b[0m \u001b[39mself\u001b[39;49m\u001b[39m.\u001b[39;49m_raise_if_missing(keyarr, indexer, axis_name)\n\u001b[0;32m   <a href='file:///~/anaconda3/envs/pa_sentencing/lib/site-packages/pandas/core/indexes/base.py?line=5783'>5784</a>\u001b[0m keyarr \u001b[39m=\u001b[39m \u001b[39mself\u001b[39m\u001b[39m.\u001b[39mtake(indexer)\n\u001b[0;32m   <a href='file:///~/anaconda3/envs/pa_sentencing/lib/site-packages/pandas/core/indexes/base.py?line=5784'>5785</a>\u001b[0m \u001b[39mif\u001b[39;00m \u001b[39misinstance\u001b[39m(key, Index):\n\u001b[0;32m   <a href='file:///~/anaconda3/envs/pa_sentencing/lib/site-packages/pandas/core/indexes/base.py?line=5785'>5786</a>\u001b[0m     \u001b[39m# GH 42790 - Preserve name from an Index\u001b[39;00m\n",
      "File \u001b[1;32m~\\anaconda3\\envs\\pa_sentencing\\lib\\site-packages\\pandas\\core\\indexes\\base.py:5845\u001b[0m, in \u001b[0;36mIndex._raise_if_missing\u001b[1;34m(self, key, indexer, axis_name)\u001b[0m\n\u001b[0;32m   <a href='file:///~/anaconda3/envs/pa_sentencing/lib/site-packages/pandas/core/indexes/base.py?line=5841'>5842</a>\u001b[0m     \u001b[39mraise\u001b[39;00m \u001b[39mKeyError\u001b[39;00m(\u001b[39mf\u001b[39m\u001b[39m\"\u001b[39m\u001b[39mNone of [\u001b[39m\u001b[39m{\u001b[39;00mkey\u001b[39m}\u001b[39;00m\u001b[39m] are in the [\u001b[39m\u001b[39m{\u001b[39;00maxis_name\u001b[39m}\u001b[39;00m\u001b[39m]\u001b[39m\u001b[39m\"\u001b[39m)\n\u001b[0;32m   <a href='file:///~/anaconda3/envs/pa_sentencing/lib/site-packages/pandas/core/indexes/base.py?line=5843'>5844</a>\u001b[0m not_found \u001b[39m=\u001b[39m \u001b[39mlist\u001b[39m(ensure_index(key)[missing_mask\u001b[39m.\u001b[39mnonzero()[\u001b[39m0\u001b[39m]]\u001b[39m.\u001b[39munique())\n\u001b[1;32m-> <a href='file:///~/anaconda3/envs/pa_sentencing/lib/site-packages/pandas/core/indexes/base.py?line=5844'>5845</a>\u001b[0m \u001b[39mraise\u001b[39;00m \u001b[39mKeyError\u001b[39;00m(\u001b[39mf\u001b[39m\u001b[39m\"\u001b[39m\u001b[39m{\u001b[39;00mnot_found\u001b[39m}\u001b[39;00m\u001b[39m not in index\u001b[39m\u001b[39m\"\u001b[39m)\n",
      "\u001b[1;31mKeyError\u001b[0m: \"['OGS'] not in index\""
     ]
    }
   ],
   "source": [
    "# get OGS score of by ID_VARIABLE and DOF for each individual\n",
    "\n",
    "ogs_df = offense_df[['ID_VARIABLE', 'DOS', 'DOF', 'OGS']].groupby(by=['ID_VARIABLE', 'JPR_ID']).agg({'DOS': 'min', 'DOF': 'min', 'OGS': 'max'})"
   ]
  },
  {
   "cell_type": "code",
   "execution_count": 251,
   "metadata": {},
   "outputs": [
    {
     "data": {
      "text/html": [
       "<div>\n",
       "<style scoped>\n",
       "    .dataframe tbody tr th:only-of-type {\n",
       "        vertical-align: middle;\n",
       "    }\n",
       "\n",
       "    .dataframe tbody tr th {\n",
       "        vertical-align: top;\n",
       "    }\n",
       "\n",
       "    .dataframe thead th {\n",
       "        text-align: right;\n",
       "    }\n",
       "</style>\n",
       "<table border=\"1\" class=\"dataframe\">\n",
       "  <thead>\n",
       "    <tr style=\"text-align: right;\">\n",
       "      <th></th>\n",
       "      <th>ID_VARIABLE</th>\n",
       "      <th>PRS</th>\n",
       "      <th>OGS</th>\n",
       "      <th>NEXT_OGS</th>\n",
       "      <th>NEW_DOS</th>\n",
       "      <th>NEW_DOF</th>\n",
       "    </tr>\n",
       "  </thead>\n",
       "  <tbody>\n",
       "    <tr>\n",
       "      <th>35</th>\n",
       "      <td>1000021</td>\n",
       "      <td>5</td>\n",
       "      <td>1.0</td>\n",
       "      <td>NaN</td>\n",
       "      <td>2016-05-17</td>\n",
       "      <td>2016-01-25</td>\n",
       "    </tr>\n",
       "    <tr>\n",
       "      <th>83</th>\n",
       "      <td>1000057</td>\n",
       "      <td>2</td>\n",
       "      <td>2.0</td>\n",
       "      <td>NaN</td>\n",
       "      <td>2016-12-01</td>\n",
       "      <td>2016-08-20</td>\n",
       "    </tr>\n",
       "    <tr>\n",
       "      <th>132</th>\n",
       "      <td>1000098</td>\n",
       "      <td>0</td>\n",
       "      <td>3.0</td>\n",
       "      <td>NaN</td>\n",
       "      <td>2018-01-04</td>\n",
       "      <td>2016-08-08</td>\n",
       "    </tr>\n",
       "    <tr>\n",
       "      <th>139</th>\n",
       "      <td>1000102</td>\n",
       "      <td>5</td>\n",
       "      <td>3.0</td>\n",
       "      <td>NaN</td>\n",
       "      <td>2015-08-19</td>\n",
       "      <td>2015-03-01</td>\n",
       "    </tr>\n",
       "    <tr>\n",
       "      <th>190</th>\n",
       "      <td>1000142</td>\n",
       "      <td>3</td>\n",
       "      <td>5.0</td>\n",
       "      <td>NaN</td>\n",
       "      <td>2015-09-10</td>\n",
       "      <td>2014-12-06</td>\n",
       "    </tr>\n",
       "    <tr>\n",
       "      <th>...</th>\n",
       "      <td>...</td>\n",
       "      <td>...</td>\n",
       "      <td>...</td>\n",
       "      <td>...</td>\n",
       "      <td>...</td>\n",
       "      <td>...</td>\n",
       "    </tr>\n",
       "    <tr>\n",
       "      <th>1118296</th>\n",
       "      <td>1916021</td>\n",
       "      <td>2</td>\n",
       "      <td>3.0</td>\n",
       "      <td>NaN</td>\n",
       "      <td>2017-03-06</td>\n",
       "      <td>2015-09-11</td>\n",
       "    </tr>\n",
       "    <tr>\n",
       "      <th>1118330</th>\n",
       "      <td>1916046</td>\n",
       "      <td>5</td>\n",
       "      <td>1.0</td>\n",
       "      <td>NaN</td>\n",
       "      <td>2014-11-12</td>\n",
       "      <td>2014-04-12</td>\n",
       "    </tr>\n",
       "    <tr>\n",
       "      <th>1118353</th>\n",
       "      <td>1916064</td>\n",
       "      <td>1</td>\n",
       "      <td>3.0</td>\n",
       "      <td>NaN</td>\n",
       "      <td>2018-08-30</td>\n",
       "      <td>2016-01-07</td>\n",
       "    </tr>\n",
       "    <tr>\n",
       "      <th>1118419</th>\n",
       "      <td>1916106</td>\n",
       "      <td>0</td>\n",
       "      <td>1.0</td>\n",
       "      <td>NaN</td>\n",
       "      <td>2016-10-18</td>\n",
       "      <td>2015-11-30</td>\n",
       "    </tr>\n",
       "    <tr>\n",
       "      <th>1118445</th>\n",
       "      <td>1916125</td>\n",
       "      <td>5</td>\n",
       "      <td>3.0</td>\n",
       "      <td>NaN</td>\n",
       "      <td>2017-07-19</td>\n",
       "      <td>2017-01-13</td>\n",
       "    </tr>\n",
       "  </tbody>\n",
       "</table>\n",
       "<p>30600 rows × 6 columns</p>\n",
       "</div>"
      ],
      "text/plain": [
       "         ID_VARIABLE PRS  OGS  NEXT_OGS    NEW_DOS    NEW_DOF\n",
       "35           1000021   5  1.0       NaN 2016-05-17 2016-01-25\n",
       "83           1000057   2  2.0       NaN 2016-12-01 2016-08-20\n",
       "132          1000098   0  3.0       NaN 2018-01-04 2016-08-08\n",
       "139          1000102   5  3.0       NaN 2015-08-19 2015-03-01\n",
       "190          1000142   3  5.0       NaN 2015-09-10 2014-12-06\n",
       "...              ...  ..  ...       ...        ...        ...\n",
       "1118296      1916021   2  3.0       NaN 2017-03-06 2015-09-11\n",
       "1118330      1916046   5  1.0       NaN 2014-11-12 2014-04-12\n",
       "1118353      1916064   1  3.0       NaN 2018-08-30 2016-01-07\n",
       "1118419      1916106   0  1.0       NaN 2016-10-18 2015-11-30\n",
       "1118445      1916125   5  3.0       NaN 2017-07-19 2017-01-13\n",
       "\n",
       "[30600 rows x 6 columns]"
      ]
     },
     "execution_count": 251,
     "metadata": {},
     "output_type": "execute_result"
    }
   ],
   "source": [
    "# check that shift() worked properly\n",
    "recidivism_df[(recidivism_df['RECIDIVISM_3Y']==1) & (recidivism_df['NEXT_OGS'].isna())][['ID_VARIABLE', 'PRS', 'OGS', 'NEXT_OGS', 'NEW_DOS', 'NEW_DOF']]"
   ]
  },
  {
   "cell_type": "code",
   "execution_count": 253,
   "metadata": {},
   "outputs": [
    {
     "data": {
      "text/html": [
       "<div>\n",
       "<style scoped>\n",
       "    .dataframe tbody tr th:only-of-type {\n",
       "        vertical-align: middle;\n",
       "    }\n",
       "\n",
       "    .dataframe tbody tr th {\n",
       "        vertical-align: top;\n",
       "    }\n",
       "\n",
       "    .dataframe thead th {\n",
       "        text-align: right;\n",
       "    }\n",
       "</style>\n",
       "<table border=\"1\" class=\"dataframe\">\n",
       "  <thead>\n",
       "    <tr style=\"text-align: right;\">\n",
       "      <th></th>\n",
       "      <th>ID_VARIABLE</th>\n",
       "      <th>NEW_DOS</th>\n",
       "      <th>NEW_DOF</th>\n",
       "      <th>PRS</th>\n",
       "      <th>NEW_INC_SANCTION_EXISTS</th>\n",
       "      <th>ADJ_JPMIN</th>\n",
       "      <th>AT_RISK_DT</th>\n",
       "      <th>COUNTY</th>\n",
       "      <th>NEXT_DOF</th>\n",
       "      <th>TIME_TO_RECIDIVATE</th>\n",
       "      <th>...</th>\n",
       "      <th>RECIDIVISM_5Y</th>\n",
       "      <th>OGS</th>\n",
       "      <th>DOB</th>\n",
       "      <th>OFF_RACE</th>\n",
       "      <th>OFF_SEX</th>\n",
       "      <th>YOS</th>\n",
       "      <th>SENTENCING_COHORT</th>\n",
       "      <th>DOF</th>\n",
       "      <th>NEXT_OFN_DUI</th>\n",
       "      <th>NEXT_OGS</th>\n",
       "    </tr>\n",
       "  </thead>\n",
       "  <tbody>\n",
       "    <tr>\n",
       "      <th>33</th>\n",
       "      <td>1000021</td>\n",
       "      <td>2002-09-20</td>\n",
       "      <td>2001-09-26</td>\n",
       "      <td>0</td>\n",
       "      <td>Y</td>\n",
       "      <td>547.0</td>\n",
       "      <td>2004-03-20</td>\n",
       "      <td>Lancaster</td>\n",
       "      <td>2007-09-03</td>\n",
       "      <td>1262.0</td>\n",
       "      <td>...</td>\n",
       "      <td>1</td>\n",
       "      <td>9.0</td>\n",
       "      <td>1981-12-05</td>\n",
       "      <td>White</td>\n",
       "      <td>M</td>\n",
       "      <td>2002</td>\n",
       "      <td>2001-2005</td>\n",
       "      <td>2007-09-03</td>\n",
       "      <td>0.0</td>\n",
       "      <td>5.0</td>\n",
       "    </tr>\n",
       "    <tr>\n",
       "      <th>34</th>\n",
       "      <td>1000021</td>\n",
       "      <td>2010-05-12</td>\n",
       "      <td>2007-09-03</td>\n",
       "      <td>0</td>\n",
       "      <td>Y</td>\n",
       "      <td>276.0</td>\n",
       "      <td>2011-02-12</td>\n",
       "      <td>Lancaster</td>\n",
       "      <td>2016-01-25</td>\n",
       "      <td>1808.0</td>\n",
       "      <td>...</td>\n",
       "      <td>1</td>\n",
       "      <td>5.0</td>\n",
       "      <td>1981-12-05</td>\n",
       "      <td>White</td>\n",
       "      <td>M</td>\n",
       "      <td>2010</td>\n",
       "      <td>2006-2012</td>\n",
       "      <td>2016-01-25</td>\n",
       "      <td>0.0</td>\n",
       "      <td>1.0</td>\n",
       "    </tr>\n",
       "    <tr>\n",
       "      <th>35</th>\n",
       "      <td>1000021</td>\n",
       "      <td>2016-05-17</td>\n",
       "      <td>2016-01-25</td>\n",
       "      <td>5</td>\n",
       "      <td>N</td>\n",
       "      <td>0.0</td>\n",
       "      <td>2016-05-17</td>\n",
       "      <td>Lancaster</td>\n",
       "      <td>2017-01-13</td>\n",
       "      <td>241.0</td>\n",
       "      <td>...</td>\n",
       "      <td>1</td>\n",
       "      <td>1.0</td>\n",
       "      <td>1981-12-05</td>\n",
       "      <td>White</td>\n",
       "      <td>M</td>\n",
       "      <td>2016</td>\n",
       "      <td>NaN</td>\n",
       "      <td>2017-01-13</td>\n",
       "      <td>0.0</td>\n",
       "      <td>NaN</td>\n",
       "    </tr>\n",
       "  </tbody>\n",
       "</table>\n",
       "<p>3 rows × 21 columns</p>\n",
       "</div>"
      ],
      "text/plain": [
       "    ID_VARIABLE    NEW_DOS    NEW_DOF PRS NEW_INC_SANCTION_EXISTS  ADJ_JPMIN  \\\n",
       "33      1000021 2002-09-20 2001-09-26   0                       Y      547.0   \n",
       "34      1000021 2010-05-12 2007-09-03   0                       Y      276.0   \n",
       "35      1000021 2016-05-17 2016-01-25   5                       N        0.0   \n",
       "\n",
       "    AT_RISK_DT     COUNTY   NEXT_DOF  TIME_TO_RECIDIVATE  ...  RECIDIVISM_5Y  \\\n",
       "33  2004-03-20  Lancaster 2007-09-03              1262.0  ...              1   \n",
       "34  2011-02-12  Lancaster 2016-01-25              1808.0  ...              1   \n",
       "35  2016-05-17  Lancaster 2017-01-13               241.0  ...              1   \n",
       "\n",
       "    OGS         DOB OFF_RACE OFF_SEX   YOS  SENTENCING_COHORT        DOF  \\\n",
       "33  9.0  1981-12-05    White       M  2002          2001-2005 2007-09-03   \n",
       "34  5.0  1981-12-05    White       M  2010          2006-2012 2016-01-25   \n",
       "35  1.0  1981-12-05    White       M  2016                NaN 2017-01-13   \n",
       "\n",
       "   NEXT_OFN_DUI  NEXT_OGS  \n",
       "33          0.0       5.0  \n",
       "34          0.0       1.0  \n",
       "35          0.0       NaN  \n",
       "\n",
       "[3 rows x 21 columns]"
      ]
     },
     "execution_count": 253,
     "metadata": {},
     "output_type": "execute_result"
    }
   ],
   "source": [
    "recidivism_df[recidivism_df['ID_VARIABLE']==1000021][]"
   ]
  },
  {
   "cell_type": "code",
   "execution_count": 254,
   "metadata": {},
   "outputs": [
    {
     "data": {
      "text/html": [
       "<div>\n",
       "<style scoped>\n",
       "    .dataframe tbody tr th:only-of-type {\n",
       "        vertical-align: middle;\n",
       "    }\n",
       "\n",
       "    .dataframe tbody tr th {\n",
       "        vertical-align: top;\n",
       "    }\n",
       "\n",
       "    .dataframe thead th {\n",
       "        text-align: right;\n",
       "    }\n",
       "</style>\n",
       "<table border=\"1\" class=\"dataframe\">\n",
       "  <thead>\n",
       "    <tr style=\"text-align: right;\">\n",
       "      <th></th>\n",
       "      <th>JPR_ID</th>\n",
       "      <th>ID_VARIABLE</th>\n",
       "      <th>DOS</th>\n",
       "      <th>DOF</th>\n",
       "      <th>OFN_LABEL</th>\n",
       "      <th>LABEL</th>\n",
       "      <th>_DOS</th>\n",
       "      <th>_DOF</th>\n",
       "      <th>DUI</th>\n",
       "    </tr>\n",
       "  </thead>\n",
       "  <tbody>\n",
       "    <tr>\n",
       "      <th>171008</th>\n",
       "      <td>2585275</td>\n",
       "      <td>1000021</td>\n",
       "      <td>2002-09-20</td>\n",
       "      <td>2001-09-26</td>\n",
       "      <td>Robbery - Commit/Threaten any F1 or F2</td>\n",
       "      <td>Robbery-F1 (SBI)</td>\n",
       "      <td>2002-09-20</td>\n",
       "      <td>2001-09-26</td>\n",
       "      <td>0</td>\n",
       "    </tr>\n",
       "    <tr>\n",
       "      <th>171009</th>\n",
       "      <td>2585275</td>\n",
       "      <td>1000021</td>\n",
       "      <td>2002-09-20</td>\n",
       "      <td>2001-09-26</td>\n",
       "      <td>Robbery - Commit/Threaten any F1 or F2</td>\n",
       "      <td>Robbery-F1 (SBI)</td>\n",
       "      <td>2002-09-20</td>\n",
       "      <td>2001-09-26</td>\n",
       "      <td>0</td>\n",
       "    </tr>\n",
       "    <tr>\n",
       "      <th>1259853</th>\n",
       "      <td>4930899</td>\n",
       "      <td>1000021</td>\n",
       "      <td>2010-05-12</td>\n",
       "      <td>2007-09-03</td>\n",
       "      <td>Theft - Receiving Stolen Property; &gt; $2,000 - ...</td>\n",
       "      <td>Theft-Felony</td>\n",
       "      <td>2010-05-12</td>\n",
       "      <td>2007-09-03</td>\n",
       "      <td>0</td>\n",
       "    </tr>\n",
       "    <tr>\n",
       "      <th>2114450</th>\n",
       "      <td>5662291</td>\n",
       "      <td>1000021</td>\n",
       "      <td>2016-05-17</td>\n",
       "      <td>2016-01-25</td>\n",
       "      <td>Harassment-subject other to physical contact (...</td>\n",
       "      <td>Other Misdemeanor</td>\n",
       "      <td>2016-05-17</td>\n",
       "      <td>2016-01-25</td>\n",
       "      <td>0</td>\n",
       "    </tr>\n",
       "    <tr>\n",
       "      <th>2114451</th>\n",
       "      <td>5662291</td>\n",
       "      <td>1000021</td>\n",
       "      <td>2016-05-17</td>\n",
       "      <td>2016-01-25</td>\n",
       "      <td>Harassment-repeated communication:  other</td>\n",
       "      <td>Stalking/Harrassment</td>\n",
       "      <td>2016-05-17</td>\n",
       "      <td>2016-01-25</td>\n",
       "      <td>0</td>\n",
       "    </tr>\n",
       "    <tr>\n",
       "      <th>2254417</th>\n",
       "      <td>5787682</td>\n",
       "      <td>1000021</td>\n",
       "      <td>2017-04-13</td>\n",
       "      <td>2017-01-13</td>\n",
       "      <td>Simple assault-attempt/cause BI</td>\n",
       "      <td>Assault-Simple</td>\n",
       "      <td>2017-04-13</td>\n",
       "      <td>2017-01-13</td>\n",
       "      <td>0</td>\n",
       "    </tr>\n",
       "  </tbody>\n",
       "</table>\n",
       "</div>"
      ],
      "text/plain": [
       "          JPR_ID  ID_VARIABLE        DOS        DOF  \\\n",
       "171008   2585275      1000021 2002-09-20 2001-09-26   \n",
       "171009   2585275      1000021 2002-09-20 2001-09-26   \n",
       "1259853  4930899      1000021 2010-05-12 2007-09-03   \n",
       "2114450  5662291      1000021 2016-05-17 2016-01-25   \n",
       "2114451  5662291      1000021 2016-05-17 2016-01-25   \n",
       "2254417  5787682      1000021 2017-04-13 2017-01-13   \n",
       "\n",
       "                                                 OFN_LABEL  \\\n",
       "171008              Robbery - Commit/Threaten any F1 or F2   \n",
       "171009              Robbery - Commit/Threaten any F1 or F2   \n",
       "1259853  Theft - Receiving Stolen Property; > $2,000 - ...   \n",
       "2114450  Harassment-subject other to physical contact (...   \n",
       "2114451          Harassment-repeated communication:  other   \n",
       "2254417                    Simple assault-attempt/cause BI   \n",
       "\n",
       "                        LABEL       _DOS       _DOF  DUI  \n",
       "171008       Robbery-F1 (SBI) 2002-09-20 2001-09-26    0  \n",
       "171009       Robbery-F1 (SBI) 2002-09-20 2001-09-26    0  \n",
       "1259853          Theft-Felony 2010-05-12 2007-09-03    0  \n",
       "2114450     Other Misdemeanor 2016-05-17 2016-01-25    0  \n",
       "2114451  Stalking/Harrassment 2016-05-17 2016-01-25    0  \n",
       "2254417        Assault-Simple 2017-04-13 2017-01-13    0  "
      ]
     },
     "execution_count": 254,
     "metadata": {},
     "output_type": "execute_result"
    }
   ],
   "source": [
    "offense_df[offense_df['ID_VARIABLE']==1000021]"
   ]
  },
  {
   "cell_type": "code",
   "execution_count": null,
   "metadata": {},
   "outputs": [],
   "source": []
  }
 ],
 "metadata": {
  "interpreter": {
   "hash": "afec748c810c07fdf21e149c8de6953906908fb5121a9cf6f8c7e3c440df79ae"
  },
  "kernelspec": {
   "display_name": "Python 3.9.7 ('pa_sentencing')",
   "language": "python",
   "name": "python3"
  },
  "language_info": {
   "codemirror_mode": {
    "name": "ipython",
    "version": 3
   },
   "file_extension": ".py",
   "mimetype": "text/x-python",
   "name": "python",
   "nbconvert_exporter": "python",
   "pygments_lexer": "ipython3",
   "version": "3.9.7"
  },
  "orig_nbformat": 4
 },
 "nbformat": 4,
 "nbformat_minor": 2
}
