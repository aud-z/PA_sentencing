{
 "cells": [
  {
   "cell_type": "code",
   "execution_count": 23,
   "metadata": {},
   "outputs": [],
   "source": [
    "import pandas as pd\n",
    "import matplotlib.pyplot as plt\n",
    "import seaborn as sns\n",
    "import numpy as np"
   ]
  },
  {
   "cell_type": "code",
   "execution_count": 24,
   "metadata": {},
   "outputs": [],
   "source": [
    "filepath = '../../../Project/data/'"
   ]
  },
  {
   "cell_type": "code",
   "execution_count": 333,
   "metadata": {},
   "outputs": [],
   "source": [
    "recidivism_df = pd.read_csv(filepath + 'recidivism_dataset.csv')"
   ]
  },
  {
   "cell_type": "code",
   "execution_count": 334,
   "metadata": {},
   "outputs": [
    {
     "data": {
      "text/html": [
       "<div>\n",
       "<style scoped>\n",
       "    .dataframe tbody tr th:only-of-type {\n",
       "        vertical-align: middle;\n",
       "    }\n",
       "\n",
       "    .dataframe tbody tr th {\n",
       "        vertical-align: top;\n",
       "    }\n",
       "\n",
       "    .dataframe thead th {\n",
       "        text-align: right;\n",
       "    }\n",
       "</style>\n",
       "<table border=\"1\" class=\"dataframe\">\n",
       "  <thead>\n",
       "    <tr style=\"text-align: right;\">\n",
       "      <th></th>\n",
       "      <th>Unnamed: 0</th>\n",
       "      <th>ID_VARIABLE</th>\n",
       "      <th>NEW_DOS</th>\n",
       "      <th>NEW_DOF</th>\n",
       "      <th>PRS</th>\n",
       "      <th>NEW_INC_SANCTION_EXISTS</th>\n",
       "      <th>ADJ_JPMIN</th>\n",
       "      <th>AT_RISK_DT</th>\n",
       "      <th>COUNTY</th>\n",
       "      <th>NEXT_DOF</th>\n",
       "      <th>TIME_TO_RECIDIVATE</th>\n",
       "      <th>RECIDIVISM_3Y</th>\n",
       "      <th>RECIDIVISM_5Y</th>\n",
       "      <th>OGS</th>\n",
       "      <th>DOB</th>\n",
       "      <th>OFF_RACE</th>\n",
       "      <th>OFF_SEX</th>\n",
       "    </tr>\n",
       "  </thead>\n",
       "  <tbody>\n",
       "    <tr>\n",
       "      <th>0</th>\n",
       "      <td>0</td>\n",
       "      <td>1000001</td>\n",
       "      <td>2010-02-18</td>\n",
       "      <td>2009-06-25</td>\n",
       "      <td>0</td>\n",
       "      <td>Y</td>\n",
       "      <td>16.0</td>\n",
       "      <td>2010-03-06</td>\n",
       "      <td>Schuylkill</td>\n",
       "      <td>NaN</td>\n",
       "      <td>NaN</td>\n",
       "      <td>0</td>\n",
       "      <td>0</td>\n",
       "      <td>3.0</td>\n",
       "      <td>1990-05-28</td>\n",
       "      <td>White</td>\n",
       "      <td>M</td>\n",
       "    </tr>\n",
       "    <tr>\n",
       "      <th>1</th>\n",
       "      <td>1</td>\n",
       "      <td>1000002</td>\n",
       "      <td>2017-01-31</td>\n",
       "      <td>2015-09-01</td>\n",
       "      <td>4</td>\n",
       "      <td>Y</td>\n",
       "      <td>120.0</td>\n",
       "      <td>2017-05-31</td>\n",
       "      <td>Somerset</td>\n",
       "      <td>NaN</td>\n",
       "      <td>NaN</td>\n",
       "      <td>0</td>\n",
       "      <td>0</td>\n",
       "      <td>3.0</td>\n",
       "      <td>1958-07-12</td>\n",
       "      <td>White</td>\n",
       "      <td>F</td>\n",
       "    </tr>\n",
       "    <tr>\n",
       "      <th>2</th>\n",
       "      <td>2</td>\n",
       "      <td>1000003</td>\n",
       "      <td>2002-05-08</td>\n",
       "      <td>2001-09-07</td>\n",
       "      <td>0</td>\n",
       "      <td>N</td>\n",
       "      <td>0.0</td>\n",
       "      <td>2002-05-08</td>\n",
       "      <td>Northampton</td>\n",
       "      <td>2009-03-04</td>\n",
       "      <td>2492.0</td>\n",
       "      <td>0</td>\n",
       "      <td>0</td>\n",
       "      <td>3.0</td>\n",
       "      <td>1961-08-14</td>\n",
       "      <td>White</td>\n",
       "      <td>F</td>\n",
       "    </tr>\n",
       "    <tr>\n",
       "      <th>3</th>\n",
       "      <td>3</td>\n",
       "      <td>1000003</td>\n",
       "      <td>2009-03-04</td>\n",
       "      <td>2009-03-04</td>\n",
       "      <td>3</td>\n",
       "      <td>Y</td>\n",
       "      <td>92.0</td>\n",
       "      <td>2009-06-04</td>\n",
       "      <td>Northampton</td>\n",
       "      <td>NaN</td>\n",
       "      <td>NaN</td>\n",
       "      <td>0</td>\n",
       "      <td>0</td>\n",
       "      <td>3.0</td>\n",
       "      <td>1961-08-14</td>\n",
       "      <td>White</td>\n",
       "      <td>F</td>\n",
       "    </tr>\n",
       "    <tr>\n",
       "      <th>4</th>\n",
       "      <td>4</td>\n",
       "      <td>1000004</td>\n",
       "      <td>2013-12-10</td>\n",
       "      <td>2013-09-19</td>\n",
       "      <td>0</td>\n",
       "      <td>N</td>\n",
       "      <td>0.0</td>\n",
       "      <td>2013-12-10</td>\n",
       "      <td>Franklin</td>\n",
       "      <td>2018-07-09</td>\n",
       "      <td>1672.0</td>\n",
       "      <td>0</td>\n",
       "      <td>1</td>\n",
       "      <td>1.0</td>\n",
       "      <td>1993-09-21</td>\n",
       "      <td>Unknown</td>\n",
       "      <td>M</td>\n",
       "    </tr>\n",
       "  </tbody>\n",
       "</table>\n",
       "</div>"
      ],
      "text/plain": [
       "   Unnamed: 0  ID_VARIABLE     NEW_DOS     NEW_DOF PRS  \\\n",
       "0           0      1000001  2010-02-18  2009-06-25   0   \n",
       "1           1      1000002  2017-01-31  2015-09-01   4   \n",
       "2           2      1000003  2002-05-08  2001-09-07   0   \n",
       "3           3      1000003  2009-03-04  2009-03-04   3   \n",
       "4           4      1000004  2013-12-10  2013-09-19   0   \n",
       "\n",
       "  NEW_INC_SANCTION_EXISTS  ADJ_JPMIN  AT_RISK_DT       COUNTY    NEXT_DOF  \\\n",
       "0                       Y       16.0  2010-03-06   Schuylkill         NaN   \n",
       "1                       Y      120.0  2017-05-31     Somerset         NaN   \n",
       "2                       N        0.0  2002-05-08  Northampton  2009-03-04   \n",
       "3                       Y       92.0  2009-06-04  Northampton         NaN   \n",
       "4                       N        0.0  2013-12-10     Franklin  2018-07-09   \n",
       "\n",
       "   TIME_TO_RECIDIVATE  RECIDIVISM_3Y  RECIDIVISM_5Y  OGS         DOB OFF_RACE  \\\n",
       "0                 NaN              0              0  3.0  1990-05-28    White   \n",
       "1                 NaN              0              0  3.0  1958-07-12    White   \n",
       "2              2492.0              0              0  3.0  1961-08-14    White   \n",
       "3                 NaN              0              0  3.0  1961-08-14    White   \n",
       "4              1672.0              0              1  1.0  1993-09-21  Unknown   \n",
       "\n",
       "  OFF_SEX  \n",
       "0       M  \n",
       "1       F  \n",
       "2       F  \n",
       "3       F  \n",
       "4       M  "
      ]
     },
     "execution_count": 334,
     "metadata": {},
     "output_type": "execute_result"
    }
   ],
   "source": [
    "recidivism_df.head()"
   ]
  },
  {
   "cell_type": "code",
   "execution_count": 335,
   "metadata": {},
   "outputs": [],
   "source": [
    "recidivism_df['NEW_DOF'] = pd.to_datetime(recidivism_df['NEW_DOF'])\n",
    "recidivism_df['NEW_DOS'] = pd.to_datetime(recidivism_df['NEW_DOS'])"
   ]
  },
  {
   "cell_type": "code",
   "execution_count": 336,
   "metadata": {},
   "outputs": [],
   "source": [
    "recidivism_df['NEXT_DOF'] = pd.to_datetime(recidivism_df['NEXT_DOF'])"
   ]
  },
  {
   "cell_type": "markdown",
   "metadata": {},
   "source": [
    "### Time to Conviction Analysis"
   ]
  },
  {
   "cell_type": "code",
   "execution_count": 337,
   "metadata": {},
   "outputs": [],
   "source": [
    "time_to_conviction = recidivism_df['NEW_DOS'] - recidivism_df['NEW_DOF']"
   ]
  },
  {
   "cell_type": "code",
   "execution_count": 338,
   "metadata": {},
   "outputs": [
    {
     "data": {
      "text/plain": [
       "count                        1119074\n",
       "mean     363 days 01:02:00.281589960\n",
       "std      378 days 20:29:54.351646904\n",
       "min                  0 days 00:00:00\n",
       "25%                165 days 00:00:00\n",
       "50%                257 days 00:00:00\n",
       "75%                421 days 00:00:00\n",
       "max               7993 days 00:00:00\n",
       "dtype: object"
      ]
     },
     "execution_count": 338,
     "metadata": {},
     "output_type": "execute_result"
    }
   ],
   "source": [
    "time_to_conviction.describe()"
   ]
  },
  {
   "cell_type": "code",
   "execution_count": 619,
   "metadata": {},
   "outputs": [],
   "source": [
    "sns.set_style(style='white') \n",
    "#palette = ['#9398f2', '#F29398',  '#ffcf6f']\n",
    "palette = ['#7B86BD', '#FFE347', '#F07B46', '#67E6AC', '#15B5FF' ]\n",
    "race_palette = ['#7B86BD', '#FFE347', '#D3D3D3']\n",
    "sns.set_palette(palette)"
   ]
  },
  {
   "cell_type": "code",
   "execution_count": 340,
   "metadata": {},
   "outputs": [
    {
     "data": {
      "image/png": "[encoded data removed]",
      "text/plain": [
       "<Figure size 1008x504 with 1 Axes>"
      ]
     },
     "metadata": {},
     "output_type": "display_data"
    }
   ],
   "source": [
    "fig, ax = plt.subplots(figsize=(14, 7))\n",
    "\n",
    "p = sns.histplot(time_to_conviction.dt.days/365,  ax=ax)\n",
    "sns.despine(top=True, right=True, left=True, bottom=True)\n",
    "#p.set_title('# of Years Between DOF and DOS', fontsize=16)\n",
    "p.set_ylabel('Count', fontsize=13)\n",
    "p.set_xlabel('Years', fontsize=13)\n",
    "plt.show()"
   ]
  },
  {
   "cell_type": "markdown",
   "metadata": {},
   "source": [
    "### Cohort Analysis"
   ]
  },
  {
   "cell_type": "code",
   "execution_count": 341,
   "metadata": {},
   "outputs": [
    {
     "data": {
      "text/plain": [
       "0.9803811008029854"
      ]
     },
     "execution_count": 341,
     "metadata": {},
     "output_type": "execute_result"
    }
   ],
   "source": [
    "(time_to_conviction.dt.days<=4*365).sum()/len(time_to_conviction)"
   ]
  },
  {
   "cell_type": "code",
   "execution_count": 342,
   "metadata": {},
   "outputs": [],
   "source": [
    "recidivism_df['YOS'] = recidivism_df['NEW_DOS'].dt.year"
   ]
  },
  {
   "cell_type": "code",
   "execution_count": 343,
   "metadata": {},
   "outputs": [],
   "source": [
    "def create_sentencing_cohorts(x):\n",
    "    if x <= 2005:\n",
    "        cohort = '2001-2005'\n",
    "    elif x <= 2012:\n",
    "        cohort = '2006-2012'\n",
    "    elif x <= 2015: \n",
    "        cohort = '2013-2015'\n",
    "    else: \n",
    "        return np.nan\n",
    "    return cohort"
   ]
  },
  {
   "cell_type": "code",
   "execution_count": 344,
   "metadata": {},
   "outputs": [],
   "source": [
    "recidivism_df['SENTENCING_COHORT'] = recidivism_df['YOS'].apply(lambda x: create_sentencing_cohorts(x))"
   ]
  },
  {
   "cell_type": "code",
   "execution_count": 345,
   "metadata": {},
   "outputs": [],
   "source": [
    "recidivism_df['PRS'] = recidivism_df['PRS'].str.upper()"
   ]
  },
  {
   "cell_type": "code",
   "execution_count": 346,
   "metadata": {},
   "outputs": [],
   "source": [
    "# recidivism_counts = recidivism_df[['SENTENCING_COHORT', 'PRS', 'RECIDIVISM_3Y']].groupby(by=['PRS', 'SENTENCING_COHORT']).agg({'RECIDIVISM_3Y':'sum'})\n",
    "# total_counts = recidivism_df[['SENTENCING_COHORT', 'PRS', 'RECIDIVISM_3Y']].groupby(by=['PRS', 'SENTENCING_COHORT']).agg({'RECIDIVISM_3Y':'count'})\n",
    "# recidivism_pct = recidivism_counts.div(total_counts).reset_index()"
   ]
  },
  {
   "cell_type": "code",
   "execution_count": 700,
   "metadata": {},
   "outputs": [],
   "source": [
    "def get_grouping(df, category, labs = None, pct_of_category = False):\n",
    "\n",
    "    recidivism_counts = df[[category, 'PRS', 'RECIDIVISM_3Y']].groupby(by=['PRS', category]).agg({'RECIDIVISM_3Y':'sum'})\n",
    "    if pct_of_category: # flip to True if we want to output recidivism rate by category grouping\n",
    "        total_counts = df[[category, 'PRS', 'RECIDIVISM_3Y']].groupby(by=['PRS', category]).agg({'RECIDIVISM_3Y':'count'}) \n",
    "    else:\n",
    "        total_counts = df[['PRS', 'RECIDIVISM_3Y']].groupby(by=['PRS']).agg({'RECIDIVISM_3Y':'count'})\n",
    "    recidivism_pct = recidivism_counts.div(total_counts).apply(lambda x: x * 100).reset_index()  \n",
    "    #cat_pct = df.groupby(by=category)['RECIDIVISM_3Y'].sum()/len(recidivism_df[recidivism_df['RECIDIVISM_3Y']==1]) \n",
    "    cat_pct = df.groupby(by=category)['RECIDIVISM_3Y'].sum()/df.groupby(by=category)['RECIDIVISM_3Y'].count()\n",
    "    \n",
    "    # for i in range(len(labs)):\n",
    "    #     labs[i] = labs[i] + ' {:.1f}%'.format(cat_pct.iloc[i] * 100)\n",
    "    if labs is not None:\n",
    "        recidivism_pct[category].replace(to_replace = list(range(len(labs))), value = labs, inplace=True)\n",
    "    return recidivism_counts, total_counts, recidivism_pct, cat_pct, labs"
   ]
  },
  {
   "cell_type": "code",
   "execution_count": null,
   "metadata": {},
   "outputs": [],
   "source": []
  },
  {
   "cell_type": "code",
   "execution_count": 627,
   "metadata": {},
   "outputs": [],
   "source": [
    "recidivism_counts, total_counts, recidivism_pct, cat_pct, labs = get_grouping(recidivism_df, 'SENTENCING_COHORT', pct_of_category = True)"
   ]
  },
  {
   "cell_type": "code",
   "execution_count": 347,
   "metadata": {},
   "outputs": [
    {
     "data": {
      "text/plain": [
       "SENTENCING_COHORT\n",
       "2001-2005    0.230975\n",
       "2006-2012    0.401059\n",
       "2013-2015    0.218098\n",
       "Name: RECIDIVISM_3Y, dtype: float64"
      ]
     },
     "execution_count": 347,
     "metadata": {},
     "output_type": "execute_result"
    }
   ],
   "source": [
    "# recidivism_df.groupby(by='SENTENCING_COHORT')['RECIDIVISM_3Y'].count()/len(recidivism_df)"
   ]
  },
  {
   "cell_type": "code",
   "execution_count": 633,
   "metadata": {},
   "outputs": [],
   "source": [
    "cat_pct = pd.DataFrame(cat_pct)"
   ]
  },
  {
   "cell_type": "code",
   "execution_count": 635,
   "metadata": {},
   "outputs": [],
   "source": [
    "cat_pct.reset_index(inplace=True)"
   ]
  },
  {
   "cell_type": "code",
   "execution_count": 660,
   "metadata": {},
   "outputs": [],
   "source": [
    "cat_pct['RECIDIVISM_3Y'] = cat_pct['RECIDIVISM_3Y'] * 100"
   ]
  },
  {
   "cell_type": "code",
   "execution_count": 675,
   "metadata": {},
   "outputs": [],
   "source": [
    "recidivism_by_yos = recidivism_df.groupby(by='YOS')['RECIDIVISM_3Y'].sum().div(recidivism_df.groupby(by='YOS')['RECIDIVISM_3Y'].count()) * 100"
   ]
  },
  {
   "cell_type": "code",
   "execution_count": 676,
   "metadata": {},
   "outputs": [
    {
     "data": {
      "text/plain": [
       "YOS\n",
       "2001    15.295347\n",
       "2002    14.123800\n",
       "2003    13.165977\n",
       "2004    14.351282\n",
       "2005    15.084485\n",
       "2006    16.858843\n",
       "2007    17.868908\n",
       "2008    18.246992\n",
       "2009    18.769643\n",
       "2010    18.611442\n",
       "2011    19.314102\n",
       "2012    19.989094\n",
       "2013    19.612998\n",
       "2014    19.602652\n",
       "2015    18.684490\n",
       "Name: RECIDIVISM_3Y, dtype: float64"
      ]
     },
     "execution_count": 676,
     "metadata": {},
     "output_type": "execute_result"
    }
   ],
   "source": [
    "recidivism_by_yos.loc[:2015]"
   ]
  },
  {
   "cell_type": "code",
   "execution_count": 679,
   "metadata": {},
   "outputs": [
    {
     "data": {
      "image/png": "[encoded data removed]",
      "text/plain": [
       "<Figure size 432x288 with 1 Axes>"
      ]
     },
     "metadata": {},
     "output_type": "display_data"
    }
   ],
   "source": [
    "fig, ax = plt.subplots()\n",
    "p = sns.scatterplot(data = recidivism_by_yos.loc[:2015])\n",
    "sns.despine(top=True, right=True, left=True, bottom=True)\n",
    "p.set_xlabel('Year of Sentencing', fontsize=13)\n",
    "p.set_ylabel('Recidivism rate (%)', fontsize=13)\n",
    "ax.set_ylim(0, 21)\n",
    "plt.show()"
   ]
  },
  {
   "cell_type": "code",
   "execution_count": 662,
   "metadata": {},
   "outputs": [
    {
     "data": {
      "image/png": "[encoded data removed]",
      "text/plain": [
       "<Figure size 432x288 with 1 Axes>"
      ]
     },
     "metadata": {},
     "output_type": "display_data"
    }
   ],
   "source": [
    "fig, ax = plt.subplots()\n",
    "p = sns.barplot(data = cat_pct, x = 'SENTENCING_COHORT', y = 'RECIDIVISM_3Y')\n",
    "sns.despine(top=True, right=True, left=True, bottom=True)\n",
    "p.set_xlabel('Sentencing Cohort', fontsize=13)\n",
    "p.set_ylabel('Recidivism rate (%)', fontsize=13)\n",
    "p.set(yticklabels=[])\n",
    "n_cats = 1\n",
    "for i in range(n_cats):\n",
    "    ax.bar_label(ax.containers[i], label_type='edge', fmt='%1.1f')\n",
    "plt.show()"
   ]
  },
  {
   "cell_type": "code",
   "execution_count": 642,
   "metadata": {},
   "outputs": [],
   "source": [
    "def plot_category(category, df, legend_loc = 'upper left', \n",
    "                x = 'PRS', y = 'RECIDIVISM_3Y', palette = palette, \n",
    "                legend_title = None, hue_order = None, figsize = (14, 8)):\n",
    "                \n",
    "    fig, ax = plt.subplots(figsize=figsize) \n",
    "    sns.set_palette(palette)\n",
    "    p = sns.barplot(x=x, y=y, hue=category, data=df,  ax=ax, hue_order = hue_order)\n",
    "    sns.despine(top=True, right=True, left=True, bottom=True)\n",
    "    p.set_xlabel('PRS score category', fontsize=13)\n",
    "    p.set_ylabel('Recidivism rate (%)', fontsize=13)\n",
    "    p.set(yticklabels=[])\n",
    "    ax.legend(loc= legend_loc, title = legend_title) \n",
    "    n_cats = len(df[category].unique())\n",
    "    for i in range(n_cats):\n",
    "        ax.bar_label(ax.containers[i], label_type='edge', fmt='%1.1f')\n",
    "\n",
    "    plt.show()"
   ]
  },
  {
   "cell_type": "code",
   "execution_count": 628,
   "metadata": {},
   "outputs": [
    {
     "data": {
      "image/png": "[encoded data removed]",
      "text/plain": [
       "<Figure size 1008x576 with 1 Axes>"
      ]
     },
     "metadata": {},
     "output_type": "display_data"
    }
   ],
   "source": [
    "plot_category('SENTENCING_COHORT', recidivism_pct)"
   ]
  },
  {
   "cell_type": "code",
   "execution_count": 349,
   "metadata": {},
   "outputs": [],
   "source": [
    "# recidivism_df.drop(columns='Unnamed: 0', inplace=True)"
   ]
  },
  {
   "cell_type": "code",
   "execution_count": 350,
   "metadata": {},
   "outputs": [],
   "source": [
    "# recidivism_df.to_csv(filepath + 'recidivism_dataset_v1.csv', index=False)"
   ]
  },
  {
   "cell_type": "markdown",
   "metadata": {},
   "source": [
    "### Offense category/severity analysis"
   ]
  },
  {
   "cell_type": "code",
   "execution_count": 257,
   "metadata": {},
   "outputs": [
    {
     "name": "stderr",
     "output_type": "stream",
     "text": [
      "C:\\Users\\audre\\AppData\\Local\\Temp\\ipykernel_36240\\2586665104.py:1: DtypeWarning: Columns (19,29,45,46,48,49,50,51,52,53,59,63,64,66) have mixed types. Specify dtype option on import or set low_memory=False.\n",
      "  offense_df = pd.read_csv(filepath + 'PSC_data_trimmed_v1.csv')\n"
     ]
    }
   ],
   "source": [
    "offense_df = pd.read_csv(filepath + 'PSC_data_trimmed_v1.csv')"
   ]
  },
  {
   "cell_type": "code",
   "execution_count": 258,
   "metadata": {},
   "outputs": [],
   "source": [
    "ofn_label_vars = ['JPR_ID', 'ID_VARIABLE', 'DOS', 'DOF', 'OFN_LABEL', 'LABEL', 'OGS']\n",
    "offense_df = offense_df[ofn_label_vars].copy()"
   ]
  },
  {
   "cell_type": "code",
   "execution_count": 259,
   "metadata": {},
   "outputs": [],
   "source": [
    "offense_df['DOS'] = pd.to_datetime(offense_df['DOS'])"
   ]
  },
  {
   "cell_type": "code",
   "execution_count": 260,
   "metadata": {},
   "outputs": [],
   "source": [
    "offense_df['_DOS'] = offense_df['DOS']\n",
    "offense_df['DOS'] = offense_df.groupby(by=['ID_VARIABLE', 'JPR_ID'])['DOS'].transform('min')"
   ]
  },
  {
   "cell_type": "code",
   "execution_count": 261,
   "metadata": {},
   "outputs": [],
   "source": [
    "offense_df['DOF'] = pd.to_datetime(offense_df['DOF'])"
   ]
  },
  {
   "cell_type": "code",
   "execution_count": 262,
   "metadata": {},
   "outputs": [],
   "source": [
    "offense_df['_DOF'] = offense_df['DOF']\n",
    "offense_df['DOF'] = offense_df.groupby(by=['ID_VARIABLE', 'JPR_ID'])['DOF'].transform('min')"
   ]
  },
  {
   "cell_type": "code",
   "execution_count": 263,
   "metadata": {},
   "outputs": [],
   "source": [
    "# There are 79 charges with missing LABEL information. replace with OFN_LABEL column\n",
    "offense_df['LABEL'].fillna(offense_df['OFN_LABEL'], inplace=True)"
   ]
  },
  {
   "cell_type": "markdown",
   "metadata": {},
   "source": [
    "##### Recidivism to DUI "
   ]
  },
  {
   "cell_type": "code",
   "execution_count": 717,
   "metadata": {},
   "outputs": [],
   "source": [
    "#recidivism_df.drop(columns=['DOF_x', 'DOF_y', 'NEXT_OFN_DUI'], inplace=True)"
   ]
  },
  {
   "cell_type": "code",
   "execution_count": 750,
   "metadata": {},
   "outputs": [],
   "source": [
    "dui_codes = list(offense_df[offense_df['LABEL'].str.contains('DUI')]['LABEL'].unique())"
   ]
  },
  {
   "cell_type": "code",
   "execution_count": 751,
   "metadata": {},
   "outputs": [],
   "source": [
    "dui_codes += list(offense_df[offense_df['LABEL'].str.contains('BUI')]['LABEL'].unique())"
   ]
  },
  {
   "cell_type": "code",
   "execution_count": 752,
   "metadata": {},
   "outputs": [
    {
     "data": {
      "text/plain": [
       "['DUI 97-M2',\n",
       " 'DUI 97-M1',\n",
       " 'Homicide-By Veh (No DUI)',\n",
       " 'Assault-Agg By Veh while DUI',\n",
       " 'Homicide-By Veh while DUI',\n",
       " 'Homicide-By Veh (DUI)',\n",
       " 'DUI-M2',\n",
       " 'DUI-M1',\n",
       " 'DUI-M',\n",
       " 'DUI-M1 Minor Occupant',\n",
       " 'DUI-F3',\n",
       " 'DUI-high rate of alcohol: BAC .10-<.16 (4th/subsq off)',\n",
       " 'DUI-general impairment: BAC .08-<.10 (4th/subsq off)',\n",
       " 'Homicide by vehicle while DUI - prior DUI conviction(s)',\n",
       " 'DUI-controlled substances: metabolite of Sched I/II/III (3rd/subsq off)',\n",
       " 'DUI-general impairment: BAC .08-<.10 (3rd off)',\n",
       " 'BUI:',\n",
       " 'BUI']"
      ]
     },
     "execution_count": 752,
     "metadata": {},
     "output_type": "execute_result"
    }
   ],
   "source": [
    "dui_codes"
   ]
  },
  {
   "cell_type": "code",
   "execution_count": 753,
   "metadata": {},
   "outputs": [],
   "source": [
    "dui_codes = [i for i in dui_codes if 'Homicide' not in i and 'No DUI' not in i and 'Assault' not in i]"
   ]
  },
  {
   "cell_type": "code",
   "execution_count": 754,
   "metadata": {},
   "outputs": [
    {
     "data": {
      "text/plain": [
       "['DUI 97-M2',\n",
       " 'DUI 97-M1',\n",
       " 'DUI-M2',\n",
       " 'DUI-M1',\n",
       " 'DUI-M',\n",
       " 'DUI-M1 Minor Occupant',\n",
       " 'DUI-F3',\n",
       " 'DUI-high rate of alcohol: BAC .10-<.16 (4th/subsq off)',\n",
       " 'DUI-general impairment: BAC .08-<.10 (4th/subsq off)',\n",
       " 'DUI-controlled substances: metabolite of Sched I/II/III (3rd/subsq off)',\n",
       " 'DUI-general impairment: BAC .08-<.10 (3rd off)',\n",
       " 'BUI:',\n",
       " 'BUI']"
      ]
     },
     "execution_count": 754,
     "metadata": {},
     "output_type": "execute_result"
    }
   ],
   "source": [
    "dui_codes"
   ]
  },
  {
   "cell_type": "code",
   "execution_count": 756,
   "metadata": {},
   "outputs": [],
   "source": [
    "offense_df['DUI'] = offense_df['LABEL'].apply(lambda x: 1 if x in dui_codes else 0)"
   ]
  },
  {
   "cell_type": "markdown",
   "metadata": {},
   "source": [
    "It is possible that a person commits multiple offenses on a DOF, including DUI and non-DUI related offenses. For now, we will count it as a non-DUI offense if 1+ charges committed on that day is not a DUI."
   ]
  },
  {
   "cell_type": "code",
   "execution_count": 762,
   "metadata": {},
   "outputs": [
    {
     "data": {
      "text/html": [
       "<div>\n",
       "<style scoped>\n",
       "    .dataframe tbody tr th:only-of-type {\n",
       "        vertical-align: middle;\n",
       "    }\n",
       "\n",
       "    .dataframe tbody tr th {\n",
       "        vertical-align: top;\n",
       "    }\n",
       "\n",
       "    .dataframe thead th {\n",
       "        text-align: right;\n",
       "    }\n",
       "</style>\n",
       "<table border=\"1\" class=\"dataframe\">\n",
       "  <thead>\n",
       "    <tr style=\"text-align: right;\">\n",
       "      <th></th>\n",
       "      <th></th>\n",
       "      <th>DUI</th>\n",
       "      <th>LABEL</th>\n",
       "    </tr>\n",
       "    <tr>\n",
       "      <th>ID_VARIABLE</th>\n",
       "      <th>DOS</th>\n",
       "      <th></th>\n",
       "      <th></th>\n",
       "    </tr>\n",
       "  </thead>\n",
       "  <tbody>\n",
       "    <tr>\n",
       "      <th>1178755</th>\n",
       "      <th>2010-05-19</th>\n",
       "      <td>1</td>\n",
       "      <td>37</td>\n",
       "    </tr>\n",
       "    <tr>\n",
       "      <th>1683482</th>\n",
       "      <th>2009-11-05</th>\n",
       "      <td>1</td>\n",
       "      <td>37</td>\n",
       "    </tr>\n",
       "    <tr>\n",
       "      <th>1818456</th>\n",
       "      <th>2006-01-30</th>\n",
       "      <td>1</td>\n",
       "      <td>35</td>\n",
       "    </tr>\n",
       "    <tr>\n",
       "      <th>1049483</th>\n",
       "      <th>2001-04-17</th>\n",
       "      <td>1</td>\n",
       "      <td>34</td>\n",
       "    </tr>\n",
       "    <tr>\n",
       "      <th>1120990</th>\n",
       "      <th>2012-10-22</th>\n",
       "      <td>1</td>\n",
       "      <td>34</td>\n",
       "    </tr>\n",
       "    <tr>\n",
       "      <th>...</th>\n",
       "      <th>...</th>\n",
       "      <td>...</td>\n",
       "      <td>...</td>\n",
       "    </tr>\n",
       "    <tr>\n",
       "      <th>1916190</th>\n",
       "      <th>2015-03-05</th>\n",
       "      <td>0</td>\n",
       "      <td>1</td>\n",
       "    </tr>\n",
       "    <tr>\n",
       "      <th>1916193</th>\n",
       "      <th>2002-01-07</th>\n",
       "      <td>0</td>\n",
       "      <td>1</td>\n",
       "    </tr>\n",
       "    <tr>\n",
       "      <th>1916194</th>\n",
       "      <th>2016-11-14</th>\n",
       "      <td>0</td>\n",
       "      <td>1</td>\n",
       "    </tr>\n",
       "    <tr>\n",
       "      <th>1916195</th>\n",
       "      <th>2009-06-04</th>\n",
       "      <td>0</td>\n",
       "      <td>1</td>\n",
       "    </tr>\n",
       "    <tr>\n",
       "      <th>1916196</th>\n",
       "      <th>2014-03-03</th>\n",
       "      <td>0</td>\n",
       "      <td>1</td>\n",
       "    </tr>\n",
       "  </tbody>\n",
       "</table>\n",
       "<p>1495971 rows × 2 columns</p>\n",
       "</div>"
      ],
      "text/plain": [
       "                        DUI  LABEL\n",
       "ID_VARIABLE DOS                   \n",
       "1178755     2010-05-19    1     37\n",
       "1683482     2009-11-05    1     37\n",
       "1818456     2006-01-30    1     35\n",
       "1049483     2001-04-17    1     34\n",
       "1120990     2012-10-22    1     34\n",
       "...                     ...    ...\n",
       "1916190     2015-03-05    0      1\n",
       "1916193     2002-01-07    0      1\n",
       "1916194     2016-11-14    0      1\n",
       "1916195     2009-06-04    0      1\n",
       "1916196     2014-03-03    0      1\n",
       "\n",
       "[1495971 rows x 2 columns]"
      ]
     },
     "execution_count": 762,
     "metadata": {},
     "output_type": "execute_result"
    }
   ],
   "source": [
    "offense_df.groupby(by=['ID_VARIABLE','DOS']).agg({'DUI': 'max', 'LABEL': 'count'}).sort_values(by=['DUI', 'LABEL'], ascending=False)"
   ]
  },
  {
   "cell_type": "code",
   "execution_count": 765,
   "metadata": {},
   "outputs": [],
   "source": [
    "dui_observations = offense_df[['ID_VARIABLE', 'DOF', 'DUI']].sort_values(by=['ID_VARIABLE', 'DOF', 'DUI'], ascending=[True, True, True]).groupby(by=['ID_VARIABLE', 'DOF']).first().reset_index()"
   ]
  },
  {
   "cell_type": "code",
   "execution_count": 766,
   "metadata": {},
   "outputs": [
    {
     "data": {
      "text/html": [
       "<div>\n",
       "<style scoped>\n",
       "    .dataframe tbody tr th:only-of-type {\n",
       "        vertical-align: middle;\n",
       "    }\n",
       "\n",
       "    .dataframe tbody tr th {\n",
       "        vertical-align: top;\n",
       "    }\n",
       "\n",
       "    .dataframe thead th {\n",
       "        text-align: right;\n",
       "    }\n",
       "</style>\n",
       "<table border=\"1\" class=\"dataframe\">\n",
       "  <thead>\n",
       "    <tr style=\"text-align: right;\">\n",
       "      <th></th>\n",
       "      <th>ID_VARIABLE</th>\n",
       "      <th>DOF</th>\n",
       "      <th>DUI</th>\n",
       "    </tr>\n",
       "  </thead>\n",
       "  <tbody>\n",
       "    <tr>\n",
       "      <th>0</th>\n",
       "      <td>1000001</td>\n",
       "      <td>2009-06-25</td>\n",
       "      <td>0</td>\n",
       "    </tr>\n",
       "    <tr>\n",
       "      <th>1</th>\n",
       "      <td>1000002</td>\n",
       "      <td>2015-09-01</td>\n",
       "      <td>1</td>\n",
       "    </tr>\n",
       "    <tr>\n",
       "      <th>2</th>\n",
       "      <td>1000003</td>\n",
       "      <td>2001-09-07</td>\n",
       "      <td>0</td>\n",
       "    </tr>\n",
       "    <tr>\n",
       "      <th>3</th>\n",
       "      <td>1000003</td>\n",
       "      <td>2009-03-04</td>\n",
       "      <td>0</td>\n",
       "    </tr>\n",
       "    <tr>\n",
       "      <th>4</th>\n",
       "      <td>1000004</td>\n",
       "      <td>2013-09-19</td>\n",
       "      <td>0</td>\n",
       "    </tr>\n",
       "  </tbody>\n",
       "</table>\n",
       "</div>"
      ],
      "text/plain": [
       "   ID_VARIABLE        DOF  DUI\n",
       "0      1000001 2009-06-25    0\n",
       "1      1000002 2015-09-01    1\n",
       "2      1000003 2001-09-07    0\n",
       "3      1000003 2009-03-04    0\n",
       "4      1000004 2013-09-19    0"
      ]
     },
     "execution_count": 766,
     "metadata": {},
     "output_type": "execute_result"
    }
   ],
   "source": [
    "dui_observations.head()"
   ]
  },
  {
   "cell_type": "code",
   "execution_count": 351,
   "metadata": {},
   "outputs": [],
   "source": [
    "recidivism_copy = recidivism_df.copy()"
   ]
  },
  {
   "cell_type": "markdown",
   "metadata": {},
   "source": [
    "### !!!!!! TEMP FIX FOR INDIVIDUAL 1468038"
   ]
  },
  {
   "cell_type": "code",
   "execution_count": 524,
   "metadata": {},
   "outputs": [],
   "source": [
    "recidivism_df = recidivism_copy.copy()"
   ]
  },
  {
   "cell_type": "code",
   "execution_count": 525,
   "metadata": {},
   "outputs": [],
   "source": [
    "recidivism_df.loc[(recidivism_df['ID_VARIABLE'] == 1468038) & (recidivism_df['NEW_DOS'] == pd.to_datetime('2015-03-24')), 'NEW_DOF'] = pd.to_datetime('2014-08-18')"
   ]
  },
  {
   "cell_type": "code",
   "execution_count": 526,
   "metadata": {},
   "outputs": [],
   "source": [
    "recidivism_df.loc[(recidivism_df['ID_VARIABLE'] == 1468038) & (recidivism_df['NEW_DOS'] == pd.to_datetime('2006-09-07')), 'NEXT_DOF'] = pd.to_datetime('2014-08-18')"
   ]
  },
  {
   "cell_type": "code",
   "execution_count": 527,
   "metadata": {},
   "outputs": [
    {
     "data": {
      "text/html": [
       "<div>\n",
       "<style scoped>\n",
       "    .dataframe tbody tr th:only-of-type {\n",
       "        vertical-align: middle;\n",
       "    }\n",
       "\n",
       "    .dataframe tbody tr th {\n",
       "        vertical-align: top;\n",
       "    }\n",
       "\n",
       "    .dataframe thead th {\n",
       "        text-align: right;\n",
       "    }\n",
       "</style>\n",
       "<table border=\"1\" class=\"dataframe\">\n",
       "  <thead>\n",
       "    <tr style=\"text-align: right;\">\n",
       "      <th></th>\n",
       "      <th>ID_VARIABLE</th>\n",
       "      <th>NEW_DOS</th>\n",
       "      <th>NEW_DOF</th>\n",
       "      <th>PRS</th>\n",
       "      <th>NEW_INC_SANCTION_EXISTS</th>\n",
       "      <th>ADJ_JPMIN</th>\n",
       "      <th>AT_RISK_DT</th>\n",
       "      <th>COUNTY</th>\n",
       "      <th>NEXT_DOF</th>\n",
       "      <th>TIME_TO_RECIDIVATE</th>\n",
       "      <th>RECIDIVISM_3Y</th>\n",
       "      <th>RECIDIVISM_5Y</th>\n",
       "      <th>OGS</th>\n",
       "      <th>DOB</th>\n",
       "      <th>OFF_RACE</th>\n",
       "      <th>OFF_SEX</th>\n",
       "      <th>YOS</th>\n",
       "      <th>SENTENCING_COHORT</th>\n",
       "    </tr>\n",
       "  </thead>\n",
       "  <tbody>\n",
       "    <tr>\n",
       "      <th>571732</th>\n",
       "      <td>1468038</td>\n",
       "      <td>2006-09-07</td>\n",
       "      <td>2005-12-31</td>\n",
       "      <td>0</td>\n",
       "      <td>Y</td>\n",
       "      <td>32.0</td>\n",
       "      <td>2006-10-09</td>\n",
       "      <td>Centre</td>\n",
       "      <td>2014-08-18</td>\n",
       "      <td>2857.0</td>\n",
       "      <td>0</td>\n",
       "      <td>0</td>\n",
       "      <td>1.0</td>\n",
       "      <td>1982-05-02</td>\n",
       "      <td>White</td>\n",
       "      <td>M</td>\n",
       "      <td>2006</td>\n",
       "      <td>2006-2012</td>\n",
       "    </tr>\n",
       "    <tr>\n",
       "      <th>571733</th>\n",
       "      <td>1468038</td>\n",
       "      <td>2015-03-24</td>\n",
       "      <td>2014-08-18</td>\n",
       "      <td>2</td>\n",
       "      <td>N</td>\n",
       "      <td>0.0</td>\n",
       "      <td>2015-03-24</td>\n",
       "      <td>Centre</td>\n",
       "      <td>2016-01-28</td>\n",
       "      <td>310.0</td>\n",
       "      <td>1</td>\n",
       "      <td>1</td>\n",
       "      <td>3.0</td>\n",
       "      <td>1982-05-02</td>\n",
       "      <td>White</td>\n",
       "      <td>M</td>\n",
       "      <td>2015</td>\n",
       "      <td>2013-2015</td>\n",
       "    </tr>\n",
       "    <tr>\n",
       "      <th>571734</th>\n",
       "      <td>1468038</td>\n",
       "      <td>2016-05-23</td>\n",
       "      <td>2016-01-28</td>\n",
       "      <td>1</td>\n",
       "      <td>N</td>\n",
       "      <td>0.0</td>\n",
       "      <td>2016-05-23</td>\n",
       "      <td>Centre</td>\n",
       "      <td>NaT</td>\n",
       "      <td>NaN</td>\n",
       "      <td>0</td>\n",
       "      <td>0</td>\n",
       "      <td>1.0</td>\n",
       "      <td>1982-05-02</td>\n",
       "      <td>White</td>\n",
       "      <td>M</td>\n",
       "      <td>2016</td>\n",
       "      <td>NaN</td>\n",
       "    </tr>\n",
       "  </tbody>\n",
       "</table>\n",
       "</div>"
      ],
      "text/plain": [
       "        ID_VARIABLE    NEW_DOS    NEW_DOF PRS NEW_INC_SANCTION_EXISTS  \\\n",
       "571732      1468038 2006-09-07 2005-12-31   0                       Y   \n",
       "571733      1468038 2015-03-24 2014-08-18   2                       N   \n",
       "571734      1468038 2016-05-23 2016-01-28   1                       N   \n",
       "\n",
       "        ADJ_JPMIN  AT_RISK_DT  COUNTY   NEXT_DOF  TIME_TO_RECIDIVATE  \\\n",
       "571732       32.0  2006-10-09  Centre 2014-08-18              2857.0   \n",
       "571733        0.0  2015-03-24  Centre 2016-01-28               310.0   \n",
       "571734        0.0  2016-05-23  Centre        NaT                 NaN   \n",
       "\n",
       "        RECIDIVISM_3Y  RECIDIVISM_5Y  OGS         DOB OFF_RACE OFF_SEX   YOS  \\\n",
       "571732              0              0  1.0  1982-05-02    White       M  2006   \n",
       "571733              1              1  3.0  1982-05-02    White       M  2015   \n",
       "571734              0              0  1.0  1982-05-02    White       M  2016   \n",
       "\n",
       "       SENTENCING_COHORT  \n",
       "571732         2006-2012  \n",
       "571733         2013-2015  \n",
       "571734               NaN  "
      ]
     },
     "execution_count": 527,
     "metadata": {},
     "output_type": "execute_result"
    }
   ],
   "source": [
    "recidivism_df[recidivism_df['ID_VARIABLE'] == 1468038]"
   ]
  },
  {
   "cell_type": "markdown",
   "metadata": {},
   "source": [
    "### !!! END TEMP SECTION"
   ]
  },
  {
   "cell_type": "code",
   "execution_count": 767,
   "metadata": {},
   "outputs": [],
   "source": [
    "recidivism_df = pd.merge(recidivism_df, dui_observations, left_on=['ID_VARIABLE', 'NEXT_DOF'], right_on=['ID_VARIABLE', 'DOF'], how='left')"
   ]
  },
  {
   "cell_type": "code",
   "execution_count": 768,
   "metadata": {},
   "outputs": [],
   "source": [
    "recidivism_df.rename(columns={'DUI': 'NEXT_OFN_DUI'}, inplace=True)"
   ]
  },
  {
   "cell_type": "code",
   "execution_count": 779,
   "metadata": {},
   "outputs": [
    {
     "data": {
      "text/html": [
       "<div>\n",
       "<style scoped>\n",
       "    .dataframe tbody tr th:only-of-type {\n",
       "        vertical-align: middle;\n",
       "    }\n",
       "\n",
       "    .dataframe tbody tr th {\n",
       "        vertical-align: top;\n",
       "    }\n",
       "\n",
       "    .dataframe thead th {\n",
       "        text-align: right;\n",
       "    }\n",
       "</style>\n",
       "<table border=\"1\" class=\"dataframe\">\n",
       "  <thead>\n",
       "    <tr style=\"text-align: right;\">\n",
       "      <th></th>\n",
       "      <th>ID_VARIABLE</th>\n",
       "      <th>NEW_DOS</th>\n",
       "      <th>NEW_DOF</th>\n",
       "      <th>PRS</th>\n",
       "      <th>NEW_INC_SANCTION_EXISTS</th>\n",
       "      <th>ADJ_JPMIN</th>\n",
       "      <th>AT_RISK_DT</th>\n",
       "      <th>COUNTY</th>\n",
       "      <th>NEXT_DOF</th>\n",
       "      <th>TIME_TO_RECIDIVATE</th>\n",
       "      <th>...</th>\n",
       "      <th>OFF_RACE</th>\n",
       "      <th>OFF_SEX</th>\n",
       "      <th>YOS</th>\n",
       "      <th>SENTENCING_COHORT</th>\n",
       "      <th>NEXT_OGS</th>\n",
       "      <th>RECIDIVATE_TO_FEL</th>\n",
       "      <th>DOF_x</th>\n",
       "      <th>NEXT_OFN_NON_DRUG</th>\n",
       "      <th>DOF_y</th>\n",
       "      <th>NEXT_OFN_DUI</th>\n",
       "    </tr>\n",
       "  </thead>\n",
       "  <tbody>\n",
       "  </tbody>\n",
       "</table>\n",
       "<p>0 rows × 24 columns</p>\n",
       "</div>"
      ],
      "text/plain": [
       "Empty DataFrame\n",
       "Columns: [ID_VARIABLE, NEW_DOS, NEW_DOF, PRS, NEW_INC_SANCTION_EXISTS, ADJ_JPMIN, AT_RISK_DT, COUNTY, NEXT_DOF, TIME_TO_RECIDIVATE, RECIDIVISM_3Y, RECIDIVISM_5Y, OGS, DOB, OFF_RACE, OFF_SEX, YOS, SENTENCING_COHORT, NEXT_OGS, RECIDIVATE_TO_FEL, DOF_x, NEXT_OFN_NON_DRUG, DOF_y, NEXT_OFN_DUI]\n",
       "Index: []\n",
       "\n",
       "[0 rows x 24 columns]"
      ]
     },
     "execution_count": 779,
     "metadata": {},
     "output_type": "execute_result"
    }
   ],
   "source": [
    "recidivism_df[(recidivism_df['NEXT_DOF'].notna()) & (recidivism_df['NEXT_OFN_DUI']).isna()]"
   ]
  },
  {
   "cell_type": "code",
   "execution_count": 770,
   "metadata": {},
   "outputs": [],
   "source": [
    "labs = ['non-DUI', 'DUI']\n",
    "recidivism_counts, total_counts, recidivism_pct, cat_pct, labs = get_grouping(recidivism_df, 'NEXT_OFN_DUI', labs)"
   ]
  },
  {
   "cell_type": "code",
   "execution_count": 775,
   "metadata": {},
   "outputs": [
    {
     "data": {
      "text/html": [
       "<div>\n",
       "<style scoped>\n",
       "    .dataframe tbody tr th:only-of-type {\n",
       "        vertical-align: middle;\n",
       "    }\n",
       "\n",
       "    .dataframe tbody tr th {\n",
       "        vertical-align: top;\n",
       "    }\n",
       "\n",
       "    .dataframe thead th {\n",
       "        text-align: right;\n",
       "    }\n",
       "</style>\n",
       "<table border=\"1\" class=\"dataframe\">\n",
       "  <thead>\n",
       "    <tr style=\"text-align: right;\">\n",
       "      <th></th>\n",
       "      <th>RECIDIVISM_3Y</th>\n",
       "    </tr>\n",
       "    <tr>\n",
       "      <th>NEXT_OFN_DUI</th>\n",
       "      <th></th>\n",
       "    </tr>\n",
       "  </thead>\n",
       "  <tbody>\n",
       "    <tr>\n",
       "      <th>0.0</th>\n",
       "      <td>0.845069</td>\n",
       "    </tr>\n",
       "    <tr>\n",
       "      <th>1.0</th>\n",
       "      <td>0.154931</td>\n",
       "    </tr>\n",
       "  </tbody>\n",
       "</table>\n",
       "</div>"
      ],
      "text/plain": [
       "              RECIDIVISM_3Y\n",
       "NEXT_OFN_DUI               \n",
       "0.0                0.845069\n",
       "1.0                0.154931"
      ]
     },
     "execution_count": 775,
     "metadata": {},
     "output_type": "execute_result"
    }
   ],
   "source": [
    "recidivism_counts.groupby(by='NEXT_OFN_DUI').sum() / recidivism_counts.sum()"
   ]
  },
  {
   "cell_type": "code",
   "execution_count": 781,
   "metadata": {},
   "outputs": [
    {
     "data": {
      "image/png": "[encoded data removed]",
      "text/plain": [
       "<Figure size 1008x576 with 1 Axes>"
      ]
     },
     "metadata": {},
     "output_type": "display_data"
    }
   ],
   "source": [
    "plot_category('NEXT_OFN_DUI', recidivism_pct, legend_loc = 'upper left')"
   ]
  },
  {
   "cell_type": "markdown",
   "metadata": {},
   "source": [
    "### Recidivate to Felony Offense"
   ]
  },
  {
   "cell_type": "markdown",
   "metadata": {},
   "source": [
    "A felony is defined as having an OGS >= 5 "
   ]
  },
  {
   "cell_type": "code",
   "execution_count": 264,
   "metadata": {},
   "outputs": [],
   "source": [
    "ogs = offense_df.groupby(by=['ID_VARIABLE', 'DOS']).agg({'DOF': 'min', 'OGS': 'max'})"
   ]
  },
  {
   "cell_type": "code",
   "execution_count": 265,
   "metadata": {},
   "outputs": [],
   "source": [
    "# get OGS score of by ID_VARIABLE and DOF for each individual\n",
    "ogs = ogs.reset_index().groupby(by=['ID_VARIABLE', 'DOF'])['OGS'].max()"
   ]
  },
  {
   "cell_type": "code",
   "execution_count": 270,
   "metadata": {},
   "outputs": [],
   "source": [
    "ogs = ogs.reset_index().rename(columns={'DOF': 'NEXT_DOF', 'OGS': 'NEXT_OGS'})"
   ]
  },
  {
   "cell_type": "code",
   "execution_count": 534,
   "metadata": {},
   "outputs": [],
   "source": [
    "# combine with recidivism dataset\n",
    "recidivism_df = pd.merge(recidivism_df, ogs, left_on=['ID_VARIABLE', 'NEXT_DOF'], right_on=['ID_VARIABLE', 'DOF'], how='left')"
   ]
  },
  {
   "cell_type": "code",
   "execution_count": 535,
   "metadata": {},
   "outputs": [
    {
     "data": {
      "text/html": [
       "<div>\n",
       "<style scoped>\n",
       "    .dataframe tbody tr th:only-of-type {\n",
       "        vertical-align: middle;\n",
       "    }\n",
       "\n",
       "    .dataframe tbody tr th {\n",
       "        vertical-align: top;\n",
       "    }\n",
       "\n",
       "    .dataframe thead th {\n",
       "        text-align: right;\n",
       "    }\n",
       "</style>\n",
       "<table border=\"1\" class=\"dataframe\">\n",
       "  <thead>\n",
       "    <tr style=\"text-align: right;\">\n",
       "      <th></th>\n",
       "      <th>ID_VARIABLE</th>\n",
       "      <th>NEW_DOS</th>\n",
       "      <th>NEW_DOF</th>\n",
       "      <th>PRS</th>\n",
       "      <th>AT_RISK_DT</th>\n",
       "      <th>NEXT_DOF</th>\n",
       "      <th>RECIDIVISM_3Y</th>\n",
       "    </tr>\n",
       "  </thead>\n",
       "  <tbody>\n",
       "    <tr>\n",
       "      <th>31770</th>\n",
       "      <td>1026099</td>\n",
       "      <td>2001-08-16</td>\n",
       "      <td>2000-02-11</td>\n",
       "      <td>2</td>\n",
       "      <td>2002-04-17</td>\n",
       "      <td>2002-11-27</td>\n",
       "      <td>1</td>\n",
       "    </tr>\n",
       "    <tr>\n",
       "      <th>164123</th>\n",
       "      <td>1134308</td>\n",
       "      <td>2003-09-02</td>\n",
       "      <td>2002-05-11</td>\n",
       "      <td>0</td>\n",
       "      <td>2003-12-25</td>\n",
       "      <td>2006-03-08</td>\n",
       "      <td>1</td>\n",
       "    </tr>\n",
       "    <tr>\n",
       "      <th>164648</th>\n",
       "      <td>1134758</td>\n",
       "      <td>2003-05-06</td>\n",
       "      <td>2002-01-02</td>\n",
       "      <td>3</td>\n",
       "      <td>2003-05-06</td>\n",
       "      <td>2004-10-23</td>\n",
       "      <td>1</td>\n",
       "    </tr>\n",
       "    <tr>\n",
       "      <th>184521</th>\n",
       "      <td>1150977</td>\n",
       "      <td>2003-12-23</td>\n",
       "      <td>2002-09-13</td>\n",
       "      <td>5</td>\n",
       "      <td>2004-06-23</td>\n",
       "      <td>2006-05-25</td>\n",
       "      <td>1</td>\n",
       "    </tr>\n",
       "    <tr>\n",
       "      <th>237893</th>\n",
       "      <td>1194974</td>\n",
       "      <td>2003-03-25</td>\n",
       "      <td>2002-10-19</td>\n",
       "      <td>0</td>\n",
       "      <td>2003-07-16</td>\n",
       "      <td>2003-08-10</td>\n",
       "      <td>1</td>\n",
       "    </tr>\n",
       "    <tr>\n",
       "      <th>257370</th>\n",
       "      <td>1210893</td>\n",
       "      <td>2002-05-03</td>\n",
       "      <td>2001-10-28</td>\n",
       "      <td>RFEL</td>\n",
       "      <td>2003-05-03</td>\n",
       "      <td>2005-10-26</td>\n",
       "      <td>1</td>\n",
       "    </tr>\n",
       "    <tr>\n",
       "      <th>386732</th>\n",
       "      <td>1316897</td>\n",
       "      <td>2004-03-18</td>\n",
       "      <td>2003-10-26</td>\n",
       "      <td>RFEL</td>\n",
       "      <td>2005-03-18</td>\n",
       "      <td>2005-09-08</td>\n",
       "      <td>1</td>\n",
       "    </tr>\n",
       "    <tr>\n",
       "      <th>449125</th>\n",
       "      <td>1367930</td>\n",
       "      <td>2001-06-26</td>\n",
       "      <td>2001-03-10</td>\n",
       "      <td>3</td>\n",
       "      <td>2001-07-04</td>\n",
       "      <td>2003-04-14</td>\n",
       "      <td>1</td>\n",
       "    </tr>\n",
       "    <tr>\n",
       "      <th>495242</th>\n",
       "      <td>1405684</td>\n",
       "      <td>2002-11-19</td>\n",
       "      <td>2000-06-11</td>\n",
       "      <td>3</td>\n",
       "      <td>2002-11-19</td>\n",
       "      <td>2004-01-12</td>\n",
       "      <td>1</td>\n",
       "    </tr>\n",
       "    <tr>\n",
       "      <th>792510</th>\n",
       "      <td>1648586</td>\n",
       "      <td>2002-06-03</td>\n",
       "      <td>2001-03-26</td>\n",
       "      <td>4</td>\n",
       "      <td>2003-05-18</td>\n",
       "      <td>2005-05-24</td>\n",
       "      <td>1</td>\n",
       "    </tr>\n",
       "    <tr>\n",
       "      <th>1013524</th>\n",
       "      <td>1829760</td>\n",
       "      <td>2003-03-04</td>\n",
       "      <td>2002-01-28</td>\n",
       "      <td>0</td>\n",
       "      <td>2003-03-04</td>\n",
       "      <td>2003-08-25</td>\n",
       "      <td>1</td>\n",
       "    </tr>\n",
       "  </tbody>\n",
       "</table>\n",
       "</div>"
      ],
      "text/plain": [
       "         ID_VARIABLE    NEW_DOS    NEW_DOF   PRS  AT_RISK_DT   NEXT_DOF  \\\n",
       "31770        1026099 2001-08-16 2000-02-11     2  2002-04-17 2002-11-27   \n",
       "164123       1134308 2003-09-02 2002-05-11     0  2003-12-25 2006-03-08   \n",
       "164648       1134758 2003-05-06 2002-01-02     3  2003-05-06 2004-10-23   \n",
       "184521       1150977 2003-12-23 2002-09-13     5  2004-06-23 2006-05-25   \n",
       "237893       1194974 2003-03-25 2002-10-19     0  2003-07-16 2003-08-10   \n",
       "257370       1210893 2002-05-03 2001-10-28  RFEL  2003-05-03 2005-10-26   \n",
       "386732       1316897 2004-03-18 2003-10-26  RFEL  2005-03-18 2005-09-08   \n",
       "449125       1367930 2001-06-26 2001-03-10     3  2001-07-04 2003-04-14   \n",
       "495242       1405684 2002-11-19 2000-06-11     3  2002-11-19 2004-01-12   \n",
       "792510       1648586 2002-06-03 2001-03-26     4  2003-05-18 2005-05-24   \n",
       "1013524      1829760 2003-03-04 2002-01-28     0  2003-03-04 2003-08-25   \n",
       "\n",
       "         RECIDIVISM_3Y  \n",
       "31770                1  \n",
       "164123               1  \n",
       "164648               1  \n",
       "184521               1  \n",
       "237893               1  \n",
       "257370               1  \n",
       "386732               1  \n",
       "449125               1  \n",
       "495242               1  \n",
       "792510               1  \n",
       "1013524              1  "
      ]
     },
     "execution_count": 535,
     "metadata": {},
     "output_type": "execute_result"
    }
   ],
   "source": [
    "# check that files merged correctly\n",
    "recidivism_df[(recidivism_df['RECIDIVISM_3Y']==1) & (recidivism_df['NEXT_OGS'].isna())][['ID_VARIABLE', 'NEW_DOS', 'NEW_DOF', 'PRS', 'AT_RISK_DT', 'NEXT_DOF', 'RECIDIVISM_3Y']]"
   ]
  },
  {
   "cell_type": "markdown",
   "metadata": {},
   "source": [
    "NOTE: there are several missing OGS scores, which seem related to violent offenses. "
   ]
  },
  {
   "cell_type": "code",
   "execution_count": 539,
   "metadata": {},
   "outputs": [
    {
     "data": {
      "text/plain": [
       "array(['Homicide-Murder 2', 'Homicide-Murder 1',\n",
       "       'Assault-By Life Prisoner', 'Arson-Homicide', 'Homicide-Inchoate'],\n",
       "      dtype=object)"
      ]
     },
     "execution_count": 539,
     "metadata": {},
     "output_type": "execute_result"
    }
   ],
   "source": [
    "offense_df[offense_df['OGS'].isna()]['LABEL'].unique()"
   ]
  },
  {
   "cell_type": "code",
   "execution_count": 540,
   "metadata": {},
   "outputs": [],
   "source": [
    "recidivism_df['RECIDIVATE_TO_FEL'] = np.where(recidivism_df['NEXT_OGS'] > 4, 1, 0)"
   ]
  },
  {
   "cell_type": "code",
   "execution_count": 541,
   "metadata": {},
   "outputs": [],
   "source": [
    "# for NAs, also mark as recidivating to felony \n",
    "recidivism_df['RECIDIVATE_TO_FEL'].fillna(1, inplace=True)"
   ]
  },
  {
   "cell_type": "code",
   "execution_count": 701,
   "metadata": {},
   "outputs": [],
   "source": [
    "labs = ['Non-Felony', 'Felony']\n",
    "\n",
    "recidivism_counts, total_counts, recidivism_pct, cat_pct, labs = get_grouping(recidivism_df, 'RECIDIVATE_TO_FEL', labs)"
   ]
  },
  {
   "cell_type": "code",
   "execution_count": 697,
   "metadata": {},
   "outputs": [
    {
     "data": {
      "text/plain": [
       "RECIDIVATE_TO_FEL\n",
       "0    0.665893\n",
       "1    0.334107\n",
       "Name: RECIDIVISM_3Y, dtype: float64"
      ]
     },
     "execution_count": 697,
     "metadata": {},
     "output_type": "execute_result"
    }
   ],
   "source": [
    "recidivism_df[recidivism_df['RECIDIVISM_3Y']==1.0].groupby(by='RECIDIVATE_TO_FEL')['RECIDIVISM_3Y'].sum() / recidivism_df['RECIDIVISM_3Y'].sum()"
   ]
  },
  {
   "cell_type": "code",
   "execution_count": 702,
   "metadata": {},
   "outputs": [
    {
     "data": {
      "image/png": "[encoded data removed]",
      "text/plain": [
       "<Figure size 1008x576 with 1 Axes>"
      ]
     },
     "metadata": {},
     "output_type": "display_data"
    }
   ],
   "source": [
    "plot_category('RECIDIVATE_TO_FEL', recidivism_pct)"
   ]
  },
  {
   "cell_type": "markdown",
   "metadata": {},
   "source": [
    "Recidivating to a felony by race"
   ]
  },
  {
   "cell_type": "code",
   "execution_count": 556,
   "metadata": {},
   "outputs": [],
   "source": [
    "# category = ['RECIDIVATE_TO_FEL', 'OFF_RACE']\n",
    "# recidivism_counts = recidivism_df[category + ['PRS', 'RECIDIVISM_3Y']].groupby(by=['PRS', 'RECIDIVATE_TO_FEL', 'OFF_RACE']).agg({'RECIDIVISM_3Y':'sum'})\n",
    "# total_counts = recidivism_df[category + ['PRS', 'RECIDIVISM_3Y']].groupby(by=['PRS', 'OFF_RACE']).agg({'RECIDIVISM_3Y':'count'})\n",
    "# recidivism_pct = recidivism_counts.div(total_counts).apply(lambda x: x * 100).reset_index()\n"
   ]
  },
  {
   "cell_type": "code",
   "execution_count": 615,
   "metadata": {},
   "outputs": [],
   "source": [
    "# def get_grouping(df, category, labs = None):\n",
    "\n",
    "#     recidivism_counts = df[[category, 'PRS', 'RECIDIVISM_3Y']].groupby(by=['PRS', category]).agg({'RECIDIVISM_3Y':'sum'})\n",
    "#     #total_counts = df[[category, 'PRS', 'RECIDIVISM_3Y']].groupby(by=['PRS', category]).agg({'RECIDIVISM_3Y':'count'})\n",
    "#     total_counts = df[['PRS', 'RECIDIVISM_3Y']].groupby(by=['PRS']).agg({'RECIDIVISM_3Y':'count'})\n",
    "#     recidivism_pct = recidivism_counts.div(total_counts).apply(lambda x: x * 100).reset_index()  \n",
    "#     cat_pct = df.groupby(by=category)['RECIDIVISM_3Y'].sum()/len(recidivism_df[recidivism_df['RECIDIVISM_3Y']==1])\n",
    "#     # for i in range(len(labs)):\n",
    "#     #     labs[i] = labs[i] + ' {:.1f}%'.format(cat_pct.iloc[i] * 100)\n",
    "#     if labs is not None:\n",
    "#         recidivism_pct[category].replace(to_replace = list(range(len(labs))), value = labs, inplace=True)\n",
    "#     return recidivism_counts, total_counts, recidivism_pct, cat_pct, labs"
   ]
  },
  {
   "cell_type": "code",
   "execution_count": 815,
   "metadata": {},
   "outputs": [],
   "source": [
    "def get_sub_grouping(df, categories, group_var, labs = None):\n",
    "\n",
    "    recidivism_counts = df[categories + ['PRS', 'RECIDIVISM_3Y']].groupby(by=['PRS'] + categories).agg({'RECIDIVISM_3Y':'sum'})\n",
    "\n",
    "    total_counts = df[['PRS', 'RECIDIVISM_3Y', group_var]].groupby(by=['PRS', group_var]).agg({'RECIDIVISM_3Y':'count'})\n",
    "    recidivism_pct = recidivism_counts.div(total_counts).apply(lambda x: x * 100).reset_index()  \n",
    "    cat_pct = df.groupby(by=categories)['RECIDIVISM_3Y'].sum()/df.groupby(by=group_var)['RECIDIVISM_3Y'].sum()\n",
    "    \n",
    "    if labs is not None:\n",
    "        recidivism_pct[categories].replace(to_replace = list(range(len(labs))), value = labs, inplace=True)\n",
    "    \n",
    "    return recidivism_counts, total_counts, recidivism_pct, cat_pct"
   ]
  },
  {
   "cell_type": "code",
   "execution_count": 816,
   "metadata": {},
   "outputs": [],
   "source": [
    "recidivism_counts, total_counts, recidivism_pct, cat_pct = get_sub_grouping(categories = ['RECIDIVATE_TO_FEL', 'OFF_RACE'], \n",
    "group_var = 'OFF_RACE', df = recidivism_df[recidivism_df['OFF_RACE']!='Unknown'])"
   ]
  },
  {
   "cell_type": "code",
   "execution_count": 817,
   "metadata": {},
   "outputs": [
    {
     "data": {
      "text/plain": [
       "RECIDIVATE_TO_FEL  OFF_RACE\n",
       "0                  Black       0.597906\n",
       "                   Other       0.526953\n",
       "                   White       0.695805\n",
       "1                  Black       0.402094\n",
       "                   Other       0.473047\n",
       "                   White       0.304195\n",
       "Name: RECIDIVISM_3Y, dtype: float64"
      ]
     },
     "execution_count": 817,
     "metadata": {},
     "output_type": "execute_result"
    }
   ],
   "source": [
    "cat_pct"
   ]
  },
  {
   "cell_type": "code",
   "execution_count": 813,
   "metadata": {},
   "outputs": [],
   "source": [
    "recidivism_pct = recidivism_pct[recidivism_pct['RECIDIVATE_TO_FEL']==1]"
   ]
  },
  {
   "cell_type": "code",
   "execution_count": 814,
   "metadata": {},
   "outputs": [
    {
     "data": {
      "image/png": "[encoded data removed]",
      "text/plain": [
       "<Figure size 1008x576 with 1 Axes>"
      ]
     },
     "metadata": {},
     "output_type": "display_data"
    }
   ],
   "source": [
    "plot_category('OFF_RACE', recidivism_pct, legend_loc = 'upper right', palette = race_palette,\n",
    "hue_order = ['Black', 'White', 'Other'])"
   ]
  },
  {
   "cell_type": "markdown",
   "metadata": {},
   "source": [
    "### Recidivate to a non-drug related crime"
   ]
  },
  {
   "cell_type": "code",
   "execution_count": 782,
   "metadata": {},
   "outputs": [
    {
     "data": {
      "text/plain": [
       "array(['Drug-Felony', 'Drug-Misd', 'Homicide-Drug Delivery',\n",
       "       'Robbery-F1 (drug-related)'], dtype=object)"
      ]
     },
     "execution_count": 782,
     "metadata": {},
     "output_type": "execute_result"
    }
   ],
   "source": [
    "offense_df[offense_df['LABEL'].str.lower().str.contains('drug')]['LABEL'].unique()"
   ]
  },
  {
   "cell_type": "code",
   "execution_count": 783,
   "metadata": {},
   "outputs": [
    {
     "data": {
      "text/plain": [
       "array(['DUI-controlled substances: metabolite of Sched I/II/III (3rd/subsq off)'],\n",
       "      dtype=object)"
      ]
     },
     "execution_count": 783,
     "metadata": {},
     "output_type": "execute_result"
    }
   ],
   "source": [
    "offense_df[offense_df['LABEL'].str.lower().str.contains('substance')]['LABEL'].unique()"
   ]
  },
  {
   "cell_type": "code",
   "execution_count": 784,
   "metadata": {},
   "outputs": [],
   "source": [
    "drug_offenses = ['drug-misd']"
   ]
  },
  {
   "cell_type": "code",
   "execution_count": 787,
   "metadata": {},
   "outputs": [],
   "source": [
    "offense_df['NON_DRUG_OFN'] = offense_df['LABEL'].apply(lambda x: 1 if x.lower() not in drug_offenses else 0)"
   ]
  },
  {
   "cell_type": "code",
   "execution_count": 788,
   "metadata": {},
   "outputs": [
    {
     "data": {
      "text/html": [
       "<div>\n",
       "<style scoped>\n",
       "    .dataframe tbody tr th:only-of-type {\n",
       "        vertical-align: middle;\n",
       "    }\n",
       "\n",
       "    .dataframe tbody tr th {\n",
       "        vertical-align: top;\n",
       "    }\n",
       "\n",
       "    .dataframe thead th {\n",
       "        text-align: right;\n",
       "    }\n",
       "</style>\n",
       "<table border=\"1\" class=\"dataframe\">\n",
       "  <thead>\n",
       "    <tr style=\"text-align: right;\">\n",
       "      <th></th>\n",
       "      <th>JPR_ID</th>\n",
       "      <th>ID_VARIABLE</th>\n",
       "      <th>DOS</th>\n",
       "      <th>DOF</th>\n",
       "      <th>OFN_LABEL</th>\n",
       "      <th>LABEL</th>\n",
       "      <th>OGS</th>\n",
       "      <th>_DOS</th>\n",
       "      <th>_DOF</th>\n",
       "      <th>DUI</th>\n",
       "      <th>NON_DRUG_OFN</th>\n",
       "    </tr>\n",
       "  </thead>\n",
       "  <tbody>\n",
       "    <tr>\n",
       "      <th>40</th>\n",
       "      <td>668825</td>\n",
       "      <td>1673626</td>\n",
       "      <td>2001-12-28</td>\n",
       "      <td>2001-08-05</td>\n",
       "      <td>Simple Possession</td>\n",
       "      <td>Drug-Misd</td>\n",
       "      <td>3.0</td>\n",
       "      <td>2001-12-28</td>\n",
       "      <td>2001-08-05</td>\n",
       "      <td>0</td>\n",
       "      <td>0</td>\n",
       "    </tr>\n",
       "    <tr>\n",
       "      <th>56</th>\n",
       "      <td>660950</td>\n",
       "      <td>1371759</td>\n",
       "      <td>2001-02-05</td>\n",
       "      <td>2000-10-10</td>\n",
       "      <td>Possession of Drug Paraphernalia</td>\n",
       "      <td>Drug-Misd</td>\n",
       "      <td>1.0</td>\n",
       "      <td>2001-02-05</td>\n",
       "      <td>2000-10-13</td>\n",
       "      <td>0</td>\n",
       "      <td>0</td>\n",
       "    </tr>\n",
       "    <tr>\n",
       "      <th>76</th>\n",
       "      <td>651469</td>\n",
       "      <td>1882432</td>\n",
       "      <td>2001-06-27</td>\n",
       "      <td>2000-08-22</td>\n",
       "      <td>Simple Possession</td>\n",
       "      <td>Drug-Misd</td>\n",
       "      <td>3.0</td>\n",
       "      <td>2001-06-27</td>\n",
       "      <td>2000-08-22</td>\n",
       "      <td>0</td>\n",
       "      <td>0</td>\n",
       "    </tr>\n",
       "    <tr>\n",
       "      <th>82</th>\n",
       "      <td>634264</td>\n",
       "      <td>1895340</td>\n",
       "      <td>2001-03-07</td>\n",
       "      <td>2000-05-02</td>\n",
       "      <td>Simple Possession</td>\n",
       "      <td>Drug-Misd</td>\n",
       "      <td>3.0</td>\n",
       "      <td>2001-03-07</td>\n",
       "      <td>2000-05-02</td>\n",
       "      <td>0</td>\n",
       "      <td>0</td>\n",
       "    </tr>\n",
       "    <tr>\n",
       "      <th>83</th>\n",
       "      <td>631362</td>\n",
       "      <td>1549552</td>\n",
       "      <td>2001-07-06</td>\n",
       "      <td>2001-05-24</td>\n",
       "      <td>Possession:  Small Amount of Marijuana (&lt;=30 g...</td>\n",
       "      <td>Drug-Misd</td>\n",
       "      <td>1.0</td>\n",
       "      <td>2001-07-06</td>\n",
       "      <td>2001-05-24</td>\n",
       "      <td>0</td>\n",
       "      <td>0</td>\n",
       "    </tr>\n",
       "    <tr>\n",
       "      <th>...</th>\n",
       "      <td>...</td>\n",
       "      <td>...</td>\n",
       "      <td>...</td>\n",
       "      <td>...</td>\n",
       "      <td>...</td>\n",
       "      <td>...</td>\n",
       "      <td>...</td>\n",
       "      <td>...</td>\n",
       "      <td>...</td>\n",
       "      <td>...</td>\n",
       "      <td>...</td>\n",
       "    </tr>\n",
       "    <tr>\n",
       "      <th>2593602</th>\n",
       "      <td>6030650</td>\n",
       "      <td>1312618</td>\n",
       "      <td>2019-08-07</td>\n",
       "      <td>2019-06-25</td>\n",
       "      <td>Simple possession (2nd/subsq off)</td>\n",
       "      <td>Drug-Misd</td>\n",
       "      <td>3.0</td>\n",
       "      <td>2019-08-07</td>\n",
       "      <td>2019-06-25</td>\n",
       "      <td>0</td>\n",
       "      <td>0</td>\n",
       "    </tr>\n",
       "    <tr>\n",
       "      <th>2593605</th>\n",
       "      <td>5948111</td>\n",
       "      <td>1200012</td>\n",
       "      <td>2019-04-22</td>\n",
       "      <td>2018-09-03</td>\n",
       "      <td>Possession-small amt. of marijuana (&lt;=30 g/&lt;=8...</td>\n",
       "      <td>Drug-Misd</td>\n",
       "      <td>1.0</td>\n",
       "      <td>2019-04-22</td>\n",
       "      <td>2018-09-03</td>\n",
       "      <td>0</td>\n",
       "      <td>0</td>\n",
       "    </tr>\n",
       "    <tr>\n",
       "      <th>2593618</th>\n",
       "      <td>5917947</td>\n",
       "      <td>1159755</td>\n",
       "      <td>2019-09-20</td>\n",
       "      <td>2018-07-03</td>\n",
       "      <td>Simple possession (2nd/subsq off)</td>\n",
       "      <td>Drug-Misd</td>\n",
       "      <td>3.0</td>\n",
       "      <td>2019-09-20</td>\n",
       "      <td>2018-07-03</td>\n",
       "      <td>0</td>\n",
       "      <td>0</td>\n",
       "    </tr>\n",
       "    <tr>\n",
       "      <th>2593623</th>\n",
       "      <td>5967619</td>\n",
       "      <td>1849176</td>\n",
       "      <td>2019-02-01</td>\n",
       "      <td>2018-10-02</td>\n",
       "      <td>Possession-drug paraphernalia</td>\n",
       "      <td>Drug-Misd</td>\n",
       "      <td>1.0</td>\n",
       "      <td>2019-02-01</td>\n",
       "      <td>2018-10-02</td>\n",
       "      <td>0</td>\n",
       "      <td>0</td>\n",
       "    </tr>\n",
       "    <tr>\n",
       "      <th>2593624</th>\n",
       "      <td>6009613</td>\n",
       "      <td>1562367</td>\n",
       "      <td>2019-07-09</td>\n",
       "      <td>2018-08-31</td>\n",
       "      <td>Simple possession (2nd/subsq off)</td>\n",
       "      <td>Drug-Misd</td>\n",
       "      <td>3.0</td>\n",
       "      <td>2019-07-09</td>\n",
       "      <td>2018-08-31</td>\n",
       "      <td>0</td>\n",
       "      <td>0</td>\n",
       "    </tr>\n",
       "  </tbody>\n",
       "</table>\n",
       "<p>361286 rows × 11 columns</p>\n",
       "</div>"
      ],
      "text/plain": [
       "          JPR_ID  ID_VARIABLE        DOS        DOF  \\\n",
       "40        668825      1673626 2001-12-28 2001-08-05   \n",
       "56        660950      1371759 2001-02-05 2000-10-10   \n",
       "76        651469      1882432 2001-06-27 2000-08-22   \n",
       "82        634264      1895340 2001-03-07 2000-05-02   \n",
       "83        631362      1549552 2001-07-06 2001-05-24   \n",
       "...          ...          ...        ...        ...   \n",
       "2593602  6030650      1312618 2019-08-07 2019-06-25   \n",
       "2593605  5948111      1200012 2019-04-22 2018-09-03   \n",
       "2593618  5917947      1159755 2019-09-20 2018-07-03   \n",
       "2593623  5967619      1849176 2019-02-01 2018-10-02   \n",
       "2593624  6009613      1562367 2019-07-09 2018-08-31   \n",
       "\n",
       "                                                 OFN_LABEL      LABEL  OGS  \\\n",
       "40                                       Simple Possession  Drug-Misd  3.0   \n",
       "56                        Possession of Drug Paraphernalia  Drug-Misd  1.0   \n",
       "76                                       Simple Possession  Drug-Misd  3.0   \n",
       "82                                       Simple Possession  Drug-Misd  3.0   \n",
       "83       Possession:  Small Amount of Marijuana (<=30 g...  Drug-Misd  1.0   \n",
       "...                                                    ...        ...  ...   \n",
       "2593602                  Simple possession (2nd/subsq off)  Drug-Misd  3.0   \n",
       "2593605  Possession-small amt. of marijuana (<=30 g/<=8...  Drug-Misd  1.0   \n",
       "2593618                  Simple possession (2nd/subsq off)  Drug-Misd  3.0   \n",
       "2593623                      Possession-drug paraphernalia  Drug-Misd  1.0   \n",
       "2593624                  Simple possession (2nd/subsq off)  Drug-Misd  3.0   \n",
       "\n",
       "              _DOS       _DOF  DUI  NON_DRUG_OFN  \n",
       "40      2001-12-28 2001-08-05    0             0  \n",
       "56      2001-02-05 2000-10-13    0             0  \n",
       "76      2001-06-27 2000-08-22    0             0  \n",
       "82      2001-03-07 2000-05-02    0             0  \n",
       "83      2001-07-06 2001-05-24    0             0  \n",
       "...            ...        ...  ...           ...  \n",
       "2593602 2019-08-07 2019-06-25    0             0  \n",
       "2593605 2019-04-22 2018-09-03    0             0  \n",
       "2593618 2019-09-20 2018-07-03    0             0  \n",
       "2593623 2019-02-01 2018-10-02    0             0  \n",
       "2593624 2019-07-09 2018-08-31    0             0  \n",
       "\n",
       "[361286 rows x 11 columns]"
      ]
     },
     "execution_count": 788,
     "metadata": {},
     "output_type": "execute_result"
    }
   ],
   "source": [
    "offense_df[offense_df['NON_DRUG_OFN']==0]"
   ]
  },
  {
   "cell_type": "markdown",
   "metadata": {},
   "source": [
    "There may be cases where a person is charged for both a drug offense and non drug-related offense on the same day. We will count it as a non-drug related offense if at least one offense is not a drug-related offense."
   ]
  },
  {
   "cell_type": "code",
   "execution_count": 789,
   "metadata": {},
   "outputs": [],
   "source": [
    "drug_observations = offense_df[['ID_VARIABLE', 'DOF', 'NON_DRUG_OFN']].sort_values(\n",
    "    by=['ID_VARIABLE', 'DOF', 'NON_DRUG_OFN'], \n",
    "    ascending=[True, True, False]).groupby(by=['ID_VARIABLE', 'DOF']).first().reset_index()"
   ]
  },
  {
   "cell_type": "code",
   "execution_count": 790,
   "metadata": {},
   "outputs": [
    {
     "data": {
      "text/html": [
       "<div>\n",
       "<style scoped>\n",
       "    .dataframe tbody tr th:only-of-type {\n",
       "        vertical-align: middle;\n",
       "    }\n",
       "\n",
       "    .dataframe tbody tr th {\n",
       "        vertical-align: top;\n",
       "    }\n",
       "\n",
       "    .dataframe thead th {\n",
       "        text-align: right;\n",
       "    }\n",
       "</style>\n",
       "<table border=\"1\" class=\"dataframe\">\n",
       "  <thead>\n",
       "    <tr style=\"text-align: right;\">\n",
       "      <th></th>\n",
       "      <th>ID_VARIABLE</th>\n",
       "      <th>DOF</th>\n",
       "      <th>NON_DRUG_OFN</th>\n",
       "    </tr>\n",
       "  </thead>\n",
       "  <tbody>\n",
       "    <tr>\n",
       "      <th>0</th>\n",
       "      <td>1000001</td>\n",
       "      <td>2009-06-25</td>\n",
       "      <td>1</td>\n",
       "    </tr>\n",
       "    <tr>\n",
       "      <th>1</th>\n",
       "      <td>1000002</td>\n",
       "      <td>2015-09-01</td>\n",
       "      <td>1</td>\n",
       "    </tr>\n",
       "    <tr>\n",
       "      <th>2</th>\n",
       "      <td>1000003</td>\n",
       "      <td>2001-09-07</td>\n",
       "      <td>0</td>\n",
       "    </tr>\n",
       "    <tr>\n",
       "      <th>3</th>\n",
       "      <td>1000003</td>\n",
       "      <td>2009-03-04</td>\n",
       "      <td>1</td>\n",
       "    </tr>\n",
       "    <tr>\n",
       "      <th>4</th>\n",
       "      <td>1000004</td>\n",
       "      <td>2013-09-19</td>\n",
       "      <td>0</td>\n",
       "    </tr>\n",
       "  </tbody>\n",
       "</table>\n",
       "</div>"
      ],
      "text/plain": [
       "   ID_VARIABLE        DOF  NON_DRUG_OFN\n",
       "0      1000001 2009-06-25             1\n",
       "1      1000002 2015-09-01             1\n",
       "2      1000003 2001-09-07             0\n",
       "3      1000003 2009-03-04             1\n",
       "4      1000004 2013-09-19             0"
      ]
     },
     "execution_count": 790,
     "metadata": {},
     "output_type": "execute_result"
    }
   ],
   "source": [
    "drug_observations.head()"
   ]
  },
  {
   "cell_type": "code",
   "execution_count": 792,
   "metadata": {},
   "outputs": [],
   "source": [
    "recidivism_df = pd.merge(recidivism_df, drug_observations, left_on=['ID_VARIABLE', 'NEXT_DOF'], right_on=['ID_VARIABLE', 'DOF'], how='left')"
   ]
  },
  {
   "cell_type": "code",
   "execution_count": 793,
   "metadata": {},
   "outputs": [],
   "source": [
    "recidivism_df.rename(columns={'NON_DRUG_OFN': 'NEXT_OFN_NON_DRUG'}, inplace=True)"
   ]
  },
  {
   "cell_type": "code",
   "execution_count": 794,
   "metadata": {},
   "outputs": [
    {
     "data": {
      "text/html": [
       "<div>\n",
       "<style scoped>\n",
       "    .dataframe tbody tr th:only-of-type {\n",
       "        vertical-align: middle;\n",
       "    }\n",
       "\n",
       "    .dataframe tbody tr th {\n",
       "        vertical-align: top;\n",
       "    }\n",
       "\n",
       "    .dataframe thead th {\n",
       "        text-align: right;\n",
       "    }\n",
       "</style>\n",
       "<table border=\"1\" class=\"dataframe\">\n",
       "  <thead>\n",
       "    <tr style=\"text-align: right;\">\n",
       "      <th></th>\n",
       "      <th>ID_VARIABLE</th>\n",
       "      <th>NEW_DOS</th>\n",
       "      <th>NEW_DOF</th>\n",
       "      <th>PRS</th>\n",
       "      <th>NEW_INC_SANCTION_EXISTS</th>\n",
       "      <th>ADJ_JPMIN</th>\n",
       "      <th>AT_RISK_DT</th>\n",
       "      <th>COUNTY</th>\n",
       "      <th>NEXT_DOF</th>\n",
       "      <th>TIME_TO_RECIDIVATE</th>\n",
       "      <th>...</th>\n",
       "      <th>OFF_SEX</th>\n",
       "      <th>YOS</th>\n",
       "      <th>SENTENCING_COHORT</th>\n",
       "      <th>NEXT_OGS</th>\n",
       "      <th>RECIDIVATE_TO_FEL</th>\n",
       "      <th>DOF_x</th>\n",
       "      <th>DOF_y</th>\n",
       "      <th>NEXT_OFN_DUI</th>\n",
       "      <th>DOF</th>\n",
       "      <th>NEXT_OFN_NON_DRUG</th>\n",
       "    </tr>\n",
       "  </thead>\n",
       "  <tbody>\n",
       "  </tbody>\n",
       "</table>\n",
       "<p>0 rows × 25 columns</p>\n",
       "</div>"
      ],
      "text/plain": [
       "Empty DataFrame\n",
       "Columns: [ID_VARIABLE, NEW_DOS, NEW_DOF, PRS, NEW_INC_SANCTION_EXISTS, ADJ_JPMIN, AT_RISK_DT, COUNTY, NEXT_DOF, TIME_TO_RECIDIVATE, RECIDIVISM_3Y, RECIDIVISM_5Y, OGS, DOB, OFF_RACE, OFF_SEX, YOS, SENTENCING_COHORT, NEXT_OGS, RECIDIVATE_TO_FEL, DOF_x, DOF_y, NEXT_OFN_DUI, DOF, NEXT_OFN_NON_DRUG]\n",
       "Index: []\n",
       "\n",
       "[0 rows x 25 columns]"
      ]
     },
     "execution_count": 794,
     "metadata": {},
     "output_type": "execute_result"
    }
   ],
   "source": [
    "recidivism_df[(recidivism_df['NEXT_DOF'].notna()) & (recidivism_df['NEXT_OFN_NON_DRUG'].isna())]"
   ]
  },
  {
   "cell_type": "code",
   "execution_count": 825,
   "metadata": {},
   "outputs": [],
   "source": [
    "labs = ['Drug-Misdemeanor', 'Other offenses']\n",
    "\n",
    "recidivism_counts, total_counts, recidivism_pct, cat_pct, labs = get_grouping(recidivism_df, 'NEXT_OFN_NON_DRUG', labs)"
   ]
  },
  {
   "cell_type": "code",
   "execution_count": 826,
   "metadata": {},
   "outputs": [
    {
     "data": {
      "text/html": [
       "<div>\n",
       "<style scoped>\n",
       "    .dataframe tbody tr th:only-of-type {\n",
       "        vertical-align: middle;\n",
       "    }\n",
       "\n",
       "    .dataframe tbody tr th {\n",
       "        vertical-align: top;\n",
       "    }\n",
       "\n",
       "    .dataframe thead th {\n",
       "        text-align: right;\n",
       "    }\n",
       "</style>\n",
       "<table border=\"1\" class=\"dataframe\">\n",
       "  <thead>\n",
       "    <tr style=\"text-align: right;\">\n",
       "      <th></th>\n",
       "      <th>RECIDIVISM_3Y</th>\n",
       "    </tr>\n",
       "    <tr>\n",
       "      <th>NEXT_OFN_NON_DRUG</th>\n",
       "      <th></th>\n",
       "    </tr>\n",
       "  </thead>\n",
       "  <tbody>\n",
       "    <tr>\n",
       "      <th>0.0</th>\n",
       "      <td>0.140493</td>\n",
       "    </tr>\n",
       "    <tr>\n",
       "      <th>1.0</th>\n",
       "      <td>0.859507</td>\n",
       "    </tr>\n",
       "  </tbody>\n",
       "</table>\n",
       "</div>"
      ],
      "text/plain": [
       "                   RECIDIVISM_3Y\n",
       "NEXT_OFN_NON_DRUG               \n",
       "0.0                     0.140493\n",
       "1.0                     0.859507"
      ]
     },
     "execution_count": 826,
     "metadata": {},
     "output_type": "execute_result"
    }
   ],
   "source": [
    "recidivism_counts.groupby(by='NEXT_OFN_NON_DRUG').sum()/recidivism_counts.sum()"
   ]
  },
  {
   "cell_type": "code",
   "execution_count": 827,
   "metadata": {},
   "outputs": [
    {
     "data": {
      "image/png": "[encoded data removed]",
      "text/plain": [
       "<Figure size 1008x576 with 1 Axes>"
      ]
     },
     "metadata": {},
     "output_type": "display_data"
    }
   ],
   "source": [
    "plot_category('NEXT_OFN_NON_DRUG', recidivism_pct)"
   ]
  },
  {
   "cell_type": "markdown",
   "metadata": {},
   "source": [
    "Non-drug recidivism by race"
   ]
  },
  {
   "cell_type": "code",
   "execution_count": 819,
   "metadata": {},
   "outputs": [],
   "source": [
    "recidivism_counts, total_counts, recidivism_pct, cat_pct = get_sub_grouping(categories = ['NEXT_OFN_NON_DRUG', 'OFF_RACE'], \n",
    "group_var = 'OFF_RACE', df = recidivism_df[recidivism_df['OFF_RACE']!='Unknown'])"
   ]
  },
  {
   "cell_type": "code",
   "execution_count": 821,
   "metadata": {},
   "outputs": [],
   "source": [
    "recidivism_pct = recidivism_pct[recidivism_pct['NEXT_OFN_NON_DRUG'] == 1]"
   ]
  },
  {
   "cell_type": "code",
   "execution_count": 822,
   "metadata": {},
   "outputs": [
    {
     "data": {
      "text/plain": [
       "NEXT_OFN_NON_DRUG  OFF_RACE\n",
       "0.0                Black       0.136869\n",
       "                   Other       0.103410\n",
       "                   White       0.142939\n",
       "1.0                Black       0.863131\n",
       "                   Other       0.896590\n",
       "                   White       0.857061\n",
       "Name: RECIDIVISM_3Y, dtype: float64"
      ]
     },
     "execution_count": 822,
     "metadata": {},
     "output_type": "execute_result"
    }
   ],
   "source": [
    "cat_pct"
   ]
  },
  {
   "cell_type": "code",
   "execution_count": 824,
   "metadata": {},
   "outputs": [
    {
     "data": {
      "image/png": "[encoded data removed]",
      "text/plain": [
       "<Figure size 1008x576 with 1 Axes>"
      ]
     },
     "metadata": {},
     "output_type": "display_data"
    }
   ],
   "source": [
    "plot_category('OFF_RACE', recidivism_pct, palette = race_palette,\n",
    "hue_order = ['Black', 'White', 'Other'])"
   ]
  },
  {
   "cell_type": "code",
   "execution_count": 594,
   "metadata": {},
   "outputs": [],
   "source": [
    "recidivism_df.to_csv(filepath + 'recidivism_dataset_v2.csv', index=False)"
   ]
  },
  {
   "cell_type": "code",
   "execution_count": 595,
   "metadata": {},
   "outputs": [
    {
     "name": "stdout",
     "output_type": "stream",
     "text": [
      "1119074\n",
      "1119074\n"
     ]
    },
    {
     "data": {
      "text/plain": [
       "(None, None)"
      ]
     },
     "execution_count": 595,
     "metadata": {},
     "output_type": "execute_result"
    }
   ],
   "source": [
    "print(len(recidivism_df)), print(len(recidivism_copy))"
   ]
  },
  {
   "cell_type": "code",
   "execution_count": null,
   "metadata": {},
   "outputs": [],
   "source": []
  }
 ],
 "metadata": {
  "interpreter": {
   "hash": "afec748c810c07fdf21e149c8de6953906908fb5121a9cf6f8c7e3c440df79ae"
  },
  "kernelspec": {
   "display_name": "Python 3.9.7 ('pa_sentencing')",
   "language": "python",
   "name": "python3"
  },
  "language_info": {
   "codemirror_mode": {
    "name": "ipython",
    "version": 3
   },
   "file_extension": ".py",
   "mimetype": "text/x-python",
   "name": "python",
   "nbconvert_exporter": "python",
   "pygments_lexer": "ipython3",
   "version": "3.9.7"
  },
  "orig_nbformat": 4
 },
 "nbformat": 4,
 "nbformat_minor": 2
}
