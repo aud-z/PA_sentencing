{
 "cells": [
  {
   "cell_type": "code",
   "execution_count": 23,
   "metadata": {},
   "outputs": [],
   "source": [
    "import pandas as pd\n",
    "import matplotlib.pyplot as plt\n",
    "import seaborn as sns\n",
    "import numpy as np"
   ]
  },
  {
   "cell_type": "code",
   "execution_count": 24,
   "metadata": {},
   "outputs": [],
   "source": [
    "filepath = '../../../Project/data/'"
   ]
  },
  {
   "cell_type": "code",
   "execution_count": 18,
   "metadata": {},
   "outputs": [],
   "source": [
    "recidivism_df = pd.read_csv(filepath + 'recidivism_dataset.csv')"
   ]
  },
  {
   "cell_type": "code",
   "execution_count": 19,
   "metadata": {},
   "outputs": [
    {
     "data": {
      "text/html": [
       "<div>\n",
       "<style scoped>\n",
       "    .dataframe tbody tr th:only-of-type {\n",
       "        vertical-align: middle;\n",
       "    }\n",
       "\n",
       "    .dataframe tbody tr th {\n",
       "        vertical-align: top;\n",
       "    }\n",
       "\n",
       "    .dataframe thead th {\n",
       "        text-align: right;\n",
       "    }\n",
       "</style>\n",
       "<table border=\"1\" class=\"dataframe\">\n",
       "  <thead>\n",
       "    <tr style=\"text-align: right;\">\n",
       "      <th></th>\n",
       "      <th>Unnamed: 0</th>\n",
       "      <th>ID_VARIABLE</th>\n",
       "      <th>NEW_DOS</th>\n",
       "      <th>NEW_DOF</th>\n",
       "      <th>PRS</th>\n",
       "      <th>NEW_INC_SANCTION_EXISTS</th>\n",
       "      <th>ADJ_JPMIN</th>\n",
       "      <th>AT_RISK_DT</th>\n",
       "      <th>COUNTY</th>\n",
       "      <th>NEXT_DOF</th>\n",
       "      <th>TIME_TO_RECIDIVATE</th>\n",
       "      <th>RECIDIVISM_3Y</th>\n",
       "      <th>RECIDIVISM_5Y</th>\n",
       "      <th>OGS</th>\n",
       "      <th>DOB</th>\n",
       "      <th>OFF_RACE</th>\n",
       "      <th>OFF_SEX</th>\n",
       "    </tr>\n",
       "  </thead>\n",
       "  <tbody>\n",
       "    <tr>\n",
       "      <th>0</th>\n",
       "      <td>0</td>\n",
       "      <td>1000001</td>\n",
       "      <td>2010-02-18</td>\n",
       "      <td>2009-06-25</td>\n",
       "      <td>0</td>\n",
       "      <td>Y</td>\n",
       "      <td>16.0</td>\n",
       "      <td>2010-03-06</td>\n",
       "      <td>Schuylkill</td>\n",
       "      <td>NaN</td>\n",
       "      <td>NaN</td>\n",
       "      <td>0</td>\n",
       "      <td>0</td>\n",
       "      <td>3.0</td>\n",
       "      <td>1990-05-28</td>\n",
       "      <td>White</td>\n",
       "      <td>M</td>\n",
       "    </tr>\n",
       "    <tr>\n",
       "      <th>1</th>\n",
       "      <td>1</td>\n",
       "      <td>1000002</td>\n",
       "      <td>2017-01-31</td>\n",
       "      <td>2015-09-01</td>\n",
       "      <td>4</td>\n",
       "      <td>Y</td>\n",
       "      <td>120.0</td>\n",
       "      <td>2017-05-31</td>\n",
       "      <td>Somerset</td>\n",
       "      <td>NaN</td>\n",
       "      <td>NaN</td>\n",
       "      <td>0</td>\n",
       "      <td>0</td>\n",
       "      <td>3.0</td>\n",
       "      <td>1958-07-12</td>\n",
       "      <td>White</td>\n",
       "      <td>F</td>\n",
       "    </tr>\n",
       "    <tr>\n",
       "      <th>2</th>\n",
       "      <td>2</td>\n",
       "      <td>1000003</td>\n",
       "      <td>2002-05-08</td>\n",
       "      <td>2001-09-07</td>\n",
       "      <td>0</td>\n",
       "      <td>N</td>\n",
       "      <td>0.0</td>\n",
       "      <td>2002-05-08</td>\n",
       "      <td>Northampton</td>\n",
       "      <td>2009-03-04</td>\n",
       "      <td>2492.0</td>\n",
       "      <td>0</td>\n",
       "      <td>0</td>\n",
       "      <td>3.0</td>\n",
       "      <td>1961-08-14</td>\n",
       "      <td>White</td>\n",
       "      <td>F</td>\n",
       "    </tr>\n",
       "    <tr>\n",
       "      <th>3</th>\n",
       "      <td>3</td>\n",
       "      <td>1000003</td>\n",
       "      <td>2009-03-04</td>\n",
       "      <td>2009-03-04</td>\n",
       "      <td>3</td>\n",
       "      <td>Y</td>\n",
       "      <td>92.0</td>\n",
       "      <td>2009-06-04</td>\n",
       "      <td>Northampton</td>\n",
       "      <td>NaN</td>\n",
       "      <td>NaN</td>\n",
       "      <td>0</td>\n",
       "      <td>0</td>\n",
       "      <td>3.0</td>\n",
       "      <td>1961-08-14</td>\n",
       "      <td>White</td>\n",
       "      <td>F</td>\n",
       "    </tr>\n",
       "    <tr>\n",
       "      <th>4</th>\n",
       "      <td>4</td>\n",
       "      <td>1000004</td>\n",
       "      <td>2013-12-10</td>\n",
       "      <td>2013-09-19</td>\n",
       "      <td>0</td>\n",
       "      <td>N</td>\n",
       "      <td>0.0</td>\n",
       "      <td>2013-12-10</td>\n",
       "      <td>Franklin</td>\n",
       "      <td>2018-07-09</td>\n",
       "      <td>1672.0</td>\n",
       "      <td>0</td>\n",
       "      <td>1</td>\n",
       "      <td>1.0</td>\n",
       "      <td>1993-09-21</td>\n",
       "      <td>Unknown</td>\n",
       "      <td>M</td>\n",
       "    </tr>\n",
       "  </tbody>\n",
       "</table>\n",
       "</div>"
      ],
      "text/plain": [
       "   Unnamed: 0  ID_VARIABLE     NEW_DOS     NEW_DOF PRS  \\\n",
       "0           0      1000001  2010-02-18  2009-06-25   0   \n",
       "1           1      1000002  2017-01-31  2015-09-01   4   \n",
       "2           2      1000003  2002-05-08  2001-09-07   0   \n",
       "3           3      1000003  2009-03-04  2009-03-04   3   \n",
       "4           4      1000004  2013-12-10  2013-09-19   0   \n",
       "\n",
       "  NEW_INC_SANCTION_EXISTS  ADJ_JPMIN  AT_RISK_DT       COUNTY    NEXT_DOF  \\\n",
       "0                       Y       16.0  2010-03-06   Schuylkill         NaN   \n",
       "1                       Y      120.0  2017-05-31     Somerset         NaN   \n",
       "2                       N        0.0  2002-05-08  Northampton  2009-03-04   \n",
       "3                       Y       92.0  2009-06-04  Northampton         NaN   \n",
       "4                       N        0.0  2013-12-10     Franklin  2018-07-09   \n",
       "\n",
       "   TIME_TO_RECIDIVATE  RECIDIVISM_3Y  RECIDIVISM_5Y  OGS         DOB OFF_RACE  \\\n",
       "0                 NaN              0              0  3.0  1990-05-28    White   \n",
       "1                 NaN              0              0  3.0  1958-07-12    White   \n",
       "2              2492.0              0              0  3.0  1961-08-14    White   \n",
       "3                 NaN              0              0  3.0  1961-08-14    White   \n",
       "4              1672.0              0              1  1.0  1993-09-21  Unknown   \n",
       "\n",
       "  OFF_SEX  \n",
       "0       M  \n",
       "1       F  \n",
       "2       F  \n",
       "3       F  \n",
       "4       M  "
      ]
     },
     "execution_count": 19,
     "metadata": {},
     "output_type": "execute_result"
    }
   ],
   "source": [
    "recidivism_df.head()"
   ]
  },
  {
   "cell_type": "code",
   "execution_count": 20,
   "metadata": {},
   "outputs": [],
   "source": [
    "recidivism_df['NEW_DOF'] = pd.to_datetime(recidivism_df['NEW_DOF'])\n",
    "recidivism_df['NEW_DOS'] = pd.to_datetime(recidivism_df['NEW_DOS'])"
   ]
  },
  {
   "cell_type": "code",
   "execution_count": 118,
   "metadata": {},
   "outputs": [],
   "source": [
    "recidivism_df['NEXT_DOF'] = pd.to_datetime(recidivism_df['NEXT_DOF'])"
   ]
  },
  {
   "cell_type": "markdown",
   "metadata": {},
   "source": [
    "### Time to Conviction Analysis"
   ]
  },
  {
   "cell_type": "code",
   "execution_count": 21,
   "metadata": {},
   "outputs": [],
   "source": [
    "time_to_conviction = recidivism_df['NEW_DOS'] - recidivism_df['NEW_DOF']"
   ]
  },
  {
   "cell_type": "code",
   "execution_count": 22,
   "metadata": {},
   "outputs": [
    {
     "data": {
      "text/plain": [
       "count                        1118542\n",
       "mean     358 days 19:58:06.812654332\n",
       "std      375 days 10:05:50.195467544\n",
       "min                  0 days 00:00:00\n",
       "25%                164 days 00:00:00\n",
       "50%                255 days 00:00:00\n",
       "75%                415 days 00:00:00\n",
       "max               7993 days 00:00:00\n",
       "dtype: object"
      ]
     },
     "execution_count": 22,
     "metadata": {},
     "output_type": "execute_result"
    }
   ],
   "source": [
    "time_to_conviction.describe()"
   ]
  },
  {
   "cell_type": "code",
   "execution_count": 88,
   "metadata": {},
   "outputs": [],
   "source": [
    "sns.set_style(style='white') \n",
    "palette = ['#9398f2', '#F29398',  '#ffcf6f']\n",
    "sns.set_palette(palette)\n",
    "label_color = '#242728'"
   ]
  },
  {
   "cell_type": "code",
   "execution_count": 63,
   "metadata": {},
   "outputs": [
    {
     "data": {
      "image/png": "[encoded data removed]",
      "text/plain": [
       "<Figure size 1008x504 with 1 Axes>"
      ]
     },
     "metadata": {},
     "output_type": "display_data"
    }
   ],
   "source": [
    "fig, ax = plt.subplots(figsize=(14, 7))\n",
    "\n",
    "p = sns.histplot(time_to_conviction.dt.days/365,  ax=ax)\n",
    "sns.despine(top=True, right=True, left=True, bottom=True)\n",
    "#p.set_title('# of Years Between DOF and DOS', fontsize=16)\n",
    "p.set_ylabel('Count', fontsize=13)\n",
    "p.set_xlabel('Years', fontsize=13)\n",
    "plt.show()"
   ]
  },
  {
   "cell_type": "markdown",
   "metadata": {},
   "source": [
    "### Cohort Analysis"
   ]
  },
  {
   "cell_type": "code",
   "execution_count": 97,
   "metadata": {},
   "outputs": [
    {
     "data": {
      "text/plain": [
       "0.98084291872813"
      ]
     },
     "execution_count": 97,
     "metadata": {},
     "output_type": "execute_result"
    }
   ],
   "source": [
    "(time_to_conviction.dt.days<=4*365).sum()/len(time_to_conviction)"
   ]
  },
  {
   "cell_type": "code",
   "execution_count": 66,
   "metadata": {},
   "outputs": [],
   "source": [
    "recidivism_df['YOS'] = recidivism_df['NEW_DOS'].dt.year"
   ]
  },
  {
   "cell_type": "code",
   "execution_count": 98,
   "metadata": {},
   "outputs": [],
   "source": [
    "def create_sentencing_cohorts(x):\n",
    "    if x <= 2005:\n",
    "        cohort = '2001-2005'\n",
    "    elif x <= 2012:\n",
    "        cohort = '2006-2012'\n",
    "    elif x <= 2015: \n",
    "        cohort = '2013-2015'\n",
    "    else: \n",
    "        return np.nan\n",
    "    return cohort"
   ]
  },
  {
   "cell_type": "code",
   "execution_count": 76,
   "metadata": {},
   "outputs": [],
   "source": [
    "recidivism_df['SENTENCING_COHORT'] = recidivism_df['YOS'].apply(lambda x: create_sentencing_cohorts(x))"
   ]
  },
  {
   "cell_type": "code",
   "execution_count": 77,
   "metadata": {},
   "outputs": [],
   "source": [
    "recidivism_df['PRS'] = recidivism_df['PRS'].str.upper()"
   ]
  },
  {
   "cell_type": "code",
   "execution_count": 78,
   "metadata": {},
   "outputs": [],
   "source": [
    "recidivism_counts = recidivism_df[['SENTENCING_COHORT', 'PRS', 'RECIDIVISM_3Y']].groupby(by=['PRS', 'SENTENCING_COHORT']).agg({'RECIDIVISM_3Y':'sum'})\n",
    "total_counts = recidivism_df[['SENTENCING_COHORT', 'PRS', 'RECIDIVISM_3Y']].groupby(by=['PRS', 'SENTENCING_COHORT']).agg({'RECIDIVISM_3Y':'count'})\n",
    "recidivism_pct = recidivism_counts.div(total_counts).reset_index()"
   ]
  },
  {
   "cell_type": "code",
   "execution_count": 92,
   "metadata": {},
   "outputs": [
    {
     "data": {
      "text/plain": [
       "SENTENCING_COHORT\n",
       "2001-2005    0.231085\n",
       "2006-2012    0.401250\n",
       "2013-2015    0.218202\n",
       "Name: RECIDIVISM_3Y, dtype: float64"
      ]
     },
     "execution_count": 92,
     "metadata": {},
     "output_type": "execute_result"
    }
   ],
   "source": [
    "recidivism_df.groupby(by='SENTENCING_COHORT')['RECIDIVISM_3Y'].count()/len(recidivism_df)"
   ]
  },
  {
   "cell_type": "code",
   "execution_count": 89,
   "metadata": {},
   "outputs": [
    {
     "data": {
      "image/png": "[encoded data removed]",
      "text/plain": [
       "<Figure size 1152x720 with 1 Axes>"
      ]
     },
     "metadata": {},
     "output_type": "display_data"
    }
   ],
   "source": [
    "fig, ax = plt.subplots(figsize=(16, 10))\n",
    "p = sns.barplot(x='PRS', y='RECIDIVISM_3Y', hue='SENTENCING_COHORT', data=recidivism_pct,  ax=ax)\n",
    "sns.despine(top=True, right=True, left=True, bottom=True)\n",
    "p.set_xlabel('PRS score category', fontsize=13)\n",
    "p.set_ylabel('Recidivism rate', fontsize=13)\n",
    "#.set_title('Recidivism Rate by PRS Categories by Sentencing Cohort', fontsize=14)\n",
    "ax.legend(loc='upper left')\n",
    "ax.bar_label(ax.containers[0], label_type='edge', fmt='%1.2f')\n",
    "ax.bar_label(ax.containers[1], label_type='edge', fmt='%1.2f')\n",
    "ax.bar_label(ax.containers[2], label_type='edge', fmt='%1.2f')\n",
    "\n",
    "plt.show()"
   ]
  },
  {
   "cell_type": "code",
   "execution_count": 94,
   "metadata": {},
   "outputs": [],
   "source": [
    "recidivism_df.drop(columns='Unnamed: 0', inplace=True)"
   ]
  },
  {
   "cell_type": "code",
   "execution_count": 99,
   "metadata": {},
   "outputs": [],
   "source": [
    "recidivism_df.to_csv(filepath + 'recidivism_dataset_v1.csv', index=False)"
   ]
  },
  {
   "cell_type": "markdown",
   "metadata": {},
   "source": [
    "### Offense category/severity analysis"
   ]
  },
  {
   "cell_type": "code",
   "execution_count": 100,
   "metadata": {},
   "outputs": [
    {
     "name": "stderr",
     "output_type": "stream",
     "text": [
      "C:\\Users\\audre\\AppData\\Local\\Temp\\ipykernel_36240\\2586665104.py:1: DtypeWarning: Columns (19,29,45,46,48,49,50,51,52,53,59,63,64,66) have mixed types. Specify dtype option on import or set low_memory=False.\n",
      "  offense_df = pd.read_csv(filepath + 'PSC_data_trimmed_v1.csv')\n"
     ]
    }
   ],
   "source": [
    "offense_df = pd.read_csv(filepath + 'PSC_data_trimmed_v1.csv')"
   ]
  },
  {
   "cell_type": "code",
   "execution_count": 101,
   "metadata": {},
   "outputs": [],
   "source": [
    "ofn_label_vars = ['JPR_ID', 'ID_VARIABLE', 'DOS', 'DOF', 'OFN_LABEL', 'LABEL']\n",
    "offense_df = offense_df[ofn_label_vars].copy()"
   ]
  },
  {
   "cell_type": "code",
   "execution_count": 102,
   "metadata": {},
   "outputs": [],
   "source": [
    "offense_df['DOS'] = pd.to_datetime(offense_df['DOS'])"
   ]
  },
  {
   "cell_type": "code",
   "execution_count": 103,
   "metadata": {},
   "outputs": [],
   "source": [
    "offense_df['_DOS'] = offense_df['DOS']\n",
    "offense_df['DOS'] = offense_df.groupby(by=['ID_VARIABLE', 'JPR_ID'])['DOS'].transform('min')"
   ]
  },
  {
   "cell_type": "code",
   "execution_count": 104,
   "metadata": {},
   "outputs": [],
   "source": [
    "offense_df['DOF'] = pd.to_datetime(offense_df['DOF'])"
   ]
  },
  {
   "cell_type": "code",
   "execution_count": 105,
   "metadata": {},
   "outputs": [],
   "source": [
    "offense_df['_DOF'] = offense_df['DOF']\n",
    "offense_df['DOF'] = offense_df.groupby(by=['ID_VARIABLE', 'JPR_ID'])['DOF'].transform('min')"
   ]
  },
  {
   "cell_type": "code",
   "execution_count": 106,
   "metadata": {},
   "outputs": [],
   "source": [
    "# There are 79 charges with missing LABEL information. replace with OFN_LABEL column\n",
    "offense_df['LABEL'].fillna(offense_df['OFN_LABEL'], inplace=True)"
   ]
  },
  {
   "cell_type": "markdown",
   "metadata": {},
   "source": [
    "##### Recidivism to DUI "
   ]
  },
  {
   "cell_type": "code",
   "execution_count": 108,
   "metadata": {},
   "outputs": [
    {
     "data": {
      "text/plain": [
       "array(['DUI 97-M2', 'DUI 97-M1', 'Homicide-By Veh (No DUI)',\n",
       "       'Assault-Agg By Veh while DUI', 'Homicide-By Veh while DUI',\n",
       "       'Homicide-By Veh (DUI)', 'DUI-M2', 'DUI-M1', 'DUI-M',\n",
       "       'DUI-M1 Minor Occupant', 'DUI-F3',\n",
       "       'DUI-high rate of alcohol: BAC .10-<.16 (4th/subsq off)',\n",
       "       'DUI-general impairment: BAC .08-<.10 (4th/subsq off)',\n",
       "       'Homicide by vehicle while DUI - prior DUI conviction(s)',\n",
       "       'DUI-controlled substances: metabolite of Sched I/II/III (3rd/subsq off)',\n",
       "       'DUI-general impairment: BAC .08-<.10 (3rd off)'], dtype=object)"
      ]
     },
     "execution_count": 108,
     "metadata": {},
     "output_type": "execute_result"
    }
   ],
   "source": [
    "offense_df[offense_df['LABEL'].str.contains('DUI')]['LABEL'].unique()"
   ]
  },
  {
   "cell_type": "code",
   "execution_count": 109,
   "metadata": {},
   "outputs": [],
   "source": [
    "dui_codes =[i for i in offense_df[offense_df['LABEL'].str.contains('DUI')]['LABEL'].unique() if 'No DUI' not in i]"
   ]
  },
  {
   "cell_type": "code",
   "execution_count": 110,
   "metadata": {},
   "outputs": [],
   "source": [
    "offense_df['DUI'] = offense_df['LABEL'].apply(lambda x: 1 if x in dui_codes else 0)"
   ]
  },
  {
   "cell_type": "markdown",
   "metadata": {},
   "source": [
    "It is possible that a person commits multiple offenses on a DOF, including DUI and non-DUI related offenses. For now, we will count it as a DUI offense if 1+ charges committed on that day is a DUI."
   ]
  },
  {
   "cell_type": "code",
   "execution_count": 112,
   "metadata": {},
   "outputs": [],
   "source": [
    "dui_observations = offense_df[['ID_VARIABLE', 'DOF', 'DUI']].sort_values(by=['ID_VARIABLE', 'DOF', 'DUI'], ascending=[True, True, False]).groupby(by=['ID_VARIABLE', 'DOF']).first().reset_index()"
   ]
  },
  {
   "cell_type": "code",
   "execution_count": 114,
   "metadata": {},
   "outputs": [
    {
     "data": {
      "text/html": [
       "<div>\n",
       "<style scoped>\n",
       "    .dataframe tbody tr th:only-of-type {\n",
       "        vertical-align: middle;\n",
       "    }\n",
       "\n",
       "    .dataframe tbody tr th {\n",
       "        vertical-align: top;\n",
       "    }\n",
       "\n",
       "    .dataframe thead th {\n",
       "        text-align: right;\n",
       "    }\n",
       "</style>\n",
       "<table border=\"1\" class=\"dataframe\">\n",
       "  <thead>\n",
       "    <tr style=\"text-align: right;\">\n",
       "      <th></th>\n",
       "      <th>ID_VARIABLE</th>\n",
       "      <th>DOF</th>\n",
       "      <th>DUI</th>\n",
       "    </tr>\n",
       "  </thead>\n",
       "  <tbody>\n",
       "    <tr>\n",
       "      <th>0</th>\n",
       "      <td>1000001</td>\n",
       "      <td>2009-06-25</td>\n",
       "      <td>0</td>\n",
       "    </tr>\n",
       "    <tr>\n",
       "      <th>1</th>\n",
       "      <td>1000002</td>\n",
       "      <td>2015-09-01</td>\n",
       "      <td>1</td>\n",
       "    </tr>\n",
       "    <tr>\n",
       "      <th>2</th>\n",
       "      <td>1000003</td>\n",
       "      <td>2001-09-07</td>\n",
       "      <td>0</td>\n",
       "    </tr>\n",
       "    <tr>\n",
       "      <th>3</th>\n",
       "      <td>1000003</td>\n",
       "      <td>2009-03-04</td>\n",
       "      <td>0</td>\n",
       "    </tr>\n",
       "    <tr>\n",
       "      <th>4</th>\n",
       "      <td>1000004</td>\n",
       "      <td>2013-09-19</td>\n",
       "      <td>0</td>\n",
       "    </tr>\n",
       "  </tbody>\n",
       "</table>\n",
       "</div>"
      ],
      "text/plain": [
       "   ID_VARIABLE        DOF  DUI\n",
       "0      1000001 2009-06-25    0\n",
       "1      1000002 2015-09-01    1\n",
       "2      1000003 2001-09-07    0\n",
       "3      1000003 2009-03-04    0\n",
       "4      1000004 2013-09-19    0"
      ]
     },
     "execution_count": 114,
     "metadata": {},
     "output_type": "execute_result"
    }
   ],
   "source": [
    "dui_observations.head()"
   ]
  },
  {
   "cell_type": "code",
   "execution_count": 116,
   "metadata": {},
   "outputs": [],
   "source": [
    "recidivism_copy = recidivism_df.copy()"
   ]
  },
  {
   "cell_type": "code",
   "execution_count": 119,
   "metadata": {},
   "outputs": [],
   "source": [
    "recidivism_df = pd.merge(recidivism_df, dui_observations, left_on=['ID_VARIABLE', 'NEXT_DOF'], right_on=['ID_VARIABLE', 'DOF'], how='left')"
   ]
  },
  {
   "cell_type": "code",
   "execution_count": 122,
   "metadata": {},
   "outputs": [],
   "source": [
    "recidivism_df.rename(columns={'DUI': 'NEXT_OFN_DUI'}, inplace=True)"
   ]
  },
  {
   "cell_type": "code",
   "execution_count": 126,
   "metadata": {},
   "outputs": [],
   "source": [
    "recidivism_counts = recidivism_df[['NEXT_OFN_DUI', 'PRS', 'RECIDIVISM_3Y']].groupby(by=['PRS', 'NEXT_OFN_DUI']).agg({'RECIDIVISM_3Y':'sum'})\n",
    "total_counts = recidivism_df[['NEXT_OFN_DUI', 'PRS', 'RECIDIVISM_3Y']].groupby(by=['PRS', 'NEXT_OFN_DUI']).agg({'RECIDIVISM_3Y':'count'})\n",
    "recidivism_pct = recidivism_counts.div(total_counts).reset_index()"
   ]
  },
  {
   "cell_type": "code",
   "execution_count": 140,
   "metadata": {},
   "outputs": [],
   "source": [
    "recidivism_pct['NEXT_OFN_DUI'].replace(to_replace = [0.0, 1.0], value = ['non-DUI', 'DUI'], inplace=True)"
   ]
  },
  {
   "cell_type": "code",
   "execution_count": 143,
   "metadata": {},
   "outputs": [
    {
     "data": {
      "image/png": "[encoded data removed]",
      "text/plain": [
       "<Figure size 1008x576 with 1 Axes>"
      ]
     },
     "metadata": {},
     "output_type": "display_data"
    }
   ],
   "source": [
    "fig, ax = plt.subplots(figsize=(14, 8))\n",
    "p = sns.barplot(x='PRS', y='RECIDIVISM_3Y', hue='NEXT_OFN_DUI', data=recidivism_pct,  ax=ax)\n",
    "sns.despine(top=True, right=True, left=True, bottom=True)\n",
    "p.set_xlabel('PRS score category', fontsize=13)\n",
    "p.set_ylabel('Recidivism rate', fontsize=13)\n",
    "ax.legend(loc='upper left')\n",
    "ax.bar_label(ax.containers[0], label_type='edge', fmt='%1.2f')\n",
    "ax.bar_label(ax.containers[1], label_type='edge', fmt='%1.2f')\n",
    "\n",
    "plt.show()"
   ]
  },
  {
   "cell_type": "code",
   "execution_count": null,
   "metadata": {},
   "outputs": [],
   "source": []
  }
 ],
 "metadata": {
  "interpreter": {
   "hash": "afec748c810c07fdf21e149c8de6953906908fb5121a9cf6f8c7e3c440df79ae"
  },
  "kernelspec": {
   "display_name": "Python 3.9.7 ('pa_sentencing')",
   "language": "python",
   "name": "python3"
  },
  "language_info": {
   "codemirror_mode": {
    "name": "ipython",
    "version": 3
   },
   "file_extension": ".py",
   "mimetype": "text/x-python",
   "name": "python",
   "nbconvert_exporter": "python",
   "pygments_lexer": "ipython3",
   "version": "3.9.7"
  },
  "orig_nbformat": 4
 },
 "nbformat": 4,
 "nbformat_minor": 2
}
