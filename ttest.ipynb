{
 "cells": [
  {
   "cell_type": "code",
   "execution_count": 16,
   "metadata": {},
   "outputs": [],
   "source": [
    "import pandas as pd\n",
    "import numpy as np\n",
    "from statsmodels.stats.proportion import proportions_ztest"
   ]
  },
  {
   "cell_type": "code",
   "execution_count": 57,
   "metadata": {},
   "outputs": [],
   "source": [
    "df = pd.read_csv('../../../Project/Data/recidivism_dataset_w_prs8.csv')"
   ]
  },
  {
   "cell_type": "code",
   "execution_count": 60,
   "metadata": {},
   "outputs": [],
   "source": [
    "df.loc[df['PRS']=='RFEL', 'PRS'] = 'RFEL/REVOC'"
   ]
  },
  {
   "cell_type": "code",
   "execution_count": 61,
   "metadata": {},
   "outputs": [],
   "source": [
    "prs7 = df['PRS'].unique()\n",
    "prs7.sort()"
   ]
  },
  {
   "cell_type": "code",
   "execution_count": 63,
   "metadata": {},
   "outputs": [],
   "source": [
    "prs8 = df['PRS8'].unique()\n",
    "prs8.sort()"
   ]
  },
  {
   "cell_type": "code",
   "execution_count": 64,
   "metadata": {},
   "outputs": [
    {
     "name": "stdout",
     "output_type": "stream",
     "text": [
      "['0' '1' '2' '3' '4' '5' 'RFEL/REVOC'] [1. 2. 3. 4.]\n"
     ]
    }
   ],
   "source": [
    "print(prs7, prs8)"
   ]
  },
  {
   "cell_type": "code",
   "execution_count": 66,
   "metadata": {},
   "outputs": [],
   "source": [
    "def diff_in_proportions(data, prs_vers):\n",
    "    results = {} \n",
    "    \n",
    "    if prs_vers == 7:\n",
    "        prs = prs7\n",
    "        var = 'PRS'\n",
    "    elif prs_vers == 8:\n",
    "        prs = prs8\n",
    "        var = 'PRS8'\n",
    "        \n",
    "    for i in range(1, len(prs)):\n",
    "        prev = prs[i-1]\n",
    "        curr = prs[i]\n",
    "\n",
    "        prev_recid = len(data[(data[var]==prev) & (data['RECIDIVISM_3Y']==1)])\n",
    "        prev_nobs = len(data[data[var]==prev])\n",
    "\n",
    "        curr_recid = len(data[(data[var]==curr) & (data['RECIDIVISM_3Y']==1)])\n",
    "        curr_nobs = len(data[data[var]==curr]) \n",
    "\n",
    "        # difference is current minus previous \n",
    "        diff = curr_recid / curr_nobs - prev_recid / prev_nobs \n",
    "\n",
    "        # if current proportion is smaller than previous, skip\n",
    "        if diff <= 0: \n",
    "            pass\n",
    "        else:\n",
    "            z_test = proportions_ztest(np.array([prev_recid, curr_recid]), np.array([prev_nobs, curr_nobs]), alternative='smaller') \n",
    "            pval = z_test[1]\n",
    "            sig =  '***' if pval < 0.001  else '**' if pval < 0.01 else '*' if pval < 0.05 else ''\n",
    "            results[(prev, curr)]= {'difference': diff, 'p-val': pval, 'significance': sig}\n",
    "    return results\n"
   ]
  },
  {
   "cell_type": "code",
   "execution_count": 78,
   "metadata": {},
   "outputs": [],
   "source": [
    "overall_recid_ztest_p7 = diff_in_proportions(df, 7)"
   ]
  },
  {
   "cell_type": "code",
   "execution_count": 81,
   "metadata": {},
   "outputs": [],
   "source": [
    "overall_recid_ztest_p8 = diff_in_proportions(df, 8)"
   ]
  },
  {
   "cell_type": "code",
   "execution_count": 79,
   "metadata": {},
   "outputs": [],
   "source": [
    "overall_recid_ztest_p7 = pd.DataFrame(overall_recid_ztest_p7)"
   ]
  },
  {
   "cell_type": "code",
   "execution_count": 73,
   "metadata": {},
   "outputs": [],
   "source": [
    "overall_recid_ztest_p8 = pd.DataFrame(overall_recid_ztest_p8)"
   ]
  },
  {
   "cell_type": "code",
   "execution_count": 80,
   "metadata": {},
   "outputs": [
    {
     "data": {
      "text/html": [
       "<div>\n",
       "<style scoped>\n",
       "    .dataframe tbody tr th:only-of-type {\n",
       "        vertical-align: middle;\n",
       "    }\n",
       "\n",
       "    .dataframe tbody tr th {\n",
       "        vertical-align: top;\n",
       "    }\n",
       "\n",
       "    .dataframe thead tr th {\n",
       "        text-align: left;\n",
       "    }\n",
       "</style>\n",
       "<table border=\"1\" class=\"dataframe\">\n",
       "  <thead>\n",
       "    <tr>\n",
       "      <th></th>\n",
       "      <th>0</th>\n",
       "      <th>1</th>\n",
       "      <th>2</th>\n",
       "      <th>4</th>\n",
       "    </tr>\n",
       "    <tr>\n",
       "      <th></th>\n",
       "      <th>1</th>\n",
       "      <th>2</th>\n",
       "      <th>3</th>\n",
       "      <th>5</th>\n",
       "    </tr>\n",
       "  </thead>\n",
       "  <tbody>\n",
       "    <tr>\n",
       "      <th>difference</th>\n",
       "      <td>0.051967</td>\n",
       "      <td>0.01283</td>\n",
       "      <td>0.010522</td>\n",
       "      <td>0.007613</td>\n",
       "    </tr>\n",
       "    <tr>\n",
       "      <th>p-val</th>\n",
       "      <td>0.0</td>\n",
       "      <td>0.0</td>\n",
       "      <td>0.0</td>\n",
       "      <td>0.000068</td>\n",
       "    </tr>\n",
       "    <tr>\n",
       "      <th>significance</th>\n",
       "      <td>***</td>\n",
       "      <td>***</td>\n",
       "      <td>***</td>\n",
       "      <td>***</td>\n",
       "    </tr>\n",
       "  </tbody>\n",
       "</table>\n",
       "</div>"
      ],
      "text/plain": [
       "                     0        1         2         4\n",
       "                     1        2         3         5\n",
       "difference    0.051967  0.01283  0.010522  0.007613\n",
       "p-val              0.0      0.0       0.0  0.000068\n",
       "significance       ***      ***       ***       ***"
      ]
     },
     "execution_count": 80,
     "metadata": {},
     "output_type": "execute_result"
    }
   ],
   "source": [
    "overall_recid_ztest_p7"
   ]
  },
  {
   "cell_type": "code",
   "execution_count": 74,
   "metadata": {},
   "outputs": [
    {
     "data": {
      "text/html": [
       "<div>\n",
       "<style scoped>\n",
       "    .dataframe tbody tr th:only-of-type {\n",
       "        vertical-align: middle;\n",
       "    }\n",
       "\n",
       "    .dataframe tbody tr th {\n",
       "        vertical-align: top;\n",
       "    }\n",
       "\n",
       "    .dataframe thead tr th {\n",
       "        text-align: left;\n",
       "    }\n",
       "</style>\n",
       "<table border=\"1\" class=\"dataframe\">\n",
       "  <thead>\n",
       "    <tr>\n",
       "      <th></th>\n",
       "      <th>1.0</th>\n",
       "      <th>2.0</th>\n",
       "    </tr>\n",
       "    <tr>\n",
       "      <th></th>\n",
       "      <th>2.0</th>\n",
       "      <th>3.0</th>\n",
       "    </tr>\n",
       "  </thead>\n",
       "  <tbody>\n",
       "    <tr>\n",
       "      <th>difference</th>\n",
       "      <td>0.050246</td>\n",
       "      <td>0.026023</td>\n",
       "    </tr>\n",
       "    <tr>\n",
       "      <th>p-val</th>\n",
       "      <td>0.0</td>\n",
       "      <td>0.0</td>\n",
       "    </tr>\n",
       "    <tr>\n",
       "      <th>significance</th>\n",
       "      <td>***</td>\n",
       "      <td>***</td>\n",
       "    </tr>\n",
       "  </tbody>\n",
       "</table>\n",
       "</div>"
      ],
      "text/plain": [
       "                   1.0       2.0\n",
       "                   2.0       3.0\n",
       "difference    0.050246  0.026023\n",
       "p-val              0.0       0.0\n",
       "significance       ***       ***"
      ]
     },
     "execution_count": 74,
     "metadata": {},
     "output_type": "execute_result"
    }
   ],
   "source": [
    "overall_recid_ztest_p8"
   ]
  },
  {
   "cell_type": "code",
   "execution_count": 83,
   "metadata": {},
   "outputs": [],
   "source": [
    "c1 = len(df[(df['OFF_RACE']=='White') & (df['RECIDIVISM_3Y']==1)])"
   ]
  },
  {
   "cell_type": "code",
   "execution_count": 84,
   "metadata": {},
   "outputs": [],
   "source": [
    "n1 = len(df[(df['OFF_RACE']=='White')])"
   ]
  },
  {
   "cell_type": "code",
   "execution_count": 87,
   "metadata": {},
   "outputs": [],
   "source": [
    "c2 = len(df[(df['OFF_RACE']=='Black') & (df['RECIDIVISM_3Y']==1)])"
   ]
  },
  {
   "cell_type": "code",
   "execution_count": 88,
   "metadata": {},
   "outputs": [],
   "source": [
    "n2 = len(df[(df['OFF_RACE']=='Black')])"
   ]
  },
  {
   "cell_type": "code",
   "execution_count": 95,
   "metadata": {},
   "outputs": [],
   "source": [
    "res = proportions_ztest(np.array([c1, c2]), np.array([n1, n2]), alternative = 'two-sided') "
   ]
  },
  {
   "cell_type": "code",
   "execution_count": 91,
   "metadata": {},
   "outputs": [
    {
     "name": "stdout",
     "output_type": "stream",
     "text": [
      "133944 767518 53214 287902\n"
     ]
    }
   ],
   "source": [
    "print(c1, n1, c2, n2)"
   ]
  },
  {
   "cell_type": "code",
   "execution_count": 96,
   "metadata": {},
   "outputs": [
    {
     "data": {
      "text/plain": [
       "(-12.360702813833472, 4.2641219767152864e-35)"
      ]
     },
     "execution_count": 96,
     "metadata": {},
     "output_type": "execute_result"
    }
   ],
   "source": [
    "res"
   ]
  },
  {
   "cell_type": "code",
   "execution_count": 53,
   "metadata": {},
   "outputs": [
    {
     "name": "stderr",
     "output_type": "stream",
     "text": [
      "C:\\Users\\audre\\AppData\\Local\\Temp\\ipykernel_43800\\543026223.py:1: DtypeWarning: Columns (5,15,17,29,30,32,48,58,63,67,68,74,75,77) have mixed types. Specify dtype option on import or set low_memory=False.\n",
      "  temp = pd.read_csv('../../../Project/data/trimmed_w_prs8.csv')\n"
     ]
    }
   ],
   "source": [
    "temp = pd.read_csv('../../../Project/data/trimmed_w_prs8.csv')"
   ]
  },
  {
   "cell_type": "code",
   "execution_count": 54,
   "metadata": {},
   "outputs": [
    {
     "data": {
      "text/plain": [
       "array([1., 2., 3., 4.])"
      ]
     },
     "execution_count": 54,
     "metadata": {},
     "output_type": "execute_result"
    }
   ],
   "source": [
    "temp['PRS8'].unique()"
   ]
  },
  {
   "cell_type": "code",
   "execution_count": 98,
   "metadata": {},
   "outputs": [
    {
     "name": "stdout",
     "output_type": "stream",
     "text": [
      "0.00000\n"
     ]
    }
   ],
   "source": [
    "print('{:.5f}'.format(res[1]))"
   ]
  },
  {
   "cell_type": "code",
   "execution_count": 99,
   "metadata": {},
   "outputs": [
    {
     "data": {
      "text/plain": [
       "-0.010317951314917667"
      ]
     },
     "execution_count": 99,
     "metadata": {},
     "output_type": "execute_result"
    }
   ],
   "source": [
    "c1/n1 - c2/n2"
   ]
  },
  {
   "cell_type": "code",
   "execution_count": 100,
   "metadata": {},
   "outputs": [
    {
     "data": {
      "text/html": [
       "<div>\n",
       "<style scoped>\n",
       "    .dataframe tbody tr th:only-of-type {\n",
       "        vertical-align: middle;\n",
       "    }\n",
       "\n",
       "    .dataframe tbody tr th {\n",
       "        vertical-align: top;\n",
       "    }\n",
       "\n",
       "    .dataframe thead th {\n",
       "        text-align: right;\n",
       "    }\n",
       "</style>\n",
       "<table border=\"1\" class=\"dataframe\">\n",
       "  <thead>\n",
       "    <tr style=\"text-align: right;\">\n",
       "      <th></th>\n",
       "      <th>Unnamed: 0</th>\n",
       "      <th>ID_VARIABLE</th>\n",
       "      <th>NEW_DOS</th>\n",
       "      <th>NEW_DOF</th>\n",
       "      <th>PRS</th>\n",
       "      <th>PRS8</th>\n",
       "      <th>NEW_INC_SANCTION_EXISTS</th>\n",
       "      <th>ADJ_JPMIN</th>\n",
       "      <th>AT_RISK_DT</th>\n",
       "      <th>COUNTY</th>\n",
       "      <th>NEXT_DOF</th>\n",
       "      <th>TIME_TO_RECIDIVATE</th>\n",
       "      <th>RECIDIVISM_3Y</th>\n",
       "      <th>RECIDIVISM_5Y</th>\n",
       "      <th>OGS</th>\n",
       "      <th>DOB</th>\n",
       "      <th>OFF_RACE</th>\n",
       "      <th>OFF_SEX</th>\n",
       "    </tr>\n",
       "  </thead>\n",
       "  <tbody>\n",
       "    <tr>\n",
       "      <th>0</th>\n",
       "      <td>0</td>\n",
       "      <td>1000001</td>\n",
       "      <td>2010-02-18</td>\n",
       "      <td>2009-06-25</td>\n",
       "      <td>0</td>\n",
       "      <td>1.0</td>\n",
       "      <td>Y</td>\n",
       "      <td>16.0</td>\n",
       "      <td>2010-03-06</td>\n",
       "      <td>Schuylkill</td>\n",
       "      <td>NaN</td>\n",
       "      <td>NaN</td>\n",
       "      <td>0</td>\n",
       "      <td>0</td>\n",
       "      <td>3.0</td>\n",
       "      <td>1990-05-28</td>\n",
       "      <td>White</td>\n",
       "      <td>M</td>\n",
       "    </tr>\n",
       "    <tr>\n",
       "      <th>1</th>\n",
       "      <td>1</td>\n",
       "      <td>1000002</td>\n",
       "      <td>2017-01-31</td>\n",
       "      <td>2015-09-01</td>\n",
       "      <td>4</td>\n",
       "      <td>2.0</td>\n",
       "      <td>Y</td>\n",
       "      <td>120.0</td>\n",
       "      <td>2017-05-31</td>\n",
       "      <td>Somerset</td>\n",
       "      <td>NaN</td>\n",
       "      <td>NaN</td>\n",
       "      <td>0</td>\n",
       "      <td>0</td>\n",
       "      <td>3.0</td>\n",
       "      <td>1958-07-12</td>\n",
       "      <td>White</td>\n",
       "      <td>F</td>\n",
       "    </tr>\n",
       "    <tr>\n",
       "      <th>2</th>\n",
       "      <td>2</td>\n",
       "      <td>1000003</td>\n",
       "      <td>2002-05-08</td>\n",
       "      <td>2001-09-07</td>\n",
       "      <td>0</td>\n",
       "      <td>2.0</td>\n",
       "      <td>N</td>\n",
       "      <td>0.0</td>\n",
       "      <td>2002-05-08</td>\n",
       "      <td>Northampton</td>\n",
       "      <td>2009-03-04</td>\n",
       "      <td>2492.0</td>\n",
       "      <td>0</td>\n",
       "      <td>0</td>\n",
       "      <td>3.0</td>\n",
       "      <td>1961-08-14</td>\n",
       "      <td>White</td>\n",
       "      <td>F</td>\n",
       "    </tr>\n",
       "    <tr>\n",
       "      <th>3</th>\n",
       "      <td>3</td>\n",
       "      <td>1000003</td>\n",
       "      <td>2009-03-04</td>\n",
       "      <td>2009-03-04</td>\n",
       "      <td>3</td>\n",
       "      <td>3.0</td>\n",
       "      <td>Y</td>\n",
       "      <td>92.0</td>\n",
       "      <td>2009-06-04</td>\n",
       "      <td>Northampton</td>\n",
       "      <td>NaN</td>\n",
       "      <td>NaN</td>\n",
       "      <td>0</td>\n",
       "      <td>0</td>\n",
       "      <td>3.0</td>\n",
       "      <td>1961-08-14</td>\n",
       "      <td>White</td>\n",
       "      <td>F</td>\n",
       "    </tr>\n",
       "    <tr>\n",
       "      <th>4</th>\n",
       "      <td>4</td>\n",
       "      <td>1000004</td>\n",
       "      <td>2013-12-10</td>\n",
       "      <td>2013-09-19</td>\n",
       "      <td>0</td>\n",
       "      <td>2.0</td>\n",
       "      <td>N</td>\n",
       "      <td>0.0</td>\n",
       "      <td>2013-12-10</td>\n",
       "      <td>Franklin</td>\n",
       "      <td>2018-07-09</td>\n",
       "      <td>1672.0</td>\n",
       "      <td>0</td>\n",
       "      <td>1</td>\n",
       "      <td>1.0</td>\n",
       "      <td>1993-09-21</td>\n",
       "      <td>Unknown</td>\n",
       "      <td>M</td>\n",
       "    </tr>\n",
       "  </tbody>\n",
       "</table>\n",
       "</div>"
      ],
      "text/plain": [
       "   Unnamed: 0  ID_VARIABLE     NEW_DOS     NEW_DOF PRS  PRS8  \\\n",
       "0           0      1000001  2010-02-18  2009-06-25   0   1.0   \n",
       "1           1      1000002  2017-01-31  2015-09-01   4   2.0   \n",
       "2           2      1000003  2002-05-08  2001-09-07   0   2.0   \n",
       "3           3      1000003  2009-03-04  2009-03-04   3   3.0   \n",
       "4           4      1000004  2013-12-10  2013-09-19   0   2.0   \n",
       "\n",
       "  NEW_INC_SANCTION_EXISTS  ADJ_JPMIN  AT_RISK_DT       COUNTY    NEXT_DOF  \\\n",
       "0                       Y       16.0  2010-03-06   Schuylkill         NaN   \n",
       "1                       Y      120.0  2017-05-31     Somerset         NaN   \n",
       "2                       N        0.0  2002-05-08  Northampton  2009-03-04   \n",
       "3                       Y       92.0  2009-06-04  Northampton         NaN   \n",
       "4                       N        0.0  2013-12-10     Franklin  2018-07-09   \n",
       "\n",
       "   TIME_TO_RECIDIVATE  RECIDIVISM_3Y  RECIDIVISM_5Y  OGS         DOB OFF_RACE  \\\n",
       "0                 NaN              0              0  3.0  1990-05-28    White   \n",
       "1                 NaN              0              0  3.0  1958-07-12    White   \n",
       "2              2492.0              0              0  3.0  1961-08-14    White   \n",
       "3                 NaN              0              0  3.0  1961-08-14    White   \n",
       "4              1672.0              0              1  1.0  1993-09-21  Unknown   \n",
       "\n",
       "  OFF_SEX  \n",
       "0       M  \n",
       "1       F  \n",
       "2       F  \n",
       "3       F  \n",
       "4       M  "
      ]
     },
     "execution_count": 100,
     "metadata": {},
     "output_type": "execute_result"
    }
   ],
   "source": [
    "df.head()"
   ]
  },
  {
   "cell_type": "code",
   "execution_count": 102,
   "metadata": {},
   "outputs": [
    {
     "data": {
      "text/plain": [
       "Index(['Unnamed: 0', 'ID_VARIABLE', 'NEW_DOS', 'NEW_DOF', 'PRS', 'PRS8',\n",
       "       'NEW_INC_SANCTION_EXISTS', 'ADJ_JPMIN', 'AT_RISK_DT', 'COUNTY',\n",
       "       'NEXT_DOF', 'TIME_TO_RECIDIVATE', 'RECIDIVISM_3Y', 'RECIDIVISM_5Y',\n",
       "       'OGS', 'DOB', 'OFF_RACE', 'OFF_SEX'],\n",
       "      dtype='object')"
      ]
     },
     "execution_count": 102,
     "metadata": {},
     "output_type": "execute_result"
    }
   ],
   "source": [
    "df.columns"
   ]
  },
  {
   "cell_type": "code",
   "execution_count": null,
   "metadata": {},
   "outputs": [],
   "source": []
  }
 ],
 "metadata": {
  "interpreter": {
   "hash": "afec748c810c07fdf21e149c8de6953906908fb5121a9cf6f8c7e3c440df79ae"
  },
  "kernelspec": {
   "display_name": "Python 3.9.7 ('pa_sentencing')",
   "language": "python",
   "name": "python3"
  },
  "language_info": {
   "codemirror_mode": {
    "name": "ipython",
    "version": 3
   },
   "file_extension": ".py",
   "mimetype": "text/x-python",
   "name": "python",
   "nbconvert_exporter": "python",
   "pygments_lexer": "ipython3",
   "version": "3.9.7"
  },
  "orig_nbformat": 4
 },
 "nbformat": 4,
 "nbformat_minor": 2
}
